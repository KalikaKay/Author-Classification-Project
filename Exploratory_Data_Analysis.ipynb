{
  "nbformat": 4,
  "nbformat_minor": 0,
  "metadata": {
    "kernelspec": {
      "display_name": "Python 3",
      "language": "python",
      "name": "python3"
    },
    "language_info": {
      "codemirror_mode": {
        "name": "ipython",
        "version": 3
      },
      "file_extension": ".py",
      "mimetype": "text/x-python",
      "name": "python",
      "nbconvert_exporter": "python",
      "pygments_lexer": "ipython3",
      "version": "3.7.9"
    },
    "colab": {
      "name": "Exploratory Data Analysis.ipynb",
      "provenance": [],
      "collapsed_sections": [],
      "include_colab_link": true
    }
  },
  "cells": [
    {
      "cell_type": "markdown",
      "metadata": {
        "id": "view-in-github",
        "colab_type": "text"
      },
      "source": [
        "<a href=\"https://colab.research.google.com/github/KalikaKay/Author-Classification-Project/blob/master/Exploratory_Data_Analysis.ipynb\" target=\"_parent\"><img src=\"https://colab.research.google.com/assets/colab-badge.svg\" alt=\"Open In Colab\"/></a>"
      ]
    },
    {
      "cell_type": "markdown",
      "metadata": {
        "id": "QkT-sR3Zf2Ax"
      },
      "source": [
        "# Exploratory Data Analysis \n",
        "*for the Author Classification Project*\n",
        "\n",
        "A selection of text files have been stored in the location listed below. \n",
        "```\n",
        "# file location\n",
        "PATH = '/content/drive/MyDrive/Author Classification/Books'\n",
        "```\n",
        "\n",
        "The data is structured by author with each text file representing a different work or series of works as was pulled from various sources. \n",
        "\n",
        "The goal of the project is to predict authors based on content. \n",
        "\n",
        "Perform exploratory data analysis, clean and update the text files such that they can be used for modeling. \n",
        "\n",
        "It is anticipated that the data will be modeled using the following libraries:\n",
        "1. Bag of Words\n",
        "2. TF-IDF\n",
        "3. word2vec\n",
        "4. supervised models: \n",
        "> Naive Bayes, Logistic Regression, Decision Tree, Random Forest, KNN, SVM and Gradient Boosting\n",
        "5. RNN\n",
        "6. unsupervised technique\n",
        "> visualize bar graphs for clusters containing 10 author documents. Adjust by silhouette scores.\n",
        "7. LSA\n",
        "8. LDA\n",
        "9. NNMF"
      ]
    },
    {
      "cell_type": "markdown",
      "metadata": {
        "id": "7XExGTH-PBEy"
      },
      "source": [
        "## Preprocessing\r\n",
        "\r\n",
        "Import the files using the NLTK plain text corpus reader. Review the data. Ask some questions. Make some decisions. "
      ]
    },
    {
      "cell_type": "code",
      "metadata": {
        "id": "jRf0IkQoRWg2",
        "colab": {
          "base_uri": "https://localhost:8080/"
        },
        "outputId": "c46e0aaa-484d-4af1-d5c5-aa9f8dd88dc3"
      },
      "source": [
        "from nltk.corpus.reader.plaintext import PlaintextCorpusReader\r\n",
        "import nltk\r\n",
        "\r\n",
        "nltk.download('punkt')"
      ],
      "execution_count": null,
      "outputs": [
        {
          "output_type": "stream",
          "text": [
            "[nltk_data] Downloading package punkt to /root/nltk_data...\n",
            "[nltk_data]   Unzipping tokenizers/punkt.zip.\n"
          ],
          "name": "stdout"
        },
        {
          "output_type": "execute_result",
          "data": {
            "text/plain": [
              "True"
            ]
          },
          "metadata": {
            "tags": []
          },
          "execution_count": 2
        }
      ]
    },
    {
      "cell_type": "code",
      "metadata": {
        "id": "sHBfZuDcR-Dv"
      },
      "source": [
        "def corpus_stats(corpus):\r\n",
        "  print(\"corpus statistics:\")\r\n",
        "  print(f'Number of Documents: {str(len(corpus.fileids()))}')\r\n",
        "  print(f'Number of paragraphs: {str(len(corpus.paras()))}')\r\n",
        "  print(f'Number of sentences: {str(len(corpus.sents()))}')\r\n",
        "  print(f'Number of words: {str(len(corpus.words()))}')\r\n",
        "  print(f'Vocabulary: {str(len(set(w.lower() for w in corpus.words())))}')\r\n",
        "  print(f'avg chars per word: {str(round(len(corpus.raw())/len(corpus.words()), 1))}')\r\n",
        "  print(f'avg words per sentence: {str(round(len(corpus.words())/len(corpus.sents()), 1))}')"
      ],
      "execution_count": null,
      "outputs": []
    },
    {
      "cell_type": "code",
      "metadata": {
        "id": "TAAAwIBYHRf0"
      },
      "source": [
        "# file location\r\n",
        "PATH = '/content/drive/MyDrive/Author Classification/Books'\r\n",
        "DOC_PATTERN = r'.*\\.txt'\r\n",
        "\r\n",
        "corpus = PlaintextCorpusReader(PATH, DOC_PATTERN)\r\n"
      ],
      "execution_count": null,
      "outputs": []
    },
    {
      "cell_type": "code",
      "metadata": {
        "colab": {
          "base_uri": "https://localhost:8080/"
        },
        "id": "pNuZLR47RreE",
        "outputId": "ef712c85-62ec-41eb-eb0b-e6ae09ca114a"
      },
      "source": [
        "corpus_stats(corpus)"
      ],
      "execution_count": null,
      "outputs": [
        {
          "output_type": "stream",
          "text": [
            "corpus statistics:\n",
            "Number of Documents: 12\n",
            "Number of paragraphs: 24960\n",
            "Number of sentences: 75722\n",
            "Number of words: 1424981\n",
            "Vocabulary: 26173\n",
            "avg chars per word: 4.6\n",
            "avg words per sentence: 18.8\n"
          ],
          "name": "stdout"
        }
      ]
    },
    {
      "cell_type": "code",
      "metadata": {
        "colab": {
          "base_uri": "https://localhost:8080/"
        },
        "id": "_a9RgjhxT2Gt",
        "outputId": "6142fbaa-ef9b-475e-e3e9-5cc4db4dd45a"
      },
      "source": [
        "corpus.fileids()"
      ],
      "execution_count": null,
      "outputs": [
        {
          "output_type": "execute_result",
          "data": {
            "text/plain": [
              "['Anne Bronte/book6.txt',\n",
              " 'Bell AKA Bronte Sisters/book10.txt',\n",
              " 'Charlotte Bronte/book5.txt',\n",
              " 'Edith Rickert & Gleb Botkin/book7.txt',\n",
              " 'Emily Bronte/book4.txt',\n",
              " 'Ethel M. Dell/book8.txt',\n",
              " 'Ethel M. Dell/book9.txt',\n",
              " 'Fyodor Dostoevsky/book2.txt',\n",
              " 'Fyodor Dostoevsky/book3.txt',\n",
              " 'Jane Austen/book0.txt',\n",
              " 'Jane Austen/book1.txt',\n",
              " 'Various/book11.txt']"
            ]
          },
          "metadata": {
            "tags": []
          },
          "execution_count": 130
        }
      ]
    },
    {
      "cell_type": "code",
      "metadata": {
        "colab": {
          "base_uri": "https://localhost:8080/"
        },
        "id": "QS5FMs1iTxa1",
        "outputId": "de01e1e3-d4f5-433e-e748-85398a552445"
      },
      "source": [
        "corpus.paras(fileids=['Anne Bronte/book6.txt'])"
      ],
      "execution_count": null,
      "outputs": [
        {
          "output_type": "execute_result",
          "data": {
            "text/plain": [
              "[[['ï', '»¿', 'The', 'Project', 'Gutenberg', 'EBook', 'of', 'Agnes', 'Grey', ',', 'by', 'Anne', 'BrontÃ', '«']], [['This', 'eBook', 'is', 'for', 'the', 'use', 'of', 'anyone', 'anywhere', 'in', 'the', 'United', 'States', 'and', 'most', 'other', 'parts', 'of', 'the', 'world', 'at', 'no', 'cost', 'and', 'with', 'almost', 'no', 'restrictions', 'whatsoever', '.'], ['You', 'may', 'copy', 'it', ',', 'give', 'it', 'away', 'or', 're', '-', 'use', 'it', 'under', 'the', 'terms', 'of', 'the', 'Project', 'Gutenberg', 'License', 'included', 'with', 'this', 'eBook', 'or', 'online', 'at', 'www', '.', 'gutenberg', '.', 'org', '.'], ['If', 'you', 'are', 'not', 'located', 'in', 'the', 'United', 'States', ',', 'you', \"'\", 'll', 'have', 'to', 'check', 'the', 'laws', 'of', 'the', 'country', 'where', 'you', 'are', 'located', 'before', 'using', 'this', 'ebook', '.']], ...]"
            ]
          },
          "metadata": {
            "tags": []
          },
          "execution_count": 131
        }
      ]
    },
    {
      "cell_type": "code",
      "metadata": {
        "colab": {
          "base_uri": "https://localhost:8080/"
        },
        "id": "I9yUTqzlVaHM",
        "outputId": "2f36fab3-3c66-4d3b-d32a-5b20d2718b42"
      },
      "source": [
        "corpus.paras(fileids=['Jane Austen/book0.txt'])"
      ],
      "execution_count": null,
      "outputs": [
        {
          "output_type": "execute_result",
          "data": {
            "text/plain": [
              "[[['ï', '»¿', 'Project', 'Gutenberg', \"'\", 's', 'Love', 'And', 'Freindship', 'And', 'Other', 'Early', 'Works', ',', 'by', 'Jane', 'Austen']], [['This', 'eBook', 'is', 'for', 'the', 'use', 'of', 'anyone', 'anywhere', 'at', 'no', 'cost', 'and', 'with', 'almost', 'no', 'restrictions', 'whatsoever', '.'], ['You', 'may', 'copy', 'it', ',', 'give', 'it', 'away', 'or', 're', '-', 'use', 'it', 'under', 'the', 'terms', 'of', 'the', 'Project', 'Gutenberg', 'License', 'included', 'with', 'this', 'eBook', 'or', 'online', 'at', 'www', '.', 'gutenberg', '.', 'org']], ...]"
            ]
          },
          "metadata": {
            "tags": []
          },
          "execution_count": 132
        }
      ]
    },
    {
      "cell_type": "markdown",
      "metadata": {
        "id": "bTNaNOTcUBBv"
      },
      "source": [
        "The text files contain unwanted characters and need to be ridded of them.\r\n",
        "\r\n",
        "**What methods should I use to get rid of these extra characters?**\r\n",
        "\r\n",
        "I have extra text in the document - some type of Gutenberg introduction that I know is not by the author. \r\n",
        "\r\n",
        "**Where to start and end each document?**\r\n",
        "\r\n",
        "At least one of these documents is by more than one author. \r\n",
        "\r\n",
        "**How do I identify, find, learn who the author is in these documents?**\r\n",
        "\r\n",
        "**Do I want the author's names in these documents?** \r\n",
        "\r\n",
        "**What method shall I use to rid the document of tables of contents, chapter titles, document titles, etc.?** "
      ]
    },
    {
      "cell_type": "markdown",
      "metadata": {
        "id": "dv5G5M09ZxSJ"
      },
      "source": [
        "###Beginning and End of Document\r\n",
        "\r\n",
        "Regarding the Gutenberg's introductions and endings: Can I isolate these paragraphs?\r\n",
        "\r\n",
        "Specifically, I want the last paragraph of the Gutenberg introduction and the first paragraph of the Gutenberg ending. If I can identify key phrases/words for each of these paragraphs, I can drop the paragraphs and save the file.\r\n",
        "\r\n"
      ]
    },
    {
      "cell_type": "code",
      "metadata": {
        "colab": {
          "base_uri": "https://localhost:8080/"
        },
        "id": "aAuvjMNCeoiJ",
        "outputId": "bd46fc92-e113-438c-df21-804c6802cf3d"
      },
      "source": [
        "from nltk.corpus.reader.plaintext import PlaintextCorpusReader\r\n",
        "from gensim.summarization import keywords\r\n",
        "import nltk\r\n",
        "import re\r\n",
        "import requests\r\n",
        "import os\r\n",
        "\r\n",
        "\r\n",
        "!pip install rake_nltk --quiet\r\n",
        "from rake_nltk import Rake\r\n",
        "nltk.download('punkt')\r\n",
        "\r\n",
        "# file location\r\n",
        "PATH = '/content/drive/MyDrive/Author Classification/Books'\r\n",
        "DOC_PATTERN = r'.*\\.txt'\r\n",
        "\r\n",
        "corpus = PlaintextCorpusReader(PATH, DOC_PATTERN)"
      ],
      "execution_count": null,
      "outputs": [
        {
          "output_type": "stream",
          "text": [
            "[nltk_data] Downloading package punkt to /root/nltk_data...\n",
            "[nltk_data]   Package punkt is already up-to-date!\n"
          ],
          "name": "stdout"
        }
      ]
    },
    {
      "cell_type": "code",
      "metadata": {
        "colab": {
          "base_uri": "https://localhost:8080/"
        },
        "id": "UdrqCp8U4ets",
        "outputId": "6ec650fc-139f-4e32-a520-9f829cead20e"
      },
      "source": [
        "#How many times does this appear in the docs? \r\n",
        "commonpara = corpus.paras(fileids=['Anne Bronte/book6.txt'])[6]\r\n",
        "commonpara[0]"
      ],
      "execution_count": null,
      "outputs": [
        {
          "output_type": "execute_result",
          "data": {
            "text/plain": [
              "['Character', 'set', 'encoding', ':', 'UTF', '-', '8']"
            ]
          },
          "metadata": {
            "tags": []
          },
          "execution_count": 5
        }
      ]
    },
    {
      "cell_type": "code",
      "metadata": {
        "colab": {
          "base_uri": "https://localhost:8080/"
        },
        "id": "3_g7_HvwDVYR",
        "outputId": "4eb24765-af15-492d-af63-756da5faa942"
      },
      "source": [
        "#Which files contain this character set encoding text?\r\n",
        "i = 0\r\n",
        "encids = []\r\n",
        "for fileid in corpus.fileids():\r\n",
        "  paras = corpus.paras(fileids=fileid)\r\n",
        "  for para in paras:\r\n",
        "    if para == commonpara:\r\n",
        "      encids.append(fileid)\r\n",
        "\r\n",
        "encids"
      ],
      "execution_count": null,
      "outputs": [
        {
          "output_type": "execute_result",
          "data": {
            "text/plain": [
              "['Anne Bronte/book6.txt',\n",
              " 'Bell AKA Bronte Sisters/book10.txt',\n",
              " 'Edith Rickert & Gleb Botkin/book7.txt',\n",
              " 'Emily Bronte/book4.txt',\n",
              " 'Fyodor Dostoevsky/book2.txt',\n",
              " 'Jane Austen/book0.txt',\n",
              " 'Jane Austen/book1.txt']"
            ]
          },
          "metadata": {
            "tags": []
          },
          "execution_count": 6
        }
      ]
    },
    {
      "cell_type": "code",
      "metadata": {
        "colab": {
          "base_uri": "https://localhost:8080/"
        },
        "id": "O0NhaTew3y6t",
        "outputId": "111f8192-3f74-4bd6-abae-12bedfa66c25"
      },
      "source": [
        "#Title.\r\n",
        "corpus.paras(fileids=['Anne Bronte/book6.txt'])[7:13]"
      ],
      "execution_count": null,
      "outputs": [
        {
          "output_type": "execute_result",
          "data": {
            "text/plain": [
              "[[['***',\n",
              "   'START',\n",
              "   'OF',\n",
              "   'THIS',\n",
              "   'PROJECT',\n",
              "   'GUTENBERG',\n",
              "   'EBOOK',\n",
              "   'AGNES',\n",
              "   'GREY',\n",
              "   '***']],\n",
              " [['Produced', 'by', 'David', 'Price']],\n",
              " [['Agnes', 'Grey', 'A', 'NOVEL', ',']],\n",
              " [['by', 'ACTON', 'BELL', '.']],\n",
              " [['LONDON',\n",
              "   ':',\n",
              "   'THOMAS',\n",
              "   'CAUTLEY',\n",
              "   'NEWBY',\n",
              "   ',',\n",
              "   'PUBLISHER',\n",
              "   ',',\n",
              "   '72',\n",
              "   ',',\n",
              "   'MORTIMER',\n",
              "   'ST',\n",
              "   '.,',\n",
              "   'CAVENDISH',\n",
              "   'SQ',\n",
              "   '.']],\n",
              " [['1847', '.']]]"
            ]
          },
          "metadata": {
            "tags": []
          },
          "execution_count": 7
        }
      ]
    },
    {
      "cell_type": "code",
      "metadata": {
        "colab": {
          "base_uri": "https://localhost:8080/"
        },
        "id": "LhbgxaMRF_2I",
        "outputId": "378d1652-b8e8-4987-c364-cdb72aece80d"
      },
      "source": [
        "i = 0\r\n",
        "fileids = []\r\n",
        "paraindex = []  #index of the gutenberg paragraphs.\r\n",
        "onesent = [] #single sentence paragraphs.\r\n",
        "commonsent = ['***', 'START', 'OF', 'PROJECT','GUTENBERG',]\r\n",
        "delimiter = ['\\x80\\x9c'] #recognizable delimiter for author single paragraphs.\r\n",
        "for fileid in corpus.fileids():\r\n",
        "  paras = corpus.paras(fileid)\r\n",
        "  for para in paras:\r\n",
        "    if set(commonsent).issubset(para[0]):\r\n",
        "      fileids.append(fileid)\r\n",
        "      paraindex.append(paras.index(para)+1)\r\n",
        "      \r\n",
        "fileids"
      ],
      "execution_count": null,
      "outputs": [
        {
          "output_type": "execute_result",
          "data": {
            "text/plain": [
              "['Anne Bronte/book6.txt',\n",
              " 'Bell AKA Bronte Sisters/book10.txt',\n",
              " 'Charlotte Bronte/book5.txt',\n",
              " 'Edith Rickert & Gleb Botkin/book7.txt',\n",
              " 'Emily Bronte/book4.txt',\n",
              " 'Ethel M. Dell/book8.txt',\n",
              " 'Ethel M. Dell/book9.txt',\n",
              " 'Fyodor Dostoevsky/book2.txt',\n",
              " 'Fyodor Dostoevsky/book3.txt',\n",
              " 'Jane Austen/book0.txt',\n",
              " 'Jane Austen/book1.txt',\n",
              " 'Various/book11.txt']"
            ]
          },
          "metadata": {
            "tags": []
          },
          "execution_count": 98
        }
      ]
    },
    {
      "cell_type": "code",
      "metadata": {
        "colab": {
          "base_uri": "https://localhost:8080/"
        },
        "id": "jkYWLK6XG27g",
        "outputId": "1f597a9c-f5ce-4ccf-8feb-104550f0e099"
      },
      "source": [
        "remaining = list(set(corpus.fileids()) - set(fileids))\r\n",
        "remaining"
      ],
      "execution_count": null,
      "outputs": [
        {
          "output_type": "execute_result",
          "data": {
            "text/plain": [
              "[]"
            ]
          },
          "metadata": {
            "tags": []
          },
          "execution_count": 9
        }
      ]
    },
    {
      "cell_type": "code",
      "metadata": {
        "colab": {
          "base_uri": "https://localhost:8080/"
        },
        "id": "-29yqrMuSPRi",
        "outputId": "8c2751f7-fc15-40f2-9429-d11b2add7ab4"
      },
      "source": [
        "i = 0\r\n",
        "\r\n",
        "for fileid in fileids:\r\n",
        "  print(corpus.paras(fileid)[paraindex[i]])\r\n",
        "  i += 1    "
      ],
      "execution_count": null,
      "outputs": [
        {
          "output_type": "stream",
          "text": [
            "[['Produced', 'by', 'David', 'Price']]\n",
            "[['POEMS']]\n",
            "[['Produced', 'by', 'David', 'Edwards', ',', 'Mary', 'Glenn', 'Krause', ',', 'Eleni', 'Christofaki', 'and', 'the', 'Online', 'Distributed', 'Proofreading', 'Team', 'at', 'http', '://', 'www', '.', 'pgdp', '.', 'net', '(', 'This', 'book', 'was', 'produced', 'from', 'a', 'file', 'downloaded', 'from', 'the', 'British', 'Library', ')']]\n",
            "[['Produced', 'by', 'Tim', 'Lindell', ',', 'David', 'E', '.', 'Brown', ',', 'and', 'the', 'Online', 'Distributed', 'Proofreading', 'Team', 'at', 'http', '://', 'www', '.', 'pgdp', '.', 'net', '(', 'This', 'file', 'was', 'produced', 'from', 'images', 'generously', 'made', 'available', 'by', 'The', 'Internet', 'Archive', '/', 'American', 'Libraries', '.)']]\n",
            "[['Transcribed', 'from', 'the', '1910', 'John', 'Murray', 'edition', 'by', 'David', 'Price']]\n",
            "[['Produced', 'by', 'Al', 'Haines', '.']]\n",
            "[['E', '-', 'text', 'prepared', 'by', 'Suzanne', 'Shell', ',', 'Project', 'Gutenberg', 'Beginners', 'Projects', ',', 'Mary', 'Meehan', ',', 'and', 'the', 'Project', 'Gutenberg', 'Online', 'Distributed', 'Proofreading', 'Team']]\n",
            "[['Produced', 'by', 'John', 'Bickers', ';', 'and', 'Dagny']]\n",
            "[['Produced', 'by', 'Jan', '-', 'Fabian', 'Humann', ',', 'Carol', 'Ann', 'Brown', ',', 'and', 'the', 'Online', 'Distributed', 'Proofreading', 'Team', 'at', 'http', '://', 'www', '.', 'pgdp', '.', 'net', '.'], ['(', 'This', 'file', 'was', 'produced', 'from', 'images', 'generously', 'made', 'available', 'by', 'The', 'Internet', 'Archive', '/', 'American', 'Libraries', '.)']]\n",
            "[['LOVE', 'AND', 'FREINDSHIP', 'AND', 'OTHER', 'EARLY', 'WORKS']]\n",
            "[['Produced', 'by', 'An', 'Anonymous', 'Volunteer']]\n",
            "[['Produced', 'by', 'Greg', 'Weeks', ',', 'Meredith', 'Bach', ',', 'and', 'the', 'Online', 'Distributed', 'Proofreading', 'Team', 'at', 'https', '://', 'www', '.', 'pgdp', '.', 'net']]\n"
          ],
          "name": "stdout"
        }
      ]
    },
    {
      "cell_type": "code",
      "metadata": {
        "id": "DGoa4R1EndEl",
        "colab": {
          "base_uri": "https://localhost:8080/"
        },
        "outputId": "741da867-8978-4e24-b9dd-811a7f719330"
      },
      "source": [
        "#Get the last paragraph of the text (author's work). \r\n",
        "print(corpus.paras(fileids[0])[-55])"
      ],
      "execution_count": null,
      "outputs": [
        {
          "output_type": "stream",
          "text": [
            "[['End', 'of', 'the', 'Project', 'Gutenberg', 'EBook', 'of', 'Agnes', 'Grey', ',', 'by', 'Anne', 'BrontÃ', '«']]\n"
          ],
          "name": "stdout"
        }
      ]
    },
    {
      "cell_type": "code",
      "metadata": {
        "colab": {
          "base_uri": "https://localhost:8080/"
        },
        "id": "wlKOtFLnJndI",
        "outputId": "dfb59496-cbff-4cbf-f81a-55b31a94eb9a"
      },
      "source": [
        "i = 0\r\n",
        "fileids = []\r\n",
        "licenseindex = []  #index of the gutenberg license paragraphs.\r\n",
        "commonsent = ['END', 'PROJECT', 'GUTENBERG',]\r\n",
        "for fileid in corpus.fileids():\r\n",
        "  paras = corpus.paras(fileid)\r\n",
        "  for para in paras:\r\n",
        "    bigsent = [w.upper() for w in para[0]]\r\n",
        "    if set(commonsent).issubset(bigsent) and fileid not in fileids:\r\n",
        "      fileids.append(fileid)\r\n",
        "      licenseindex.append(paras.index(para))\r\n",
        "      \r\n",
        "fileids"
      ],
      "execution_count": null,
      "outputs": [
        {
          "output_type": "execute_result",
          "data": {
            "text/plain": [
              "['Anne Bronte/book6.txt',\n",
              " 'Bell AKA Bronte Sisters/book10.txt',\n",
              " 'Charlotte Bronte/book5.txt',\n",
              " 'Edith Rickert & Gleb Botkin/book7.txt',\n",
              " 'Emily Bronte/book4.txt',\n",
              " 'Ethel M. Dell/book8.txt',\n",
              " 'Ethel M. Dell/book9.txt',\n",
              " 'Fyodor Dostoevsky/book2.txt',\n",
              " 'Fyodor Dostoevsky/book3.txt',\n",
              " 'Jane Austen/book0.txt',\n",
              " 'Jane Austen/book1.txt',\n",
              " 'Various/book11.txt']"
            ]
          },
          "metadata": {
            "tags": []
          },
          "execution_count": 99
        }
      ]
    },
    {
      "cell_type": "code",
      "metadata": {
        "colab": {
          "base_uri": "https://localhost:8080/"
        },
        "id": "CQR2hA7LKTiu",
        "outputId": "f8f7265c-17ee-41e1-e19c-9b936fa66362"
      },
      "source": [
        "remaining = list(set(corpus.fileids()) - set(fileids))\r\n",
        "remaining"
      ],
      "execution_count": null,
      "outputs": [
        {
          "output_type": "execute_result",
          "data": {
            "text/plain": [
              "[]"
            ]
          },
          "metadata": {
            "tags": []
          },
          "execution_count": 106
        }
      ]
    },
    {
      "cell_type": "code",
      "metadata": {
        "colab": {
          "base_uri": "https://localhost:8080/"
        },
        "id": "6X-jEbtYKXMQ",
        "outputId": "1a3f6ff7-4c2d-4b50-dbd1-c761fd05fb8a"
      },
      "source": [
        "for i in range(0, len(fileids)-1):\r\n",
        "  print(corpus.paras(fileids[i])[paraindex[i]:licenseindex[i]])"
      ],
      "execution_count": null,
      "outputs": [
        {
          "output_type": "stream",
          "text": [
            "[[['Produced', 'by', 'David', 'Price']], [['Agnes', 'Grey', 'A', 'NOVEL', ',']], ...]\n",
            "[[['POEMS']], [['by', 'Currer', ',', 'Ellis', ',', 'And', 'Acton', 'Bell']], ...]\n",
            "[[['Produced', 'by', 'David', 'Edwards', ',', 'Mary', 'Glenn', 'Krause', ',', 'Eleni', 'Christofaki', 'and', 'the', 'Online', 'Distributed', 'Proofreading', 'Team', 'at', 'http', '://', 'www', '.', 'pgdp', '.', 'net', '(', 'This', 'book', 'was', 'produced', 'from', 'a', 'file', 'downloaded', 'from', 'the', 'British', 'Library', ')']], [['Transcriber', \"'\", 's', 'note']], ...]\n",
            "[[['Produced', 'by', 'Tim', 'Lindell', ',', 'David', 'E', '.', 'Brown', ',', 'and', 'the', 'Online', 'Distributed', 'Proofreading', 'Team', 'at', 'http', '://', 'www', '.', 'pgdp', '.', 'net', '(', 'This', 'file', 'was', 'produced', 'from', 'images', 'generously', 'made', 'available', 'by', 'The', 'Internet', 'Archive', '/', 'American', 'Libraries', '.)']], [['THE', 'BOJABI', 'TREE']], ...]\n",
            "[[['Transcribed', 'from', 'the', '1910', 'John', 'Murray', 'edition', 'by', 'David', 'Price']], [['Wuthering', 'Heights']], ...]\n",
            "[[['Produced', 'by', 'Al', 'Haines', '.']], [['[', 'Illustration', ':', 'WITH', 'THE', 'UTMOST', 'GENTLENESS', 'HE', 'LAID', 'HIS', 'HAND', 'AGAIN', 'UPON', 'HERS', '.'], ['\"', 'ARE', 'YOU', 'AFRAID', 'TO', 'SAY', 'IT', '?\"'], ['HE', 'SAID', '.'], ['Drawn', 'by', 'E', '.', 'L', '.', 'Crompton', '.'], ['(', '_See', 'page_', '98', ')]']], ...]\n",
            "[[['E', '-', 'text', 'prepared', 'by', 'Suzanne', 'Shell', ',', 'Project', 'Gutenberg', 'Beginners', 'Projects', ',', 'Mary', 'Meehan', ',', 'and', 'the', 'Project', 'Gutenberg', 'Online', 'Distributed', 'Proofreading', 'Team']], [['THE', 'KNAVE', 'OF', 'DIAMONDS']], ...]\n",
            "[[['Produced', 'by', 'John', 'Bickers', ';', 'and', 'Dagny']], [['CRIME', 'AND', 'PUNISHMENT']], ...]\n",
            "[[['Produced', 'by', 'Jan', '-', 'Fabian', 'Humann', ',', 'Carol', 'Ann', 'Brown', ',', 'and', 'the', 'Online', 'Distributed', 'Proofreading', 'Team', 'at', 'http', '://', 'www', '.', 'pgdp', '.', 'net', '.'], ['(', 'This', 'file', 'was', 'produced', 'from', 'images', 'generously', 'made', 'available', 'by', 'The', 'Internet', 'Archive', '/', 'American', 'Libraries', '.)']], [['WHITE', 'NIGHTS', 'AND', 'OTHER', 'STORIES']], ...]\n",
            "[[['LOVE', 'AND', 'FREINDSHIP', 'AND', 'OTHER', 'EARLY', 'WORKS']], [['(', 'Love', 'And', 'Friendship', 'And', 'Other', 'Early', 'Works', ')']], ...]\n",
            "[[['Produced', 'by', 'An', 'Anonymous', 'Volunteer']], [['EMMA']], ...]\n"
          ],
          "name": "stdout"
        }
      ]
    },
    {
      "cell_type": "code",
      "metadata": {
        "colab": {
          "base_uri": "https://localhost:8080/"
        },
        "id": "RXSGqBeBjS0O",
        "outputId": "394e7a42-057c-4a90-bea6-c7d41dccd851"
      },
      "source": [
        "for fileid in fileids:\r\n",
        "  print(fileid.split('/')[0])"
      ],
      "execution_count": null,
      "outputs": [
        {
          "output_type": "stream",
          "text": [
            "Anne Bronte\n",
            "Bell AKA Bronte Sisters\n",
            "Charlotte Bronte\n",
            "Edith Rickert & Gleb Botkin\n",
            "Emily Bronte\n",
            "Ethel M. Dell\n",
            "Ethel M. Dell\n",
            "Fyodor Dostoevsky\n",
            "Fyodor Dostoevsky\n",
            "Jane Austen\n",
            "Jane Austen\n",
            "Various\n"
          ],
          "name": "stdout"
        }
      ]
    },
    {
      "cell_type": "markdown",
      "metadata": {
        "id": "sGX8afCsejen"
      },
      "source": [
        "### Extra Characters\r\n",
        "\r\n",
        "Remove all of the unwanted characters."
      ]
    },
    {
      "cell_type": "code",
      "metadata": {
        "id": "COnRmIHSbAyg"
      },
      "source": [
        "#Clean the text\r\n",
        "def cleaner(text, limit=0):\r\n",
        "    \"Extract relevant text from DataFrame using a regex\"\r\n",
        "    # Regex pattern for only alphanumeric, hyphenated text with 3 or more chars\r\n",
        "    pattern = re.compile(r\"[A-Za-z0-9\\-]{3,50}\")\r\n",
        "    return re.findall(pattern, text)\r\n",
        "    "
      ],
      "execution_count": null,
      "outputs": []
    },
    {
      "cell_type": "code",
      "metadata": {
        "id": "XvTgasU2_bSy"
      },
      "source": [
        "i = 0\r\n",
        "intro_set = ['***', 'START', 'OF', 'PROJECT','GUTENBERG',]\r\n",
        "license_set = ['END', 'PROJECT', 'GUTENBERG',]\r\n",
        "cleansent = ''\r\n",
        "PATH = '/content/drive/MyDrive/Author Classification/AuthorTexts'\r\n",
        "DOC_PATTERN = r'.*\\.txt'\r\n",
        "\r\n",
        "for fileid in corpus.fileids():\r\n",
        "  paras = corpus.paras(fileid)\r\n",
        "  author = fileid.split('/')[0]\r\n",
        "  for para in paras:\r\n",
        "    bigsent = [w.upper() for w in para[0]]\r\n",
        "    \r\n",
        "    if set(intro_set).issubset(para[0]):\r\n",
        "      introindex = paras.index(para)+1\r\n",
        "    if set(license_set).issubset(bigsent):\r\n",
        "      licenseindex = paras.index(para)\r\n",
        "\r\n",
        "  #store this in an authortext folder for analysis on authors.\r\n",
        "  #loop through the text paragraphs.\r\n",
        "  for para in paras[introindex:licenseindex]:\r\n",
        "    #loop throuh the sentences:\r\n",
        "    for sent in para:\r\n",
        "      #clean the sentences\r\n",
        "      cleansent += ' '.join(cleaner(' '.join(sent))) + ' '\r\n",
        "    cleansent += '\\n'  \r\n",
        "      \r\n",
        "  #open and save the text to a file.\r\n",
        "  folder = PATH + f'/{author}/'\r\n",
        "  if not os.path.exists(folder):\r\n",
        "      os.makedirs(folder)\r\n",
        "  #save the text\r\n",
        "  with open(folder + f'works.txt', 'a+') as f:\r\n",
        "      f.write(cleansent)\r\n",
        "  cleansent = '' #reset the sentences.\r\n"
      ],
      "execution_count": null,
      "outputs": []
    },
    {
      "cell_type": "markdown",
      "metadata": {
        "id": "qsR52T8jayNu"
      },
      "source": [
        "## Authors\r\n",
        "\r\n",
        "It is assumed that the end user of this product will not care whether or not the author's name is inside the text document. \r\n",
        "\r\n",
        "For the purpose of training and testing the models, remove reference to the author to the best of my ability. \r\n",
        "\r\n",
        "A cleaner text file, without punctuation, words < 3 characters, the gutenberg's introductions and license, and organized into a single text file for the authors is located at:\r\n",
        "PATH = '/content/drive/MyDrive/Author Classification/AuthorTexts'\r\n",
        "\r\n",
        "\r\n",
        "Various authors and the bell compilation will still need to be pulled out. "
      ]
    },
    {
      "cell_type": "code",
      "metadata": {
        "id": "wD1l849UdaOA",
        "colab": {
          "base_uri": "https://localhost:8080/"
        },
        "outputId": "f4855246-1e1d-4430-cb5b-aea7a3b2c414"
      },
      "source": [
        "#Open the text files for exploration. \r\n",
        "from nltk.corpus.reader.plaintext import PlaintextCorpusReader\r\n",
        "from gensim.summarization import keywords\r\n",
        "import nltk\r\n",
        "import re\r\n",
        "import requests\r\n",
        "import os\r\n",
        "\r\n",
        "!pip install rake_nltk --quiet\r\n",
        "from rake_nltk import Rake\r\n",
        "nltk.download('punkt')\r\n",
        "nltk.download('wordnet')\r\n",
        "\r\n",
        "import pandas as pd\r\n",
        "from nltk import sent_tokenize\r\n",
        "from nltk import word_tokenize\r\n",
        "from nltk.corpus import stopwords\r\n",
        "from nltk.stem.snowball import SnowballStemmer\r\n",
        "from nltk.stem.wordnet import WordNetLemmatizer\r\n",
        "import numpy as np\r\n",
        "import spacy\r\n",
        "\r\n",
        "\r\n",
        "# file location\r\n",
        "PATH = '/content/drive/MyDrive/Author Classification/AuthorTexts'\r\n",
        "DOC_PATTERN = r'.*\\.txt'\r\n",
        "\r\n",
        "corpus = PlaintextCorpusReader(PATH, DOC_PATTERN)\r\n",
        "\r\n",
        "def corpus_stats(corpus):\r\n",
        "  print(\"corpus statistics:\")\r\n",
        "  print(f'Number of Documents: {str(len(corpus.fileids()))}')\r\n",
        "  print(f'Number of paragraphs: {str(len(corpus.paras()))}')\r\n",
        "  print(f'Number of sentences: {str(len(corpus.sents()))}')\r\n",
        "  print(f'Number of words: {str(len(corpus.words()))}')\r\n",
        "  print(f'Vocabulary: {str(len(set(w.lower() for w in corpus.words())))}')\r\n",
        "  print(f'avg chars per word: {str(round(len(corpus.raw())/len(corpus.words()), 1))}')\r\n",
        "  print(f'avg words per sentence: {str(round(len(corpus.words())/len(corpus.sents()), 1))}')\r\n",
        "\r\n",
        "corpus_stats(corpus)"
      ],
      "execution_count": 1,
      "outputs": [
        {
          "output_type": "stream",
          "text": [
            "[nltk_data] Downloading package punkt to /root/nltk_data...\n",
            "[nltk_data]   Package punkt is already up-to-date!\n",
            "[nltk_data] Downloading package wordnet to /root/nltk_data...\n",
            "[nltk_data]   Package wordnet is already up-to-date!\n",
            "corpus statistics:\n",
            "Number of Documents: 9\n",
            "Number of paragraphs: 295\n",
            "Number of sentences: 295\n",
            "Number of words: 854345\n",
            "Vocabulary: 23747\n",
            "avg chars per word: 5.9\n",
            "avg words per sentence: 2896.1\n"
          ],
          "name": "stdout"
        }
      ]
    },
    {
      "cell_type": "markdown",
      "metadata": {
        "id": "zsDs8wsG1wKn"
      },
      "source": [
        "It looks like the data cleaning process and format that I've taken has significanly decreased the amount of text I'm using. I can also assume that there are no longer paragraphs associated with the corpus. \r\n",
        "\r\n",
        "This initial setup suggests that I might have to go back to the cleaning process and clean up the extra text a little further. Before I do that, I want to conduct some additional analysis about the texts that I've pulled. \r\n",
        "\r\n",
        "Also note the number of words has decreased from 1.4 million to 854k. My vocubulary; however, hasn't decreased as much - which is what I think I should want to see. \r\n",
        "\r\n",
        "I now have an average of 2800 words per sentence. I was looking at 20, previously. These statistickes make sense. I removed the punctuation."
      ]
    },
    {
      "cell_type": "code",
      "metadata": {
        "colab": {
          "base_uri": "https://localhost:8080/"
        },
        "id": "B4rc9qLOzdMm",
        "outputId": "4087ff4e-c06d-485b-df14-b20d04ed29f3"
      },
      "source": [
        "#look at all those authors.\r\n",
        "for fileid in corpus.fileids():\r\n",
        "  print(fileid.split('/')[0])"
      ],
      "execution_count": 2,
      "outputs": [
        {
          "output_type": "stream",
          "text": [
            "Anne Bronte\n",
            "Bell AKA Bronte Sisters\n",
            "Charlotte Bronte\n",
            "Edith Rickert & Gleb Botkin\n",
            "Emily Bronte\n",
            "Ethel M. Dell\n",
            "Fyodor Dostoevsky\n",
            "Jane Austen\n",
            "Various\n"
          ],
          "name": "stdout"
        }
      ]
    },
    {
      "cell_type": "code",
      "metadata": {
        "id": "nrcewS2G58Gf"
      },
      "source": [
        "docs = [(fileid.split('/')[0], corpus.raw(fileid)) for fileid in corpus.fileids()]"
      ],
      "execution_count": 3,
      "outputs": []
    },
    {
      "cell_type": "code",
      "metadata": {
        "id": "9sv28NFECE3t"
      },
      "source": [
        "from nltk.tokenize import RegexpTokenizer\r\n",
        "\r\n",
        "tokenizer = RegexpTokenizer(r'\\w+')\r\n",
        "\r\n",
        "tokenized = [(doc[0], word_tokenize(doc[1].lower())) for doc in docs if tokenizer.tokenize(doc[1].lower()) not in stopwords.words('english')]"
      ],
      "execution_count": 4,
      "outputs": []
    },
    {
      "cell_type": "code",
      "metadata": {
        "colab": {
          "base_uri": "https://localhost:8080/"
        },
        "id": "h3zjMQ17An2X",
        "outputId": "8d6b4626-d1a1-4e76-9c1b-eb2e41ecadfc"
      },
      "source": [
        "len(tokenized[1][1])"
      ],
      "execution_count": 30,
      "outputs": [
        {
          "output_type": "execute_result",
          "data": {
            "text/plain": [
              "26014"
            ]
          },
          "metadata": {
            "tags": []
          },
          "execution_count": 30
        }
      ]
    },
    {
      "cell_type": "code",
      "metadata": {
        "id": "tF4-oxo0B8qA"
      },
      "source": [
        "# Lemmatize the tokens. \r\n",
        "stemmer = SnowballStemmer('english')\r\n",
        "lemmatizer = WordNetLemmatizer()\r\n",
        "stem = ''\r\n",
        "lemma = ''\r\n",
        "stemmed = []\r\n",
        "lemmatized = []\r\n",
        "for doc in tokenized:\r\n",
        "  author = doc[0]\r\n",
        "  stem = ''\r\n",
        "  lemma = ''\r\n",
        "  for token in doc[1]:\r\n",
        "      stem = stem + ' ' + stemmer.stem(token)\r\n",
        "      lemma = lemma + ' ' + lemmatizer.lemmatize(token)\r\n",
        "  stemmed.append(stem)\r\n",
        "  lemmatized.append(lemma)"
      ],
      "execution_count": 6,
      "outputs": []
    },
    {
      "cell_type": "markdown",
      "metadata": {
        "id": "Btvujm0nQD1u"
      },
      "source": [
        "Gensim keywords seems to have a disliking to one or more of these texts. I don't know why, but the system crashes.\r\n",
        "\r\n",
        "I just want to take a glimpse at the keywords for a few of them. "
      ]
    },
    {
      "cell_type": "code",
      "metadata": {
        "id": "9_TGoGWs5r8j"
      },
      "source": [
        "keys = []\r\n",
        "i = 0\r\n",
        "for doc in stemmed[0:5]:\r\n",
        "  keys.append(keywords(doc, words=5).split('\\n'))"
      ],
      "execution_count": null,
      "outputs": []
    },
    {
      "cell_type": "code",
      "metadata": {
        "colab": {
          "base_uri": "https://localhost:8080/"
        },
        "id": "Cfsvs7TzVFz3",
        "outputId": "7d80b336-2e2a-4d92-f719-78acd758358e"
      },
      "source": [
        "keys"
      ],
      "execution_count": 9,
      "outputs": [
        {
          "output_type": "execute_result",
          "data": {
            "text/plain": [
              "[['littl', 'like', 'veri', 'onli', 'said'],\n",
              " ['thi', 'heart', 'thee', 'thou', 'love', 'loveli'],\n",
              " ['donel', 'light', 'veri', 'like', 'man'],\n",
              " ['illustr', 'said', 'bojabi', 'pinki', 'rat'],\n",
              " ['heathcliff', 'catherin', 'linton', 'said', 'littl']]"
            ]
          },
          "metadata": {
            "tags": []
          },
          "execution_count": 9
        }
      ]
    },
    {
      "cell_type": "code",
      "metadata": {
        "id": "SW3GJVayuKdk"
      },
      "source": [
        "#Named Entity Recognition by Author\r\n",
        "nlp = spacy.load(\"en_core_web_sm\")\r\n",
        "nlp.max_length = 1500000\r\n",
        "spacy_docs = [(doc[0], nlp(doc[1])) for doc in docs]"
      ],
      "execution_count": 7,
      "outputs": []
    },
    {
      "cell_type": "code",
      "metadata": {
        "colab": {
          "base_uri": "https://localhost:8080/"
        },
        "id": "kVkNlelu2vk8",
        "outputId": "bf7106da-0570-4520-8d86-5ff5c55ad2c1"
      },
      "source": [
        "#investigating novel sizes, in case of errors. \r\n",
        "for doc in spacy_docs:\r\n",
        "  print(doc[0],': ', len(doc[1]))"
      ],
      "execution_count": 8,
      "outputs": [
        {
          "output_type": "stream",
          "text": [
            "Anne Bronte :  53103\n",
            "Bell AKA Bronte Sisters :  27002\n",
            "Charlotte Bronte :  7406\n",
            "Edith Rickert & Gleb Botkin :  2442\n",
            "Emily Bronte :  91470\n",
            "Ethel M. Dell :  229488\n",
            "Fyodor Dostoevsky :  255785\n",
            "Jane Austen :  152025\n",
            "Various :  60237\n"
          ],
          "name": "stdout"
        }
      ]
    },
    {
      "cell_type": "code",
      "metadata": {
        "id": "c_HtdaA25gmr"
      },
      "source": [
        "def author_entities(text):\r\n",
        "  b = []\r\n",
        "  for entity in text[1].ents:\r\n",
        "    b.append((text[0], entity.text.lower(), entity.label_))\r\n",
        "  return pd.DataFrame(b, columns=['author', 'name', 'type'])"
      ],
      "execution_count": 132,
      "outputs": []
    },
    {
      "cell_type": "code",
      "metadata": {
        "id": "6s52jMl762ht"
      },
      "source": [
        "max_limit = 150000\r\n",
        "#Named Entity Recognition DataFrame \r\n",
        "for doc in spacy_docs:\r\n",
        "  try:\r\n",
        "    entities = pd.concat([entities, author_entities(doc)])\r\n",
        "  except NameError: \r\n",
        "    entities = author_entities(doc)\r\n"
      ],
      "execution_count": 133,
      "outputs": []
    },
    {
      "cell_type": "code",
      "metadata": {
        "colab": {
          "base_uri": "https://localhost:8080/",
          "height": 166
        },
        "id": "0XqWcxTm7Mpw",
        "outputId": "b9963f78-8e91-4eed-9f95-6c0d64587cae"
      },
      "source": [
        "entities.describe(include='all')"
      ],
      "execution_count": 134,
      "outputs": [
        {
          "output_type": "execute_result",
          "data": {
            "text/html": [
              "<div>\n",
              "<style scoped>\n",
              "    .dataframe tbody tr th:only-of-type {\n",
              "        vertical-align: middle;\n",
              "    }\n",
              "\n",
              "    .dataframe tbody tr th {\n",
              "        vertical-align: top;\n",
              "    }\n",
              "\n",
              "    .dataframe thead th {\n",
              "        text-align: right;\n",
              "    }\n",
              "</style>\n",
              "<table border=\"1\" class=\"dataframe\">\n",
              "  <thead>\n",
              "    <tr style=\"text-align: right;\">\n",
              "      <th></th>\n",
              "      <th>author</th>\n",
              "      <th>name</th>\n",
              "      <th>type</th>\n",
              "    </tr>\n",
              "  </thead>\n",
              "  <tbody>\n",
              "    <tr>\n",
              "      <th>count</th>\n",
              "      <td>38248</td>\n",
              "      <td>38248</td>\n",
              "      <td>38248</td>\n",
              "    </tr>\n",
              "    <tr>\n",
              "      <th>unique</th>\n",
              "      <td>9</td>\n",
              "      <td>6449</td>\n",
              "      <td>18</td>\n",
              "    </tr>\n",
              "    <tr>\n",
              "      <th>top</th>\n",
              "      <td>Fyodor Dostoevsky</td>\n",
              "      <td>one</td>\n",
              "      <td>PERSON</td>\n",
              "    </tr>\n",
              "    <tr>\n",
              "      <th>freq</th>\n",
              "      <td>10148</td>\n",
              "      <td>1437</td>\n",
              "      <td>17875</td>\n",
              "    </tr>\n",
              "  </tbody>\n",
              "</table>\n",
              "</div>"
            ],
            "text/plain": [
              "                   author   name    type\n",
              "count               38248  38248   38248\n",
              "unique                  9   6449      18\n",
              "top     Fyodor Dostoevsky    one  PERSON\n",
              "freq                10148   1437   17875"
            ]
          },
          "metadata": {
            "tags": []
          },
          "execution_count": 134
        }
      ]
    },
    {
      "cell_type": "code",
      "metadata": {
        "colab": {
          "base_uri": "https://localhost:8080/",
          "height": 196
        },
        "id": "5gCSjAVOzH2r",
        "outputId": "be2bd0c9-0345-455e-df7d-62676db1ece6"
      },
      "source": [
        "entities.tail()"
      ],
      "execution_count": 135,
      "outputs": [
        {
          "output_type": "execute_result",
          "data": {
            "text/html": [
              "<div>\n",
              "<style scoped>\n",
              "    .dataframe tbody tr th:only-of-type {\n",
              "        vertical-align: middle;\n",
              "    }\n",
              "\n",
              "    .dataframe tbody tr th {\n",
              "        vertical-align: top;\n",
              "    }\n",
              "\n",
              "    .dataframe thead th {\n",
              "        text-align: right;\n",
              "    }\n",
              "</style>\n",
              "<table border=\"1\" class=\"dataframe\">\n",
              "  <thead>\n",
              "    <tr style=\"text-align: right;\">\n",
              "      <th></th>\n",
              "      <th>author</th>\n",
              "      <th>name</th>\n",
              "      <th>type</th>\n",
              "    </tr>\n",
              "  </thead>\n",
              "  <tbody>\n",
              "    <tr>\n",
              "      <th>3376</th>\n",
              "      <td>Various</td>\n",
              "      <td>astounding stories</td>\n",
              "      <td>ORG</td>\n",
              "    </tr>\n",
              "    <tr>\n",
              "      <th>3377</th>\n",
              "      <td>Various</td>\n",
              "      <td>first</td>\n",
              "      <td>ORDINAL</td>\n",
              "    </tr>\n",
              "    <tr>\n",
              "      <th>3378</th>\n",
              "      <td>Various</td>\n",
              "      <td>norton</td>\n",
              "      <td>ORG</td>\n",
              "    </tr>\n",
              "    <tr>\n",
              "      <th>3379</th>\n",
              "      <td>Various</td>\n",
              "      <td>ashtabula ohio</td>\n",
              "      <td>PERSON</td>\n",
              "    </tr>\n",
              "    <tr>\n",
              "      <th>3380</th>\n",
              "      <td>Various</td>\n",
              "      <td>april 1930</td>\n",
              "      <td>DATE</td>\n",
              "    </tr>\n",
              "  </tbody>\n",
              "</table>\n",
              "</div>"
            ],
            "text/plain": [
              "       author                name     type\n",
              "3376  Various  astounding stories      ORG\n",
              "3377  Various               first  ORDINAL\n",
              "3378  Various              norton      ORG\n",
              "3379  Various      ashtabula ohio   PERSON\n",
              "3380  Various          april 1930     DATE"
            ]
          },
          "metadata": {
            "tags": []
          },
          "execution_count": 135
        }
      ]
    },
    {
      "cell_type": "code",
      "metadata": {
        "colab": {
          "base_uri": "https://localhost:8080/",
          "height": 606
        },
        "id": "O3YCQ1oA21Sw",
        "outputId": "fb6d98d8-5f3c-43d7-fb5c-e8849361114e"
      },
      "source": [
        "import seaborn as sns\r\n",
        "import matplotlib.pyplot as plt\r\n",
        " \r\n",
        "f, ax = plt.subplots(figsize=(10, 10))\r\n",
        "sns.countplot(y=\"type\", hue=\"author\", \r\n",
        "            palette=\"pastel\", edgecolor=\".6\",\r\n",
        "            data=entities[entities.type == 'PERSON'])\r\n",
        "plt.show()"
      ],
      "execution_count": 136,
      "outputs": [
        {
          "output_type": "display_data",
          "data": {
            "image/png": "[encoded data removed]",
            "text/plain": [
              "<Figure size 720x720 with 1 Axes>"
            ]
          },
          "metadata": {
            "tags": [],
            "needs_background": "light"
          }
        }
      ]
    },
    {
      "cell_type": "code",
      "metadata": {
        "colab": {
          "base_uri": "https://localhost:8080/",
          "height": 606
        },
        "id": "ZkLPewTl7052",
        "outputId": "228daef4-9bcb-41a8-b2eb-2dd3c0bfde39"
      },
      "source": [
        "mid_range = entities.type.value_counts()[(entities.type.value_counts() >= 700) & (entities.type.value_counts() <= 10000)].keys()\r\n",
        "f, ax = plt.subplots(figsize=(10, 10))\r\n",
        "sns.countplot(y=\"type\", hue=\"author\", \r\n",
        "            palette=\"pastel\", edgecolor=\".6\",\r\n",
        "            data=entities[entities.type.isin(mid_range)])\r\n",
        "plt.show()"
      ],
      "execution_count": 137,
      "outputs": [
        {
          "output_type": "display_data",
          "data": {
            "image/png": "[encoded data removed]",
            "text/plain": [
              "<Figure size 720x720 with 1 Axes>"
            ]
          },
          "metadata": {
            "tags": [],
            "needs_background": "light"
          }
        }
      ]
    },
    {
      "cell_type": "code",
      "metadata": {
        "colab": {
          "base_uri": "https://localhost:8080/",
          "height": 606
        },
        "id": "_l-E1tSz-2vv",
        "outputId": "4c9fc6ed-5ac4-46cd-e5fc-f576c6925011"
      },
      "source": [
        "low_range = entities.type.value_counts()[(entities.type.value_counts() < 700)].keys()\r\n",
        "f, ax = plt.subplots(figsize=(10, 10))\r\n",
        "sns.countplot(y=\"type\", hue=\"author\", \r\n",
        "            palette=\"pastel\", edgecolor=\".6\",\r\n",
        "            data=entities[entities.type.isin(low_range)])\r\n",
        "plt.show()"
      ],
      "execution_count": 138,
      "outputs": [
        {
          "output_type": "display_data",
          "data": {
            "image/png": "[encoded data removed]",
            "text/plain": [
              "<Figure size 720x720 with 1 Axes>"
            ]
          },
          "metadata": {
            "tags": [],
            "needs_background": "light"
          }
        }
      ]
    },
    {
      "cell_type": "markdown",
      "metadata": {
        "id": "hlhbvKfH_MNF"
      },
      "source": [
        "### Investigation\r\n",
        "\r\n",
        "This is a brief investigation to determine if entity locations can be identified using the name entities recognition start and end indicators that are provided in the document. "
      ]
    },
    {
      "cell_type": "code",
      "metadata": {
        "colab": {
          "base_uri": "https://localhost:8080/"
        },
        "id": "6f0F-Hon-j_e",
        "outputId": "ff68fec3-d0a1-492a-e443-20718e1e59d6"
      },
      "source": [
        "#With this code, can I locate the authors? People and organization. \r\n",
        "for doc in spacy_docs:\r\n",
        "  test = [[doc[0], entity.text, entity.label_, entity.start, entity.end] for entity in doc[1].ents if entity.label_ if entity.label_ in ['PERSON', 'ORG']]\r\n",
        "test"
      ],
      "execution_count": 117,
      "outputs": [
        {
          "output_type": "execute_result",
          "data": {
            "text/plain": [
              "[['Various', 'Greg Weeks', 'PERSON', 1, 3],\n",
              " ['Various', 'Meredith Bach', 'PERSON', 3, 5],\n",
              " ['Various', 'CLAYTON Publisher HARRY BATES', 'ORG', 30, 34],\n",
              " ['Various', 'DOUGLAS DOLD', 'PERSON', 35, 37],\n",
              " ['Various', 'The Clayton Standard Magazine Guarantees', 'ORG', 40, 45],\n",
              " ['Various', 'the Authors League America', 'ORG', 63, 67],\n",
              " ['Various', 'Union', 'ORG', 73, 74],\n",
              " ['Various', 'Clayton', 'ORG', 97, 98],\n",
              " ['Various', 'ACE HIGH MAGAZINE', 'ORG', 101, 104],\n",
              " ['Various', 'Clayton Magazines', 'ORG', 148, 150],\n",
              " ['Various', 'VOL', 'ORG', 151, 152],\n",
              " ['Various', 'CONTENTS', 'ORG', 153, 154],\n",
              " ['Various', 'Scene Monsters Moyen  \\n', 'ORG', 165, 169],\n",
              " ['Various', 'THOMAS KNIGHT', 'PERSON', 174, 176],\n",
              " ['Various', 'Jerry Eyes', 'PERSON', 177, 179],\n",
              " ['Various', 'Leslie Larner', 'PERSON', 229, 231],\n",
              " ['Various',\n",
              "  'Vampires That Are Ravaging the Inhabitants Venus',\n",
              "  'ORG',\n",
              "  242,\n",
              "  249],\n",
              " ['Various', 'Planetara Towards', 'PERSON', 263, 265],\n",
              " ['Various', 'Rays Allen Baker', 'PERSON', 295, 298],\n",
              " ['Various', 'Publishers Fiscal Corporation', 'ORG', 351, 354],\n",
              " ['Various', 'Nathan Goldmann', 'PERSON', 359, 361],\n",
              " ['Various', 'Post Office', 'ORG', 370, 372],\n",
              " ['Various', 'Title', 'ORG', 378, 379],\n",
              " ['Various', 'Newsstand Group', 'ORG', 386, 388],\n",
              " ['Various', 'Crowe Inc', 'ORG', 394, 396],\n",
              " ['Various', 'Thomas Knight', 'PERSON', 412, 414],\n",
              " ['Various', 'Jerry eyes', 'PERSON', 419, 421],\n",
              " ['Various', 'Jerry lad', 'PERSON', 474, 476],\n",
              " ['Various', 'Goodness', 'PERSON', 503, 504],\n",
              " ['Various', 'Jerry', 'PERSON', 505, 506],\n",
              " ['Various', 'Jerry', 'PERSON', 535, 536],\n",
              " ['Various', 'Button', 'PERSON', 675, 676],\n",
              " ['Various', 'Don', 'PERSON', 730, 731],\n",
              " ['Various', 'Jerry', 'PERSON', 733, 734],\n",
              " ['Various', 'Jerry', 'PERSON', 770, 771],\n",
              " ['Various', 'Mother', 'PERSON', 773, 774],\n",
              " ['Various', 'Hammersly', 'PERSON', 912, 913],\n",
              " ['Various', 'Pruett', 'PERSON', 963, 964],\n",
              " ['Various', 'Jed Counsell', 'PERSON', 1275, 1277],\n",
              " ['Various', 'Jerry', 'PERSON', 1297, 1298],\n",
              " ['Various', 'Readin', 'PERSON', 1304, 1305],\n",
              " ['Various', 'Jed', 'PERSON', 1329, 1330],\n",
              " ['Various', 'Jed', 'PERSON', 1359, 1360],\n",
              " ['Various', 'Jed', 'PERSON', 1385, 1386],\n",
              " ['Various', 'Seth Spears', 'PERSON', 1516, 1518],\n",
              " ['Various', 'Pruett', 'ORG', 1532, 1533],\n",
              " ['Various', 'Seth', 'PERSON', 1563, 1564],\n",
              " ['Various', 'Jed', 'PERSON', 1761, 1762],\n",
              " ['Various', 'Jed', 'PERSON', 1804, 1805],\n",
              " ['Various', 'don', 'PERSON', 1918, 1919],\n",
              " ['Various', 'Believe', 'PERSON', 1928, 1929],\n",
              " ['Various', 'Don', 'PERSON', 1977, 1978],\n",
              " ['Various', 'Slowly', 'ORG', 2035, 2036],\n",
              " ['Various', 'Hammersly', 'PERSON', 2293, 2294],\n",
              " ['Various', 'Gloating Boasting', 'PERSON', 2584, 2586],\n",
              " ['Various', 'Didn', 'PERSON', 2647, 2648],\n",
              " ['Various', 'rub', 'PERSON', 2733, 2734],\n",
              " ['Various', 'Seth', 'PERSON', 2887, 2888],\n",
              " ['Various', 'Blaggett', 'PERSON', 2949, 2950],\n",
              " ['Various', 'Zamm', 'PERSON', 3263, 3264],\n",
              " ['Various', 'Smack', 'ORG', 3283, 3284],\n",
              " ['Various', 'kinda worried', 'PERSON', 4325, 4327],\n",
              " ['Various', 'Don', 'PERSON', 4477, 4478],\n",
              " ['Various', 'Shelton', 'ORG', 4493, 4494],\n",
              " ['Various', 'Jerry', 'PERSON', 4622, 4623],\n",
              " ['Various', 'Jerry', 'PERSON', 4629, 4630],\n",
              " ['Various', 'Jerry', 'PERSON', 4645, 4646],\n",
              " ['Various', 'Hammersly', 'PERSON', 4660, 4661],\n",
              " ['Various', 'Shelton', 'ORG', 4727, 4728],\n",
              " ['Various', 'Shelton', 'ORG', 4798, 4799],\n",
              " ['Various', 'Shelton Scientists', 'ORG', 4815, 4817],\n",
              " ['Various', 'Waters', 'ORG', 4833, 4834],\n",
              " ['Various', 'Hammersly', 'PERSON', 4907, 4908],\n",
              " ['Various', 'Hammersly', 'PERSON', 4945, 4946],\n",
              " ['Various', 'Arthur Burks', 'PERSON', 4959, 4961],\n",
              " ['Various', 'Kleig', 'ORG', 4965, 4966],\n",
              " ['Various', 'Western World', 'ORG', 4974, 4976],\n",
              " ['Various', 'Moyen', 'PERSON', 4995, 4996],\n",
              " ['Various', 'Eastern', 'ORG', 5022, 5023],\n",
              " ['Various', 'Mongol', 'PERSON', 5066, 5067],\n",
              " ['Various', 'Gobi', 'ORG', 5077, 5078],\n",
              " ['Various', 'Hannibal', 'ORG', 5115, 5116],\n",
              " ['Various', 'Napoleon', 'ORG', 5119, 5120],\n",
              " ['Various', 'Sun Yat Sen', 'PERSON', 5122, 5125],\n",
              " ['Various', 'Moyen', 'PERSON', 5141, 5142],\n",
              " ['Various', 'Madagascar', 'PERSON', 5149, 5150],\n",
              " ['Various', 'Goloks', 'PERSON', 5176, 5177],\n",
              " ['Various', 'Goloks', 'PERSON', 5189, 5190],\n",
              " ['Various', 'Moyen', 'PERSON', 5243, 5244],\n",
              " ['Various', 'Moyen', 'PERSON', 5264, 5265],\n",
              " ['Various', 'the Secret Room Washington', 'ORG', 5295, 5299],\n",
              " ['Various', 'Moyen', 'PERSON', 5301, 5302],\n",
              " ['Various', 'Moyen', 'PERSON', 5314, 5315],\n",
              " ['Various', 'Moyen', 'PERSON', 5383, 5384],\n",
              " ['Various', 'CHAPTER', 'ORG', 5395, 5396],\n",
              " ['Various', 'Prester Kleig', 'PERSON', 5460, 5462],\n",
              " ['Various', 'Moyen', 'PERSON', 5512, 5513],\n",
              " ['Various', 'Alexander', 'PERSON', 5539, 5540],\n",
              " ['Various', 'Moyen Moyen \\n \\n', 'PERSON', 5595, 5598],\n",
              " ['Various', 'Prester Kleig', 'PERSON', 5600, 5602],\n",
              " ['Various', 'Satanic', 'ORG', 5663, 5664],\n",
              " ['Various', 'felt Moyen', 'PERSON', 5729, 5731],\n",
              " ['Various', 'Prester Kleig', 'PERSON', 5778, 5780],\n",
              " ['Various', 'Seamen', 'ORG', 5797, 5798],\n",
              " ['Various', 'Prester Kleig', 'PERSON', 5816, 5818],\n",
              " ['Various', 'Kleig Lower', 'ORG', 5872, 5874],\n",
              " ['Various', 'Prester Kleig', 'ORG', 5884, 5886],\n",
              " ['Various', 'Prester Kleig', 'ORG', 5942, 5944],\n",
              " ['Various', 'lurid', 'PERSON', 6136, 6137],\n",
              " ['Various', 'Prester Kleig', 'ORG', 6190, 6192],\n",
              " ['Various', 'Motion', 'ORG', 6456, 6457],\n",
              " ['Various', 'Prester Kleig', 'ORG', 6623, 6625],\n",
              " ['Various', 'Prester Kleig', 'ORG', 6656, 6658],\n",
              " ['Various', 'Prester Kleig', 'ORG', 6730, 6732],\n",
              " ['Various', 'Kleig', 'ORG', 6742, 6743],\n",
              " ['Various', 'Kleig', 'ORG', 6753, 6754],\n",
              " ['Various', 'Kane', 'PERSON', 6782, 6783],\n",
              " ['Various', 'Prester Kleig', 'PERSON', 6786, 6788],\n",
              " ['Various', 'Carlos Kane', 'PERSON', 6807, 6809],\n",
              " ['Various', 'the Domestic Service', 'ORG', 6809, 6812],\n",
              " ['Various', 'Kane', 'PERSON', 6816, 6817],\n",
              " ['Various', 'Shipwrecked', 'PERSON', 6823, 6824],\n",
              " ['Various', 'Kleig', 'ORG', 6838, 6839],\n",
              " ['Various', 'Kane', 'ORG', 6840, 6841],\n",
              " ['Various', 'Kleig', 'ORG', 6842, 6843],\n",
              " ['Various', 'Horror', 'PERSON', 6854, 6855],\n",
              " ['Various', 'Prester Kleig', 'ORG', 6859, 6861],\n",
              " ['Various', 'Carlos Kane', 'PERSON', 6865, 6867],\n",
              " ['Various', 'Carlos Kane', 'PERSON', 6896, 6898],\n",
              " ['Various', 'Prester Kleig', 'ORG', 6913, 6915],\n",
              " ['Various', 'Mayther', 'PERSON', 6923, 6924],\n",
              " ['Various', 'Moyen', 'PERSON', 6934, 6935],\n",
              " ['Various', 'Moyen', 'PERSON', 6951, 6952],\n",
              " ['Various', 'Kleig', 'ORG', 6972, 6973],\n",
              " ['Various', 'Moyen', 'PERSON', 7032, 7033],\n",
              " ['Various', 'Moyen', 'PERSON', 7056, 7057],\n",
              " ['Various', 'Carlos Kane', 'PERSON', 7072, 7074],\n",
              " ['Various', 'Kane', 'PERSON', 7075, 7076],\n",
              " ['Various', 'Kleig', 'ORG', 7084, 7085],\n",
              " ['Various', 'Mayther', 'PERSON', 7134, 7135],\n",
              " ['Various', 'Kleig', 'ORG', 7174, 7175],\n",
              " ['Various', 'Carlos Kane', 'PERSON', 7222, 7224],\n",
              " ['Various', 'Mayther', 'PERSON', 7232, 7233],\n",
              " ['Various', 'Carlos Kane', 'PERSON', 7274, 7276],\n",
              " ['Various', 'Kane', 'PERSON', 7294, 7295],\n",
              " ['Various', 'Prester Kleig', 'ORG', 7296, 7298],\n",
              " ['Various', 'Kleig', 'ORG', 7429, 7430],\n",
              " ['Various', 'Moyen', 'PERSON', 7441, 7442],\n",
              " ['Various', 'Kane', 'PERSON', 7455, 7456],\n",
              " ['Various', 'Kleig', 'ORG', 7457, 7458],\n",
              " ['Various', 'Kleig', 'ORG', 7505, 7506],\n",
              " ['Various', 'Kane', 'PERSON', 7507, 7508],\n",
              " ['Various', 'Moyen', 'PERSON', 7549, 7550],\n",
              " ['Various', 'don', 'PERSON', 7554, 7555],\n",
              " ['Various', 'Moyen', 'PERSON', 7563, 7564],\n",
              " ['Various', 'Kane', 'PERSON', 7606, 7607],\n",
              " ['Various', 'Moyen', 'PERSON', 7624, 7625],\n",
              " ['Various', 'Kane', 'PERSON', 7702, 7703],\n",
              " ['Various', 'Kane Charmion', 'PERSON', 7712, 7714],\n",
              " ['Various', 'Moyen', 'PERSON', 7733, 7734],\n",
              " ['Various', 'Kleig', 'ORG', 7741, 7742],\n",
              " ['Various', 'Moyen', 'PERSON', 7772, 7773],\n",
              " ['Various', 'Moyen', 'PERSON', 7804, 7805],\n",
              " ['Various', 'Moyen', 'PERSON', 7807, 7808],\n",
              " ['Various', 'Kane', 'PERSON', 7858, 7859],\n",
              " ['Various', 'Kleig', 'ORG', 7919, 7920],\n",
              " ['Various', 'Carl', 'PERSON', 7928, 7929],\n",
              " ['Various', 'Prester Kleig', 'ORG', 7955, 7957],\n",
              " ['Various', 'Moyen \\n \\n', 'PERSON', 7966, 7968],\n",
              " ['Various', 'bell rang', 'PERSON', 7969, 7971],\n",
              " ['Various', 'Kane', 'PERSON', 7977, 7978],\n",
              " ['Various', 'Station the National Radio', 'ORG', 7991, 7995],\n",
              " ['Various', 'Mayther', 'ORG', 8007, 8008],\n",
              " ['Various', 'Prester Kleig', 'ORG', 8039, 8041],\n",
              " ['Various', 'the Secret Chamber', 'ORG', 8070, 8073],\n",
              " ['Various', 'Carlos Kane', 'PERSON', 8083, 8085],\n",
              " ['Various', 'Prester Kleig', 'PERSON', 8087, 8089],\n",
              " ['Various', 'Kleig', 'ORG', 8102, 8103],\n",
              " ['Various', 'Kleig', 'ORG', 8119, 8120],\n",
              " ['Various', 'Secret Service', 'ORG', 8240, 8242],\n",
              " ['Various', 'Carlos Kane', 'PERSON', 8258, 8260],\n",
              " ['Various', 'the Secret Room', 'PERSON', 8267, 8270],\n",
              " ['Various', 'Moyen Moyen', 'PERSON', 8297, 8299],\n",
              " ['Various', 'Prester Kleig', 'ORG', 8310, 8312],\n",
              " ['Various', 'Kleig', 'ORG', 8438, 8439],\n",
              " ['Various', 'Moyen', 'PERSON', 8536, 8537],\n",
              " ['Various', 'Kleig', 'ORG', 8558, 8559],\n",
              " ['Various', 'Moyen', 'PERSON', 8767, 8768],\n",
              " ['Various', 'Capitol \\n \\n', 'ORG', 8798, 8800],\n",
              " ['Various', 'Kleig', 'ORG', 8812, 8813],\n",
              " ['Various', 'Prester Kleig', 'ORG', 8877, 8879],\n",
              " ['Various', 'Moyen', 'PERSON', 8931, 8932],\n",
              " ['Various', 'Madagascar', 'PERSON', 9048, 9049],\n",
              " ['Various', 'Prester Kleig', 'PERSON', 9067, 9069],\n",
              " ['Various', 'Moyen Moyen', 'PERSON', 9070, 9072],\n",
              " ['Various', 'CHAPTER', 'ORG', 9073, 9074],\n",
              " ['Various', 'Prester Kleig', 'PERSON', 9081, 9083],\n",
              " ['Various', 'Maniel', 'PERSON', 9116, 9117],\n",
              " ['Various', 'Maniel', 'PERSON', 9160, 9161],\n",
              " ['Various', 'Maniel', 'PERSON', 9277, 9278],\n",
              " ['Various', 'Maniel', 'PERSON', 9298, 9299],\n",
              " ['Various', 'Kleig', 'ORG', 9329, 9330],\n",
              " ['Various', 'bolder outline', 'PERSON', 9360, 9362],\n",
              " ['Various', 'Maniel', 'PERSON', 9384, 9385],\n",
              " ['Various', 'Prester Kleig', 'PERSON', 9442, 9444],\n",
              " ['Various', 'Kleig', 'ORG', 9456, 9457],\n",
              " ['Various', 'Prester Kleig', 'ORG', 9530, 9532],\n",
              " ['Various', 'Prester Kleig', 'ORG', 9563, 9565],\n",
              " ['Various', 'Maniel', 'PERSON', 9581, 9582],\n",
              " ['Various', 'Kleig', 'ORG', 9583, 9584],\n",
              " ['Various', 'Maniel', 'PERSON', 9602, 9603],\n",
              " ['Various', 'Kleig Don', 'PERSON', 9621, 9623],\n",
              " ['Various', 'Kleig', 'ORG', 9667, 9668],\n",
              " ['Various', 'Kleig', 'ORG', 9743, 9744],\n",
              " ['Various', 'Prester Kleig', 'ORG', 9796, 9798],\n",
              " ['Various', 'Kleig', 'ORG', 9856, 9857],\n",
              " ['Various', 'Kleig', 'ORG', 9947, 9948],\n",
              " ['Various', 'aero', 'PERSON', 9960, 9961],\n",
              " ['Various', 'Maniel', 'PERSON', 9987, 9988],\n",
              " ['Various', 'Maniel', 'PERSON', 10009, 10010],\n",
              " ['Various', 'Kleig', 'ORG', 10056, 10057],\n",
              " ['Various', 'Maniel', 'ORG', 10203, 10204],\n",
              " ['Various', 'Prester Kleig', 'ORG', 10249, 10251],\n",
              " ['Various', 'Maniel', 'ORG', 10285, 10286],\n",
              " ['Various', 'Kleig', 'ORG', 10287, 10288],\n",
              " ['Various', 'Kleig', 'ORG', 10431, 10432],\n",
              " ['Various', 'Kleig', 'ORG', 10446, 10447],\n",
              " ['Various', 'Moyen Moyen', 'PERSON', 10455, 10457],\n",
              " ['Various', 'Prester Kleig Master the Secret Room', 'PERSON', 10459, 10465],\n",
              " ['Various', 'Madagascar', 'PERSON', 10479, 10480],\n",
              " ['Various', 'Prester Kleig', 'ORG', 10504, 10506],\n",
              " ['Various', 'Moyen', 'PERSON', 10534, 10535],\n",
              " ['Various', 'CHAPTER', 'ORG', 10536, 10537],\n",
              " ['Various', 'Prester Kleig', 'ORG', 10541, 10543],\n",
              " ['Various', 'Moyen', 'PERSON', 10575, 10576],\n",
              " ['Various', 'Moyen', 'PERSON', 10603, 10604],\n",
              " ['Various', 'Moyen', 'PERSON', 10613, 10614],\n",
              " ['Various', 'the United Americas', 'ORG', 10619, 10622],\n",
              " ['Various', 'Moyen', 'PERSON', 10626, 10627],\n",
              " ['Various', 'Maniel The', 'PERSON', 10643, 10645],\n",
              " ['Various', 'the United Americas', 'ORG', 10646, 10649],\n",
              " ['Various', 'Kleig', 'ORG', 10677, 10678],\n",
              " ['Various', 'Maniel', 'PERSON', 10691, 10692],\n",
              " ['Various', 'Moyen Professor', 'PERSON', 10711, 10713],\n",
              " ['Various', 'Moyen', 'PERSON', 10727, 10728],\n",
              " ['Various', 'Maniel', 'PERSON', 10733, 10734],\n",
              " ['Various', 'Moyen', 'PERSON', 10753, 10754],\n",
              " ['Various', 'Kleig', 'ORG', 10755, 10756],\n",
              " ['Various', 'Moyen', 'PERSON', 10792, 10793],\n",
              " ['Various', 'Maniel', 'PERSON', 10861, 10862],\n",
              " ['Various', 'Maniel', 'PERSON', 10914, 10915],\n",
              " ['Various', 'Maniel', 'PERSON', 10967, 10968],\n",
              " ['Various', 'Maniel', 'PERSON', 11013, 11014],\n",
              " ['Various', 'Maniel', 'PERSON', 11032, 11033],\n",
              " ['Various', 'Cabinet Congress', 'ORG', 11091, 11093],\n",
              " ['Various', 'Senate', 'ORG', 11094, 11095],\n",
              " ['Various', 'Prester Kleig', 'ORG', 11109, 11111],\n",
              " ['Various', 'Moyen', 'PERSON', 11205, 11206],\n",
              " ['Various', 'the Secret Agents Not', 'ORG', 11224, 11228],\n",
              " ['Various', 'Prester Kleig', 'PERSON', 11359, 11361],\n",
              " ['Various', 'Blaine', 'PERSON', 11362, 11363],\n",
              " ['Various', 'Blaine \\n \\n', 'PERSON', 11386, 11388],\n",
              " ['Various', 'triangle', 'ORG', 11637, 11638],\n",
              " ['Various', 'Prester Kleig', 'PERSON', 11701, 11703],\n",
              " ['Various', 'Prester Kleig', 'PERSON', 11752, 11754],\n",
              " ['Various', 'Maniel', 'PERSON', 11759, 11760],\n",
              " ['Various', 'Moyen', 'PERSON', 11927, 11928],\n",
              " ['Various', 'Moyen', 'PERSON', 12069, 12070],\n",
              " ['Various', 'Moyen', 'PERSON', 12082, 12083],\n",
              " ['Various', 'Prester Kleig', 'PERSON', 12098, 12100],\n",
              " ['Various', 'Kleig', 'ORG', 12160, 12161],\n",
              " ['Various', 'CHAPTER', 'ORG', 12176, 12177],\n",
              " ['Various', 'Prester Kleig', 'ORG', 12184, 12186],\n",
              " ['Various', 'Moyen', 'ORG', 12198, 12199],\n",
              " ['Various', 'Prester Kleig', 'ORG', 12433, 12435],\n",
              " ['Various', 'Munson', 'PERSON', 12451, 12452],\n",
              " ['Various', 'Munson', 'PERSON', 12507, 12508],\n",
              " ['Various', 'Munson', 'PERSON', 12569, 12570],\n",
              " ['Various', 'Prester Kleig', 'ORG', 12683, 12685],\n",
              " ['Various', 'Maniel', 'PERSON', 12828, 12829],\n",
              " ['Various', 'Prester Kleig', 'PERSON', 13140, 13142],\n",
              " ['Various', 'the Secret Agents', 'ORG', 13205, 13208],\n",
              " ['Various', 'Moyen', 'PERSON', 13326, 13327],\n",
              " ['Various', 'Prester Kleig', 'PERSON', 13328, 13330],\n",
              " ['Various', 'Victim', 'ORG', 13597, 13598],\n",
              " ['Various', 'Munson', 'PERSON', 13635, 13636],\n",
              " ['Various', 'Maniel', 'PERSON', 13666, 13667],\n",
              " ['Various', 'Moyen', 'PERSON', 13680, 13681],\n",
              " ['Various', 'Prester Kleig', 'PERSON', 13688, 13690],\n",
              " ['Various', 'God', 'PERSON', 13731, 13732],\n",
              " ['Various', 'Prester Kleig', 'PERSON', 13738, 13740],\n",
              " ['Various', 'Carlos', 'PERSON', 13775, 13776],\n",
              " ['Various', 'Carlos Kane', 'PERSON', 13823, 13825],\n",
              " ['Various', 'Moyen', 'PERSON', 13840, 13841],\n",
              " ['Various', 'Prester Kleig', 'ORG', 13848, 13850],\n",
              " ['Various', 'Kane \\n \\n', 'PERSON', 13886, 13888],\n",
              " ['Various', 'Kleig', 'ORG', 13899, 13900],\n",
              " ['Various', 'Moyen', 'PERSON', 13908, 13909],\n",
              " ['Various', 'Blood', 'ORG', 13912, 13913],\n",
              " ['Various', 'Cold', 'ORG', 13917, 13918],\n",
              " ['Various', 'Munson', 'PERSON', 14030, 14031],\n",
              " ['Various', 'Maniel', 'PERSON', 14047, 14048],\n",
              " ['Various', 'Maniel', 'PERSON', 14103, 14104],\n",
              " ['Various', 'Maniel \\n \\n', 'PERSON', 14139, 14141],\n",
              " ['Various', 'Prester Kleig', 'ORG', 14146, 14148],\n",
              " ['Various', 'Munson', 'PERSON', 14156, 14157],\n",
              " ['Various', 'Maniel', 'PERSON', 14169, 14170],\n",
              " ['Various', 'Prester Kleig', 'ORG', 14179, 14181],\n",
              " ['Various', 'Munson', 'PERSON', 14182, 14183],\n",
              " ['Various', 'Maniel', 'PERSON', 14185, 14186],\n",
              " ['Various', 'Maniel', 'PERSON', 14189, 14190],\n",
              " ['Various', 'Maniel', 'PERSON', 14210, 14211],\n",
              " ['Various', 'Prester Kleig', 'ORG', 14213, 14215],\n",
              " ['Various', 'Prester Kleig', 'ORG', 14218, 14220],\n",
              " ['Various', 'Kleig', 'ORG', 14239, 14240],\n",
              " ['Various', 'Kleig', 'ORG', 14289, 14290],\n",
              " ['Various', 'Carlos Kane Moyen', 'PERSON', 14296, 14299],\n",
              " ['Various', 'Prester Kleig', 'PERSON', 14455, 14457],\n",
              " ['Various', 'Prester Kleig \\n \\n', 'PERSON', 14523, 14526],\n",
              " ['Various', 'Munson Watch', 'PERSON', 14597, 14599],\n",
              " ['Various', 'Munson', 'PERSON', 14709, 14710],\n",
              " ['Various', 'Munson', 'PERSON', 14774, 14775],\n",
              " ['Various', 'Kleig', 'ORG', 14845, 14846],\n",
              " ['Various', 'Kleig', 'ORG', 14867, 14868],\n",
              " ['Various', 'Kleig', 'ORG', 14876, 14877],\n",
              " ['Various', 'Maniel', 'PERSON', 14885, 14886],\n",
              " ['Various', 'Moyen', 'PERSON', 14917, 14918],\n",
              " ['Various', 'Maniel', 'PERSON', 14935, 14936],\n",
              " ['Various', 'Kleig', 'ORG', 14969, 14970],\n",
              " ['Various', 'Maniel', 'PERSON', 14978, 14979],\n",
              " ['Various', 'Kleig', 'ORG', 14987, 14988],\n",
              " ['Various', 'Prester Kleig', 'ORG', 14998, 15000],\n",
              " ['Various', 'Maniel', 'PERSON', 15001, 15002],\n",
              " ['Various', 'Kleig', 'ORG', 15015, 15016],\n",
              " ['Various', 'Moyen', 'PERSON', 15038, 15039],\n",
              " ['Various', 'Moyen', 'PERSON', 15049, 15050],\n",
              " ['Various', 'Western World Kleig', 'ORG', 15065, 15068],\n",
              " ['Various', 'Munson', 'PERSON', 15105, 15106],\n",
              " ['Various', 'Moyen', 'PERSON', 15158, 15159],\n",
              " ['Various', 'Martyrdom', 'PERSON', 15167, 15168],\n",
              " ['Various', 'Moyen', 'PERSON', 15183, 15184],\n",
              " ['Various', 'Munson the', 'PERSON', 15194, 15196],\n",
              " ['Various', 'Maniel', 'PERSON', 15296, 15297],\n",
              " ['Various', 'Prester Kleig', 'PERSON', 15324, 15326],\n",
              " ['Various', 'Moyen', 'PERSON', 15331, 15332],\n",
              " ['Various', 'Munson', 'PERSON', 15347, 15348],\n",
              " ['Various', 'Carlos', 'PERSON', 15358, 15359],\n",
              " ['Various', 'Prester Kleig', 'ORG', 15361, 15363],\n",
              " ['Various', 'Carlos', 'PERSON', 15375, 15376],\n",
              " ['Various', 'Charmion', 'PERSON', 15381, 15382],\n",
              " ['Various', 'Kane', 'PERSON', 15396, 15397],\n",
              " ['Various', 'Kleig', 'ORG', 15398, 15399],\n",
              " ['Various', 'Prester Kleig', 'ORG', 15472, 15474],\n",
              " ['Various', 'Prester Kleig', 'PERSON', 15587, 15589],\n",
              " ['Various', 'Prester Kleig', 'PERSON', 15634, 15636],\n",
              " ['Various', 'Maniel', 'PERSON', 15703, 15704],\n",
              " ['Various', 'Prester Kleig', 'ORG', 15797, 15799],\n",
              " ['Various', 'Prester Kleig', 'ORG', 15870, 15872],\n",
              " ['Various', 'Carlos Kane', 'PERSON', 15883, 15885],\n",
              " ['Various', 'Kleig', 'ORG', 15900, 15901],\n",
              " ['Various', 'Prester Kleig', 'ORG', 15922, 15924],\n",
              " ['Various', 'Prester Kleig', 'ORG', 15946, 15948],\n",
              " ['Various', 'Washington Flowers', 'ORG', 16064, 16066],\n",
              " ['Various', 'Prester Kleig', 'ORG', 16108, 16110],\n",
              " ['Various', 'Moyen', 'PERSON', 16120, 16121],\n",
              " ['Various', 'Moyen', 'ORG', 16171, 16172],\n",
              " ['Various', 'Moyen', 'PERSON', 16240, 16241],\n",
              " ['Various', 'Moyen', 'PERSON', 16281, 16282],\n",
              " ['Various', 'Munson', 'PERSON', 16361, 16362],\n",
              " ['Various', 'Prester Kleig', 'PERSON', 16377, 16379],\n",
              " ['Various', 'Moyen', 'PERSON', 16436, 16437],\n",
              " ['Various', 'Moyen', 'PERSON', 16589, 16590],\n",
              " ['Various', 'Maniel', 'PERSON', 16673, 16674],\n",
              " ['Various', 'Maniel Charmion Kane', 'PERSON', 16686, 16689],\n",
              " ['Various', 'Carlos', 'PERSON', 16736, 16737],\n",
              " ['Various', 'Prester Kleig', 'ORG', 16755, 16757],\n",
              " ['Various', 'Moyen', 'PERSON', 16781, 16782],\n",
              " ['Various', 'Maniel', 'PERSON', 16853, 16854],\n",
              " ['Various', 'Munson', 'PERSON', 16877, 16878],\n",
              " ['Various', 'Munson', 'PERSON', 17060, 17061],\n",
              " ['Various', 'Moyen', 'PERSON', 17330, 17331],\n",
              " ['Various', 'the aero subs', 'ORG', 17365, 17368],\n",
              " ['Various', 'Prester Kleig', 'PERSON', 17574, 17576],\n",
              " ['Various', 'Moyen', 'PERSON', 17585, 17586],\n",
              " ['Various', 'Munson', 'PERSON', 17590, 17591],\n",
              " ['Various', 'Moyen \\n \\n', 'PERSON', 17602, 17604],\n",
              " ['Various', 'aero', 'PERSON', 17630, 17631],\n",
              " ['Various', 'Moyen \\n', 'ORG', 17652, 17654],\n",
              " ['Various', 'Maniel Drops', 'ORG', 17743, 17745],\n",
              " ['Various', 'Prester Kleig', 'ORG', 17768, 17770],\n",
              " ['Various', 'Maniel', 'ORG', 17772, 17773],\n",
              " ['Various', 'Moyen', 'PERSON', 17794, 17795],\n",
              " ['Various', 'Maniel', 'PERSON', 17796, 17797],\n",
              " ['Various', 'Moyen', 'PERSON', 17823, 17824],\n",
              " ['Various', 'Munson', 'PERSON', 17853, 17854],\n",
              " ['Various', 'Kleig', 'ORG', 17903, 17904],\n",
              " ['Various', 'Maniel', 'PERSON', 17931, 17932],\n",
              " ['Various', 'Maniel', 'PERSON', 17941, 17942],\n",
              " ['Various', 'Moyen Twenty', 'PERSON', 17955, 17957],\n",
              " ['Various', 'Hurry Maniel Hurry Hurry', 'PERSON', 17992, 17996],\n",
              " ['Various', 'Prester Kleig', 'PERSON', 17997, 17999],\n",
              " ['Various', 'Maniel', 'PERSON', 18011, 18012],\n",
              " ['Various', 'Maniel', 'PERSON', 18017, 18018],\n",
              " ['Various', 'Moyen', 'PERSON', 18036, 18037],\n",
              " ['Various', 'Munson \\n \\n', 'PERSON', 18041, 18043],\n",
              " ['Various', 'Satanic', 'ORG', 18072, 18073],\n",
              " ['Various', 'Prester Kleig', 'ORG', 18112, 18114],\n",
              " ['Various', 'the aero subs action', 'ORG', 18171, 18175],\n",
              " ['Various', 'Prester Kleig', 'PERSON', 18209, 18211],\n",
              " ['Various', 'Maniel', 'PERSON', 18236, 18237],\n",
              " ['Various', 'CHAPTER', 'ORG', 18242, 18243],\n",
              " ['Various', 'Caucasia Falls Silent', 'PERSON', 18244, 18247],\n",
              " ['Various', 'Maniel', 'PERSON', 18364, 18365],\n",
              " ['Various', 'Maniel', 'ORG', 18403, 18404],\n",
              " ['Various', 'Moyen', 'PERSON', 18438, 18439],\n",
              " ['Various', 'Maniel', 'PERSON', 18495, 18496],\n",
              " ['Various', 'Munson', 'PERSON', 18600, 18601],\n",
              " ['Various', 'Maniel', 'PERSON', 18610, 18611],\n",
              " ['Various', 'Maniel', 'PERSON', 18615, 18616],\n",
              " ['Various', 'Vibration Retarder', 'PERSON', 18628, 18630],\n",
              " ['Various', 'Moyen', 'PERSON', 18718, 18719],\n",
              " ['Various', 'Moyen', 'PERSON', 18812, 18813],\n",
              " ['Various', 'Moyen \\n \\n', 'PERSON', 18818, 18820],\n",
              " ['Various', 'Moyen', 'PERSON', 18872, 18873],\n",
              " ['Various', 'the Secret Agents', 'ORG', 18903, 18906],\n",
              " ['Various', 'Maniel', 'PERSON', 18908, 18909],\n",
              " ['Various', 'Moyen', 'PERSON', 18928, 18929],\n",
              " ['Various', 'Maniel', 'PERSON', 18933, 18934],\n",
              " ['Various', 'Prester Kleig', 'ORG', 18966, 18968],\n",
              " ['Various', 'Slay Slay', 'PERSON', 19051, 19053],\n",
              " ['Various', 'Spare', 'PERSON', 19099, 19100],\n",
              " ['Various', 'Moyen', 'PERSON', 19105, 19106],\n",
              " ['Various', 'Munson', 'PERSON', 19128, 19129],\n",
              " ['Various', 'Moyen', 'PERSON', 19188, 19189],\n",
              " ['Various', 'the Secret Agents', 'ORG', 19190, 19193],\n",
              " ['Various', 'Mayther', 'PERSON', 19207, 19208],\n",
              " ['Various', 'Carlos Kane', 'PERSON', 19211, 19213],\n",
              " ['Various', 'Kane', 'PERSON', 19215, 19216],\n",
              " ['Various', 'Prester Kleig', 'PERSON', 19239, 19241],\n",
              " ['Various', 'Moyen', 'PERSON', 19248, 19249],\n",
              " ['Various', 'Kleig', 'ORG', 19260, 19261],\n",
              " ['Various', 'Maniel', 'PERSON', 19321, 19322],\n",
              " ['Various', 'Kleig', 'ORG', 19364, 19365],\n",
              " ['Various', 'Leslie Larner', 'PERSON', 19399, 19401],\n",
              " ['Various', 'Quaker', 'ORG', 19426, 19427],\n",
              " ['Various', 'Leslie Larner', 'PERSON', 19441, 19443],\n",
              " ['Various', 'Fame', 'ORG', 19446, 19447],\n",
              " ['Various', 'Leslie Larner', 'PERSON', 19574, 19576],\n",
              " ['Various', 'Colorado Rockies', 'ORG', 19607, 19609],\n",
              " ['Various', 'Larner', 'PERSON', 19614, 19615],\n",
              " ['Various', 'messenger', 'PERSON', 19774, 19775],\n",
              " ['Various', 'envelope', 'PERSON', 19785, 19786],\n",
              " ['Various', 'Larner', 'ORG', 19791, 19792],\n",
              " ['Various', 'Tula Bela', 'PERSON', 19836, 19838],\n",
              " ['Various', 'Larner', 'ORG', 19861, 19862],\n",
              " ['Various', 'Judas Priest', 'PERSON', 19880, 19882],\n",
              " ['Various', 'Judas Priest', 'PERSON', 19886, 19888],\n",
              " ['Various', 'Larner', 'ORG', 20036, 20037],\n",
              " ['Various', 'Larner', 'ORG', 20054, 20055],\n",
              " ['Various', 'Wonder', 'ORG', 20062, 20063],\n",
              " ['Various', 'Marconi', 'PERSON', 20103, 20104],\n",
              " ['Various', 'Larner', 'ORG', 20167, 20168],\n",
              " ['Various', 'Larner', 'ORG', 20259, 20260],\n",
              " ['Various', 'fed', 'ORG', 20345, 20346],\n",
              " ['Various', 'green grass', 'PERSON', 20402, 20404],\n",
              " ['Various', 'moss Giant', 'ORG', 20405, 20407],\n",
              " ['Various', 'Blackbirds', 'PERSON', 20446, 20447],\n",
              " ['Various', 'Larner', 'PERSON', 20521, 20522],\n",
              " ['Various', 'Trout', 'PERSON', 20570, 20571],\n",
              " ['Various', 'Larner', 'PERSON', 20591, 20592],\n",
              " ['Various', 'Larner', 'ORG', 20697, 20698],\n",
              " ['Various', 'chamois', 'ORG', 20717, 20718],\n",
              " ['Various', 'Artistic', 'ORG', 20729, 20730],\n",
              " ['Various', 'Otherwise', 'PERSON', 20777, 20778],\n",
              " ['Various', 'Larner', 'PERSON', 20786, 20787],\n",
              " ['Various', 'Larner', 'ORG', 20869, 20870],\n",
              " ['Various', 'Nern Bela the City Hesper', 'ORG', 20892, 20897],\n",
              " ['Various', 'Tula', 'PERSON', 20902, 20903],\n",
              " ['Various', 'the Republic Pana', 'ORG', 20907, 20910],\n",
              " ['Various', 'Larner', 'PERSON', 20920, 20921],\n",
              " ['Various', 'don', 'PERSON', 20928, 20929],\n",
              " ['Various', 'Larner', 'ORG', 21024, 21025],\n",
              " ['Various', 'Larner', 'ORG', 21180, 21181],\n",
              " ['Various', 'Nern Bela', 'PERSON', 21192, 21194],\n",
              " ['Various', 'Larner', 'ORG', 21228, 21229],\n",
              " ['Various', 'Bela', 'PERSON', 21250, 21251],\n",
              " ['Various', 'Lamer', 'ORG', 21273, 21274],\n",
              " ['Various', 'Larner', 'ORG', 21350, 21351],\n",
              " ['Various', 'Nern Bela', 'PERSON', 21353, 21355],\n",
              " ['Various', 'Larner', 'ORG', 21398, 21399],\n",
              " ['Various', 'Bela', 'PERSON', 21403, 21404],\n",
              " ['Various', 'Larner', 'PERSON', 21452, 21453],\n",
              " ['Various', 'Bela', 'PERSON', 21465, 21466],\n",
              " ['Various', 'Larner', 'ORG', 21504, 21505],\n",
              " ['Various', 'Nern Bela', 'PERSON', 21519, 21521],\n",
              " ['Various', 'ray NTR69X6', 'PERSON', 21536, 21538],\n",
              " ['Various', 'Larner', 'PERSON', 21604, 21605],\n",
              " ['Various', 'Bela', 'PERSON', 21683, 21684],\n",
              " ['Various', 'Tula Bela', 'PERSON', 21711, 21713],\n",
              " ['Various', 'Larner', 'ORG', 21722, 21723],\n",
              " ['Various', 'Larner', 'ORG', 21758, 21759],\n",
              " ['Various', 'Tula', 'PERSON', 21779, 21780],\n",
              " ['Various', 'Larner', 'ORG', 21806, 21807],\n",
              " ['Various', 'Larner', 'ORG', 21835, 21836],\n",
              " ['Various', 'Then Tula', 'PERSON', 21859, 21861],\n",
              " ['Various', 'Nern Bela', 'PERSON', 21893, 21895],\n",
              " ['Various', 'Venus', 'PERSON', 21922, 21923],\n",
              " ['Various', 'Nern', 'PERSON', 21924, 21925],\n",
              " ['Various', 'Larner', 'PERSON', 21964, 21965],\n",
              " ['Various', 'Larner', 'ORG', 21986, 21987],\n",
              " ['Various', 'Nern', 'PERSON', 22081, 22082],\n",
              " ['Various', 'Larner', 'ORG', 22133, 22134],\n",
              " ['Various', 'Nern', 'PERSON', 22140, 22141],\n",
              " ['Various', 'Talc', 'ORG', 22238, 22239],\n",
              " ['Various', 'Talc', 'ORG', 22247, 22248],\n",
              " ['Various', 'talc', 'ORG', 22440, 22441],\n",
              " ['Various', 'Larner', 'ORG', 22505, 22506],\n",
              " ['Various', 'Nern', 'PERSON', 22526, 22527],\n",
              " ['Various', 'Nern', 'ORG', 22621, 22622],\n",
              " ['Various', 'the Government Bureau', 'ORG', 22690, 22693],\n",
              " ['Various', 'Larner', 'ORG', 22696, 22697],\n",
              " ['Various', 'Larner', 'ORG', 22796, 22797],\n",
              " ['Various', 'Larner', 'ORG', 22820, 22821],\n",
              " ['Various', 'Larner', 'ORG', 22886, 22887],\n",
              " ['Various', 'Larner', 'ORG', 22903, 22904],\n",
              " ['Various', 'Nern \\n \\n', 'PERSON', 22920, 22922],\n",
              " ['Various', 'Larner', 'ORG', 22929, 22930],\n",
              " ['Various', 'Larner', 'ORG', 22946, 22947],\n",
              " ['Various', 'Nern Bela', 'PERSON', 22950, 22952],\n",
              " ['Various', 'Larner', 'ORG', 22975, 22976],\n",
              " ['Various', 'Nern', 'PERSON', 23017, 23018],\n",
              " ['Various', 'Quartz', 'ORG', 23116, 23117],\n",
              " ['Various', 'Larner', 'ORG', 23122, 23123],\n",
              " ['Various', 'Nern', 'PERSON', 23342, 23343],\n",
              " ['Various', 'Lats Larner', 'PERSON', 23543, 23545],\n",
              " ['Various', 'Larner', 'ORG', 23649, 23650],\n",
              " ['Various', 'Zorn Zada', 'PERSON', 23664, 23666],\n",
              " ['Various', 'Larner', 'ORG', 23772, 23773],\n",
              " ['Various', 'Zorn Zada', 'PERSON', 23774, 23776],\n",
              " ['Various', 'Nern Bela', 'PERSON', 23779, 23781],\n",
              " ['Various', 'Tula Bela', 'PERSON', 23790, 23792],\n",
              " ['Various', 'Nern', 'PERSON', 23806, 23807],\n",
              " ['Various', 'Larner', 'ORG', 23851, 23852],\n",
              " ['Various', 'Zorn', 'PERSON', 23867, 23868],\n",
              " ['Various', 'Larner', 'PERSON', 23892, 23893],\n",
              " ['Various', 'Zorn', 'PERSON', 23905, 23906],\n",
              " ['Various', 'Larner', 'PERSON', 23977, 23978],\n",
              " ['Various', 'Coleoptera', 'ORG', 23999, 24000],\n",
              " ['Various', 'Diptera', 'ORG', 24015, 24016],\n",
              " ['Various', 'Coleoptera', 'ORG', 24025, 24026],\n",
              " ['Various', 'Diptera', 'ORG', 24034, 24035],\n",
              " ['Various', 'Larner', 'PERSON', 24057, 24058],\n",
              " ['Various', 'Zorn', 'PERSON', 24063, 24064],\n",
              " ['Various', 'Larner', 'PERSON', 24113, 24114],\n",
              " ['Various', 'Zorn', 'PERSON', 24115, 24116],\n",
              " ['Various', 'van', 'PERSON', 24182, 24183],\n",
              " ['Various', 'Larner', 'ORG', 24186, 24187],\n",
              " ['Various', 'Nern', 'ORG', 24192, 24193],\n",
              " ['Various', 'Tula Bela', 'PERSON', 24194, 24196],\n",
              " ['Various', 'Army Offense', 'PERSON', 24214, 24216],\n",
              " ['Various', 'Larner', 'ORG', 24241, 24242],\n",
              " ['Various', 'Vole Vesta', 'PERSON', 24253, 24255],\n",
              " ['Various', 'Mercury', 'ORG', 24282, 24283],\n",
              " ['Various', 'Mercury', 'ORG', 24297, 24298],\n",
              " ['Various', 'Mercury', 'ORG', 24352, 24353],\n",
              " ['Various', 'Mercury', 'ORG', 24373, 24374],\n",
              " ['Various', 'Nern', 'PERSON', 24488, 24489],\n",
              " ['Various', 'Zorn Larner', 'PERSON', 24496, 24498],\n",
              " ['Various', 'Zorn Larner', 'PERSON', 24525, 24527],\n",
              " ['Various', 'Tula', 'PERSON', 24543, 24544],\n",
              " ['Various', 'Zorn', 'ORG', 24598, 24599],\n",
              " ['Various', 'Larner', 'ORG', 24600, 24601],\n",
              " ['Various', 'frightful relate', 'PERSON', 24627, 24629],\n",
              " ['Various', 'Tula Bela', 'PERSON', 24694, 24696],\n",
              " ['Various', 'Giant', 'ORG', 24713, 24714],\n",
              " ['Various', 'Larner', 'ORG', 24721, 24722],\n",
              " ['Various', 'Nern', 'PERSON', 24723, 24724],\n",
              " ['Various', 'Larner', 'PERSON', 24742, 24743],\n",
              " ['Various', 'Larner', 'PERSON', 24792, 24793],\n",
              " ['Various', 'Larner', 'ORG', 24833, 24834],\n",
              " ['Various', 'Don', 'PERSON', 24844, 24845],\n",
              " ['Various', 'Larner', 'ORG', 24866, 24867],\n",
              " ['Various', 'Tula Bela', 'PERSON', 24877, 24879],\n",
              " ['Various', 'Larner', 'ORG', 24941, 24942],\n",
              " ['Various', 'Tula', 'PERSON', 24952, 24953],\n",
              " ['Various', 'Larner', 'ORG', 24958, 24959],\n",
              " ['Various', 'Zorn', 'PERSON', 25008, 25009],\n",
              " ['Various', 'Tula Bela', 'PERSON', 25018, 25020],\n",
              " ['Various', 'Zorn Larner', 'PERSON', 25038, 25040],\n",
              " ['Various', 'ray', 'ORG', 25131, 25132],\n",
              " ['Various', 'Leslie Larner', 'PERSON', 25187, 25189],\n",
              " ['Various', 'Nern', 'PERSON', 25231, 25232],\n",
              " ['Various', 'Tula Bela', 'PERSON', 25233, 25235],\n",
              " ['Various', 'Larner', 'ORG', 25274, 25275],\n",
              " ['Various', 'Nern Bela', 'PERSON', 25284, 25286],\n",
              " ['Various', 'Nern Bela', 'PERSON', 25343, 25345],\n",
              " ['Various', 'Leslie Larner', 'PERSON', 25353, 25355],\n",
              " ['Various', 'James Doolittle', 'PERSON', 25382, 25384],\n",
              " ['Various', 'Army Air Corps', 'ORG', 25386, 25389],\n",
              " ['Various', 'Mitchel Field', 'PERSON', 25389, 25391],\n",
              " ['Various', 'Harry Guggenheim', 'PERSON', 25393, 25395],\n",
              " ['Various', 'the Daniel Guggenheim Fund', 'ORG', 25396, 25400],\n",
              " ['Various', 'the Promotion Aeronautics Inc', 'ORG', 25401, 25405],\n",
              " ['Various', 'Wright', 'PERSON', 25468, 25469],\n",
              " ['Various', 'Husky', 'PERSON', 25470, 25471],\n",
              " ['Various', 'Lieut Benjamin Kelsey', 'PERSON', 25503, 25506],\n",
              " ['Various', 'Mitchel Field', 'PERSON', 25507, 25509],\n",
              " ['Various', 'Lieut Doolittle', 'PERSON', 25710, 25712],\n",
              " ['Various', 'Lieut', 'PERSON', 25736, 25737],\n",
              " ['Various', 'Ray Cummings', 'PERSON', 25864, 25866],\n",
              " ['Various', 'Space', 'ORG', 25879, 25880],\n",
              " ['Various', 'Moon', 'PERSON', 25884, 25885],\n",
              " ['Various', 'Gregg Haljan', 'PERSON', 25899, 25901],\n",
              " ['Various', 'Gregg Haljan', 'PERSON', 25929, 25931],\n",
              " ['Various', 'Johnny Grantline', 'PERSON', 25952, 25954],\n",
              " ['Various', 'Moon', 'PERSON', 25961, 25962],\n",
              " ['Various', 'Planetara', 'PERSON', 25967, 25968],\n",
              " ['Various', 'Suspicious', 'ORG', 25984, 25985],\n",
              " ['Various', 'Miko', 'PERSON', 25989, 25990],\n",
              " ['Various', 'Moa', 'PERSON', 25991, 25992],\n",
              " ['Various', 'Arthur Coniston', 'PERSON', 25997, 25999],\n",
              " ['Various', 'Hahn Venus', 'PERSON', 26001, 26003],\n",
              " ['Various', 'George Prince', 'PERSON', 26007, 26009],\n",
              " ['Various', 'Anita Love', 'PERSON', 26012, 26014],\n",
              " ['Various', 'Anita', 'PERSON', 26019, 26020],\n",
              " ['Various', 'Miko', 'PERSON', 26026, 26027],\n",
              " ['Various', 'Moon', 'PERSON', 26040, 26041],\n",
              " ['Various', 'Grantline', 'PERSON', 26042, 26043],\n",
              " ['Various', 'Stop', 'PERSON', 26045, 26046],\n",
              " ['Various', 'Success', 'ORG', 26051, 26052],\n",
              " ['Various', 'Miko', 'ORG', 26067, 26068],\n",
              " ['Various', 'Anita Prince', 'PERSON', 26072, 26074],\n",
              " ['Various', 'Miko', 'PERSON', 26080, 26081],\n",
              " ['Various', 'Planetara', 'ORG', 26088, 26089],\n",
              " ['Various', 'Snap Dean', 'PERSON', 26102, 26104],\n",
              " ['Various', 'George Prince', 'PERSON', 26116, 26118],\n",
              " ['Various', 'Anita', 'PERSON', 26131, 26132],\n",
              " ['Various', 'George', 'PERSON', 26138, 26139],\n",
              " ['Various', 'George', 'PERSON', 26143, 26144],\n",
              " ['Various', 'Anita', 'PERSON', 26150, 26151],\n",
              " ['Various', 'Anita', 'PERSON', 26161, 26162],\n",
              " ['Various', 'George Prince Together', 'PERSON', 26168, 26171],\n",
              " ['Various', 'Planetara', 'ORG', 26183, 26184],\n",
              " ['Various', 'Miko', 'ORG', 26192, 26193],\n",
              " ['Various', 'Anita', 'PERSON', 26205, 26206],\n",
              " ['Various', 'Miko', 'PERSON', 26218, 26219],\n",
              " ['Various', 'Gregg Haljan', 'PERSON', 26270, 26272],\n",
              " ['Various', 'Dean', 'PERSON', 26291, 26292],\n",
              " ['Various', 'Haljan Great New York', 'ORG', 26325, 26329],\n",
              " ['Various', 'Alert', 'PERSON', 26371, 26372],\n",
              " ['Various', 'Anita', 'PERSON', 26376, 26377],\n",
              " ['Various', 'Masquerading', 'PERSON', 26379, 26380],\n",
              " ['Various', 'Miko', 'PERSON', 26391, 26392],\n",
              " ['Various', 'Haljan \\n \\n', 'PERSON', 26400, 26402],\n",
              " ['Various', 'Miko', 'PERSON', 26405, 26406],\n",
              " ['Various', 'Blackstone', 'ORG', 26456, 26457],\n",
              " ['Various', 'Blackstone', 'ORG', 26460, 26461],\n",
              " ['Various', 'Miko', 'ORG', 26472, 26473],\n",
              " ['Various', 'Hahn', 'PERSON', 26492, 26493],\n",
              " ['Various', 'Haljan', 'PERSON', 26521, 26522],\n",
              " ['Various', 'Arthur Coniston', 'PERSON', 26622, 26624],\n",
              " ['Various', 'Almost Haljan', 'PERSON', 26631, 26633],\n",
              " ['Various', 'Haljan', 'ORG', 26665, 26666],\n",
              " ['Various', 'Coniston', 'PERSON', 26782, 26783],\n",
              " ['Various', 'Hahn', 'PERSON', 26784, 26785],\n",
              " ['Various', 'Moa', 'PERSON', 26818, 26819],\n",
              " ['Various', 'Haljan', 'PERSON', 26823, 26824],\n",
              " ['Various', 'Moa', 'PERSON', 26857, 26858],\n",
              " ['Various', 'Dean', 'PERSON', 26919, 26920],\n",
              " ['Various', 'Ferrok Shahn', 'PERSON', 26940, 26942],\n",
              " ['Various', 'Ferrok Shahn', 'PERSON', 26963, 26965],\n",
              " ['Various', 'Dean', 'PERSON', 26975, 26976],\n",
              " ['Various', 'Haljan', 'PERSON', 26990, 26991],\n",
              " ['Various', 'George Prince', 'PERSON', 27018, 27020],\n",
              " ['Various', 'George Prince', 'PERSON', 27053, 27055],\n",
              " ['Various', 'Anita Prince', 'PERSON', 27078, 27080],\n",
              " ['Various', 'George Prince', 'PERSON', 27088, 27090],\n",
              " ['Various', 'Dean', 'PERSON', 27093, 27094],\n",
              " ['Various', 'don', 'PERSON', 27105, 27106],\n",
              " ['Various', 'George Prince', 'PERSON', 27115, 27117],\n",
              " ['Various', 'Dean', 'PERSON', 27128, 27129],\n",
              " ['Various', 'Dean', 'PERSON', 27133, 27134],\n",
              " ['Various', 'Johnson', 'PERSON', 27146, 27147],\n",
              " ['Various', 'Johnson', 'PERSON', 27153, 27154],\n",
              " ['Various', 'Haljan', 'PERSON', 27156, 27157],\n",
              " ['Various', 'Johnson', 'PERSON', 27165, 27166],\n",
              " ['Various', 'Carter', 'PERSON', 27175, 27176],\n",
              " ['Various', 'Miko', 'ORG', 27189, 27190],\n",
              " ['Various', 'Moon', 'PERSON', 27195, 27196],\n",
              " ['Various', 'Moon', 'PERSON', 27201, 27202],\n",
              " ['Various', 'Moon', 'PERSON', 27224, 27225],\n",
              " ['Various', 'Grantline', 'PERSON', 27230, 27231],\n",
              " ['Various', 'Miko Hahn Coniston', 'PERSON', 27250, 27253],\n",
              " ['Various', 'Moon', 'PERSON', 27261, 27262],\n",
              " ['Various', 'Planetara', 'PERSON', 27265, 27266],\n",
              " ['Various', 'Miko', 'PERSON', 27284, 27285],\n",
              " ['Various', 'Grantline', 'PERSON', 27292, 27293],\n",
              " ['Various', 'Moon', 'PERSON', 27307, 27308],\n",
              " ['Various', 'Haljan', 'PERSON', 27325, 27326],\n",
              " ['Various', 'Dean', 'PERSON', 27332, 27333],\n",
              " ['Various', 'Grantline', 'PERSON', 27334, 27335],\n",
              " ['Various', 'Prince', 'PERSON', 27341, 27342],\n",
              " ['Various', 'Dean', 'PERSON', 27345, 27346],\n",
              " ['Various', 'George Prince', 'PERSON', 27351, 27353],\n",
              " ['Various', 'Miko', 'PERSON', 27367, 27368],\n",
              " ['Various', 'George Prince', 'PERSON', 27377, 27379],\n",
              " ['Various', 'Moa', 'PERSON', 27399, 27400],\n",
              " ['Various', 'George Prince', 'PERSON', 27412, 27414],\n",
              " ['Various', 'Miko', 'PERSON', 27437, 27438],\n",
              " ['Various', 'Moa', 'PERSON', 27506, 27507],\n",
              " ['Various', 'Haljan', 'ORG', 27567, 27568],\n",
              " ['Various', 'Miko', 'PERSON', 27592, 27593],\n",
              " ['Various', 'Anita', 'PERSON', 27681, 27682],\n",
              " ['Various', 'Hahn', 'PERSON', 27686, 27687],\n",
              " ['Various', 'Coniston', 'PERSON', 27707, 27708],\n",
              " ['Various', 'Haljan', 'PERSON', 27739, 27740],\n",
              " ['Various', 'Hahn', 'PERSON', 27750, 27751],\n",
              " ['Various', 'Coniston', 'PERSON', 27849, 27850],\n",
              " ['Various', 'Anita', 'PERSON', 27853, 27854],\n",
              " ['Various', 'Gregg', 'PERSON', 27856, 27857],\n",
              " ['Various', 'Coniston', 'PERSON', 27869, 27870],\n",
              " ['Various', 'Coniston', 'PERSON', 27887, 27888],\n",
              " ['Various', 'Anita', 'PERSON', 27899, 27900],\n",
              " ['Various', 'Anita', 'PERSON', 27932, 27933],\n",
              " ['Various', 'Gregg', 'PERSON', 27974, 27975],\n",
              " ['Various', 'Grantline', 'PERSON', 28008, 28009],\n",
              " ['Various', 'Coniston', 'PERSON', 28014, 28015],\n",
              " ['Various', 'Anita', 'PERSON', 28022, 28023],\n",
              " ['Various', 'Anita', 'PERSON', 28064, 28065],\n",
              " ['Various', 'George', 'PERSON', 28181, 28182],\n",
              " ['Various', 'Miko', 'PERSON', 28183, 28184],\n",
              " ['Various', 'Miko', 'PERSON', 28194, 28195],\n",
              " ['Various', 'Anita George Prince', 'PERSON', 28201, 28204],\n",
              " ['Various', 'the Federated Radium Corporation', 'ORG', 28232, 28236],\n",
              " ['Various', 'Great New York Mostly Martians', 'ORG', 28241, 28246],\n",
              " ['Various', 'the Federated Corporation', 'ORG', 28257, 28260],\n",
              " ['Various', 'Miko', 'ORG', 28263, 28264],\n",
              " ['Various', 'Anita', 'PERSON', 28274, 28275],\n",
              " ['Various', 'Miko', 'PERSON', 28282, 28283],\n",
              " ['Various', 'Anita', 'PERSON', 28300, 28301],\n",
              " ['Various', 'George', 'PERSON', 28309, 28310],\n",
              " ['Various', 'Anita', 'PERSON', 28324, 28325],\n",
              " ['Various', 'George', 'PERSON', 28339, 28340],\n",
              " ['Various', 'George', 'PERSON', 28355, 28356],\n",
              " ['Various', 'Miko', 'PERSON', 28365, 28366],\n",
              " ['Various', 'George', 'PERSON', 28380, 28381],\n",
              " ['Various', 'Captain Carter', 'PERSON', 28382, 28384],\n",
              " ['Various', 'Frank', 'PERSON', 28389, 28390],\n",
              " ['Various', 'Miko', 'PERSON', 28394, 28395],\n",
              " ['Various', 'George', 'PERSON', 28405, 28406],\n",
              " ['Various', 'Gregg', 'PERSON', 28433, 28434],\n",
              " ['Various', 'Glutz', 'PERSON', 28435, 28436],\n",
              " ['Various', 'Gregg', 'PERSON', 28456, 28457],\n",
              " ['Various', 'Anita', 'PERSON', 28474, 28475],\n",
              " ['Various', 'Miko', 'PERSON', 28479, 28480],\n",
              " ['Various', 'Don', 'PERSON', 28487, 28488],\n",
              " ['Various', 'Miko', 'PERSON', 28504, 28505],\n",
              " ['Various', 'Snap Gave', 'PERSON', 28523, 28525],\n",
              " ['Various', 'Gregg', 'PERSON', 28533, 28534],\n",
              " ['Various', 'Dud Ardley', 'PERSON', 28549, 28551],\n",
              " ['Various', 'Frank Against', 'PERSON', 28557, 28559],\n",
              " ['Various', 'Miko', 'PERSON', 28560, 28561],\n",
              " ['Various', 'Coniston', 'PERSON', 28565, 28566],\n",
              " ['Various', 'Hahn', 'PERSON', 28567, 28568],\n",
              " ['Various', 'Anita', 'PERSON', 28598, 28599],\n",
              " ['Various', 'Miko', 'PERSON', 28603, 28604],\n",
              " ['Various', 'George Prince Anita', 'PERSON', 28608, 28611],\n",
              " ['Various', 'Miko', 'ORG', 28635, 28636],\n",
              " ['Various', 'Carter', 'PERSON', 28638, 28639],\n",
              " ['Various', 'A20', 'ORG', 28641, 28642],\n",
              " ['Various', 'Johnson', 'PERSON', 28647, 28648],\n",
              " ['Various', 'Anita', 'PERSON', 28653, 28654],\n",
              " ['Various', 'Anita', 'PERSON', 28666, 28667],\n",
              " ['Various', 'Anita', 'PERSON', 28714, 28715],\n",
              " ['Various', 'Miko', 'PERSON', 28718, 28719],\n",
              " ['Various', 'Coniston', 'PERSON', 28759, 28760],\n",
              " ['Various', 'Hahn', 'PERSON', 28772, 28773],\n",
              " ['Various', 'Anita', 'PERSON', 28799, 28800],\n",
              " ['Various', 'Frank Anita', 'PERSON', 28826, 28828],\n",
              " ['Various', 'Miko', 'PERSON', 28839, 28840],\n",
              " ['Various', 'Moa', 'PERSON', 28841, 28842],\n",
              " ['Various', 'Venza Anita', 'PERSON', 28848, 28850],\n",
              " ['Various', 'Frank', 'PERSON', 28857, 28858],\n",
              " ['Various', 'Hahn', 'PERSON', 28911, 28912],\n",
              " ['Various', 'Coniston', 'PERSON', 28918, 28919],\n",
              " ['Various', 'Anita', 'PERSON', 28928, 28929],\n",
              " ['Various', 'Coniston', 'PERSON', 28935, 28936],\n",
              " ['Various', 'Gregg', 'PERSON', 28954, 28955],\n",
              " ['Various', 'Anita', 'PERSON', 28961, 28962],\n",
              " ['Various', 'Gregg', 'PERSON', 28971, 28972],\n",
              " ['Various', 'Coniston', 'PERSON', 28977, 28978],\n",
              " ['Various', 'Miko', 'PERSON', 28979, 28980],\n",
              " ['Various', 'Haljan', 'PERSON', 28987, 28988],\n",
              " ['Various', 'Miko', 'PERSON', 28991, 28992],\n",
              " ['Various', 'Anita', 'PERSON', 29077, 29078],\n",
              " ['Various', 'Coniston', 'PERSON', 29091, 29092],\n",
              " ['Various', 'Anita', 'PERSON', 29098, 29099],\n",
              " ['Various', 'Gregg', 'PERSON', 29128, 29129],\n",
              " ['Various', 'Gregg', 'PERSON', 29144, 29145],\n",
              " ['Various', 'Anita', 'PERSON', 29176, 29177],\n",
              " ['Various', 'Miko', 'PERSON', 29182, 29183],\n",
              " ['Various', 'Albert Einstein', 'PERSON', 29264, 29266],\n",
              " ['Various', 'Anita', 'PERSON', 29317, 29318],\n",
              " ['Various', 'George Prince', 'PERSON', 29373, 29375],\n",
              " ['Various', 'Anita', 'PERSON', 29388, 29389],\n",
              " ['Various', 'Gregg', 'PERSON', 29409, 29410],\n",
              " ['Various', 'Moa', 'PERSON', 29413, 29414],\n",
              " ['Various', 'Hahn', 'PERSON', 29421, 29422],\n",
              " ['Various', 'Coniston', 'PERSON', 29427, 29428],\n",
              " ['Various', 'Coniston', 'PERSON', 29431, 29432],\n",
              " ['Various', 'Anita', 'PERSON', 29436, 29437],\n",
              " ['Various', 'Hahn', 'PERSON', 29439, 29440],\n",
              " ['Various', 'George Prince', 'PERSON', 29494, 29496],\n",
              " ['Various', 'Anita', 'PERSON', 29516, 29517],\n",
              " ['Various', 'Coniston sharpest Gregg', 'ORG', 29537, 29540],\n",
              " ['Various', 'Anita', 'PERSON', 29553, 29554],\n",
              " ['Various', 'Miko', 'PERSON', 29573, 29574],\n",
              " ['Various', 'Anita', 'PERSON', 29590, 29591],\n",
              " ['Various', 'Gregg', 'PERSON', 29617, 29618],\n",
              " ['Various', 'moon', 'PERSON', 29633, 29634],\n",
              " ['Various', 'Snap', 'PERSON', 29692, 29693],\n",
              " ['Various', 'Anita', 'PERSON', 29817, 29818],\n",
              " ['Various', 'Anita', 'PERSON', 29820, 29821],\n",
              " ['Various', 'Miko', 'ORG', 29826, 29827],\n",
              " ['Various', 'Haljan', 'PERSON', 29832, 29833],\n",
              " ['Various', 'Anita', 'PERSON', 29865, 29866],\n",
              " ['Various', 'Dim', 'PERSON', 29913, 29914],\n",
              " ['Various', 'Anita', 'PERSON', 29933, 29934],\n",
              " ['Various', 'Anita', 'PERSON', 29950, 29951],\n",
              " ['Various', 'Anita', 'PERSON', 29969, 29970],\n",
              " ['Various', 'Anita', 'PERSON', 30003, 30004],\n",
              " ['Various', 'Gregg', 'PERSON', 30016, 30017],\n",
              " ['Various', 'Anita', 'PERSON', 30038, 30039],\n",
              " ['Various', 'Anita', 'PERSON', 30125, 30126],\n",
              " ['Various', 'Anita', 'PERSON', 30145, 30146],\n",
              " ['Various', 'Gregg', 'PERSON', 30171, 30172],\n",
              " ['Various', 'Don', 'PERSON', 30188, 30189],\n",
              " ['Various', 'George Prince', 'PERSON', 30191, 30193],\n",
              " ['Various', 'Miko', 'PERSON', 30203, 30204],\n",
              " ['Various', 'Anita', 'PERSON', 30207, 30208],\n",
              " ['Various', 'Gregg', 'PERSON', 30212, 30213],\n",
              " ['Various', 'George Prince', 'PERSON', 30238, 30240],\n",
              " ['Various', 'Anita', 'PERSON', 30283, 30284],\n",
              " ['Various', 'Run Tell Miko', 'PERSON', 30286, 30289],\n",
              " ['Various', 'Gregg', 'PERSON', 30300, 30301],\n",
              " ['Various', 'Anita', 'PERSON', 30310, 30311],\n",
              " ['Various', 'Planetara', 'ORG', 30360, 30361],\n",
              " ['Various', 'Anita', 'PERSON', 30370, 30371],\n",
              " ['Various', 'Haljan \\n \\nAnita', 'PERSON', 30413, 30416],\n",
              " ['Various', 'Miko', 'PERSON', 30433, 30434],\n",
              " ['Various', 'Anita', 'PERSON', 30437, 30438],\n",
              " ['Various', 'Anita', 'PERSON', 30448, 30449],\n",
              " ['Various', 'Miko', 'PERSON', 30479, 30480],\n",
              " ['Various', 'Anita Prince', 'PERSON', 30483, 30485],\n",
              " ['Various', 'Miko don Haljan Don', 'PERSON', 30488, 30492],\n",
              " ['Various', 'Miko', 'ORG', 30526, 30527],\n",
              " ['Various', 'Anita', 'PERSON', 30538, 30539],\n",
              " ['Various', 'Don', 'PERSON', 30547, 30548],\n",
              " ['Various', 'Miko', 'PERSON', 30563, 30564],\n",
              " ['Various', 'Gregg Haljan', 'PERSON', 30595, 30597],\n",
              " ['Various', 'Miko', 'PERSON', 30604, 30605],\n",
              " ['Various', 'Miko', 'PERSON', 30620, 30621],\n",
              " ['Various', 'Anita', 'PERSON', 30630, 30631],\n",
              " ['Various', 'Anita', 'PERSON', 30648, 30649],\n",
              " ['Various', 'Miko', 'PERSON', 30658, 30659],\n",
              " ['Various', 'Anita', 'PERSON', 30687, 30688],\n",
              " ['Various', 'Hahn', 'PERSON', 30700, 30701],\n",
              " ['Various', 'Miko', 'PERSON', 30758, 30759],\n",
              " ['Various', 'Anita', 'PERSON', 30777, 30778],\n",
              " ['Various', 'Miko', 'PERSON', 30801, 30802],\n",
              " ['Various', 'Miko', 'PERSON', 30826, 30827],\n",
              " ['Various', 'Miko', 'PERSON', 30830, 30831],\n",
              " ['Various', 'Moa', 'PERSON', 30850, 30851],\n",
              " ['Various', 'Miko', 'PERSON', 30860, 30861],\n",
              " ['Various', 'Gregg Haljan', 'PERSON', 30863, 30865],\n",
              " ['Various', 'Moa', 'PERSON', 30944, 30945],\n",
              " ['Various', 'Gregg', 'PERSON', 30952, 30953],\n",
              " ['Various', 'Miko', 'ORG', 30975, 30976],\n",
              " ['Various', 'Moa', 'PERSON', 30995, 30996],\n",
              " ['Various', 'Gregg', 'PERSON', 31000, 31001],\n",
              " ['Various', 'Grantline', 'PERSON', 31008, 31009],\n",
              " ['Various', 'Moa', 'PERSON', 31033, 31034],\n",
              " ['Various', 'Miko', 'PERSON', 31053, 31054],\n",
              " ['Various', 'Haljan', 'PERSON', 31080, 31081],\n",
              " ['Various', 'Moa', 'PERSON', 31191, 31192],\n",
              " ['Various', 'Prince Hahn', 'PERSON', 31213, 31215],\n",
              " ['Various', 'Hahn', 'PERSON', 31219, 31220],\n",
              " ['Various', 'Anita', 'PERSON', 31234, 31235],\n",
              " ['Various', 'Gregg', 'PERSON', 31268, 31269],\n",
              " ['Various', 'Gregg', 'PERSON', 31324, 31325],\n",
              " ['Various', 'Miko', 'ORG', 31373, 31374],\n",
              " ['Various', 'Snap Anita', 'PERSON', 31422, 31424],\n",
              " ['Various', 'Grantline', 'PERSON', 31449, 31450],\n",
              " ['Various', 'Grantline', 'PERSON', 31479, 31480],\n",
              " ['Various', 'Johnny Grantline', 'PERSON', 31494, 31496],\n",
              " ['Various', 'Moa', 'PERSON', 31502, 31503],\n",
              " ['Various', 'Gregg', 'PERSON', 31511, 31512],\n",
              " ['Various', 'Keen', 'ORG', 31517, 31518],\n",
              " ['Various', 'Gregg', 'PERSON', 31545, 31546],\n",
              " ['Various', 'Don', 'PERSON', 31549, 31550],\n",
              " ['Various', 'Ferrok Shahn \\n \\n', 'PERSON', 31570, 31573],\n",
              " ['Various', 'Dean', 'PERSON', 31582, 31583],\n",
              " ['Various', 'Coniston', 'PERSON', 31585, 31586],\n",
              " ['Various', 'Moon', 'PERSON', 31603, 31604],\n",
              " ['Various', 'Moon', 'PERSON', 31634, 31635],\n",
              " ['Various', 'Gregg', 'PERSON', 31676, 31677],\n",
              " ['Various', 'Don', 'PERSON', 31681, 31682],\n",
              " ['Various', 'Moa', 'PERSON', 31687, 31688],\n",
              " ['Various', 'Miko', 'PERSON', 31695, 31696],\n",
              " ['Various', 'Moa', 'PERSON', 31717, 31718],\n",
              " ['Various', 'Johnson', 'PERSON', 31727, 31728],\n",
              " ['Various', 'Gregg', 'PERSON', 31735, 31736],\n",
              " ['Various', 'Riches', 'PERSON', 31743, 31744],\n",
              " ['Various', 'Moon', 'PERSON', 31754, 31755],\n",
              " ['Various', 'Moon', 'PERSON', 31761, 31762],\n",
              " ['Various', 'Carter', 'PERSON', 31772, 31773],\n",
              " ['Various', 'Planetara', 'ORG', 31777, 31778],\n",
              " ['Various', 'Gregg', 'PERSON', 31792, 31793],\n",
              " ['Various', 'Coniston', 'PERSON', 31810, 31811],\n",
              " ['Various', 'Ferrok Shahn', 'PERSON', 31818, 31820],\n",
              " ['Various', 'Rankin', 'PERSON', 31821, 31822],\n",
              " ['Various', 'Moon', 'PERSON', 31840, 31841],\n",
              " ['Various', 'Gregg', 'PERSON', 31863, 31864],\n",
              " ['Various', 'Gregg', 'PERSON', 31881, 31882],\n",
              " ['Various', 'Gregg', 'PERSON', 31899, 31900],\n",
              " ['Various', 'Moa', 'PERSON', 31921, 31922],\n",
              " ['Various', 'Gregg', 'PERSON', 31931, 31932],\n",
              " ['Various', 'Gregg Haljan', 'PERSON', 31978, 31980],\n",
              " ['Various', 'Gregg', 'PERSON', 31999, 32000],\n",
              " ['Various', 'Gregg Haljan', 'PERSON', 32098, 32100],\n",
              " ['Various', 'Universe', 'ORG', 32131, 32132],\n",
              " ['Various', 'Anita', 'PERSON', 32158, 32159],\n",
              " ['Various', 'Miko', 'PERSON', 32165, 32166],\n",
              " ['Various', 'Don', 'PERSON', 32179, 32180],\n",
              " ['Various', 'Anita', 'PERSON', 32225, 32226],\n",
              " ['Various', 'Amazon', 'ORG', 32233, 32234],\n",
              " ['Various', 'don', 'PERSON', 32267, 32268],\n",
              " ['Various', 'Gregg Haljan', 'PERSON', 32271, 32273],\n",
              " ['Various', 'Gregg', 'PERSON', 32333, 32334],\n",
              " ['Various', 'Gregg', 'PERSON', 32377, 32378],\n",
              " ['Various', 'Gregg \\n \\n', 'PERSON', 32434, 32436],\n",
              " ['Various', 'Hahn', 'PERSON', 32449, 32450],\n",
              " ['Various', 'desk Hahn', 'PERSON', 32462, 32464],\n",
              " ['Various', 'Frank', 'PERSON', 32484, 32485],\n",
              " ['Various', 'Frank', 'PERSON', 32496, 32497],\n",
              " ['Various', 'Moa', 'PERSON', 32511, 32512],\n",
              " ['Various', 'Gregg', 'PERSON', 32527, 32528],\n",
              " ['Various', 'Marooned Asteroid', 'PERSON', 32576, 32578],\n",
              " ['Various', 'Sun', 'ORG', 32601, 32602],\n",
              " ['Various', 'Inky', 'PERSON', 32638, 32639],\n",
              " ['Various', 'Fair', 'ORG', 32663, 32664],\n",
              " ['Various', 'Gregg', 'PERSON', 32676, 32677],\n",
              " ['Various', 'Anita', 'PERSON', 32692, 32693],\n",
              " ['Various', 'Moa', 'PERSON', 32704, 32705],\n",
              " ['Various', 'Solemn', 'ORG', 32719, 32720],\n",
              " ['Various', 'Haljan', 'PERSON', 32840, 32841],\n",
              " ['Various', 'Send Hahn', 'PERSON', 32860, 32862],\n",
              " ['Various', 'Coniston', 'PERSON', 32866, 32867],\n",
              " ['Various', 'Miko', 'PERSON', 32876, 32877],\n",
              " ['Various', 'Frank', 'PERSON', 32915, 32916],\n",
              " ['Various', 'Rankin', 'PERSON', 32935, 32936],\n",
              " ['Various', 'Blackstone', 'ORG', 32940, 32941],\n",
              " ['Various', 'Miko', 'PERSON', 32951, 32952],\n",
              " ['Various', 'Frank', 'PERSON', 32953, 32954],\n",
              " ['Various', 'Miko', 'PERSON', 33015, 33016],\n",
              " ['Various', 'Miko Coniston', 'PERSON', 33045, 33047],\n",
              " ['Various', 'Miko \\n', 'ORG', 33056, 33058],\n",
              " ['Various', 'Moa', 'PERSON', 33060, 33061],\n",
              " ['Various', 'Moa', 'PERSON', 33068, 33069],\n",
              " ['Various', 'Venza', 'PERSON', 33076, 33077],\n",
              " ['Various', 'Don', 'PERSON', 33105, 33106],\n",
              " ['Various', 'Frank', 'PERSON', 33107, 33108],\n",
              " ['Various', 'Gregg', 'PERSON', 33146, 33147],\n",
              " ['Various', 'Mrs Francis', 'PERSON', 33164, 33166],\n",
              " ['Various', 'Gregg don', 'PERSON', 33172, 33174],\n",
              " ['Various', 'Miko', 'ORG', 33191, 33192],\n",
              " ['Various', 'Moa', 'PERSON', 33226, 33227],\n",
              " ['Various', 'Haljan', 'PERSON', 33236, 33237],\n",
              " ['Various', 'Miko', 'PERSON', 33243, 33244],\n",
              " ['Various', 'Hahn', 'PERSON', 33255, 33256],\n",
              " ['Various', 'Haljan', 'PERSON', 33271, 33272],\n",
              " ['Various', 'Coniston', 'PERSON', 33273, 33274],\n",
              " ['Various', 'Miko', 'PERSON', 33275, 33276],\n",
              " ['Various', 'Tell Miko', 'PERSON', 33317, 33319],\n",
              " ['Various', 'Gregg Moa', 'PERSON', 33468, 33470],\n",
              " ['Various', 'Giant', 'ORG', 33618, 33619],\n",
              " ['Various', 'Gregg', 'PERSON', 33719, 33720],\n",
              " ['Various', 'Coniston', 'PERSON', 33831, 33832],\n",
              " ['Various', 'Miko', 'PERSON', 33875, 33876],\n",
              " ['Various', 'Gregg Haljan', 'PERSON', 33929, 33931],\n",
              " ['Various', 'Moa', 'PERSON', 33935, 33936],\n",
              " ['Various', 'Miko', 'ORG', 34013, 34014],\n",
              " ['Various', 'Frank', 'PERSON', 34044, 34045],\n",
              " ['Various', 'Miko', 'PERSON', 34049, 34050],\n",
              " ['Various', 'Frank', 'PERSON', 34166, 34167],\n",
              " ['Various', 'Miko', 'ORG', 34228, 34229],\n",
              " ['Various', 'Gregg', 'PERSON', 34233, 34234],\n",
              " ['Various', 'Moa', 'PERSON', 34235, 34236],\n",
              " ['Various', 'Planetara', 'ORG', 34248, 34249],\n",
              " ['Various', 'Whatever Venza', 'PERSON', 34308, 34310],\n",
              " ...]"
            ]
          },
          "metadata": {
            "tags": []
          },
          "execution_count": 117
        }
      ]
    },
    {
      "cell_type": "code",
      "metadata": {
        "colab": {
          "base_uri": "https://localhost:8080/",
          "height": 136
        },
        "id": "aJlUVynKG0bm",
        "outputId": "7c7f4e71-cc4b-487e-d6e6-55e6036bb8ba"
      },
      "source": [
        "corpus.raw(fileids=['Various/works.txt'])[30860:]"
      ],
      "execution_count": 104,
      "outputs": [
        {
          "output_type": "execute_result",
          "data": {
            "application/vnd.google.colaboratory.intrinsic+json": {
              "type": "string"
            },
            "text/plain": [
              "'liner like figurehead peering into the storm under the vessel forefoot \\nThat gentleman milady repeated the steward obsequiously That Prester Kleig head the Secret Agents Master the Secret Room just now returning from Madagascar via Europe after visit the realm Moyen \\ngasp terror burst from the lips the woman Her cheeks blanched \\nMoyen She almost whispered Moyen The half god Asia whom men call mad \\nNot mad milady Moyen not mad save with lust for power the conqueror the ages already ruling more the earth population than any man has ever done before him even Alexander \\nBut the young lady was not listening stewards Wealthy young ladies did not save when asked questions dealing with personal service themselves Her eyes devoured the slender man who stood the prow the Stellar while her lips shaped over and over again the dread name which was the lips the people the world \\nMoyen Moyen \\n \\nthe prow Prester Kleig who carried dread secret his breast knew the young lady regard gave sign There were touches gray his temples though was still under forty had seen more life knew more its terrors than most men twice his age because had lived harshly service his country \\nwas thinking Moyen the genius the misshapen body the pale eyes which reflected the fires Satanic soul set deeply the midst the face angel and wondering would able arrive time sorry that had not returned home airplane \\nhad taken the Stellar only because the peacefulness ocean liner travel would aid his thoughts and required time marshal them Liner travel was now luxury all save the immensely wealthy traveled plane across the oceans Now Prester Kleig was sorry for any moment felt Moyen might strike \\nturned and looked back along the deck the Stellar His eyes played over the trimly gowned figure the woman who questioned the steward but did not really see her And then \\nGreat God The words were prayer and they burst from the lips Prester Kleig like explosion Passengers appeared from the lee lifeboats Officers the bridge whirled look the man who shouted Seamen paused their labors stare Aloft the crow nest the lookout lowered his eyes from scouring the horizon stare Prester Kleig who was pointing \\nAll eyes turned the direction indicated \\n \\nClimbing into the sky mile off the starboard beam was airplane with bulbous body and queerly slanted wings had neither wheels nor pontoons and traveled with unbelievable speed came bullet fast headed directly for the side the Stellar \\nLower the boats yelled Kleig Lower the boats For God sake lower the boats \\nFor Prester Kleig that casual turning had seen what none aboard the Stellar even the lookout above had seen The airplane which had neither wheels nor pontoons had risen Aphrodite said have risen out the waves had seen the wings come out the bulbous body snap backward into place and the plane was full flight the instant appeared \\nPrester Kleig had hope that his warning would time but would always feel better for having given the captain debated with himself whether this lunatic should confined dangerous the strange airplane nosed over and dived down the sea hundred yards from the side the Stellar Just before struck the water its wings snapped forward and became part the bulbous body the thing the whole which shot like bullet into the sea \\n \\nPrester Kleig stood the rail peering out the spot where the plane had plunged with scarcely splash and his right hand was raised though gave final despairing signal \\nall aboard the Stellar only saw that black streak which ten feet under water raced like bolt lightning from the nose the submerged but visible plane straight die for the side the Stellar Just black streak bigger than small man arm from the nose the plane the side the Stellar \\nFrom the crow nest came the startled terrific voice the lookout the beginning cry that must remain forever inarticulate \\nThe world that blinding moment seemed rock its foundations shatter itself bits chaotic jumble sound and movement shot through and through with lurid flames Kleig felt himself hurled upward and outward turned over and over endlessly \\nfelt the storm tossed waters close over him and knew had struck the moment knew oblivion deep ebon and impenetrable blotted out knowledge \\nCHAPTER \\nThe Half Dream \\nroaring rushing river chaotic sound first Jumbled sound which Prester Kleig could give adequate name But tried analyze its meanings was able differentiate between sounds and discover the identity some \\nThe river sound decided the sound vibrational explosion some sort vibrational because had that quivery quality which causes feeling uneasiness and fret that feeling which makes one turn and look around find the eyes boring into one back yet multiplied its intensity uncounted number times \\nOther sounds which came through the chaotic river sound were the terrified screaming the men and women who were doomed Lifeboats were never lowered for the reason that with the disintegration the Stellar everything inanimate aboard her likewise disintegrated dropping men and women crew and passengers into the freezing waters the Atlantic \\nPrester Kleig dropped with them only partially unconscious after the first icy plunge knew when floated the surface for felt himself lifted and hurled the waves his half dream saw men and women being carried away into wave shrouded darkness clawing wildly nothingness for support clawing one another locking arms and going down together \\n \\nThe Stellar the merest matter seconds had become spoil the sea and her crew and passengers had vanished forever from the sight men Yet Prester Kleig lived knew that lived and that there was element too strong disbelieved reality his dream \\nThere was vibratory sense too the near activity noiseless motor Noiseless motor Where had last thought those two words With what recent catastrophe were they associated could not recall though knew should able \\nThen the sense motion the front was apparent unnumbered sense rather than concrete feeling Motion front influenced the rising and falling motion mountainous waves \\nsuddenly distinct shock the wave motion ceased though the forward motion and upward not only continued but increased \\nThat airplane the bulbous body the queerly slanted wings \\nBut the glimmering realization vanished sickishly sweet odor assailed his nostrils and sent its swift moving tentacles upward wrap themself soothingly about his brain But the sense flight unbelievably swift was present and recognizable though all else eluded him had the impression however that was intended that all save the most vagrant most widely differentiated impressions elude him that should acquire only half pictures which would therefore all the more terrible retrospect \\nThe only impressions which were real were those motion the front and upward and the sense noiseless machinery vibrating the whole nearby \\nThen distinct realization the cessation the sense flying and return though lesser degree the rising and falling waves This latter sensation became less and less though the feeling traveling downward continued Prester Kleig knew that was going down into the sea again down into deeply Then that odor once more and the elusive memory \\nForward motion last the depths swift forward motion though Prester Kleig could not even guess the direction Just swift motion and the mutter voices the giving orders \\n \\nPrester Kleig regained consciousness fully the sands the shore sat stiffly staring out sea storm was raging and the sea was angry waste ship showed the waters the mad tumbled sky above was either empty planes they had climbed invisibility above the clouds that raced and churned with the storm \\nOut the storm almost Prester Kleig feet dropped small airplane Through the window familiar face peered Kleig helmeted begoggled figure opened the door and stepped out \\nKleig old man said the flyer you gave the right dope all right but swear there isn wireless tower within hundred miles this place How did you manage \\nKane you crazy But Prester Kleig could not with the thought which had rushed through his brain with the numbing impact blow grasped the hand Carlos Kane the Domestic Service and the yellow flimsy Kane held out him read simply \\nShipwrecked ashore There followed grid coordinate map readings Come once prepared fly Washington was signed Kleig \\nKane said Kleig did not send this message \\nWhat more was there said Horror looked out the eyes Prester Kleig and was reflected those Carlos Kane Both men turned peering out across the tumbled welter waters \\nSomewhere out there tight locked the gloomy archives the Atlantic was the secret the message which had brought Carlos Kane Prester Kleig and the agency which had sent \\nCHAPTER III \\nWings morrow \\nPrester Kleig climbed into the enclosed passenger pit the monoplane Mayther his ears seemed literally ringing with the drumming mighty voice Moyen But now that voice instead merely speaking rang with sardonic laughter had never heard the laughter Moyen but could guess how would sound \\nThat airplane the slanted wings the bulbous almost bulletlike fuselage what was simple Kleig looked back his memoried glimpse The submarine was metal fish made with human hands the airplane aped the birds The strange ship which had caused the destruction the Stellar was combination fish and bird which merely aped nature bit further anyone who had ever traversed tropical waters would have instantly recognized \\nBut what did portend What ghastly terrors Moyen roamed the deeps the Atlantic the Pacific the oceans the world How close were some these the United States \\nThe pale eyes Moyen was sure were already turned toward the West \\n \\nPrester Kleig sighed seated himself beside Carlos Kane Then Kane pressed one the myriad buttons the dash and Kleig lifted his eyes peer through the skylight where that single press button had set motion the intricate machinery the helicopter \\nfour bladed fan lifted slender pedestal sufficiently high above the surface the wing for the vanes free the central propeller Then automatically the vanes became invisible and the Mayther lifted from the sandy beach lightly and far more straightly than any bird \\nthe ship climbed away for the skies and through the transparent floor the beach and the Atlantic fell away below the ship sigh relief escaped Kleig This was living here one was free only for moment and the swift wind flight brushed all cobwebs from the tired human brain watched the slender needle the altimeter moved around the face the dial steadily the hands clock around thirty thousand thirty five forty \\nThen Carlos Kane every movement effortless the flight the silvery winged Mayther thrust forth his hand the dash again pressed another button Instantly the propellers vanished into blur the vanes the helicopter dropped down the slender staff and the vanes themselves fitted snugly into their appointed notches atop the wing \\n \\nFor second Carlos Kane glanced the tiny map the right the dash and set his course was matter moments only but while Kane worked Prester Kleig studied the instruments the dash for had been months since had flown save for his recent half dreamlike experience There was button which released the mechanism the deadly guns fired compressed air all operated from the noiseless motor whose muzzles exactly cleared the tips Mayther wings two guns each wing one the entering edge one the trailing edge fitted snugly into the adamant rigging \\nFour guns which could fire right left twin streams lead the number rounds governed only the carrying power the Mayther Prester Kleig knew them all the guns the wings the guns which fired through the three propellers and the guns set two and two the fuselage right and left the pits which could fixed either down all the mere pressing buttons was marvelous miraculous yet even Kleig told himself that this was felt deep the heart him that Moyen knew all about ships like these and regarded them the toys children \\nKane touched Kleig the shoulder signaling indicating that the atmosphere the pits had been regulated their new height and that they could remove their helmets and oxygen tanks without danger \\n \\nWith sigh Prester Kleig sat back and the two friends turned face each other \\nYou certainly look done Kleig said Kane sympathetically You must have been through hell and then some Tell about this Moyen that you think you care talk about him \\nTalk about him repeated Kleig Talk about him will relief There has been nothing and nobody mind save Moyen for weary months end don talk someone about him mad not mad already Moyen monster with the face angel What else can one say about him devil and saint brute whose followers would with him into hell fire and sing him hosannas they were consumed agony The greatest mob psychologist the world has ever seen genius Kane and unless something done the Western world all the world doomed sit the feet listen the commands Moyen \\nisn Oriental isn European isn negroid Indian but there something about him that makes one thing all these singly and collectively His body twisted and grotesque and when one looks his face one feels desire touch him swear eternal fealty him until one looks into his pale eyes eyes almost milky their paleness and gets the merest hint the thoughts which actuate him has failing did not find does not drink gamble \\nAnd women queried Kane softly \\n \\nKleig was madly love with the sister Kane Charmion and this thing touched him nearest the heart because Charmion was one her country most famous beauties about whom Moyen must already have heard \\nWomen repeated Kleig musingly his black eyes troubled haunted scarcely know has love for women only because has capacity for any love save self love But when think him this connection seem see Moyen grown monster proportions sitting mighty throne with nude women groveling his feet bathed tears their long hair mantles sorrow hiding their shamed faces That sounds wild doesn But the picture get Moyen when think Moyen and women Many women will love him and have perhaps But while has taken many though only guessing here has given himself none Another thing His followers well sets limits the lusts his men requiring only that every soldier fit for duty with body strong for hardship You understand \\nKane understood and his face was very pale \\nYes said his voice almost whisper understand and you speak this man seem see city ruins and hordes men marching bloodstained men entering houses from which immediately afterward come the screams women terror stricken women \\nshuddered and could not for the very horror the vision that had come him \\nBut Kleig stared him though saw ghost \\nGreat God Carl gasped The same identical picture has been mind not once but thousand times wonder \\nWas omen the future for the West \\nDeep his soul Prester Kleig fancied could hear the sardonic laughter the half god Moyen \\n \\ntiny bell rang inside the dash behind the instruments Kane had set direction finders had pressed the button which signaled the Washington control Station the National Radio thus automatically indicating the exact spot above land grid coordinates where the Mayther should start down for the landing \\nhour later they landed the flat roof the new Capitol Building sinking lightly rest feather nursed gentle landing the whirring vanes the helicopter \\nPrester Kleig surrounded uniformed guards who tried shield him from the gaze news gatherers crowded there the roof top hurried him the stairway leading into the executive chambers and through these the Secret Chamber which only few men knew and into which not even Carlos Kane could follow Prester Kleig yet \\nBut one man one news gatherer had caught glimpse the face Kleig and already raced for the radio tower his organization blazon the Western world the fact that Kleig had come back \\nCHAPTER \\nNation Waits Dread \\nPrester Kleig looking twice his forty years because fatigue and almost nameless terrors through which had passed went his rendezvous the news gatherer who shall here remain nameless raced for the Broadcasting Tower \\nPrester Kleig entered the Secret Room and signal all the many doors behind him along that interminable stairway swung shut and were tightly locked the news gatherer raced for the microphone and gave the priority signal the operator Millions people would not only hear the words the news gatherer but would see him note the expressions which chased one another across his face For television was long since accomplished everyday fact \\nPrester Kleig this government Secret Service has just returned the United Americas Your informer has just seen him step from the monoplane Carlos Kane atop the Capitol Building and repair once the Secret Room closely guarded But saw his face and though under forty seems twice that And you know now what this country has only guessed before that has seen Moyen Moyen the half man half god the enigma the ages What does Prester Kleig think this man doesn say for dares not speak yet But your informer saw his face and old and twisted with terror And \\n \\nThat ended the discourse the news gatherer and was many hours before the public really understood For with new sentence but half completed the picture the news gatherer faded blackly off the screens million homes and his voice was blotted out humming that mounted terrific appalling shriek Some terrible agency about which people who knew their radio could only guess had drowned out the words the news gatherer leaving the public stunned and bewildered almost groping before feeling terror which was all the more unbearable because none could give name \\nAnd the public had heard but fraction the truth merely that Kleig had come back had been the intention the government deny the public even this knowledge and had but knowledge the denial itself was public property which filled the hearts men and women all through the Western Hemisphere with nameless dread And over all this abode countless millions hovered the shadow Moyen \\nThe government tried correct the impression which the news gatherer had given out \\nPrester Kleig back said the radio while the government speaker tried for the benefit those who could see him smile reassuringly But there nothing cause anyone the slightest concern has seen Moyen yes and has heard him speak but still there nothing distress anyone and the whole story will given you soon possible Kleig has gone into the Secret Room yes but every operative the government when discussing business connected with diplomatic relations with foreign powers received the Secret Room cause for worry \\n \\nwas easy say that and the speaker realized which was why could but with difficulty make his smile seem reassuring \\nTell the truth and tell quickly might have been the voiceless cries those who listened and saw the face and fidgeting form the speaker But the words were not spoken because the people sensed hovering horror dread catastrophe beyond the power words express and looked one another silence their eyes wide with dread their hearts throbbing suffocation with nameless foreboding \\neyes were horror haunted and men walked flew and rode fear and trembling while down the Secret Room Prester Kleig and dozen old men men wise the ways science and invention wise the ways men and beasts Nature and the Infinite Outside decided the fate the Nation \\nThat Secret Room was closed every one Not even the news gatherers could reach not even the all seeing eye the telephotograph emblazoned the world its secrets \\nBut was secret \\nPerhaps Moyen the master mobster smiled when heard men say men who knew their hearts that Moyen regarded other earthlings earthlings regard children and their toys Did the eyes Moyen gaze even into the depths the Secret Room hundreds feet below even the documentary treasure vaults the Capitol \\n \\none knew the answer the question but the radio reporting the return Kleig had given the public distorted vision embodied fear and its heart the public answered Yes And what had drowned out the voice the radio reporter \\nwonder that for many hours nation waited fear and trembling eyes filled with dread that was nameless and absolute for word from the Secret Room Fear mounted and mounted the hours passed and word came \\nthat room Prester Kleig and the twelve old men one whom was the country President held counsel with the man who had come back But before the spoken counsel had been held awesome and awe inspiring pictures had flashed across the screen invented third the old men from which the world held secrets even the secrets Moyen \\nWith this mechanism guarded forfeit the lives score men the men the Secret Room could peer into even the most secret places the world The old men had peered and had seen things which had blanched their pale cheeks anew And when they had finished and the terrible pictures had faded out voice had spoken suddenly like explosion the Secret Room \\nWell gentlemen are you satisfied that resistance futile \\nJust the voice but one man the Secret Room and the others when his numbing lips spoke the name was far more than enough For not even the wisest the great men could explain how they knew having just seen him there man could Madagascar while his voice spoke aloud the Secret Room where even radio was barred \\nThe name the lips Prester Kleig \\nMoyen Moyen \\nCHAPTER \\nMonsters the Deep \\nGentlemen said Prester Kleig entered the Secret Room where sat the scientists and inventive geniuses the Americas haven much time and shall waste but little Moyen ready strike hasn already done believe will see matter seconds Professor Maniel shall need first all your apparatus for returning the vibratory images events which have transpired within the last thirty six hours \\nwish show those you who failed see the sinking the Stellar which was passenger and believe the only survivor \\nProfessor Maniel strangely mouse like save for the ponderous dome his forehead stepped away from the circular table without word had invented the machine question and was inordinately proud Through its use could pick the sounds and the pictures events which had transpired down the past centuries from the tinkling the cymbals Miriam all the horror the conflict men had called the Great War simply drawing back from the ether the sounds fled outward through space those sounds and vibrations which needed \\nHis science was exact one more carefully exact even than the measurement the speed light taking into consideration the dispersion sound and movement and the element time \\nThe interior the Secret Room became dark Maniel labored with his minute machinery Only behind the screen the wall rear the table was there light \\n \\nThe voice Maniel began drone thought aloud \\nThere matter but few minutes difference time between Washington and the last recorded location the Stellar The sinking occurred ten thirty last evening you say Kleig yes have Watch carefully gentlemen \\nsilent were the Secret Agents one could not even have heard the breathing one them for the screen misty first but becoming moment moment bolder outline was the face storm tossed sea The liner was slower forming and was slightly out focus for second two \\nsaid Professor Maniel There \\nThrough the sound apparatus came the roaring and moaning storm sea the screen the Stellar rose high the waves dropped into the trough while spumes black smoke spread rearward the waters from her spouting funnels Figures were visible her decks figures which seemed carved bronze \\nthe prow every expression his face plainly visible stood Prester Kleig himself and his picture appeared was the act turning \\nNow said Kleig himself there the Secret Room look off the left gentlemen mile from the Stellar \\nrustling sound the scientists shifted their places \\n \\nThey all saw and gasp burst from their lips though signal For the Stellar seemed about plunge off the shadowed screen into the Secret Room flying thing had risen out the sea airplane with bulbous body and queerly slanting wings \\nthe same time out the mouth the pictured figure Prester Kleig clear and agonized the tones bell struck frenzy the words \\nGreat God Lower the boats Lower the boats For God sake lower the boats \\nthe Secret Room the real Prester Kleig spoke again \\nWhen the black streak leaves the nose the plane after has submerged Professor Maniel said Kleig softly slow your mechanism that can see the whole thing detail \\nThere came grunted affirmative from Professor Maniel \\nThe nose the pictured plane tilted over diving down for the surface the sea \\nNow snapped Kleig Don wait \\nInstantly the moving pictures the screen reduced their speed and the plane appeared stop its sudden seaward plunge and drop down lightly feather The wings the thing moved forward slowly folding into the body the dropping plane \\nThey fold forward said Kleig quietly that the speed the plane the take off will snap them backward into position for flying \\n \\none spoke because the explanation was obvious \\nSlowly the airplane went down the surface the sea with scarcely plume spindrift leaping back after she had struck She dropped ten feet below the surface the water hundred yards off the starboard beam the Stellar her blunt nose pointing squarely the side the doomed liner \\nNow said Kleig hoarsely watch closely for God sake \\nThe liner rose and fell slowly Out the nose the plane which had now become tiny submarine started narrow tube black oddly like the sepia giant squid Straight toward the side the liner went Above the rail the Secret Agents could see the pictured form Prester Kleig hand upraised The black streak reached the side the Stellar \\ntouched the metal plates spreading upon impact growing enlarging right and left upward and downward and where touched the Stellar the black seemed erase that portion the ship the slow motion every detail was apparent regular speed the blotting out the Stellar would have been instantaneous \\nKleig saw himself rise slowly from the vanished rail turning over and over going down the sea almost closed his eyes bit his lips keep back the cries terror when saw the others aboard the liner rise turn over and over and fly all directions like jackstraws high wind \\n \\nThe ship was erased from beneath passengers and crew and passengers and crew fell into the sea Out the depths from all directions came the starving denizens the sea starving because liners now were few \\nThat enough that Professor snapped Kleig Now jump ahead approximately eight hours and see you can pick that aero sub after dropped the Jersey Coast \\nThe picture faded out quickly the screaming doomed human beings already hours dead called back apparent living the genius Maniel died away and for space the screen was blank \\nThen the sea again storm tossed before shifting here and there Maniel sought the immensity sea and sky for the thing desired \\nTwo hundred miles south east New York City droned There gentlemen \\nThey all saw then full flight eight thousand feet above the surface the Atlantic traveling south east dizzy rate speed \\nNote said Kleig that keeps safely the low altitudes order escape the notice regular air traffic \\none answered \\nThe eyes the Secret Agents were that flashing bulbous bodied plane the strange wings appeared heading directly for some objective which must reached top speed \\n \\nFor fifteen minutes the flight continued Then the plane tilted over and dived and altitude still three thousand feet the wings slashed forward clicking into their notches the sides the bulbous body with sound like the ratchets subway turnstiles and holding their breath the Secret Agents watched plummet down the sea was traveling with terrific speed when struck yet entered the water with scarcely splash \\nThen for the first time audible gasp that one person came from the lips the Secret Agents For now they could see the objective the aero sub monster shadow the water depth five hundred feet shadow which Maniel manipulated his instruments became floating underwater fortress ten times the size any submarine known the Americas \\nSporting like porpoises about this held suspension fortress were myriads other aero subs maneuvering squadrons and flights weaving and out like schools fish The plane which had bourne Prester Kleig churned between two the formations and vanished into the side the motionless monster the deep \\nThe striking deep sea bell muted tons and tons water sounded the Secret Room \\nDon turn off Maniel said Kleig There more yet \\nAnd there was for the sound the bell was signal The aero subs darting outward from the side the floating fortress like fish darting out seaweed were plunging toward the surface the Atlantic Breathlessly the Secret Agents watched them \\nThey broke water like flying fish and their wings shot backward from their notches the myriad bulbous bodies click into place flying position the scores aero subs took the air above the invisible hiding places the mother submarine \\n \\neight thousand feet the aero subs swung into battle formation and though controlled word command they maneuvered there like one vast machine central control beautiful the flight swallows deadly anything that flew \\nThe Secret Agents swept the cold sweat from their brows and sighs terror escaped them all \\nthat moment came the voice loud the Secret Room which Kleig least immediately recognized \\nWell gentlemen are you satisfied that resistance futile \\nAnd Kleig whispered the name over and over again \\nMoyen Moyen \\nwas Prester Kleig Master the Secret Room who was the first regain control after the nerve numbing question which asked far Madagascar was heard the Agents the Secret Room \\n shouted   Moyen the end will beat you \\nOnly silence answered but deep the heart Prester Kleig sounded burst sardonic laughter the laughter Moyen half god Asia Then the voice again \\nThe attack beginning gentlemen Within hour you will have further evidence the might Moyen \\nCHAPTER \\nVanishing Ships \\nPrester Kleig ordered Madagascar from the Secret Room had been merely operative honored above others that had been one the few that time ever visit the Secret Room Now however because had walked closer Moyen than anyone else assumed leadership almost natural right and the men who had once deferred him took orders from him \\nGentlemen snapped while the last words Moyen still hung the air the Secret Room must fight Moyen from here The best brains the United Americas are gathered here and Moyen can beaten can beaten will beaten from the Secret Room \\nsigh from the lips Professor Maniel The President the United Americas nodded his head though too mutely gave authority into the hands Prester Kleig The other Secret Agents shifted slightly but said nothing \\nhave been away year said Kleig you know and many things have come into regular use since left Professor Maniel machine for example upon which was working when departed under orders There will further use for our struggle with Moyen Professor will you kindly range the ocean beginning once and see how many these monsters Moyen have contend with \\n \\nProfessor Maniel turned back his instruments which fondled with gentle loving hands \\nhave nothing with which combat the attacking forces Moyen went Kleig save antiquated airplanes and such obsolete warships are available These will mere fodder for the guns rays whatever that Moyen uses his aero subs Thousands perhaps millions human lives will lost but better this than that Moyen rule the West Better this than that our women given into the hands this mob spoils war \\nFrom the Secret Agents murmur assent \\nAnd then that voice again startling clear with the slightest suggestion some Oriental accent the Secret Room \\nnot depend too much gentlemen said upon your antiquated warships See merciful that not allow you send them against loaded with men slaughtered drowned Professor Maniel would ask you turn that plaything yours and gaze upon the fleet obsolete ships anchored Hampton Roads passing Professor venture guess that the secret how able talk with you gentlemen here your Secret Room secret all you Now look \\nThe Secret Agents gasped again consternation \\nFrom the white lips mouselike Maniel came mumbled words even his hands worked with lightning speed \\nHis machine simply variation own And gentlemen compatriots with could easily project himself bodily here into the room with \\n \\nSomething like suppressed scream from one the men present cold hand ice about the heart Prester Kleig But the words Professor Maniel were limned the retina his brain letters fire Suppose Moyen were project himself into the Secret Room \\nBut would not was fool and even these Secret Agents most whom were old and longer strong would have torn him limb from limb But those words Maniel set whirling once more and new direction the thoughts Prester Kleig \\nPresident gentlemen was the voice Professor Maniel \\nAll eyes turned again the screen upon which the professor worked his miracles which today were commonplaces which yesterday had been undreamed Every Secret Agent recognized the outlines Hampton Roads with Norfolk and its towering buildings the background and the obsolete warships riding silently anchor the roadstead \\nFor three years they had been there while procrastinating Cabinet Congress and Senate had debated their permanent disposal They represented millions dollars money and were utterly worthless Prester Kleig looking them now could see them putting out sea loaded with brave visaged men volunteering sure destruction feed the rapacity Moyen hordes Men going out sea tubs singing \\nBut these ships were silent plumes smoke from their funnels Like floating mausoleums filled with dead hopes shells past and departed glories \\nThe beating waves against their sides could plainly heard The anchor chains squeaked rustily the hawse holes Wind sighed through regal towering superstructures and man walked the decks any one them \\n \\nWith bated breath the Secret Agents watched \\nWhy had Moyen bidden them turn their attention these shells erstwhile naval grandeur \\nThis time gasps broke from the lips the Secret Agents Not even the sound breathing could heard Just the sighing wind through the superstructures hundred ships the whispering waves against rusted bulkheads \\nAlmost imperceptibly first the towering dreadnought the foreground began move Slowly the water swirling about her she backed away from her anchor tightening the curve the anchor chain Water quivered about the point the chain contact with the waves \\nQuickly the eyes the Secret Agents swept along the street ships The same backward motion dragging against their anchor chains was visible the bow each warship \\nWith not soul aboard them the ships were waking into strange and awesome life dragging their anchors like hounds pulling leashes free and away \\nHow are they doing was almost whisper from the President \\nSome electro magnetic force sir stated Prester Kleig Professor Blaine that your province Please note what happening and advise once you see how they are doing \\ngrunt affirmation from surly obese Professor Blaine \\n \\nAll eyes turned back again the miracle the moving ships One one with crashes which echoed and echoed through the Secret Room the anchor chains the dreadnoughts parted The ends them swung from the prows the warships while the severed portions splashed into the Roads and the waters hid them from view \\nThe great dreadnought the foreground swung slowly about until her prow was pointed the direction the open sea and though sea was running smoke rose from her funnels she got slowly ponderously under way and started out the Roads Behind her formation the other ships swung into line \\nmatter seconds faster than any these vessels had ever traveled before they were racing column for the open Atlantic And from the sound apparatus came wails and shrieks terror the lamentations men and women frightened they had never been frightened before \\nThe shores behind the moving column ships was moment moment growing blacker with people black sea people whose faces were white chalk with terror \\nBut out sea moved the column brave ships \\nnew note entered into the picture from all sides airplanes many makes swooped and swept back and forth over the moving ships while hooded heads looked out pits and faces pilots were aghast what they saw \\n \\nghost column ships moving out sea speed increasing moment moment unbelievably Even now five minutes after the first dreadnought had started seaward the wake each ship spread away either hand the two sides watery triangle whose walls were dozen feet high racing for the shores with all the sullen majesty tidal waves \\nThe crowds gave back and their screams rose into the air frightened roar appalling sound \\nEven now rapidly did the warships travel many the planes could throttle down that they flew directly above the heaving decks the runaway warships \\nGet word them cried Prester Kleig suddenly Get word them that they follow the ships out sea not pilot will escape alive \\nOne the Secret Agents rose and hurried from the Secret Room traveling top speed for the first the many doors enroute the broadcasting tower from which all the planes could reached once Prester Kleig turned back the magic screen Maniel \\nThe warships water thrown aside the lifting thrust their forefeet mountains that raced landward with ever increasing fury were clearing the Roads and swinging south east heading into the wastes the Atlantic they cleared the land and open water for unnumbered miles lay ahead the speed the mighty ships increased point where they rode high the water racing launches and the creaking and groaning their rusty bolts and spars were continual paean protest the sound apparatus accompanying the showing the miracle the screen \\nThey heading straight for the spot where that super submarine lies said the President and one answered him \\n \\nPrester Kleig watching was racing over his mind what could recall his country armament Warships were useless was being proved here before his eyes But there still remained airplanes countless numbers which could diverted from ocean travel and from routine business battle this menace Moyen \\nBut \\nshuddered pictured his mind eye the meeting his country flower flying manhood with the monsters Moyen \\nHis eyes thought were watching the racing those ocean greyhounds out sea They were now out sight land and still some the planes followed them \\nhalf hour passed and then \\nThe American pilots obedience the radio signals turning back from this strange phenomenon the ghost column capital ships \\nSimultaneously out the sky dead ahead dropped the first flight Moyen aero subs \\nthe same moment the mysterious power which had dragged the ships sea was withdrawn and the warships with hands guide them swung whither they willed and floated many directions there were ships under their forward momentum There were score collisions and some the ships were sinking condition even before the aero subs began their labors \\n \\nThe remaining ships floated high out the water because they carried ballast and from all sides the aero subs Moyen settled the task destruction destruction which was simply warning what was come Moyen manner proving the Americas the fact that was all powerful \\nGod what fools cried Prester Kleig \\nThe rearmost the American aviators had looked back had seen the first the aero subs drop down among the doomed ships Instantly turned out sea again signalling did the nearest other planes And spite the radio warning hundred planes answered that signal and swept back investigate this new mystery \\nThey going death groaned the President \\nYes said Kleig softly but saves ordering others death Perhaps may learn something value watch them die \\nCHAPTER VII \\nGolden Oblivion \\nThis said Prester Kleig coldly precise judge pronouncing sentence death will precipitate the major engagement with Moyen forces The fools rush like this when they have been warned But even they are magnificent \\nThe pilots the aero subs must instantly have noticed the return the American pilots for some the aero subs which had dropped the ocean surface rose again almost instantly and swept into battle formation above the drifting hulks the warships \\nThe Americans were wary They drew together like frightened chickens when hawk hovers above them and watched the activities the aero subs every move each one being the same time visible and audible the Secret Agents the Capitol Secret Room \\nThe aero subs which had submerged singled out their particular prey among the floating ships and the Secret Agents trying see how each separate act destruction was accomplished watched the aero sub the foreground which happened concentrating the dreadnought which had led the ghost march the warships out sea \\n \\nThe aero sub circled the swaying dreadnought shark circles wreck and through the walls the aero sub the watchers the Secret Room could see the four man crew the thing Grim faced men men the Orient they plainly were coldly concentrating the work hand Their faces were those men who are merciless even brutal with neither heart nor compassion any kind for weaker ones One man maneuvered the aero sub while the other three concentrated the apparatus the nose the hybrid vessel \\nSee spoke Prester Kleig again you can tell what manner ray they use and how projected That your province General Munson \\nFrom the particular Secret Agent named who was expert for war the membership the Secret Room came short grunt affirmation few murmured words \\nable tell more about when see how they operate when they are flying That black streak under water well must see out the water and then \\nBut here General Munson ended for the aero sub which they were especially watching had got into action against the dreadnought \\nThe aero sub was motionless and submerged just off the port bow the dreadnought The three men inside the aero sub were working swiftly and efficiently with the complicated but minute machinery the nose their transport \\ncan controlled then this ray said Munson interrupting himself Watch \\n \\nFrom the nose the aero sub leaped like streak black lightning that ebon agency death struck the prow the battleship and the prow far aft the well deck simply vanished from sight disintegrated was though had never been and for second swiftly had happened the water the ocean held the impression that portion the warship had made explosive leaves crater the soil earth \\nThen drumming roar the sea rushed claim its own The roaring Niagara the waters claimed the ship rushing down passageways into the hold possessing the warship with all the invincible speedy might the sea \\nMingled with this roaring was the shivering vibratory sound which Prester Kleig had experienced his half dream The sound was intense that fairly rocked the Secret Room its furthermost cranny \\nFor second the dreadnought wounded death seemed shudder hesitate then move backward though wincing from her death blow was the pound the inrushing waters which did Then came the stern the mighty ship she started her last long plunge into the depths \\nBut attention had swung another warship the starboard beam which another aero sub had taken position Again the ebon streak death from her blunt nose smashing and through the warship directly amidships cutting her twain though the black streak had been pair shears the warship strip tissue paper \\nwent the prow and the stern this one and together the water separating the two parts rushed into the gap the broken warship went down its final resting place \\n \\nAbruptly Professor Maniel swung back the American planes which had come back investigate the activities the aero subs and the screen the midst the battle formation into which the pilots had swept hurriedly the Secret Agents could see the faces those pilots \\nWhite chalk with fear mouths open gasping unbelief One man pale faced youth was the first recover stared around his compatriots and plainly through the sound apparatus the Secret Room came his swift radio signals \\nAttack Who will follow against these people \\nHis signals were very plain too were the answers the other pilots and the heart Prester Kleig swelled with pride listened the answering signals and counted them discovered that every last pilot there present elected stay with this youngster avenge their country for this contemptuous insult which had been put upon her the rape Hampton Roads \\nInto swift formation they swept and with these planes all planes use were required franchise operating companies equipped for the emergencies war swung into echelon formation the youthful pilot leading mutual consent \\nThey swept full speed toward the warships four which had this time been sent destruction one which had appeared vanish utterly the space single heartbeat quickly that for second two the shape its bilge the bulge its keel was visible the face the deep and openly challenged the aero subs \\n \\nMuzzles compressed air guns projected from the wing tips the planes Buttons were pressed which elevated the muzzles guns arranged fire upward from either side the fighting pits twin guns that were fired downward from the same central magazine the only guns use the Americas which fired opposite directions the same time \\nBut for few moments the aero subs refused combat Their speed was terrific dazzling They eluded the thrusts the dives and plunges the American ships easily swallow eludes the dive buzzard \\ncame Prester Kleig however that the aero subs were merely playing with the Americans that when they elected move the planes would blasted from the sky easily the warships were being erased from the surface the Atlantic \\nOne one methodically machines the aero sub pilots blasted the warships into nothingness They had their orders and they went about their performance with rigidity discipline which astounded the Secret Agents They had been ordered destroy the warships and they were doing that first would completion this task matter how many American planes buzzed about their ears \\nBut one one the warships sank the aero subs which had either sunk erased them made the surface and leaped into space with snapping back wings that was horribly businesslike sound and climbed take part the fight against the American planes which must inevitably come \\n \\nThe last warship cut squarely two from stem stern along her center though split thus bolt lightning fell apart like pieces cake and splashed down sinking away while the spume her disintegration rolled back from her fallen sides white crested waves \\nexemplifies the policies Moyen said Prester Kleig for his conquest the world conquest destruction \\nThe last aero sub took the sky and the Americans rushed into battle with fine disregard for what they knew must certain death They were not fools exactly and they had seen but not understood the manner which those gallant old hounds the sea had been erased from existence \\nBut they went plunging squarely into the heart the aero subs leading formation which formation consisted three aero subs flying wing and wing formation \\nThe young American signaled with upraised hand and the American pilots made their first move Every plane started rolling dazzling speed the axis its fuselage while bullets spewed from the guns that fired through the propellers \\nBullets smashed into the leading aero subs with apparent effect though for second seemed that the central aero sub the leading formation hesitated for moment flight \\nThen swift had that black streak flashed from the nose aero subs submerged streak darted from the nose the central aero sub and glistened the sun like molten gold \\n \\ntouched the youngster who had called for volunteers for his attack against this strange enemy touched his plane and the plane vanished instantly while for fraction second the pilot was visible his place the posture sitting hand row buttons which did not exist head forward slightly aimed guns that had vanished \\nThen the pilot still living apparently unhurt plunged down eight thousand feet the sea The water geysered struck then closed over the spot and the gallant American youngster had become the first victim battle the monsters Moyen \\nVictim slender lancet what seemed golden lightning \\ncould have killed the pilot aloft there came quietly from Munson but chose pull his plane away from around him Their control the ray miraculous \\nthough confirm the statement Munson the leading aero sub struck again second plane The plane vanished but from the spot where had flown not even bit metal man sufficiently large seen the delicate recording instruments Maniel dropped out the sky \\nThe ray gold was ray oblivion the minions Moyen willed \\nCHAPTER VIII \\nCharmion \\nPrester Kleig came suddenly into the Secret Room the voice far distant Moyen you will once make change your rules regarding the admission other than Secret Agents the Secret Room You will once see that Charmion Kane sister your friend allowed enter \\nGod Almighty cry agony from the lips Prester Kleig had not forgotten Charmion but simply had had move swiftly that had put her out his mind For year had not seen her and hour two more could not matter greatly \\nAnd her brother Carlos went the voice see that too admitted wish for certain reasons that Charmion come unharmed through the direct attack about make against your country confess that save for this ability speak you unable work any damage the Secret Room which therefore the safest place for Charmion Kane Carlos Kane being spared because her brother \\nThere was mistaking the import this sinister command from Moyen had singled out Charmion the best beloved Prester Kleig for his attentions and that was sure the success his attack against the United Americas was proved the calm assurance his voice and the fact that concentrating the attack must still found time for thought Charmion Kane \\n \\nThe hand ice which had seldom been absent from the heart Kleig since had first seen and heard the voice Moyen gripped him anew Blood pounded maddeningly his temples Cold sweat bathed his body \\nBut the rest the Secret Agents save freeze into immobility when the hated voice spoke gave sign They had worries their own for instructions had been given that they bring their own loved ones into the sanctuary the Secret Room \\nthough answering the thoughts the others the hated voice spoke again \\nregret that cannot arrange for sanctuary for the loved ones all you for you are gallant antagonists why save the few when the many must perish For know you will not surrender however much have proved you that invincible But Charmion Kane must saved \\nGod whispered Kleig God \\nThen spoke General Munson \\nthink this ray which the Moyenites use variation the principle used the intricate machinery Professor Maniel though how they render visible not know But doesn matter and may only blind You note that when the black streak the golden ray strikes anything that thing instantly disintegrates certain pitch resonance will break pane glass matter vibration solely wherein the molecules composing any object animate inanimate are hurled all directions instantaneously \\nProfessor Maniel apparatus the Vibration Retarder able recapture the vibrations speeding outward endlessly through space and reconstruct and draw back visibility the objects destroyed this visible vibratory ray whatever This problem then falls into the province Professor Maniel \\n \\nThrough the heart and soul Prester Kleig there suddenly flowed great surge hope \\nGeneral Munson you will operate the machinery the Vibration Retarder wish talk with Professor Maniel \\nInstantly efficiently without word reply the eager command Prester Kleig General Munson relieved Professor Maniel the apparatus which Maniel called the Vibration Retarder his invention which had combined with audible teleview complete this visual miracle the Secret Room Professor Maniel stepped where Prester Kleig was sitting \\nPrester Kleig put fingers his lips for silence and expression surprise crossed the wrinkled dead white face the Professor \\nBefore Kleig could speak however there came signal from somewhere outside the Secret Room signal which said that the doors were being opened and that personage was coming The Secret Agents looked one another surprise for every man who had right inside the Secret Room was already present \\nknow said Kleig his face mask terror Charmion and Carlos Kane Moyen the devil has managed make sure obedience his orders \\nThe Secret Agents turned back the screen upon which the view the first aerial brush the American flyers with the minions Moyen their aero subs was drawing terrible close \\nFor the aero sub commanders had played with the warships which had human beings aboard them now did they play with the planes the Americas \\n \\nOne American flyer startled into frenzy the fate his fellows put his helicopter into action and leaped madly out the midst the battle Instantly aero sub zoomed skyward after him Again that golden streak light from the nose aero sub and the helicopter vanes and the slender staff upon whose tip they whirled vanished shorn short off above the vane grooves the top the wing \\nThe plane dropped away fluttering like falling leaf for moment before the aviator started his three propellers again \\ncheer broke from the lips Prester Kleig watched The commander that particular aero sub apparently contemptuous this flyer who had tried cut out the fight allowed him fall away unmolested and the American driven berserk the casual contemptuous treatment accorded him this strange enemy zoomed the second his propellers whirred into top speed action and raced the sky toward the belly the aero sub \\nonly the aero sub has blind spot cried Prester Kleig \\n \\nthat instant roaring crash sounded the Secret Room the American plane going full speed crashed propellers foremost into the belly the aero sub \\nAnd the aero sub whose brothers had seemed until this moment invincible did not escape the wrath the American though the American went into oblivion with \\nFor welded together American plane and aero sub started the eight thousand feet plunge downward the sea \\nWatch shrieked Munson Watch \\nthe aero sub and the plane plunged down through the formation fighters the aero sub pilots saw and they fled wild dismay and top speed from their falling compatriot Why For moment was not apparent And then was \\nFor out the body the doomed aero subs came sheets golden flame Not the flames fire but the golden sheen that streak which the aero subs had used against the American planes already out the fight The American flyer had crashed into the container whatever was that harnessed the agency through which the minions Moyen had destroyed the Stellar and the battleships raped from Hampton Roads \\nliquid then shrieked Munson \\nAnd seemed For second the golden mantle strange awe inspiring bathed and rendered invisible the aero sub and the plane which had slain her Then the golden flame vanished utterly instantly and the air where had been there was nothing The aero sub was gone and the plane whose mad charge had erased her \\nHer own death dealing agency destroyed her shrieked Munson And the other aero subs cut away from the fight save themselves because they too carry death and destruction within them \\n \\nThen the inner door the Secret Room opened and two people entered One them dazzling beauty with glorious black hair and the tread princess picture perfection from jeweled sandals coiffured hair was Charmion Kane Behind her came her brother whose face was chalky white But Charmion she crossed Kleig and kissed him while her eyes were luminous with love held her head proudly high imperious \\nknow she said softly Kleig and not afraid know you will prevent \\nKleig waved the two chairs and turned again Professor Maniel \\npiece paper wrote swiftly using mode shorthand known only the Secret Agents \\nProfessor wrote feverishly can you reverse the process used your Vibration Retarder Tell with your eyes for Moyen may even know this writing and sure hears what say here may even able see \\nProfessor Maniel started and stared deeply into the eyes Prester Kleig His face grew thoughtful brushed his slender hand over the massive dome his brow Hope burned high the heart Prester Kleig \\n \\nThen despite Kleig instructions answer merely the expression his eyes Professor Maniel leaned forward and wrote quickly the piece paper Kleig had used \\nTwo hours \\nNothing else explanations but Prester Kleig knew Maniel believed could but needed two hours which perfect his theory and make workable Kleig knew that had been able two years two decades still would have been the nature miracle \\nBut two hours \\nAnd Moyen had said that was preparing attack once \\ntwo hours Moyen unless the Americas fought against him with every resource their command could depopulate half the Western World Kleig looked back the screen \\nThere was not single American plane the sky above the graveyard those vanished warships And the aero subs swift flying the wind were racing back the mother ship scores miles away \\nMunson worked with the Vibration Retarder the Sound and Vision devices ranging the sea off the coast either side that huge suspended fortress which was the mother submarine the aero subs \\nGasps terror though the sight was not unexpected broke from the lips every person the Secret Room \\nFor super monsters Moyen were moving the attack \\nCHAPTER \\nFlowers Martyrdom \\nFor minute the Secret Agents were appalled the air might the deep sea monsters Moyen brought bodily almost into the Secret Room the activities General Munson the Sound and Vision apparatus \\nOff the coast miles away yet looming moment moment larger indicating the deceptively swift speed the monsters were scores the great under water fortresses traveling toward the coast the United Americas far flung formation each submarine separated from its neighbor right and left something like hundred miles easy cruising radius for the little aero subs carried inside the monsters \\nThat each submarine did carry such spawn Satan was plainly seen for the great submarines moved landward scores aero subs sported gleefully about the mother ships There was counting the number them \\nTwo hours Maniel needed for his labors which meant that for two hours the flower the country manhood must try hold check the mighty hordes Moyen \\nSomewhere there stated Prester Kleig one the other those monsters Moyen himself know that since wished Charmion saved for his attentions your work with your apparatus Munson while out the radio tower broadcast appeal for volunteers Charmion Carlos \\nBut Prester Kleig found that could not continue Not that was necessary for Charmion and Carlos knew what was his mind Charmion was lady vast intelligence from whom life little ironies had not been hidden and Kane and Kleig had already discussed the activities Moyen where women were concerned \\n \\nPrester Kleig hurried the Central Radio Tower and passed through each the many doors leading out the roof the new Capitol Building the guards the doors left form guard for him this moment the most precious man the country because knew best the terrible trials which faced her \\nThe country was turmoil seemed almost impossible that whole day had passed since Prester Kleig had returned and entered the Secret Room the meantime fleet battleships had been drawn some mysterious agency out sea from Hampton Roads and fleet fighting planes which had followed the ghost column outward had not returned \\nNews gatherers had spread the stories distorted and garbled across the western continents and throughout the western confederacy men women and children lived the throes the greatest fear that had ever gripped them Fear held them most because they could not give the cause their fear name save one \\nMoyen And the name was the lips everyone and frenzied woman stilled their squalling babes with its mention \\nword yet from the Secret Room but Prester Kleig had scarcely appeared from than someone started the radio signal which informed the frenzied waiting world the west that information exact startling would now forthcoming \\nmillions homes thousands high flying planes listeners tuned the clear all hum \\n \\nPrester Kleig wasted time preliminaries \\nPrester Kleig speaking are threatened Moyen with scores monster submarines each mother ship for scores aero subs combinations airplanes and miniature submarines They are moving our eastern coast from some secret base which have not yet located They are equipped with death dealing instruments which have but the most fragmentary knowledge and for two hours must call upon all flyers combat the menace until the Secret Agents especially Professor Maniel have had opportunity counteract the minions Moyen \\nFlyers the United Americas the name our country ask that volunteers gather the eastern coast each flyer proceeding once the nearest coast landing after dropping all passengers Your commanders have already been named your various organizations required franchise and orders for the movement the entire winged armada will come from this station However the orders will simply this Hold Moyen forces bay for period two hours And know that many you certain death and make your own decisions whether you shall volunteer \\nThis ended Prester Kleig excitement mounting high hurried back the Secret Room \\nNow the public knew and the American public given doing steadied down when knew the worst Fear the unknown had changed the public into myriad souled beast gone berserk Now that knowledge was exact men grew calm face determined and women assumed the supporting role which down the ages has been that brave women mothers men \\n \\nperiod silence for time after Prester Kleig pronouncement \\nentered the first door leading into the Secret Room Carlos Kane met and passed him with smile \\nYou called for winged volunteers did you not Kleig asked quietly \\nKleig nodded You are going said \\nYes duty \\nother words were necessary the men shook hands Prester Kleig going the Secret Room Carlos Kane going out join the mighty armada which must fight against the minions Moyen \\nThe words Prester Kleig were heard the pilots the sky lanes The passenger pits equipped with self opening parachutes which dropped jumpers series long falls order acquire swift but accurate and safe landing they opened intervals long falls two thousand feet stayed the fall then closed again that drops were almost continuous until the last four hundred feet and pilots swiftly making their minds dropped their passengers banked their planes and raced into the east \\n \\nAll over the Americas pilots dropped their passengers and their loads their franchises called for the carrying freight and banked about take part the first skirmish with the Moyenites \\nDropping figures almost darkened the sky passengers plunged downward after the startling signal from Washington Flowers which were the umbrellas chutes opened and closed like breathing winged orchids letting their burdens safely earth \\nAnd clouds and fleets airplanes came from all directions land rows and rows which were endless wing and wing along the eastern coast \\nPrester Kleig had scarcely entered the Secret Room than the hated voice Moyen again broke upon the ears the machinelike Secret Agents \\nThis madness gentlemen people will annihilate yours \\nBut since time for speech had passed not one the Secret Agents made answer paid the slightest heed the warning though deep the heart each and every one was the belief that Moyen spoke more than the truth \\nToo there was growing respect for the half god Asia that was good enough warn them the holocaust which faced their country \\nhundreds and thousands wing and wing airplanes dropped the Atlantic coast the closest point contact when the signal reached them high altitudes planes crossing the Atlantic turned back and returned top speed dropping their passengers soon over land That Moyen made move prevent the return flyers out over the ocean and now coming back was ominous circumstance \\nseemed show that held the American flyers all them utter contempt \\n \\nPrester Kleig regarded the time had been half hour since Moyen had spoken attack half hour since the monsters the deep had started the inexorable move toward land the screen the submarines were bulking larger and larger the moments fled until seemed the Secret Agents that the great composite shadow them already was sweeping inland from the coast \\nthe coast came close ahead the monster subs the little aero subs the surprise the Secret Agents all vanished into their respective mother ships \\nBut they have use them groaned Munson For their submarines are useless frontal attack against our shores \\nnot sure that said Prester Kleig For have suspicion that those submarines have tractors under their keels and that they can come out land this the monsters can guarded armour plate penetrate the very heart our most populated areas before their aero subs are released \\nNone the Secret Agents yet had stopped ponder how the monsters had reached their positions and why Moyen was attacking from the east when the Pacific side the continents would have appeared the obvious point attack and would have obviated the necessity long secret under sea journeys wherein discovery prematurely must have been one the many worries the submarine commanders \\nThe mere fact the presence the monsters was enough What had preceded their presence was unimportant save that their presence and their near approach the shore undetected further proved the executive and planning genius Moyen \\nTwo miles average off the eastern coast the submarines laid their eggs the aero subs which darted from the sides the mother ships flights and squadrons made the surface and leaped into the sky \\nFive minutes later and the signal went forth the phalanx the volunteers \\nTake off Fly east and engage the enemy and hold him check and the God our fathers with you \\nOne hour had passed since Moyen ultimatum when the first vanguard the American flyers obeying the peremptory signal took the air and darted eastward meet the winged death harbingers Moyen \\nCHAPTER \\nThey Shall Not Pass \\nPrester Kleig heartfelt desire the American flyers closed with the first the aero subs was out with them and aid them the attack against the Moyenites But knew and was tacit thing that best served his country from the safe haven the Secret Room \\nwatched the scenes unfold the screen Maniel genius with occasional glances the somewhat mysterious but profound and concentrated labors Maniel Charmion Kane rose from her place and came his side \\nWide eyed she watched the joining battle she stood there her tiny hand encased the tense one Prester Kleig \\nYou would like out there she murmured know But your country needs you here and have already given Carlos \\nPrester Kleig tightened his grip her hand \\n \\nThere was deep silent understanding between these two and Prester Kleig fighting against the Moyenites realized even above his realization that his labors were primarily for the benefit his country that really matched wits with Moyen for the sake Charmion Had anyone asked him whether would have sacrificed her for the benefit his country would have been difficult question answer \\nwas glad that the question was never asked \\nYes beloved whispered would like out there but the greatest need for here \\nBut even felt though was betraying those intrepid flyers was sending sure death Yet they had volunteered and was the only way \\nManiel gnomelike little man with Titan brain labored with his calculations made swiftly concrete his theories while the Sound and Vision apparatus excitable General Munson ranged the aerial battlefield see how the tide battle ebbed and flowed \\nThat neither side would either ask give quarter was instantly apparent for they rushed head meet each other those vast opposing winged armadas top speed and not single individual swerved from his course though least the Americans knew that death rode the skyways ahead \\nThen \\nThe battle was joined Moyen forces were superior armament Their sky steeds were faster more readily maneuverable though the flying forces the Americas the last five years had made vast strides aviation But what the Americans lacked power they made for fearless courage \\n \\nThe plan battle seemed automatically work itself out \\nThe first vanguard American planes came into contact with the forces Moyen and from the noses countless aero subs spurted that golden streak which the Secret Agents knew and dreaded \\nThe first flight planes stretching from horizon horizon vanished from the sky with that dreadful surety which had marked the passing the Stellar and such those warships had felt the full force the visible ray \\nFrom General Munson rose groan anguish These convertible fighting planes had been the pride the heart the old warrior him credit however was the wanton terribly inevitable destruction the flyers themselves which affected him was final absolute and utterly impossible combat \\nWait snapped Prester Kleig \\nFor the intrepid flyers behind that vanguard which had vanished had witnessed the wholesale disintegration the leading element the vast armada and the pilots realized the instant that headlong rush into the very noses the aero subs would avail anything \\nThe vast American formation broke into mad maelstrom whirling darting diving planes Every third plane plummeted downward every second one climbed and the remaining ships even the face what had happened the vanished first flight held steadily the front \\nthis mad seemingly meaningless formation they closed the aero subs Without having seen the fight the Americans were aping the action that one nameless flyer who had charged the aero sub that had been destroyed \\n \\nKleig remembered score ships had been destroyed utterly above the graveyard dreadnoughts yet only one aero sub and that quite chance had been marked off the casualty column \\nDeath rode the heavens the American flyers went into action For head fights flyers went top speed their planes whirling the axes fuselages all guns going Planes were armored against their own bullets and they were not under the necessity watching see that they did not slay their own friends \\nEven bullets were rather ineffective against the aero subs whose apparently flimsy almost transparent outer covering diverted the bullets with amazing ease \\nwhirling maelstrom ships The monsters Moyen had drawn first blood the expression may used action where blood all was drawn but machines and men simply erased from existence \\nHundreds planes already gone when the second flight ships closed with the aero subs Yellow streaks death flashed from aero sub nostrils but even aero sub operators set their rays into motion the American flyers head charge rolled dived zoomed and kept their guns going \\nHigh above the first flight aero subs behind which another flight was winging swiftly into action American flyers tilted the noses their planes over and dived under full power sure death suicide though none knew there the moment \\n \\nThese aero subs could not driven from the sky usual means and could destroy American ships even before those planes could come handgrips but they the flyers plainly believed could crashed out the sky and never guessing what besides death resulting crashes they faced the flyers above the aero subs even aero subs rear flashed prevent dived down straight the backs the aero subs \\nhundred places the dives the Americans worked successfully and American planes crashed full and true full power into the backs the flying fish some aero subs the container the Moyen dealing agency apparently remained untouched and airplanes and aero subs welded together plunged down the invisible skylanes into the sea \\nUnder water some the aero subs were seen keep motion limping toward the nearest mother submarines \\nhope said Prester Kleig the American flyers such cases are already dead for Moyen will maniac his tortures Munson you hurriedly examine the mother subs and see you can locate Moyen \\n \\nHowever only scattered aero sub here and there went down without the strange substance the yellow ray being released most cases upon the contact plane with aero sub the aero subs and planes were instantly blotted from view the yellow golden flames from the heart the winged harbingers Moyen \\nGolden flames blinding their brightness dropping down mere shapeless blotches then fading out nothingness matter seconds with aero sub and airplane totally erased from action and from existence \\nThe American flyers saw and knew now the manner death they faced Yet all along the battle front not American tried evade the issue and draw out the fight sublime inspiring exhibition mass courage which had not been witnessed down the years since that general engagement which men the time had called the Great War \\nPrester Kleig turned look Maniel Drops perspiration bathed the cheeks the master scientist but his eyes were glowing like coals fire His face was set white mask concentration and Prester Kleig knew that Maniel would find the answer the thing sought such answer could found \\nWould the American flyers able hold off the minions Moyen until Maniel was ready The fight out there above the waters was terrible thing and the Americans fought and died like men inspired yet inexorably the winged armada Moyen preceded those licking golden tongues was moving landward \\nGreat God cried Munson Look \\n \\nThere was really need for the order for every Secret Agent saw soon did Munson Under the sea just off the coast the mother subs had touched their blunt nose against the upward shelving the sea bottom had touched bottom and were slowly but surely following the underwater curve the land toward the surface like unbelievable antediluvian monsters out some nightmare \\nYes said Kleig quietly those monsters Moyen can move land and the aero subs can operate from them easily land under water \\nKleig regarded the time whirled look Professor Maniel \\nOne hour and forty minutes had passed since Maniel had begged for two hours which prepare some mode effectively combatting the might Moyen Twenty minutes yet the mother subs would ashore dragging their sweating monstrous sides out the deep within ten minutes \\nTen minutes ashore and there was guessing the havoc they could cause the United Americas \\nHurry Maniel Hurry Hurry said Prester Kleig \\nBut spoke the words himself though even had spoken them aloud Maniel would not have heard For Maniel for two hours had closed his mind everything that transpired outside his own thoughts devoted foiling the power Moyen \\nfound him snapped Munson \\n \\npointed with shaking forefinger one the mother subs crawling the slant the ocean bed twisted one the little nubs the Sound and Vision apparatus and the angelic face and Satanic eyes the twisted body Moyen came into view \\nThe face was calm with dreadful purpose and Moyen stood the heart one his monsters his eyes turned toward the land With gasp terror dreadfully afraid for the first time Prester Kleig turned and looked into the eyes Charmion \\nshe said will never happen have faith you \\nThere were still ten minutes the two hours left when the mother subs broke water and started crawling inland swiftly surely without faltering the slightest they changed their element from water land \\nthough their appearance had been the signal the aero subs action against the first line American planes broke out the one sided fight and dived for their mother ships while mere handful the American planes started back for home prepare anew continue the struggle \\nPrester Kleig gave the signal the second monster armada which had remained reserve \\neverything your power halt the march Moyen amphibians \\nTen minutes and Professor Maniel still labored like Titan \\nCHAPTER \\nCaucasia Falls Silent \\nthe scores amphibian monsters came lumbering forth upon dry land became instantly apparent why the aero subs had returned the mother ships For few moments out the water the amphibians were almost helpless with practically way attack defense helpless huge turtles turned legs \\nBut each aero sub entered its proper slot the side the mother amphibian was turned about and the nose thrust back into the opening which closed down fit tightly about the nose the aero sub that those flame breathing monsters protruded from the sides the amphibians many places transforming the amphibians into monsters with hundreds golden licking tongues \\nwith each and every aero sub place the amphibians started moving inland Professor Maniel made his first move With the tiny apparatus upon which had been working stepped the table before the Sound and Vision apparatus and spoke softly his compatriots \\nGentlemen said have finished and will work effectively \\nThough Maniel spoke softly was plain seen that was proud his accomplishment which remained only attached start performance \\nmatter seconds \\nYet during those seconds was the real might the real power for utter devastation Moyen fully exposed \\n \\nThe amphibians got under way the airplanes the Americas swept into the fight \\nFrom the sides the monsters licked out those golden tongues flame and from the front \\nHalf dozen amphibians slipped into New York from the harbor side and started into the heart the city And between the time when Maniel had said was ready and the moment when made his first active move against Moyen half dozen skyscrapers vanished into nothingness the spots where they had stood swept clear debris though the land had never been reclaimed from Nature \\nNone was ever destined know how many lives were lost that first attack the monsters the golden myriad tongues but the monsters struck the midst working day when the skyscrapers were filled with office workers \\nAnd resolve struck deep into the hearts the Secret Agents Moyen were turned back must made pay for the slaughter \\nmatter seconds \\n \\nThen moment deathly silence Munson gave way the screen for the gnomelike little Professor Maniel \\nNow gentlemen snapped Maniel theory correct manipulating instruments with lightning speed talked the reversion the principle Vibration Retarder which captures vibrations speeding outward from the earth and transforms them once again into sound and pictures audible and visible the human ear this apparatus will disintegrate the monsters our boats and planes were disintegrated \\nthis have even been compelled manipulate the matter time must not only defeat and annihilate the minions Moyen but must work from mathematical absurdity that the moment impact that moment itself must become part the past sufficiently remote remove the monsters such distance from the earth that not even the mighty genius Moyen can return them \\nThe whirring gentle the whirring doves wings the center the picture the screen were those half dozen amphibians laying waste Manhattan Maniel set his intricate delicate machinery into motion \\nInstantly the amphibians there seemed become misty shadowy and lift out Manhattan above the roof tops skyscrapers still remaining nebulous and wraithlike ghost shrouds yet swinging outward from the earth with speed almost too swift for the eye detect \\nBut where the amphibians had rested there stood reclined all sorts postures surprising and even bit ridiculous the men Moyen who had operated the monsters Moyen \\n \\nFrom the Central Radio tower went forth mighty voice command the planes which had been engaging the aero subs off the coast \\nSlay Slay \\nDown flashed the planes the Americas and their guns were blazing inaudibly but none the less deadly aim and purpose straight into the midst the men Moyen who had thus been left marooned and almost helpless with the vanishing their amphibians \\nAnd noting how they fell strangled huddled heaps before the vengeful fire the American planes the Secret Agents sighed and Maniel his face alight with the pride accomplishment switched another point along the coast \\nAnd new group the monsters Moyen came into view and Maniel bent his labors afresh the hated voice the master mobster broke once more the Secret Room \\nEnough Kleig Enough will surrender save lives stipulate only that own life spared \\nwhich Prester Kleig made instant reply \\nDid you offer choice surrender Did you spare the lives our people which with your control your golden rays you could easily have done  Nor will spare lives least all the life Moyen \\nThe whirring again the whirring doves wings More metal monsters even golden tongues spewed forth from their many sides vanished from view leaping skyward while the operators them were left the mercies the remaining airmen the Americans \\n \\nVoicelessly the word went forth \\nSlay Slay \\nwas Charmion who begged for mercy for the vanquished one one surely fate the monsters with their contained aero subs were blotted out leaving pilots and operators behind them Down upon these dropped the airmen the West slaying without mercy \\nPlease lover Charmion whispered Spare them \\nEven began thinking Moyen who would have taken Charmion felt her shudder she read his mind understood what would have asked \\nThere came softly from Munson \\namphibian had just been disintegrated had just climbed mistily swiftly into invisibility the skies And there the midst the conquerors left behind his angel face set moody mask his pale eyes awful with fear his misshapen body sagging terrible its realization failure was Moyen \\nEven Kleig prepared give the mercy signal plane dived down the group about Moyen and the Secret Agents could see the hand the pilot lifted high though signaled \\nThe plane was Mayther The pilot was Carlos Kane \\n \\nJust Kane went into action and the noiseless bullets from his ship crashed into that twisted body causing jump and twitch with the might them Prester Kleig gave the signal \\nEven the figure Moyen crashed the soil and the man soul quitted its mortal casement Kleig commanded \\nSpare all who surrender Make them prisoners used repair the damage they have done our country Guards will instantly placed over the amphibians and the aero subs for the day may come when shall need know their secrets \\nAnd men hands lifted high token surrender quitted the now motionless amphibians and flyers dropped down make them prisoners Maniel sighed pressed various buttons his apparatus and the mad scene carnage they had witnessed for hours faded slowly out and darkness and silence filled the Secret Room \\nBut darkness the joy lovers and the midst silence that was almost appalling contrast Kleig and Charmion were received into each other arms \\n--------------------------- Everyone Invited Come Over THE READERS CORNER --------------------------- \\nVampires Venus \\nAnthony Pelcher \\nIllustration seized short knife and threw himself forward \\nLeslie Larner entomologist borrowed from the Earth pits himself against the night flying vampires that are ravaging the inhabitants Venus \\nwas someone had thrown bomb into Quaker meeting when adventure suddenly began crowd itself into the life the studious and methodical Leslie Larner professor entomology \\nFame had been his since early manhood when began distinguish himself several sciences but the adventure and thrills had longed for had always fallen the lot others \\nHis father college professor had left him good working brain and nothing else Later his mother died and was left with relatives the world far knew gave his life over study and hard work \\nStill youthful twenty five was hoping that fate would give him break did \\nwas charge Government department having with Oriental beetles Hessian flies boll weevils and such and seemed his life had been just one bug after another took creeping crawling things seriously and believed that unless curbed insects would some day crowd man off the earth sounded alarm but humanity was not disturbed Leslie Larner fell back his microscope and concerned himself with saving cotton wheat and other crops His only diversion was fishing for the elusive rainbow trout \\nmanaged spend month each year the Colorado Rockies angling for speckled beauties \\nLarner was anything but clock watcher but certain bright day June was seated his laboratory doing just that \\nJust five minutes mused \\nwas just had finished his work put his affairs order and five minutes would free leave much needed and well earned vacation His bags were packed and the station His fishing tackle the pride his young life was neatly rolled oiled silk and stood near hand \\njust fill calabash take one more quiet smoke and then for the mountains and freedom told himself settled back with his feet his desk half closed his eyes solid comfort Then the bomb fell and exploded \\n \\n \\nThe buzzer his desk buzzed and his feet came off the desk and hit the floor with thud His eyes popped open and the calabash was immediately laid aside \\nThat buzzer usually meant business and would his usual luck have trouble crash him just was the edge rainbow trout paradise \\nmessenger was ushered into the room assistant The boy handed him envelope said answer and departed \\nLarner tore open the envelope lazily read and then read its contents while look puzzled surprise disturbed his usually placid countenance spread the sheet paper out his desk and for the tenth time read \\nConfidential \\nMemorize this address and destroy this paper \\nTula Bela 1726 88th Street West City Hesper Republic Pana Planet Venus \\nWill meet you the Frying Pan \\nThat was all was enough Larner lost his temper crumpled the paper and tossed the waste basket was not given profanity but could say Judas Priest way that sizzled \\nJudas Priest spluttered Anyone who would send man crazy bunch nonsense like that time like this ought snuffed out like beetle \\nMeet you the Frying Pan quoted Then happened recall something golly there fishing district Colorado known the Frying Pan That not crazy but the planet Venus part surely cuckoo \\nfished the paper out the waste basket found the envelope placed the strange message within and put his inside coat pocket Then seized his suitcase and fishing tackle and rushing out hailed taxi Not long after was his way west plane \\n \\nthe country unrolled under him retrieved the strange note from his pocket read again and again Then examined the envelope was ordinary one good quality designed for business rather than social usage The note paper appeared quite different was unruled pure white and texture which might described pebbly was strongly made and nature unlike any paper Larner had ever seen before appeared have been made from fiber rather than pulp \\nWonder who wrote Larner asked himself beautiful handwriting masculine yet artistic Wonder where got the Frying Pan idea any rate not going the Frying Pan this year camping Tennessee Creek Lake County Colorado The country there more beautiful and restful \\nBut this street address the planet Venus Seems read somewhere that Marconi had received mysterious signals that believed came from the planet Venus Hesper Hesper sounds familiar somehow Wonder there could anything \\nSomething impelled him follow out the instructions the note spent the next few hours repeating the address over and over again When was satisfied that had memorized thoroughly tore the strange paper into bits and sent fluttering earthward like tiny snowstorm \\nLarner was not gullible individual but neither was unimaginative was scientist enough know that the impossibilities day are the accomplishments morrow while not convinced that the note was serious communication still his mind was open \\nThe weird address insisted creeping into his mind and driving out other thoughts even those his speckled playfellows the rainbow trout \\nnotion change plans and from Denver the Frying Pan cogitated Then thought won take that seriously \\n \\nAnyone who knows the Colorado Rockies knows paradise There more beautiful country the globe Lake County where Larner had chosen his fishing grounds has its seat the old mining camp Leadville has been visited and settled more for its gold mines than the golden glow its sunsets above the clouds but the gold the sunsets eternal while the gold the mines fading quickly away \\nLeadville with its 000 inhabitants nestles above the clouds altitude more than 000 feet Mount Massive with its three peaks lies back the town panorama and rises height some 400 feet the rugged mountains thereabouts are hundreds lakes fed wild streams and bubbling crystal springs All these lakes are above the clouds \\nWinter sees the whole picture decorated with bizarre snowdrifts from twenty forty feet deep but spring comes early The beautiful columbines and crocuses bloom before the snow all off the ground the valleys The lands 000 feet altitude are carpeted with light green grass and moss Giant pines and dainty aspens with their silvery bark and pinkish leaves blossom forth and whisper while the eternal snows still linger the higher rocky cliffs and peaks above \\nIndian paint blooms its blood red contrast the milder colorings Blackbirds and bluebirds chatter and chipmunks chirp The gold hard find the mines glares from the skies The hills cuddle banks snowy clouds and above all pure clear blue sky sweeps The lakes and streams abound with rainbow trout the gamest any fresh water fish indeed paradise for either poet sportsman \\nany direction near Leadville man can find Heaven and recreation and rest \\nFinding himself Harrison Avenue the main street the county seat Larner after renewing some old acquaintanceships started west flivver for Tennessee Creek The flivver modern adjustment Until few years ago the only means traversing these same hills was patient sure footed donkeys which carried the pack while the wayfarer walked along beside \\n \\nThe first day fishing was good Trout seemed greet him cheerily and sprang eagerly the fray They bit any sort silken fly cast \\nThe site chosen Larner for his camp was mossy clearing separated from the stream fringe willows along the creek Then came border aspens backed forest silver tipped firs \\nwas ideal and his eyes swept the scene with satisfaction Then began whittling bacon grease his pan for frying trout over the open fire \\nSuddenly heard rustle the aspens and looking beheld picture which made his eyes bulge man and woman garbed seemingly the costumes another world walked toward him Neither were more than five feet tall but were physically perfect and marvelously pleasing the eye There was little difference their dress \\nBoth wore helmets studded with what Larner believed sapphires learned later they were diamonds Their clothing consisted tight trouserlike garments surmounted tunics some white pelt resembling chamois save for color belt studded with precious stones encircled their waists Artistic laced sandals graced their small firm feet \\nTheir skin was pinkish white Their every feature was perfection plus and their bodies curved just enough wherever curve should The woman was daintier and more fully developed and her features were even more finely chiseled than the man Otherwise would have been difficult distinguish their sex \\nLarner took these details subconsciously for was awed beyond expression All could was stand seemingly frozen half bent over the campfire with his frying pan his hand \\n \\nThe man spoke \\nhope did not startle you said thought note would partly prepare you for this meeting expected find you the Frying Pan district When you did not appear there tuned our radio locator your heart beats and that way located you here was hardly second space flying time from where were \\nLarner said nothing could only stand and gape \\nnot wonder that you are surprised said the strange little man will explain that Nern Bela the City Hesper the planet Venus This sister Tula greet you the interest the Republic Pana which embraces all the planet you know Venus \\nWhen Larner recovered his breath lost his temper \\ndon know what circus you escaped from but crave solitude and have time bothered with fairy tales said with brutal bruskness \\nExpressions hurt surprise swept the countenances his visitors \\nThe man spoke again \\nare just what assert are and our finding you was made necessary condition which grieves the souls all the 900 000 000 inhabitants Venus have come plead with you come with and use your scientific knowledge thwart scourge which threatens the lives millions people \\nThere was quiet dignity about the man and air pride about the woman which made Larner stop and think try rubbed his hand over his brow and looked questioningly the pair \\nyou are what you say you are how did you get here asked \\ncame targo space flying ship capable doing 426 000 miles hour This just 1200 times fast 355 miles hour the highest speed known earth Come with and will show you our ship They looked him appealingly and both smiled smile wistful friendliness \\nLarner without word threw down his frying pan and followed them through the aspens The brother and sister walking ahead him gave his eyes treat surveyed the perfect form the girl Her perfection was beyond his ken \\nThey certainly are not this world mused \\n \\nfew hundred yards farther there was beach pebbles where the stream had changed its course this plot sat gigantic spherical machine glasslike material was about 300 feet diameter and was tapered two sides into tees which Larner rightly took lights \\nThis targo our type space flyer said Nern Bela capable making two trips year between Venus and the earth have visited this planet often always landing some mountain jungle fastness heretofore did not desire earth dwellers know our presence \\nWhy not asked Larner his mouth agape and his eyes protruding His mind was full questions that fairly blurted his first one \\nBecause said Bela slowly and frankly because our race knows sickness and feared contagion your race has not yet learned control its being \\nsaid Lamer thoughtfully realized that humans the earth whom had always regarded God most perfect beings were not perfect after all \\nHow you people control your being you express asked \\nsimple was the reply For ninety centuries have ceased breed imperfection crime and disease deprived one the pleasures life but only the most perfect mental and physical specimens our people cared have children other words while make claim controlling our sex habits control results \\nsaid Larner again \\nNern Bela led the way door which opened into the side the space flyer near its base have crew four men and four women said They handle the entire ship with sister and command making six souls aboard all \\nWhy men and women thought Larner \\nanswer his thought Bela said \\nthe earth the two sexes have struggled for sex supremacy This has thrown your civilization out balance Venus have struggled for sex equality and have accomplished This perfect balance Man and women engage all endeavor and share all favors and rewards alike \\nwar too asked Larner \\nThere has not been war Venus for 600 000 years said Bela There only the one nation and the people all live perfect accord Our only trouble centuries dire peril which now threatens our people and this that wish talk you more length \\n \\nThey were standing close the targo Larner was struck the peculiar material which was constructed There was question his eyes and Nern Bela answered \\nThe metal duranium metalized quartz frictionless conducts current ray except repulsion and attraction ray NTR69X6 which propelled practically transparent lighter than air and harder than diamond cast moulds after being melted rather fused \\nuse cold light which produce forcing oxygen through air tubes into vat filled with the fat deep sea fish resembling your whale You are aware course that that exactly how cold light produced the firefly except for the fact that the firefly uses his own fat \\nLarner was positively fascinated smoothed the metal the targo appreciation its marvelous construction but longed most see the curious light giving mechanism for this was closer his own line entomology had always believed that the light giving organs fireflys and deep sea fishes could reproduced mechanically \\nThe interior the ship resembled vague way that ocean liner was controlled instrument board which man and girl sat They did not raise their heads the three people entered \\nWhen called Bela and his sister who seemed give commands unison the crew assembled and were presented the visitor \\nEarth dwellers are not the curiosity that seem you said Tula Bela speaking for the first time and smiling sweetly \\nLarner was too engrossed note the remark further than nod his head was lost contemplation these strange people all garbed exactly alike and all surpassingly lovely look upon \\n \\nodor food wafted from the galley and Larner remembered was hungry with the hunger health had swung his basket fish over his shoulder when left his campfire and Tula took from him \\nWould you like have our chef prepare them for you she said she caught his hungry glance his day catch This time Larner answered her \\nyou will pardon said awkwardly Really famished \\nYou will not miss your fish dinner said the girl \\nbelieve there enough for all said Larner caught twenty beauties never knew fish bite like that Why they and was off voluminous discourse favorite subject \\nThose assembled listened sympathetically Then Tula took the fish and soon the aroma broiling trout mingled with the other entrancing galley odors \\nAfter dinner which some weird yet satisfying viands were served and much unusual conversation indulged Nern Bela led the way what appeared the captain quarters The crew and their visitor sat down discuss subject which proved such terrifying nature scar human souls \\nPeople Venus said Nern his eyes took worried expression are unable leave their homes after nightfall due some strange nocturnal beast which attacks them and vampirishly drains all blood from their veins leaving the dead bodies limp and empty \\nWhat How questioned Larner leaning far forward over the conference table \\nThe others nodded their heads and the eyes the women there was terror Larner could not but believe this \\nThe beasts should say insects are large your horses and they fly actually fly night striking down humans domestic animals and all creatures warm blood How many there are have means knowing and cannot find their hiding and breeding places They are not native our planet and where they come from cannot imagine They are actually monstrous flys bugs some form insects \\n \\nLarner was overcome incredulity and showed Insects big horses questioned and could hardly suppress smile \\nBelieve the name the God all insisted Nern They have mouth which consists large suction disk the center which lancelike tongue The lance forced into the body any convenient point and the suction disk drains out the blood only knew their source They attack young children and the aged five hundred years alike \\nWhat Five hundred years exploded Larner again \\nshould have explained said Nern simply that Venus dwellers due our advanced knowledge sanitation and health conversation live about 800 years and then die invariably old age The only unnatural cause death encountered this giant insect Accidents occur but they are rare There are deliberate killings Venus \\nLarner did not answer only pondered The more ran over the strange happenings the last week his mind the more believed was dreaming His thoughts took strange turn Why these vain people around dressed jeweled ornaments \\nNern again anticipated question Diamonds gold and many what you call precious stones are common Venus volunteered Talc and many other things are more valuable \\nTalc \\nYes use immense quantity have wood that harder than your steel build machinery with cannot use oil lubricate these wooden shafts and bearings softens the wood all parts exposed friction are sprayed constantly gust talc from blower \\nYou use talc mostly for toilet purposes use for various purposes There little left Venus and more valuable than either gold diamonds draw your planet now for talc You dump immense quantities just shipped one hundred 000 ton globes from the Cripple Creek district and the district never missed drew most from your mine dumps \\n \\nNern tried not look bored explained more detail brought 100 hollow spheres constructed duranium suspended these over the Cripple Creek district altitude 000 feet above the earth surface Because the crystal glint duranium they were invisible earth dwellers that height Then used suction draft night drawing the talc from the earth filling one drum after another This done tuning certain selective attraction that attracts only talc draws right out your ground tiny particles and assembles the transportation drums pure talc the earth noticed all would have been called dust storm \\nThe drums when loaded with talc are set attract the proper planetary force and they speeding toward Venus the rate 426 000 miles hour They are prevented from colliding with meteors automatic magnetic device This controlled magnetic force alone and when the targo gets too close meteor changes its course instantly The passenger targo ride acts similarly And now may return the subject the vampires Venus \\nPardon ignorance said Larner and for the first time his life felt very ignorant indeed \\nknow little more than have told you said Nern rather hopelessly Our knowledge your world your people and your language comes from our listening you and observing you without being observed heard This might seem like taking advantage you were not for the fact that respect confidences and subjugate all else science have helped you times telepathically suggesting ideas your thinkers \\nwould have given you all our inventions this way gladly but many instances were unable find minds attuned accept such advanced ideas have had the advantage you because our planet many millions years older than your own There was plaintive note Nern voice talked \\n \\nBut now are our knees you speak not know everything and desperately need the aid man your caliber behalf the distraught people Venus asking you bluntly make great sacrifice Will you face the dangers trip Venus and use your knowledge aid exterminating these creatures hell There was positive pleading his voice and the eyes his beautiful sister there were tears \\nBut what would superiors the Government Bureau think feebly protested Larner could not explain \\nYou have superiors your line Our Government needs you this time more than any earthly government Your place here fixture You can always return should you live are asking you face horrible death with You can name your own compensation but know you are not interested much reward \\nNow honestly good professor there advantage gained explanation Just disappear the name God and the interests science and the salvation people who are your mercy just drop out sight Drop out life this planet Come with The cause worthy the man believe you \\nwill said Larner and his hosts waited for more instant later the targo shot out into interstellar space \\nHow you know what course follow asked Larner after reasonable time when had recovered from his surprise the sudden take off \\nnot need know Our machine tuned attracted the planetary force Venus alone could not elsewhere repulsion ray finds near Venus and protects against too violent landing will land Venus like feather about three months from night \\nThe time the journey through outer space was little moment save for one incident Larner and the other travelers were suddenly and rather rudely jostled about the rapidly flying craft \\nLarner lost his breath but not his speech What happened inquired \\njust automatically dodged meteor explained Nern \\n \\nMost the time the trip was spent Larner listening explanations customs and traditions the people the brightest planet the universe \\nThere was question Larner had desired ask Nern Bela yet hesitated Finally one evening during the journey Venus when the travelers had been occupying themselves scientific discussion comparative evolution the two planets Larner saw his opportunity \\nWhy asked rather hesitatingly did the people Venus always remain small Why did you not strive more for height The Japanese who are the shortest stature earth people always wanted tall \\nWithout meaning any offense replied Nern must say that characteristic earth dwellers want something without knowing any good reason why they want perfectly all right for you people tall but for not fitting You see Venus smaller than the earth Size comparative You think are not tall because you are used taller people Comparatively are tall enough proportion the size our planet are exactly the right size keep our population 900 000 000 and that the perfectly exact number people who can live comfortably our planet \\n \\nArriving Venus Larner was assigned laboratory and office one the Government buildings was world seemingly made glass Quartz rose white and crystal coloring Larner found was the commonest country rock the planet many cases was shot full splinters gold which the natives had not taken the trouble recover This quartz was terrific hardness and was used building paving and public works generally The effect was bewildering was world shimmering crystal \\nThe atmosphere Venus had long puzzled Larner While not astronomer the largest sense the word yet had keen interest the heavens giant puzzle picture and had given some spare time the study \\nknew that from all indications Venus had most unusual atmosphere had read that the atmosphere was considerably denser than that the earth and that its presence made observation difficult The actual surface the planet knew could hardly seen due either this atmosphere seemingly perpetual cloud banks \\nhad read that the presence atmosphere surrounding Venus indicated earthly astronomers during the planet transit rings light due the reflection and scattering collected sunlight its atmosphere \\nAstronomers earth knew had long been satisfied the presence great cloud banks rocks and soils could not have such high reflecting power knew that like the moon Venus when viewed from the earth presents different phases from the crescent the full total stage \\nLooking the sky from the quartz streets Venus Larner beheld sweeping grandeur massed cloud banks many them apparently rain clouds \\nNern noted his skyward gaze and said \\nhave accomplished meteorological control Those clouds were brought under control when conquered interplanetary force and what you call gravity form them and move them will They are our rain factory make rain when and where will This insures our crops and makes for health and contentment \\nThe air you will note about the same little more moist than the earth air sea level This due the planet position nearer the sun \\nhave been striving for centuries make the air little drier and more rare but have not succeeded yet The heavy content disintegrated quartz our soil makes moisture very necessary for our crops our moist atmosphere evidently provision providence are used breathing this moist air and when first visited the earth was made uncomfortable your rarified atmosphere Now can adjust myself breathing the air either planet However find myself drinking great deal more water earth than Venus \\n \\nthis fairyland which had enjoyed centuries peace health and accord stark terror now reigned some instances the finely bred marvellously intelligent people were mental condition bordering madness \\nThis was especially true the farming districts where whole herds lats had been wiped out Lats Larner gleaned were common farm animal similar the bovine species earth only more wooly these creatures the Venus dwellers depended for their milk and dairy supplies and for their warmer clothing which was made from the skin The hair was used for brushes the building trades and thousand ways manufacturing \\nBesides the domestic animals hundreds people continued meet death and only few the flying vampires had been hunted down The giant insects were believed breed slowly compared earth insects their females producing not more than ten eggs estimate after which death overtook the adult spite this they were reported increasing \\nthe Government building Larner was placed touch with all the Government scientists Venus His nearest collaborator was one Zorn Zada most profound scientist the planet The two men with score assistants worked elbow elbow the most gigantic scientific mystery the history two planets \\nspecimen the dread invader was mounted and studied the scientists who were engrossed their work that they hardly took time eat for sleep there was little Days were spent research and nights hunting the monsters This hunting was done newly recruited soldiers and scientists The weapons used were short ray gun high destructive power which disintegrated the bodies the enemies atomic energy blasts The quarry was wary however and struck isolated individuals rather than massed fighting lines \\n \\nSeated his work bench Larner asked Zorn Zada what had become Nern Bela his heart had horrible lurking fear that the beautiful Tula Bela might fall before swarm the strange vampires but did not voice this anxiety \\nNern and his sister are explorers and navigators was the reply They have been assigned carry you anywhere this any other planet where your work may engage you They await your orders They are too valuable space navigators placed harm way \\nBreathing sigh relief Larner bent his labors \\nWhat other wild animals harmful insects have you this planet asked Zorn \\nget your thought replied the first scientist Venus You are seeking natural enemy this deadly flying menace are you not \\nYes admitted Larner \\nAll insects left Venus with this one exception are beneficial said Zorn There are wild animals and harmful insects All animals insects and birds have been domesticated and are fed their keepers get fabrics from forms what you call spiders and other web builders and cocoon spinners All forms birds beasts and crawling and flying things have been brought under the dominion man will have seek another way out than finding enemy parasite \\nWhere you think these insect invaders came from asked Larner \\nYou have noticed they are unlike anything you have earth anatomical construction said the savant They partake the general features Coleoptera beetles that they wear sheath armor yet their mouth parts are more the order the Diptera flys regard them more fly than beetle because most Coleoptera are helpful humanity while practically all not all Diptera are malignant \\ntheir original habitat believe they migrated here from some other planet \\nThey could not fly through space said Larner \\nthat the mystery agreed Zorn How they got here and where they breed are the questions that have answer \\n \\nLong days passed Venus Long days and sleepless nights The big insects were hunted nightly men armed with ray guns and nightly the blood sucking monsters took their toll humanity and animals \\nFinally Larner and Zorn determined capture one the insects alive muzzle its lance and suction pad and give sufficient freedom find its way back its hiding place following the shackled monster the scientists hoped find the breeding grounds \\nAll the provinces the planet joined the drive Men turned out automatic vehicles propelled energy gathered from the atmosphere They came foot and aircraft Mobilization was given points and leading the van were Zorn and Larner and their confreres the targo Nern and Tula Bela The great army Venus carried giant searchlights and was armed with deadly ray guns \\n \\nHeadquarters the vast Army Offense was the targo the Belas Larner was supreme command Just before the big army set out scour the planet seek the breeding place the monsters Larner issued bulletin that set all Venus the ears \\nAddressed President Vole Vesta the Republic Pana and the good people Venus read \\ngenerally known has been the habit the nation space flying merchantmen visit the sunlit side the planet Mercury obtain certain rare woods and other materials not found this planet \\nOne side Mercury known always turned from the sun and condition perpetual night this perpetual darkness and dampness where many rivers flow into warm black swamps the vampires have bred for centuries Conditions were ideal for their growth and through the ages they evolved into the monsters have encountered lately Venus \\nDuring some comparatively recent visit Mercury the grubs these insects have found their way abroad vegetation laden targo left standing near the edge the black swamps Mercury These grubs were thus transported Venus and underwent their natural metamorphosis here Reaching adult stage they have found some place hide and breed and thus explained the origin the vampires Venus \\nThis was widely read and discussed and was finally accepted the means the invasion peaceful beautiful Venus horror that might well have originated hell \\nHowever this did not reveal the breeding grounds remove the nation wide scourge the horrible winged vampires the mobilization all the forces the planet continued \\n \\nday followed day the hordes fighting Venus dwellers grew the concentration camps the targo the Belas Larner brain weary and body racked was with overwork found grain happiness being the presence Nern and his beautiful petite sister \\nWith Zorn Larner was supervising the construction big net strongly woven wire mesh which was hoped catch one the vampires was decided bait the trap with fat female lat \\nZorn Larner and the Belas fared forth from the concentration camp followed company soldiers carrying the big net Tula with her own hand led the fat lat heifer His eyes were filled with commiseration for the poor animal \\nThousands soldiers and citizenry fighting array watched the departure the little group \\nglade the trap was set and the net arranged fall over the monster once attacked the calf From thicket utter darkness Zorn and Larner and the two Belas waited for the possible catch The whole nation stood awaiting the order advance \\nthe fourth night the vigil was rewarded manner frightful relate \\nclumsy flutter giant wings broke the stillness \\nThe four waiting forms the thicket rejoiced believing the fat lat was about attacked \\nOnward came the approaching horror The measured flap flap its armored wings drawing nearer and nearer Then horror horrors \\nfeminine scream rent the air Cries loud and shrill arose above hysterical feminine cry for help \\nThe monster had chosen Tula Bela for its prey \\n \\nZorn exploded alarm bomb compressed air siren brought the army forward the run Giant floodlights began light the scene The blood Larner and Nern froze \\nThe monster had borne the girl the ground Its frightful lance and cupper was upraised strike Larner was the nearest and the quickest act grabbed for his ray gun swung his belt was gone horror remembered had left the base seized short knife and threw himself forward rolling his body between that the girl and the descending lance and cupper \\nthe lance pierced his shoulder Larner one wild gesture frenzy drove his knife through the soft yielding flesh the vampire organ suction \\nProtected bony structure the snout the monster was amputated \\nThe terrible creature had been disarmed his most formidable weapon but continued fight Larner felt the spikes the monster legs tear his flesh \\nDon kill the thing shouted Bring the net For the love God bring the net Then lost consciousness \\nwas daylight when Larner somewhat weakened from loss blood regained consciousness \\nThe beautiful Tula Bela was leaning over him \\nShe whispered comforting words him language did not fully understand She whispered happy exclamations words did not know the meaning but the tone was unmistakably those sweetheart towards her lover \\nFinally answer true scientist question his eyes she said English \\nThey caught the thing alive They await your order advance \\nLet our way said Larner and started arise \\nYou are hardly strong enough said Tula \\nBelieve all right insisted Larner and after several trials got his feet His constitution was naturally strong and his will was stronger fought back all feelings weakness and soon announced himself ready ahead with the project hand For speed was all important and the young professor found himself unable remain inactive \\n \\nrejoiced when Zorn told him that the big insect that had attacked Tula Bela had been captured alive and had been kept well nourished lat blood injected into its stomach \\nWith Zorn Larner went inspect the hideous monstrosity and found leash and straining was ready used lead the way back its breeding place \\nIts wings shackled the lumbering insect floundered its way straight north Ponderously and half blindly crawled the searchlights glare was kept far enough advance keep from blinding the monster \\nTrue instinct finally brought early dawn under high cliff smoky quartz Here the great crevices the drove diabolical vampires were hiding \\nthe light struck their dens they attempted clumsily take wing but interlacing network devastating disintegrating rays from the ray guns shattered their bodies dust which was borne away the wind \\nThe next few months were spent combing the quartz crags Venus for similar infested areas but only the one breeding nest was found The scourge had been conquered its first and only stronghold \\n \\nended the greatest reign terror the history Venus \\nLeslie Larner was given vote thanks and riches were showered upon him the good people the sky brightest star \\nHis modesty was characteristic and insisted that his part saving humanity the planet had been small \\nPassage back earth was offered him but Nern and Tula Bela urged him say and live his life Venus This finally agreed \\nreturned said would always tempted tell experiences while away and there not jury the world which would account sane after had once spoken \\n \\nThat the story Larner adventure reached earth dwellers all due the fact that Nern Bela subsequent visit the earth narrated Colorado quartz miner This miner bronzed and bearded prospector for gold stumbled the targo mountain fastness and there was nought but make him welcome and pledge him secrecy \\nThe miner surveyed the crystal targo rapt wonderment and said And think the only earth man who ever viewed such craft \\nanswered Nern Bela there one other And then the stirring story Leslie Larner life Venus was told \\nSAFE FLYING FOGS \\nThe outstanding development aviation recently and one the most significant far aviation history was the blind flight Lieut James Doolittle daredevil the Army Air Corps Mitchel Field which led Harry Guggenheim President the Daniel Guggenheim Fund for the Promotion Aeronautics Inc announce that the problem fog flying one aviation greatest bugbears had been solved last \\nThere has been blind flying done the past but never before the history aviation has any pilot taken off circled crossed crossed the field then landed only short distance away from his starting point while flying under conditions resembling the densest fog Lieut Jimmy Doolittle has done his Wright motored Husky training plane was something uncanny contemplate \\nThe dense fog was produced artificially the simple device making the cabin the plane entirely light proof Once seated inside the flyer with his pilot Lieut Benjamin Kelsey also Mitchel Field were completely shut off from any view the world outside All they had depend were three new flying instruments developed during the past year experiments conducted over the full flight laboratory established the Fund Mitchel Field \\nThe chief factors contributing the solution the problem blind flying consist new application the visual radio beacon the development improved instrument for indicating the longitudinal and lateral position airplane new directional gyroscope and sensitive barometric altimeter delicate measure the altitude airplane within few feet the ground \\nThus instead relying the natural horizon for stability Lieut Doolittle uses artificial horizon the small instrument which indicates longitudinal and lateral position relation the ground all time was able locate the landing field means the direction finding long distance radio beacon addition another smaller radio beacon had been installed casting beam fifteen twenty miles either direction which governs the immediate approach the field \\nlocate the landing field the pilot watches two vibrating reeds tuned the radio beacon virtual radio receiver his instrument board turns the right left his course the right left reed respectively begins doing sort Vitus dance the reeds are equilibrium the pilot knows clear sailing straight his field \\nThe sensitive altimeter showed Lieut Doolittle his altitude and made possible for him calculate his landing distance within few feet from the ground \\nProbably the strangest device all that Lieut Doolittle has been called upon test Guggenheim war against fog sort heat cannon that goes forth combat like fire breathing dragon old Like the enemies the dragon the fog supposed curl and die before the scorching breath the hot air artillery although the fundamental principle behind the device great deal more scientific than such explanation sounds brief based the known fact that fog forms only very narrow temperature zone which lies between the saturation and precipitation points the atmosphere the air grows little colder the fog turns into rain and falls warmed very slightly the mist disappears and the air once more normally clear although its humidity very close the maximum \\nBrigands the Moon \\nThe Book Gregg Haljan \\nPART TWO FOUR PART NOVEL \\nRay Cummings \\nIllustration turned back look the Planetara \\nOut awful space tumbled the Space ship Planetara towards the Moon her officers dead with bandits her helm and the controls out order \\nname Gregg Haljan age twenty five years occupation the time narrative begins 2075 was third officer the Interplanetary Space ship Planetara \\nThus introduce myself you For this continuation the book Gregg Haljan and necessity the chief actor therein shall recapitulate very briefly what has happened far \\nUnscrupulous Martian brigands were scheming for Johnny Grantline secret radium ore treasure dug out the Moon and waiting there picked the Planetara her return trip from Mars \\nThe Planetara left bound for Mars some ten days away Suspicious interplanetary passengers were aboard Miko and Moa brother and sister Mars Sir Arthur Coniston mysterious Englishman Hahn Venus mystic And small effeminate George Prince and his sister Anita Love think was born instantly between Anita and found all too soon that Miko the sinister giant from Mars also desired her \\nIllustration \\nneared the Moon received Grantline secret message Stop for ore your return voyage Success beyond wildest hopes But soon discovered that eavesdropper invisible cloak had overheard \\nSoon afterwards Miko accidentally murdered person identified Anita Prince \\nThen the confusion that resulted Miko struck his great blow The crew the Planetara secretly his pay rose and killed the captain and all the officers but Snap Dean the radio helio operator and myself \\nwas besieged the chart room George Prince leaped upon and put his arms around looked him closer only discover was Anita disguised her brother was her brother George who had been killed George had been the brigands confidence thus Anita was able spy for \\nQuickly plotted would surrender her Anita Prince whom the brigands thought was George Prince Together might possibly able with Snap help turn the tide and reclaim the Planetara \\nwas taken stateroom and locked there until Miko the brigand leader should come dispose But cared not what had happened Anita was alive \\nCHAPTER XIV \\nThe Brigand Leader \\nThe giant Miko stood confronting slid cubby door closed behind him stood with his head towering close against ceiling His cloak was discarded his leather clothes and with his clanking sword ornament his aspect carried the swagger brigand old was bareheaded the light from one tubes fell upon his grinning leering gray face \\nGregg Haljan You have come your senses last You not wish write name upon your chest would not have done that Dean forced Sit back \\nhad been bunk sank back the gesture his huge hairy arm His forearm was bare now the sear burn was plain seen remarked gaze \\nTrue You did that Haljan Great New York But bear you malice want talk you now \\ncast about for seat and took the little stool which stood desk His hand held small cylinder the Martian paralyzing ray rested beside him the desk \\nNow can talk \\nremained silent Alert Yet thoughts were whirling Anita was alive Masquerading now her brother And with the joy came shudder Above everything Miko must not know \\ngreat adventure are upon Haljan \\n \\nthoughts came back Miko was talking with assumption friendly comradeship All well and need you have said before fool have been aware everything that went aboard this ship You all the officers are most clever the routine mathematics that \\nPerhaps said \\nYou are modest fumbled pocket his jacket produced scroll sheaf recognized Blackstone figures the calculation Blackstone roughly made the elements the asteroid had passed \\ninterested these Miko went want you verify them And this held another scroll This the calculation our present position And our course Hahn claims navigator have set the ship gravity plates see like this \\nhanded the scrolls watched keenly glanced over them \\nWell said \\nYou are sparing words Haljan the devils the airways could make you talk But want friendly \\n \\nhanded him back the scrolls stood was almost within reach his weapon but with sweep his great arm abruptly knocked back bunk \\nYou dare Then smiled Let not come blows \\nsaid returned his smile truth physical violence could get nothing dealing with this fellow would have try guile And saw now that his face was flushed and his eyes unnaturally bright had been drinking alcolite not enough befuddle him but enough make him triumphantly talkative \\nHahn may not much mathematician suggested But there your Sir Arthur Coniston managed sarcastic grin that his name \\nAlmost Haljan will you verify these figures \\nYes But why Where are going \\nlaughed You are afraid will not tell you Why should not This great adventure mine progressing perfectly tremendous stake Haljan hundred millions dollars gold leaf there will fabulous riches for all when that radium ore sold for hundred million gold leaf \\nBut where are going \\nthat asteroid said abruptly must get rid these passengers murderer \\n \\nWith half dozen killings the recent fight this was hardly convincing But was obviously wholly serious seemed read thoughts \\nkill only when necessary will land upon the asteroid perfect place maroon the passengers not will give them the necessities life They will able signal And month when are safely finished with our adventure police ship doubt will rescue them \\nAnd then from the asteroid suggested are going \\nthe Moon Haljan What clever guesser you are Coniston and Hahn are calculating our course But have great confidence them And want you \\nYou have \\nYes have you would have killed you long ago impulsive fellow but sister restrained \\ngazed slyly Moa seems strangely like you Haljan \\nThanks said flattered \\nShe still hopes may really win you join went Gold leaf wonderful thing there would plenty for you this affair And rich and have the love woman like Moa \\npaused was trying cautiously gauge him get from him all the information could said with another smile That premature talk Moa will help you chart your course But this venture you call dangerous police ship \\nThere are not many declared The chances encountering one very slim grinned You know that well And now have those code pass words forced Dean tell where had hidden them should challenged our pass word answer will relieve suspicion \\nThe Planetara objected being overdue Ferrok Shahn will cause alarm You have covey patrol ships after you \\nThat will two weeks from now smiled have ship own Ferrok Shahn lies there waiting now manned and armed hoping that with Dean help may able flash signal will join the Moon Fear not for the danger Haljan have great interests allied with this thing Plenty money have planned carefully \\n \\nwas idly fingering his cylinder his gaze roved sat docile bunk Did you think George Prince was leader this mere boy engaged him year ago his knowledge ores valuable \\nheart was pounding but strove not show went calmly \\ntold you impulsive Half dozen times have nearly killed George Prince and knows frowned wish had killed him instead his sister That was error \\nThere was note real concern his voice Did love Anita Prince seemed \\nadded That done nothing can change George Prince helpful Your friend Dean another had trouble with him but docile now \\nsaid abruptly don know whether your promise means anything not Miko But George Prince said you would use more torture \\nwon Not you and Dean obey \\nYou tell Dean have agreed that You say gave you the code words took from Johnson \\nYes There was fool That Johnson You blame Haljan for the killing Captain Carter You need not Johnson offered try and capture you Take you alive killed Carter because was angry him stupid vengeful fool dead and glad \\n \\nmind was Miko plans ventured This treasure the Moon did you say was the Moon \\nDon idiot retorted know much about Grantline you \\nThat very little \\nPerhaps \\nPerhaps you know more Miko The Moon big place Where for instance Grantline located \\nheld breath Would tell that score questions vague plans were mind How skilled mathematics were these brigands Miko Hahn Coniston could fool them could learn Grantline location the Moon and keep the Planetara away from pretended error charting Time lost and perhaps Snap could find opportunity signal Earth get help \\nMiko answered question bluntly asked don know where Grantline located But will find out will not suspect the Planetara When get close the Moon will signal and ask him can trick him into telling You think not know what your mind Haljan There secret code signals arranged between Dean and Grantline have forced Dean confess Without torture Prince helped that persuaded Dean not defy very persuasive fellow George Prince More diplomatic than give him credit \\nstrove hold voice calm should join you Miko word ever gave you would find dependable would say George Prince very valuable You should rein your temper half your size you might some time without intention him injury \\n \\nlaughed Moa says But have fear \\nwas thinking persisted like have talk with George Prince \\npounding tumultuous heart But was smiling calmly And tried put into voice shrewd note cupidity really know very little about this treasure Miko there were million two gold leaf for \\nPerhaps there would \\nwas thinking Suppose you let have talk with Prince have some knowledge radium ores His skill and mine calculation what Grantline treasure may really You don know you are only assuming \\npaused Whatever may have been Miko mind cannot say But abruptly stood had left bunk but waved back \\nSit down not like Moa would not trust you just because you protested you would loyal picked his cylinder will talk again gestured the scrolls had left upon desk Work those will judge you the results \\nwas fool this brigand leader \\nYes agreed You want true course now the asteroid \\nYes will get rid these passengers Then will plan further your best Haljan error the Gods warn you can check you \\nsaid meekly Very well But you ask Prince wants calculations Grantline ore body \\nshot Miko foxy look stood door added You think you are clever There plenty you don know Our first night out from the Earth Grantline signals didn ever occur you that might have some figures his treasure \\nstartled him Where are they \\ntapped forehead You don suppose was foolish enough record them You ask Prince wants talk high thorium content ore you ask Prince hundred millions two hundred would make big difference Miko \\nwill think about backed out and sealed the door upon once again \\n \\nBut Anita did not come verified Hahn figures which were very nearly correct charted course for the asteroid was almost the one which had been set \\nConiston came for results say are not bad navigators are think jolly good considering our inexperience Not bad all \\n \\ndid not think wise ask him about Prince \\nAre you hungry Haljan demanded \\nYes \\nsteward came with meal The saturnine Hahn stood door with weapon upon while ate They were taking chances and they were wise not \\nThe day passed Day and night all the same aspect here the starry vault Space But with the ship routine was day \\nAnd then another time sleep slept fitfully worrying trying plan Within few hours would nearing the asteroid \\nThe time sleep was nearly passed chronometer marked five our original Earth starting time The seal cubby door hissed The door slowly opened \\nAnita \\nShe stood there with her cloak around her distance away the shadowed deck space Coniston was loitering \\nAnita whispered \\nGregg dear \\nShe turned and gestured the watching brigand will not long Coniston \\nShe came and half closed the door upon leaving open enough that could make sure that Coniston did not advance \\nstepped back where could not see \\nAnita \\nShe flung herself into opened arms \\nCHAPTER \\nThe Masquerader \\nmoment when beyond all thought the nearby brigand the possibility eavesdropping ray trained now upon little cubby moment while Anita and held each other and whispered those things which could mean nothing the world but which were all the world \\nThen was she whose wits brought back from the shining fairyland our love into the sinister reality the Planetara \\nGregg they are listening \\npushed her away This brave little masquerader Not for life for all the lives the ship would consciously have endangered her \\nBut the ore said aloud There was Grantline message See here Prince \\nConiston was too far away the deck hear Anita went door again and waved him reassuringly put ear the door opening and listened the space across the grid the ventilator over bunk The hum vibration would have been audible those two points But there was nothing \\nall right whispered Anita not you who was killed can hardly realize now Not you whom they buried yesterday morning \\nstood and whispered and she clung small beside With the black robe thrown aside seemed that could not miss the curves her woman figure dangerous game she was playing Her hair had been cut short the base her neck the fashion her dead brother Her eyelashes had been clipped the line her brows altered And now the light ray tube shone upon her earnest face could remark other changes Glutz the little beauty specialist was this secret With plastic skill had altered the set her jaw with his wax put masculinity there \\nShe was whispering was was poor George whom Miko shot \\n \\nhad now the true version what had occurred Miko had been forcing his wooing upon Anita George Prince was weakling whose only good quality was love for his sister Some years ago had fallen into evil ways Been arrested and then discharged from his position with the Federated Radium Corporation had taken with evil companions Great New York Mostly Martians And Miko had met him His technical knowledge his training with the Federated Corporation made him valuable Miko enterprise And Prince had joined the brigands \\nall this Anita had been unaware She had never liked Miko Feared him And seemed that the Martian had some hold upon her brother which puzzled and frightened Anita \\nThen Miko had fallen love with her George had not liked And that night the Planetara Miko had come and knocked upon Anita door Incautiously she opened forced himself And when she repulsed him struggled with him George had been awakened \\nShe was whispering now room was dark were all three struggling George was holding the shot came and screamed \\nAnd Miko had fled not knowing whom his shot had hit the darkness \\nAnd when George died Captain Carter wanted impersonate him planned with Frank try and learn what Miko and the others were doing Because never knew that poor George had fallen into such evil things \\n \\ncould only hold her thankfully arms The lost what might have been seemed coming back \\nAnd they cut hair Gregg and Glutz altered face little and did best But there was time came upon quickly \\nAnd she whispered But love you Gregg want the first say love you love you \\nBut had the sanity try and plan \\nAnita when you back tell Miko discussed radium ores You have careful clever Don say too much Tell him estimate the treasure hundred and thirty millions \\ntold her what Miko had vouchsafed his plans She knew all that And Snap knew She had had few moments alone with Snap Gave now message from him \\npull out this Gregg \\nWith Snap she had worked out plan There were Snap and and Shac and Dud Ardley upon whom could doubtless depend And Frank Against were Miko and his sister and Coniston and Hahn course there were the members the crew But were numerically the stronger when came true leadership Unarmed and guarded now But could break loose recapture the ship \\nsat listening Anita eager whispers seemed feasible Miko did not altogether trust George Prince Anita was now unarmed \\nBut can make opportunity can get one their ray cylinders and invisible cloak equipment \\nThat cloak had been hidden Miko room when Carter searched for A20 was now the chart room Johnson body had been repaired now Anita thought she could get possession \\n \\nworked out the details the plan Anita would arm herself and come and release Together with paralyzing ray could creep aboard the ship overcome these brigands one one There were few the leaders With them felled and with control the turret and the helio room could force the crew stay their posts There were Anita said navigators among Miko crew They would not dare oppose \\nBut should done once Anita few hours will the asteroid \\nYes will now try and get the weapons \\nWhere Snap \\nStill the helio room One the crew guards him \\nConiston was roaming the ship was still loitering the deck watching our door Hahn was the turret The morning watch the crew were their posts the hull corridors the stewards were preparing morning meal There were nine members subordinates altogether Anita had calculated Six them were Miko pay the other three our own men who had not been killed the fighting had joined the brigands \\nAnd Frank Anita \\nwas the lounge All the passengers were herded there with Miko and Moa alternating guard \\nwill arrange with Venza Anita whispered swiftly She will tell the others Frank knows about now thinks can done \\n \\nThe possibility swept anew The brigands were necessity scattered singly about the ship One one creeping under cover invisible cloak could fell them and replace them without alarming the others thoughts leaped would strike down the guard the helio room Release Snap the turret could assail Hahn and replace him with Snap \\nConiston voice outside broke upon Prince \\nwas coming forward Anita stood the doorway have the figures Coniston God this Haljan with And clever think will total hundred and thirty millions What stake \\nShe whispered Gregg dear back soon can ready \\nAnita careful yourself they should suspect you \\ncareful hour Gregg less come back All right Coniston Where Miko want see him Stay where you are Haljan All good time Miko will trust you with your liberty You rich like all never fear \\nShe swaggered out upon the deck waved the brigand and banged cubby door face \\nsat upon bunk Waiting Would she come back Would she successful \\nCHAPTER XVI \\nthe Blue lit Corridor \\nShe came suppose was more than hour seemed eternity apprehension There was the slight hissing the seal door The panel slid had leaped from bunk where the darkness was lying tense \\nPrince did not dare say Anita \\nGregg \\nHer voice gaze swept the deck the panel opened Neither Coniston nor anyone else was sight save Anita dark robed figure which came into room \\nYou got asked her low whisper \\nheld her for instant kissed her But she pushed away with quick hands \\nGregg dear \\nShe was breathless kisses and the tenseness what lay before were blame \\nGregg see have Give little light must hurry \\nthe blue dimness saw that she was holding one the Martian cylinders The smallest size would paralyze but not kill \\nOnly one Anita \\nYes had before but Miko took from was his room And this \\nThe invisible cloak laid grid and adjusted its mechanism cloak the reflecting absorbing variety  \\nThe principle this invisible cloak involves the use electronized fabric All color absorbed The light rays reflected the eye the observer thus show image empty blackness There also created about the cloak magnetic field which natural laws bends the rays light from objects behind This principle the natural bending light when passing through magnetic field was first recognized Albert Einstein scientist the Twentieth century the case this invisible cloak the bending light rays making visible what was behind the cloak blackness thus destroyed its solid black outline and gave pseudo invisibility which was fairly effective under favorable conditions \\n \\ndonned and drew its hood and threw its current \\nAll right Anita \\nYes \\nCan you see \\n She stepped back foot two further Not from here But you must let one approach too close \\nThen she came forward put out her hand fumbled until she found \\nwas our plan have follow her out Anyone observing would see only the robed figure the supposed George Prince and would escape notice \\nThe situation about the ship was almost unchanged Anita had secured the weapon and the cloak and slipped away cubby without being observed \\nYou sure that \\nthink Gregg was careful \\nMoa was now the lounge guarding the passengers Hahn was asleep the chart room Coniston was the turret Coniston would off duty presently Anita said with Hahn taking his place There were look outs the forward and stern watch towers and guard upon Snap the helio room \\ninside the room Anita \\nSnap Yes \\nthe guard \\n was sitting upon the spider bridge the door \\n \\nThis was unfortunate That guard could see all the deck clearly might suspicious George Prince wandering around would difficult get near enough assail him This cylinder knew had effective range only some twenty feet \\nAnita and were swiftly whispering was necessary now decide exactly what were once under observation outside there must hesitation fumbling \\nConiston sharpest Gregg will the hardest get near \\nThe languid spoken Englishman was the one Anita most feared His alert eyes seemed miss nothing Perhaps was suspicious this George Prince Anita thought \\nBut where Miko whispered \\nThe brigand leader had gone below few moments ago down into the hull corridor Anita had seized the opportunity come \\ncan attack Hahn the chart room first suggested And get the other weapons Are they still there \\nYes But Gregg the forward deck very bright \\nwere approaching the asteroid Already its light like brilliant moon was brightening the forward deck space made realize how much haste was necessary \\ndecided down into the hull corridors Locate Miko Fell him and hide him His non appearance back deck would very soon throw the others into confusion especially now with our impending landing upon the asteroid And under cover this confusion would try and release Snap \\nhad been arguing more than minute two were ready Anita slid door wide She stepped through with soundlessly scurrying after her The empty silent deck was alternately dark with shadow patches and bright with blobs starlight sheen the Sun corona was mingled with and from forward came the radiance the asteroid mellow silver glow \\n \\nAnita turned seal door within faintly humming cloak stood beside her Was invisible this light Almost directly over close under the dome the look out sat his little tower gazed down Anita \\nAmidships high over the cabin superstructure the helio room hung dark and silent The guard its bridge was visible too looked down \\ntense instant Then breathed again There was alarm The two guards answered Anita gesture \\nAnita said aloud into empty cubby Miko will come for you presently Haljan told tell you that wants you the turret controls land the asteroid \\nShe finished sealing door and turned away started forward along the deck followed steps were soundless elastic bottomed shoes Anita swaggered with noisy tread Near the door the smoking room small incline passage led downward went into \\nThe passage was dimly blue lit descended its length came the main corridor which ran the length the hull vaulted metal passage with doors the control rooms opening from Dim lights showed intervals \\n \\nThe humming the ship was more apparent here drowned the slight humming cloak crept after Anita hand under the cloak clutched the ray weapon \\nsteward passed shrank aside avoid him \\nAnita spoke him Where Miko Ellis \\nthe ventilator room Prince There was difficulty with the air renewal \\nAnita nodded and moved could have felled that steward passed only had how different things might have been \\nBut seemed needless let him and turned into nearby door which led the galley \\nAnita moved forward could come upon Miko alone Abruptly she turned and whispered Gregg other men are with him draw him away You watch your chance \\nWhat little things may overthrow one careful plans Anita had not realized how close her was following And her turning unexpectedly caused collide with her sharply \\n She exclaimed involuntarily Her outflung hand had unwittingly gripped wrist caught the electrode there The touch burned her and close circuited robe There was hiss current burned out the tiny fuses \\ninvisibility was gone stood tall black hooded figure revealed the gaze anyone who might near \\nThe futile plans humans had planned carefully Our calculations our hopes what could came clattering now sudden wreckage around \\nAnita run \\nwere seen with her then her own disguise would probably discovered That above everything would disaster \\nAnita get away from must try alone \\n \\ncould hide somewhere repair the cloak perhaps since now was armed why could not boldly start assault \\nGregg must get you back your cubby She was clinging panic \\n You run Get away from Don you understand George Prince has business here with They kill you \\nworse --- Miko would discover was Anita not George Prince \\nGregg let get back the deck \\npushed her Both sudden confusion \\nFrom behind there came shout That accursed steward had returned investigate perhaps what George Prince was doing this corridor heard our voices his shout the silence the ship sounded horribly loud The white clothed shape him was the nearby doorway stood stricken surprise seeing And then turned run \\nfired paralyzing cylinder through cloak Got him fell shoved Anita violently \\nRun Tell Miko come tell him you heard shout won suspect you \\nBut Gregg \\nYou mustn found out You our only hope Anita hide fix the cloak get back cubby try again \\ndecided her She scurried down the corridor whirled the other way The steward shout might not have been heard \\nThen realization flashed That steward would revived was one Miko men for two voyages had been spy upon the Planetara would revived and tell what had seen and heard Anita disguise would revealed \\ncold blooded killing protest went against But was necessary flung myself upon him beat his skull with the metal cylinder \\nstood hood had fallen back from head wiped bloody hands useless cloak had smashed the cylinder \\nHaljan \\n \\nAnita voice sharp note horror and warning became aware that the corridor forty feet down its dim length Miko had appeared with Anita behind him His rifle bullet projector was leveled spat But Anita had pulled his arm \\nThe explosive report was sharply deafening the confined space the corridor With spurt flame the leaden pellet struck over head against the vaulted ceiling \\nMiko was struggling with Anita Prince you idiot \\nMiko don Haljan Don kill him \\nThe turmoil brought members the crew From the shadowed oval near they came running flung the useless cylinder them But was trapped the narrow passage \\nmight have fought way out Miko might have shot But there was the danger that her horror Anita would betray herself \\nbacked against the wall Don kill See will not fight \\nflung arms And the crew emboldened and courageous under Miko gaze leaped and bore down \\nThe futile plans humans Anita and had planned carefully and few brief minutes action had come only this \\nCHAPTER XVII \\nWoman Mars \\nGregg Haljan you are not loyal you pretend \\nMiko was livid with suppressed anger They had stripped the cloak from and flung back cubby Miko was now confronting the door Moa stood watching And Anita was behind her sat outwardly defiant and sullen bunk But was alert and tense fearful still what Anita emotion might betray her into doing \\nNot loyal Miko repeated And fool you think such child you can escape \\nswung around How did get out here Prince you came here \\nheart was wildly thumping But Anita retorted with touch spirit \\ncame tell him what you commanded check Hahn latest figures and ready take the controls when into the asteroid atmosphere \\nWell how did get out \\nHow should know she parried Little actress Her spirit helped allay fear She held her cloak close around her the fashion they had come expect from the George Prince who had just buried his sister How should know Miko sealed his door \\nBut did you \\ncourse did Moa put \\nAsk your look outs said Anita They saw waved them just sealed the door \\nventured have been taught open doors managed sly lugubrious smile shall not try again Miko \\nNothing had been said about killing the steward thanked constellations now that was dead shall not try again repeated \\nglance passed between Miko and his sister Miko said abruptly You seem realize that not purpose kill you And you presume upon \\nshall not again eyed Moa She was gazing steadily She said Leave with him Miko She smiled Gregg Haljan are more than twenty thousand miles from the asteroid now The calculations for retarding are now operation \\n \\nwas what had taken Miko below that and trouble with the ventilating system which was soon rectified But the retarding the ship velocity when nearing destination required accurate manipulation These brigands were fearful their own skill That was obvious gave confidence was really needed They would not harm Except for Miko impulsive temper was danger from them not now certainly \\nMoa was saying think may make you understand Gregg have tremendous riches within our grasp \\nknow added with sudden thought But there are many with whom divide this treasure \\nMiko caught intended implication the infernal this fellow may have felt could seize the treasure for himself Because navigator \\nMoa said vehemently not idiot Gregg You could not There will fighting with Grantline \\npurpose was accomplished They seemed see willing outlaw like themselves though were bond between And they could win \\nLeave with him said Moa \\nMiko acquiesced For few minutes only proffered heat ray cylinder but she refused \\nnot afraid him \\nMiko swung Within hour will nearing the atmosphere Will you take the controls \\nYes \\n \\nset his heavy jaw His eyes bored into You strange fellow Haljan can make you out not angry now you think when deadly serious that mean what say \\nHis calm words set sudden shiver over checked smile \\nYes said \\nWell then will tell you this not for all Prince well meaning interference Moa liking for you own need your skill will tolerate more trouble from you The next time will kill you you believe \\nYes \\nThat all want say You kill men and sister says must not hurt you not child ruled woman \\nheld his huge fist before face With these fingers will twist your neck you believe \\nYes did indeed \\nswung his heel Moa wants try and put sense into your head hope she does Bring him the lounge when you are finished Moa Come Prince Hahn will need chuckled grimly Hahn seems fear will plunge into this asteroid like wild comet gone suddenly tangent \\nAnita moved aside let him through the door caught glimpse her set white face she followed him down the deck \\nThen Moa bulk blocked the doorway She faced \\nSit where you are Gregg She turned and closed the door upon not afraid you Should \\nsaid \\nShe came and sat down beside you should attempt leave this room the stern look out has orders bore you through \\nhave intention leaving the room retorted not want commit suicide \\nthought you did You seem minded such fashion Gregg why are you foolish \\n \\nremained silent \\nWhy she demanded \\nsaid carefully This treasure you are many who will divide You have all these men the Planetara And Ferrok Shahn others doubt \\npaused Would she tell Could make her talk that other brigand ship which Miko had said was waiting Mars wondered had been able signal The distance from here Mars was great yet upon other voyages Snap signals had gotten through heart sank the thought Our situation here was desperate enough The passengers soon would cast upon the asteroid there would left only Snap Anita and myself might recapture the ship but doubted now thoughts were turning our arrival upon the Moon three might perhaps able thwart the attack upon Grantline hold the brigands off until help from the Earth might come \\nBut with another brigand ship fully manned and armed coming from Mars the condition would immeasurably worse Grantline had some twenty men and his camp knew would reasonably fortified knew too that Johnny Grantline would fight his last man \\nMoa was saying would like tell you our plans Gregg \\nHer gaze was face Keen eyes but they were luminous now emotion them sweeping her But outwardly she was calm stern lipped \\nWell why don you tell said help you \\nGregg want you with Don you understand are not many brother and are guiding this affair With your help would feel differently \\nThe ship Ferrok Shahn \\n \\nfears were realized She said think our signals reached Dean tried and Coniston was checking him \\nYou think the ship coming \\nYes \\nWhere will join \\nthe Moon will there thirty hours Your figures gave that did they not Gregg \\nYes And the other ship how fast \\nQuite fast eight days nine perhaps will reach the Moon \\nShe seemed willing enough talk There was indeed particular reason for reticence could not she naturally felt turn the knowledge account \\nManned prompted \\nAbout forty men \\nAnd armed Long range projectors \\nYou ask very avid questions Gregg \\nWhy should not Don you suppose interested touched her Moa did ever occur you once you and Miko trusted which you don might show more interest joining you \\nThe look her face emboldened Did you ever think that Moa And some arrangement for share this treasure not like Johnson hired for hundred pounds gold leaf \\nGregg will see that you get your share Riches for you and \\nwas thinking Moa when land the Moon morrow where our equipment \\nThe Moon with its lack atmosphere needed special equipment had never heard Carter mention what apparatus the Planetara was carrying \\n \\nMoa laughed have located air suits and helmets variety suitable apparatus Gregg But were not foolish enough leave Great New York this voyage without our own arrangements brother and Coniston and Prince all shipped crates freight consigned Ferrok Shahn and Rankin had special baggage marked theatrical apparatus \\nunderstood now These brigands had boarded the Planetara with their own Moon equipment disguised freight and personal baggage Shipped bond inspected the tax officials Mars \\nboard now will open when leave the asteroid Gregg are well equipped \\nShe bent toward And suddenly her long lean fingers were gripping shoulders \\nGregg look \\ngazed into her eyes There was passion there and her voice was suddenly intense \\nGregg told you once Martian girl goes after what she wants you want \\nNot for play like cad upon woman emotions Moa you flatter \\nlove you She held off gazing Gregg \\nmust have smiled And abruptly she released \\nyou think amusing \\n But Earth \\nare not the Earth Nor the Earth She was gauging keenly note pleading was her voice stern authority and the passion was swinging anger \\nlike brother not understand you Gregg Haljan Perhaps you think you are clever seems stupidity the fatuousness man \\nPerhaps said \\n \\nThere was moment silence Gregg said loved you Have you answer \\n truth did not know what sort answer would best make Whatever she must have read eyes stirred her fury Her fingers with the strength man them dug into shoulders Her gaze searched \\nYou think you love someone else that \\nThat was horribly startling but she did not mean just that way She amended with caustic venom That little Anita Prince You thought you loved her Was that \\n \\nBut hardly deceived her Sacred her memory Her ratlike little face soft voice like purring sniveling cat that what you remembering Gregg Haljan she sneered \\ntried laugh What nonsense \\n Then why are you cold under touch girl descended from the Martian flame workers impotent now awaken man \\nwoman scorned all the Universe there could more dangerous enemy incredible venom shot from her eyes \\nThat miserable mouselike creature Well for her that brother killed her \\nstruck cold Anita was unmasked beyond all the menace Miko wooing knew that the venom Moa jealousy was greater danger \\nsaid sharply Don simple Moa shook off her grip You imagine too much You forget that man the Earth and you girl Mars \\nthat reason why should not love \\n But our instincts are different Men the Earth are born the chase \\n \\nwas smiling With thought Anita danger could find readily heart dupe this Amazon \\nGive time Moa You attract \\nYou lie \\nyou think gripped her arm with all the power fingers must have hurt her but she gave sign her gaze clung steadily \\ndon know what think Gregg Haljan \\nheld grip Think what you like Men Earth have been known kill the thing they love \\nYou want fear you \\nPerhaps \\nShe smiled scornfully That absurd \\nreleased her said earnestly want you realize that you treat fairly can great advantage this venture There will fighting fearless \\nHer venomous expression was softening think that true Gregg \\nAnd you need navigating skill Even now should the turret \\nstood half expected she would stop but she did not added Shall \\nShe stood beside Her height brought her face level with mine \\nthink you will cause more trouble Gregg \\ncourse not not wholly witless \\nYou have been \\nWell that over hesitated Then added man Earth does not yield love when there work This treasure \\nthink that everything said this last most convinced her \\nShe interrupted That understand Her eyes were smoldering When over when are rich then will claim you Gregg \\n \\nShe turned from Are you ready \\nYes  must get that sheet Hahn last figures \\nAre they checked \\nYes picked the sheet from desk Hahn fairly accurate Moa \\nfool nevertheless apprehensive fool \\ncomradeship seemed coming between was purpose establish \\nAre going maroon Frank with the passengers asked \\nYes \\nBut may use wanted Frank kept aboard still felt that there was chance for recapture the ship \\nBut Moa shook her head decisively brother has decided not will well rid Frank Are you ready Gregg \\nYes \\nShe opened the door Her gesture reassured the look out who was alertly watching the stern watch tower \\nCome Gregg \\nstepped out and followed her forward along the deck which now was bright with the radiance the nearby asteroid \\nCHAPTER XVIII \\nMarooned Asteroid \\nfair little world had thought before and thought now gazed the asteroid hanging close before our bow huge thin crescent with the Sun off one side behind silver crescent tinged with red From this near viewpoint all the little globe disc was visible The shadowed portion lay dimly red mysteriously the sunlit crescent widening visibly approached was gleaming silver Inky moonlike shadows the hollows brilliant light upon the mountain heights The seas lay gray patches The convexity the disc was sharply defined small world Fair and beautiful shrouded with clouded areas \\nWhere Miko \\nthe lounge Gregg \\nCan stop there \\nMoa turned into the lounge archway Strange tense scene saw Anita once Her robed figure lurked inconspicuous corner her eyes were upon Moa and entered but she did not move The thirty odd passengers were huddled group Solemn white faced men frightened women Some them were sobbing One Earth woman young widow sat holding her little girl and wailing with uncontrolled hysteria The child knew appeared now with gold laced white coat over shoulders the little child seemed see uniform mark authority She left her mother and ran \\nYou please you will help moms crying \\nsent her gently back But there came upon then compassion for these innocent passengers fated have embarked upon this ill starred voyage Herded here this cabin with brigands like pirates old guarding them Waiting now marooned uninhabited asteroid roaming space sense responsibility swept swung upon Miko stood with nonchalant grace lounging against the wall with cylinder dangling his hand anticipated \\nHaljan she put some sense into your head more trouble Then get into the turret Moa stay there with him Send Hahn here Where that ass Coniston will the atmosphere shortly \\nsaid more trouble from Miko But these passengers what preparation are you making for them the asteroid \\n \\nstared surprise Then laughed murderer The crew preparing food all can spare And tools They can build themselves shelter they will picked few weeks \\nFrank was here caught his gaze but did not speak the lounge couches there still lay the quarter score bodies Rankin who had been killed Blackstone the fight man passenger killed woman and man wounded \\nMiko added Frank will take his medical supplies will care for the wounded There are other bodies among the crew His gesture was deprecating have not buried them will put them ashore easier that way \\nThe passengers were all eyeing said \\nYou have nothing fear will guarantee you the best equipment can spare You will give them apparatus with which signal demanded Miko \\nYes Get the turret \\nturned away with Moa after Again the little girl ran forward \\nCome speak moms She crying \\nwas across the cabin from Miko Coniston had appeared from the deck created slight diversion joined Miko \\nWait said Moa She afraid you This humanity \\npushed Moa back followed the child had seen that Venza was sitting with the child weeping mother This was ruse get word with \\nstood before the terrified woman while the little girl clung legs \\nsaid gently Don frightened Frank will take care you There danger you will safer the asteroid than here the ship \\nleaned down and touched her shoulder There danger \\n \\nwas between Venza and the open cabin Venza whispered swiftly When are landing Gregg want you make commotion anything just the women passengers ashore \\nWhy course you will have food Mrs Francis \\nNever mind instant Just confusion Gregg don speak now \\nraised the child You take care mother kissed her \\nFrom across the cabin Miko sardonic voice made turn Touching sentimentality Haljan Get your post the turret \\nHis rasping note annoyance brooked delay set the child down said will land hour Depend \\nHahn was the controls when Moa and reached the turret \\nYou will land safely Haljan demanded anxiously \\npushed him away Miko wants you the lounge \\nYou take command here \\ncourse Hahn more anxious for crash than you \\nsighed with relief That true expert atmospheric entry Haljan nor Coniston nor Miko \\nHave fear Sit down Moa \\nwaved the look out the forward watch tower and got his routine gesture rang the corridor bells and the normal signals came promptly back \\ncorrect Hahn Get away with you called after him Tell Miko that things are all right here \\nHahn small dark figure lithe leopard his tight fitting trousers and jacket with his robe now discarded went swiftly down the spider incline and across the deck \\nMoa where Snap the infernal has been injured \\n \\nthe helio room bridge the brigand guard still sat Then saw that Snap was out there sitting with him waved from the turret window and Snap cheery gesture answered His voice carried down through the silver moonlight Land safely Gregg These weird amateur navigators \\nWithin the hour had dropping into the asteroid atmosphere The ship heated steadily The pressure went kept busy with the instruments and the calculations But signals were always promptly answered from below The brigand crew did its part efficiently \\nhundred and fifty thousand feet shifted the gravity plates the landing combinations and started the electronic engines \\nAll safe Gregg Moa sat elbow her eyes with what seemed glow admiration them followed busy routine activities \\nYes The crew works well \\nThe electronic streams flowed out like rocket tail behind The Planetara caught their impetus the rarified air our bow lifted slightly like ship riding gentle ground swell hundred thousand feet sailed gently forward hull down the asteroid surface cruising seek landing space \\nlittle sea was now beneath shadowed sea deep purple the night down there Occasional green verdured islands showed with the lines white surf marking them Beyond the sea curving coastline was visible Rocky headlines behind which mountain foothills rose serrated verdured ranks The sunlight edged the distant mountains and presently this rapidly turning little world brought the sunlight forward \\n \\nwas day beneath slid gently downward Thirty thousand feet now above sparkling blue ocean The coastline was just ahead green with lush tropical vegetation Giant trees huge leaved Long dangling vines air plants with giant pods and vivid orchidlike blossoms \\nsat the turret window staring through glasses fair little world yet obviously uninhabited could fancy that all this was newly sprung vegetation This asteroid had whirled from the cold the interplanetary space far outside our Solar System few years ago time might measured astronomically was more than yesterday this fair landscape was congealed white and bleak with sweep glacial ice But the seeds life miraculously were here The miracle life Under the warming germinating sunlight the verdure sprung \\nCan you find landing space Gregg \\nMoa question brought back wandering fancies saw upland glade level spread ferns with the forest banked around cliff height nearby frowning down the sea \\nYes can land there showed her through the glasses rang the sirens and spiraled descending further The mountain tops were now close beneath Clouds were overhead white masses with blue sky behind them day brilliant sunlight But soon with our forward cruising was night The sunlight dropped beneath the sharply convex horizon the sea and the land went purple \\nnight brilliant stars the Earth was blazing blue red point light The heavens visibly were revolving hour would daylight again \\nthe forward deck now Coniston had appeared commanding half dozen the crew They were carrying caskets food and the equipment which was given the marooned passengers And making ready the disembarking incline loosening the seals the side dome windows \\nSternward the deck the lounge oval could see Miko standing And occasionally the roar his voice the passengers sounded \\n \\nvagrant thought flung back into Earth history Like this ancient travelers the surface the sea were herded pirates walk the plank put ashore marooned upon some fair desert island the tropic Spanish main \\nHahn came mounting our turret incline All well Gregg Haljan \\nGet your work Moa told him sharply land hour quadrant \\nretreated joining the bustle and confusion which now was beginning the deck struck could turn that confusion account Would possible now the last moment attack these brigands Snap still sat outside the helio room doorway But his guard was alert with upraised projector And that guard saw his position high amidships commanded all the deck \\nAnd saw too the passengers now were herded line from the lounge oval that Miko had roped and bound all the men And clanking chain connected them They came like line convicts marching forward and stopped the open deck space near the base the turret Frank grim face gazed \\nMiko ordered the women and children group beside the chained men His words them reached You are danger When land careful You will find gravity very different this very small world \\nflung the landing lights the deck glowed with the blue radiance the search beams shot down beside our hull hung now thousand feet above the forest glade cut off the electronic streams poised with the gravity plates set normal and only gentle night breeze give slight side drift This could control with the lateral propeller rudders \\nFor all busy landing routine mind was other things Venza swift words back there the lounge was create commotion while the passengers were landing Why Had she and Frank perhaps some last minute desperate purposes \\n \\ndetermined would what she said Shout mis order the lights That would easy But what advantage \\nwas glad was night had indeed calculated our descent that the landing would darkness But what purpose These brigands were very alert There was nothing could think which would avail anything more than possible swift death under Miko anger \\nWell done Gregg said Moa \\ncut off the last the propellers With scarcely perceptible jar the Planetara grounded rose like feather and settled rest the glade The deep purple night with stars overhead was around hissed out our interior air through the dome and hull ports and admitted the night air the asteroid calculations necessity mere mathematical approximations proved fairly accurate temperature and pressure there was radical change the dome windows slid back \\nhad landed Whatever Venza purpose her moment was hand was tense But was aware also that beside Moa was very alert had thought her unarmed She was not She sat back from her hand was small thin knife blade \\nShe murmured tensely You have done your part Gregg Well and skillfully done Now will sit here quietly and watch them land \\nSnap guard was standing keenly watching The look outs the forward and stern towers were also armed could see them both gazing keenly down the confusion the blue lit deck \\nThe incline went over the hull side and touched the ground \\nEnough Miko roared The men first Hahn move the women back Coniston pile those caskets the side Get out the way Prince \\n \\nAnita was down there saw her the edge the group women Venza was near her \\nMiko shoved her Get out the way Prince You can help Coniston Have the things ready throw off \\nFive the steward crew were the head the incline Miko shouted \\nHaljan hold our shipboard gravity normal \\nYes responded \\nhad done Our magnitizers had been adjusted the shifting calculations our landing They were holding now intensities that upon the Planetara change from fairly normal Earth gravity was apparent rang tentative inquiry signal the operator the hull magnetizer control answered that was his post \\nThe line men were first descend Frank led them flashed look farewell and Snap went down the incline with the chained men passengers after him \\nMotley procession Twenty odd dishevelled half clothed men three worlds The changing lightening gravity the incline caught them Frank bounded the rail under the impetus his step caught and held himself drew himself back The line swayed the dim blue lit glare seemed unreal crazy grotesque dream men descending plank \\nThey reached the forest glade Stood swaying afraid first move The purple night crowded them they stood gazing this strange world their new prison \\nNow the women \\nMiko was shoving the women the head the incline could feel Moa steady gaze upon Her knife blade gleamed the turret light \\nShe murmured again few minutes you can ring away Gregg \\n \\nfelt like actor awaiting his cue the wings some turgid drama the plot which did not know Venza was near the head the incline Some the women and children were woman screamed Her child had slipped from her hand bounded over the rail and fallen Hardly fallen floated down the ground with flailing arms and legs landing the dark ferns unharmed Its terrified wail came \\nThere was confusion the incline Venza still the deck seemed send look appeal the turret cue \\nslid hand the light switchboard was near knees pulled switch The blue lit deck beneath the turret went dark \\nrecall instant horrible tense silence and the gloom beside was aware Moa moving felt thrill instinctive fear would she plunge that knife into \\nThe silence the darkened deck was broken with confusion sounds babble voices woman passenger scream shuffling feet and above all Miko roar \\nStand quiet Everyone movement \\nthe descending incline there was chaos The disembarking women were clinging the gang rail some them had evidently surged over and fallen Down the ground the purple shadowed starlight could vaguely see the chained line men They too were confusion trying shove themselves toward the fallen women \\nMiko roared \\nLight those tubes Gregg Haljan the Almighty Moa are you there What wrong The light tubes \\nDark drama unknown plot wonder should try and leave the turret Where was Anita She had been down there the deck when flung out the lights \\nthink twenty seconds would have covered all had not moved thought Snap concerned with this \\nMoa knife could have stabbed felt her lunge against and suddenly was gripping her twisting her wrist But she flung the knife away Her strength was almost the equal own Her hand went for throat and with the other hand she was fumbling \\n \\nThe deck abruptly sprang into light again Moa had found the switch and threw back \\nGregg \\nShe fought tried reach the switch saw down the deck Miko gazing Moa panted Gregg stop sees you doing this kill you \\nThe scene down there was almost unchanged had answered cue what purpose saw Anita near Miko The last the women were the plank \\nhad stopped struggling with Moa She sat back panting and then she called Sorry Miko will not happen again \\nMiko was towering rage But was too busy bother with his anger swung those nearest him shoved the last the women violently the incline She bounded over Her body with the gravity pull only few Earth pounds sailed arc and dropped the sward near the swaying line men \\nMiko swung back Get out way sweep his huge arm knocked Anita sidewise Prince damn you help with those boxes \\nThe frightened stewards were lifting the boxes square metal storage chests each long man packed with food tools and equipment \\nHere get out way all you \\nbreath came again Anita nimbly retreated before Miko angry rush dashed the stewards Three them held box took from them raised the top the incline Poised over his head instant with his massive arms like gray pillars beneath And flung The box catapulted dropped and then passing the Planetara gravity area sailed long flat arc over the forest glade and crashed into the purple underbrush \\nGive another \\n \\nThe stewards pushed another him Like angry Titan flung And another One one the chests sailed out and crashed \\nThere your food pick Haljan make ready ring away \\nthe deck lay the dead body Rance Rankin which the stewards had carried out Miko seized flung \\nThere your last resting place \\nAnd the other bodies Balch Blackstone Captain Carter Johnson Miko flung them And the course masters and those our crew who had been killed the stewards appeared with them Miko unceremoniously cast them off \\nThe passengers were all the ground now was dim down there tried distinguish Venza but could not could see Frank figure the end the chained line men The passengers were gazing horror the bodies hurtling over them \\nReady Haljan \\nMoa prompted Tell him yes \\ncalled Yes Had Venza failed her unknown purpose seemed the helio room bridge Snap and his guard stood like silent statues the blue lit gloom \\nThe disembarkation was over \\nClose the ports Miko commanded \\nThe incline came folding with clatter The port and dome windows slid closed Moa hissed against ear \\nyou want life Gregg Haljan you will start your duties \\nVenza had failed Whatever was had come nothing Down the purple forest disconnected now from the ship the last our friends stood marooned could distinguish them through the blur the closed dome only swaying huddled group was visible But fancy pictured this last sight them Frank Venza Shac and Dud Ardley \\nThey were gone There were left only Snap Anita and myself \\n \\nwas mechanically ringing away heard sirens sounding down below with the answering clangs here the turret The Planetara respiratory controls started the pressure equalizers began operating and the gravity plates shifted into lifting combinations \\nThe ship was hissing and quivering with combined with the grating the last the dome ports And Miko command \\nLift Haljan \\nHahn had been mingled with the confusion the deck though had hardly noticed him Coniston had remained below with the crew answering signals Hahn stood now with Miko gazing down through deck window Anita was alone another \\nLift Haljan \\nlifted gently bow first with repulsion the bow plates And started the central electronic engine Its thrust from our stern moved diagonally over the purple forest trees \\nThe glade slid downward and away caught last vague glimpse the huddled group marooned passengers staring Left their fate alone this deserted little world \\nWith the three engines going slid smoothly upward The forest dropped purple spread tree tops edged with starlight and Earth light The sharply curving horizon seemed following swung all the power mounted forty degree angle slowly circling with bank clouds over the side and the shining little sea beneath \\nVery good Gregg the turret light Moa eyes blazed not know what you meant darkening the deck lights Her fingers dug shoulders will tell brother was error \\nsaid error yes \\nerror don know what was But you have deal with now You understand will tell brother You said Earth man may kill the thing loves woman Mars may that Beware Gregg Haljan \\nHer passion filled eyes bored into Love Hate The venom woman scorned mingling turgid emotions \\n \\ntwisted away from her grip and ignored her she sat back silently watching busy activities the calculations the shifting conditions gravity pressures temperatures checking the score more instruments the board before \\nMechanical routine mind went Venza back there the asteroid The wandering little world was already shrinking convex surface beneath Venza with her last unknown play gone failure Had failed cue Whatever part seemed now that must have horribly mis acted \\nThe crescent Earth was presently swinging over our bow rocketed out the asteroid shadow The glowing flaming Sun appeared making crescent the Earth With the glass could see our tiny Moon visually seeming hug the limb its parent Earth \\nwere away upon our course for the Moon mind flung ahead Grantline with his treasure unsuspecting this brigand ship And suddenly beyond all thought Grantline and his treasure there came fear for Anita God truth had been far very stumbling inept champion doomed failure with everything tried swept that cursed own incapacity Why had not contrived have Anita desert the asteroid Would not have been far better for her there Taking her chance for rescue with Frank Venza and the others \\nBut had like inept fool never thought that Had left her here board the mercy these outlaws \\nAnd swore now that beyond everything would protect her \\nFutile oath could have seen ahead few hours But sensed the catastrophe There was shudder within sat that turret docilely guiding out through the asteroid atmosphere heading upon our course for the Moon \\nCHAPTER XIX \\nthe Zed light Glow \\nTry again the infernal Snap Dean you anything balk \\nMiko scanned the apparatus with keen eyes How much technical knowledge signaling instruments did this brigand leader have was tense and cold with apprehension sat corner the helio room watching Snap Could Miko fooled Snap knew was trying fool him \\nThe Moon spread close beneath log chart computed thirty minutes past showed barely some thirty thousand miles over the Moon surface The globe lay quadrature beneath our bow quarter huge quadrant spreading across the black starry vault the lower heavens silver quadrant The sunset caught the Lunar mountains flung slanting shadows over the empty Lunar plains All the disc was plainly visible The mellow Earth light glowed serene and pale illumine the Lunar night \\nThe Planetara was bathed silver brilliant silver glare swept the forward deck clean white and splashed with black shadows had partly circled the Moon now approach from the Earthward side had worked with extreme concentration through the last few hours plotting the trajectory our curving sweep setting the gravity plates with constantly shifting combinations And with necessity for the steady retarding our velocity \\n \\nMiko for time was elbow the turret had not seen Coniston and Hahn recent hours had slept awakened refreshed and had meal Coniston and Hahn remained below one the other them always with the crew execute sirened orders Then Coniston came take place the turret and went with Miko the helio room \\nYou are skilful Haljan measure grim approval was Miko voice You evidently have wish try and fool this navigation \\nhad not indeed delicate work best coping with the intricacies celestial mechanics upon semicircular trajectory with retarding velocity and with make shift crew could easily have come upon real difficulty \\nhung last hull down facing the Earthward hemisphere the Lunar disc The giant ball the Earth lay behind and above the Sun over our stern quarter With forward velocity almost checked poised and Snap began his signals the unsuspecting Grantline \\nwork momentarily was over sat watching the helio room Moa was here close beside felt always her watchful gaze that even the play expression needed reining \\nMiko worked with Snap Anita too was here Miko and Moa was the somber taciturn George Prince shrouded always his black mourning cloak disinclined talk sitting alone brooding and cowardly sullen \\nMiko repeated the infernal you try fool Snap Dean \\nThe small metal room with its grid floor and low arched ceiling glared with moonlight through its windows The moving figures Snap and Miko were aped the grotesque misshapen shadows them the walls Miko gigantic great menacing ogre Snap small and alert trim pale figure his tight fitting white trousers broad flowing belt and white shirt open the throat His face was pale and drawn from lack sleep and the torture which Miko had subjected him But grinned the brigand words and pushed his straggling hair closer under the red eyeshade \\ndoing best Miko you can believe \\n \\nThe room over long periods was deadly silent with Miko and Snap bending watchfully the crowded banks instruments silence which own pounding heart seemed echo did not dare look Anita nor she Snap was trying signal Earth not the Moon His main helios were set the reverse The infra red waves flung from the bow window were frequency which Snap and believed that Grantline could not pick And over against the wall close beside and seemingly ignored Snap there was tiny ultra violet sender Its faint hum and the quivering its mirrors had far passed unnoticed \\nWould some Earth station pick prayed There was thumb nail mirror here which could bring answer prayed that might swing \\nWould some Earth telescope able see doubted The pinpoint the Planetara infinitesimal bulk would beyond them \\nLong silences broken only the faint hiss and murmur Snap instruments \\nShall try the graphs Miko \\nYes \\nhelped him with the spectroheliograph every level the plates showed nothing save the scarred and pitted Moon surface worked for hour There was nothing Bleak cold night the Moon here beneath touch fading sunlight upon the Apennines near the South Pole Tycho with its radiating open rills stood like grim dark maw \\nMiko bent over plate Something here there \\nabnormality upon the frowning ragged cliffs Tycho thought But then seemed not \\n \\nAnother hour signal came from Earth Snap calls were getting through had evidence Abruptly Miko strode from across the room went cold and tense Moa shifted alert every movement But Miko was not interested sweep his clenched fist knocked the ultra violet sender and its coils and mirrors tinkling crash the grid feet \\ndon need that whatever \\nrubbed his knuckles where the violet waves had tinged them and turned grimly back Snap \\nWhere are your Gamma ray mirrors the treasure exposed \\nThis Martian knowledge was far greater than believed grinned sardonically Anita our treasure this hemisphere Prince should pick Gamma rays Don you think Grantline cautious will all protected \\nAnita spoke careful throaty drawl The Gamma rays came plain enough when passed here the way out \\nYou should know grinned Miko expert eavesdropper Prince will say that for you Come Dean try something else God Grantline does not signal will likely blame you patience shortening Shall closer Haljan \\ndon think would help said \\nnodded Perhaps not Are checked \\nYes were poised very nearly motionless you wish advance can ring But need surface destination now \\nTrue Haljan stood thinking Would zed ray penetrate those crater cliffs Tycho for instance this angle  \\nmight Snap agreed You think may the Northern inner side Tycho \\nmay anywhere said Miko shortly \\nyou think that Snap persisted suppose swing the Planetara over the South Pole Tycho viewed from there \\nAnd take another quarter day time Miko sneered Flash your zed ray help him hook Haljan \\nallusion the use the zed ray light for making spectro photographs what might behind obscuring rock masses similar the old style ray \\n \\nmoved the lens box the spectroheliograph seemed that Snap was very strangely reluctant Was because knew that the Grantline camp lay concealed the north inner wall Tycho giant ring thought But Snap flashed queer look Anita She did not see but did And could not understand \\naccursed witless incapacity only had taken warning \\nHere commanded Miko score graphs with the zed ray tell you will comb this surface have stay here until our ship comes from Ferrok Shahn join \\nThe Martian brigands were coming Miko signals had been answered ten days the other brigand ship adequately manned and armed would here \\nSnap helped connect the zed ray did not dare even whisper with Moa hovering always close And for all Miko sardonic smiling knew that would tolerate nothing from now was fully armed and was Moa \\nrecall that Snap several times tried touch significantly only had taken warning \\nfinished our connecting The dull gray point zed ray gleamed through the prisms mingle with the moonlight entering the main lens stood with the shutter trip \\nThe same interval Snap \\nYes \\nBeside was aware faint reflection the zed light gray Cathedral shaft crossing the helio room and falling upon the opposite wall unreality there the zed light faintly strove penetrate the metal room side \\nsaid Shall make the exposure \\n \\nSnap nodded But that graph was never made exclamation from Moa made all turn The Gamma mirrors were quivering Grantline had picked our signals With what undoubtedly was intensified receiving equipment which Snap had not thought Grantline able use had caught our faint zed rays which Snap was sending only deceive Miko And Grantline had recognized the Planetara and had released his occulting screens surrounding the radium ore The Gamma rays were here unmistakable \\nAnd upon their heels came Grantline message Not the secret system had arranged with Snap but unsuspectingly open code could read the swinging mirror and could Miko \\nAnd Miko decoded triumphantly aloud \\nSurprised but pleased your return Approach Mid Northern hemisphere region Archimedes forty thousand toises off nearest Apennine range \\nThe message broke off But even its importance was overshadowed Miko stood the center the helio room triumphantly reading the light indicator Its beam swung the scale which chanced almost directly over Anita head saw Miko expression change look surprise amazement came him \\nWhy \\ngasped stood staring Almost stupidly staring for instant And regarded him with fascinated horror there came upon his heavy gray face look dawning comprehension And heard Snap startled intake breath moved the spectroheliograph where the zed ray connections were still humming \\nBut with leap Miko flung him away Off with you Moa watch him Haljan don move \\nAbout fifty miles \\n \\nAgain Miko stood staring dear God saw now that was staring Anita \\nWhy George Prince How strange you look \\nAnita did not move She was stricken with horror she shrank back against the wall huddled her cloak Miko sardonic voice came again \\nHow strange you look Prince took step forward was grim and calm Horribly calm Deliberate Gloating like great gray monster human form toying with fascinated imprisoned bird \\nMove just little Prince Let the zed ray light fall more fully \\nAnita head was bare That pale Hamletlike face Dear God the zed light reflection lay gray and penetrating upon \\nMiko took another step Peering Grinning How amazing George Prince Why can hardly believe \\nMoa was armed with electronic cylinder For all her amazement what turgid emotions sweeping her can only guess she never took her eyes from Snap and \\nBack Don move either you She hissed \\nThen Miko leaped Anita like giant gray leopard pouncing \\nAway with that cloak Prince \\n \\nstood cold and numbed And realization came last The faint zed light glow had fallen chance upon Anita face Penetrated the flesh exposed faintly glowing the bone line her jaw Unmasked the waxen art Glutz \\nAnd Miko had seen \\nWhy George how surprising Away with that cloak \\nseized her wrist drew her forward beyond the shaft zed light into the brilliant light the Moon And ripped her cloak from her The gentle curves her woman figure were unmistakable \\nAnd Miko gazed them all his calm triumph swept away \\nWhy Anita \\nheard Moa mutter that venomous flashing look shaft from Anita and back again that \\nWhy Anita \\nMiko great arms gathered her though she were child have you back from the dead delivered back \\nGregg Snap warning and his grip over shoulders brought measure sanity had tensed spring stood quivering and Moa thrust her weapon against face The helio mirrors were swaying again with another message from Grantline But came ignored all \\nthe glare moonlight the forward window Miko held Anita his great hands pawing her with triumphant possessive caresses \\nlittle Anita you are given back \\nAgainst her futile struggles held her \\nDear God only had had the wit have prevented this \\nCHAPTER \\nThe Grantline Camp \\nthe mid northern hemisphere upon the Earthward side the Moon the giant crater Archimedes stood brooding silent majesty Grim lofty walls broken pitted and scarred rising precipitous the upper circular rim Night had just fallen The sunlight clung the crater heights tinged with flame the jagged peaks the Apennine Mountains which rose tiers the horizon and flung great inky shadows over the intervening lowlands \\nNorthward the Mare Imbrium stretched mysterious and purple its million rills and ridges and crater holes flattened distance and the gathering darkness into seeming level surface The night slowly deepened The dead black vault the sky blazed with its brilliant starry gems The gibbous Earth hung high above the horizon motionless save for the invisible pendulum sway over the tiny arc its libration widening quadrature casting upon the bleak naked Lunar landscape its mellow Earth glow \\nSlow measured process this coming the Lunar night For Earth day the sunset slowly faded the Apennines the poised Earth widened little further Earth day time with the Earth disc visibly rotating the faint tracery its oceans and continents passing slow majestic review \\nAnother Earth day interval Then another And another Full night now enveloped Archimedes Splotches Earth light and starlight sheen slowly shifted the night advanced \\nBetween the great crater and the nearby mountains the broken pseudo level lowlands lay wan the Earth light few hundred miles distance would measured upon Earth million million rills were here Valleys and ridges ravines sharp walled canyons cliffs and crags tiny craters like pock marks \\nNaked gray porous rock everywhere This denuded landscape Cracked and scarred and tumbled though some inexorable Titan torch had seared and crumbled and broken left now congealed like wind lashed sea abruptly frozen into immobility \\n \\nMoonlight upon Earth gently shines make romantic lover smile But the reality the Lunar night cold beyond human rationality Cold and darkly silent Grim desolation Awesome Majestic frowning majesty that even the most intrepid human beholder inconceivably forbidding \\nAnd there were humans here now this tumbled plain between Archimedes and the mountains one small crater amid the million its fellows was distinguished this night the presence humans The Grantline camp huddled the deepest purple shadows the side bowl like pit crudely circular orifice with scant two miles across its rippling rim There was faint light here mark the presence the living intruders The blue glow radiance Morrell tube lights under spread glassite \\nThe Grantline camp stood mid way one the inner cliff walls the little crater The broken rock strewn floor two miles wide lay five hundred feet below the camp Behind the jagged precipitous cliff rose another five hundred the heights the upper rim broad level shelf hung midway the cliff and upon Grantline had built his little group glassite dome shelters Viewed from above there was the darkly purple crater floor the upflung circular rim where the Earth light tinged the spires and crags with yellow sheen and the shelf like huddled group birds nests Grantline domes clung and gazed down upon the inner valley \\nIntricate task the building these glassite shelters There were three The main one stood close the brink the ledge quadrangle glassite walls hundred feet length half wide and scant ten feet high its flat arched dome roof Built for this purpose Great New York Grantline had brought his aluminite girders and braces and the glassite panels sections \\n \\nThe air here the Moon surface was negligible scant one five thousandth the atmospheric pressure the sea level Earth But within the glassite shelter normal Earth pressure must maintained Rigidly braced double walls withstand the explosive tendency with external pressure counteract tremendous necessity for mechanical equipment had burdened Grantline small ship its capacity The chemistry manufactured air the pressure equalizers renewers respirators the lighting and temperature maintenance systems all the mechanics space flyer were here \\nAnd within the glassite double walls there was necessity for constant circulation the Erentz temperature insulating system  \\nThere was this main Grantline building stretching low and rectangular along the front edge the ledge Within were living rooms messroom and kitchen Fifty feet behind connected narrow passage glassite was similar though smaller structure The mechanical control rooms with their humming vibrating mechanisms were here And instrument room with signaling apparatus senders receivers mirror grids and audiphones several varieties and electro telescope small but modern with dome overhead like little Earth observatory \\nFrom this instrument building beside the connecting pedestrian passage wire cables for light and air tubes and strings and bundles instrument wires ran the main structure gray snakes upon the porous gray Lunar rock \\nThe third building seemed lean banked against the cliff wall slanting shed wall glassite fifty feet high and two hundred length Under for months Grantline borers had dug into the cliff Braced tunnels were here penetrating back and downward into this vein radio active rock \\nintricate system insulation against extremes temperature developed the Erentz Kinetic Energy Corporation the twenty first century Within the hollow double shell shelter wall explorer helmet suit space flyer hull oscillating semi vacuum current was maintained extremely rarified air magnetically charged and maintained rapid oscillating motion Across this field the outer cold heat the case might could penetrate only with slow radiation This Erentz system gave the most perfect temperature insulation known its day Without interplanetary flight would have been impossible \\nAnd served double purpose Developed first for temperature insulation only the Erentz system surprisingly brought light one the most important discoveries made the realm physics the century was found that any flashing oscillating current whether electronic the semi vacuum rarified air even thin sheet whirling fluid gave also pressure insulation The kinetic energy the rapid movement was found absorb within itself the latent energy the unequal pressure \\nThe intricate postulates and mathematical formulae necessary demonstrate the operation the physical laws involved would out place here \\nThe Planetara was equipped against the explosive tendency its inner air pressures when flying the near vacuum space the case Grantline glassite shelters the latent energy his room interior air pressure went largely into kinetic energy which practical effect resulted only the slight acceleration the vacuum current and thus never reached the outer wall The Erentz engineers claimed for their system pressure absorption leaving Grantline case only room pressure held the building aluminite bracers \\nmay interesting note this connection that without the Erentz system basis the great sub sea developments Earth and Mars the twenty first century would also have been impossible Equipped with fluid circulation device the Erentz principle within its double hull the first submarine was able penetrate the great ocean deeps withstanding the tremendous ocean pressures depths four thousand fathoms \\n \\nThe work was over now The borers had been dismantled and packed away one end the cliff the mining equipment lay piled litter There was heap discarded ore where Grantline had carted and dumped after his first crude refining process had yielded waste The ore slag lay like gray powder flakes strewn down the cliff Tracks and ore carts along the ledge stood discarded mute evidence the weeks and months work these helmeted miners had undergone struggling upon this airless frowning world \\nBut now all that was finished The radio active ore was sufficiently concentrated lay this treasure seventy foot pile behind the glassite lean with cage wires over and insulation barrage guarding its Gamma rays from escaping mark its presence \\nThe ore shelter was dark the other two buildings were lighted And there were small lights mounted intervals about the camp and along the edge the ledge spider ladder with tiny platforms some twenty feet one above the other hung precariously the cliff face descended the five hundred feet the crater floor and behind the camp mounted the jagged cliff face the upper rim height where small observatory platform was placed \\n \\nSuch was the outer aspect the Grantline Treasure Camp near the beginning this Lunar night when unbeknown Grantline and his score men the Planetara with its brigands was approaching The night was perhaps sixth advanced Full night breath cloud mar the brilliant starry heavens The quadrant Earth hung poised like giant mellow moon over Grantline crater bright Earth yet air was here this Lunar surface spread its light Only glow mingling with the spots blue tube light the poles along the cliff and the radiance from the lighted buildings \\nThe crater floor was dimly purple Beyond the opposite upper rim from the camp height the towering top distant Archimedes was visible \\nevidence movement showed about the silent camp Then pressure door end the main building opened its tiny series locks bent figure came out The lock closed The figure straightened and gazed about the camp Grotesque bloated semblance man Helmeted with rounded dome hood suggestion ancient sea diver yet goggled and trunked like gas masked fighter the twentieth century war \\nstooped presently and disconnected metal weights which were upon his shoes  \\nThen stood erect again and with giant strides bounded along the cliff Fantastic figure the blue lit gloom child dream crags and rocks and strange lights with single monstrous figure seven league boots \\nwent the length the ledge with his twenty foot strides inspected the lights and made adjustments Came back and climbed with agile bounding leaps the spider ladder the dome the crater top light flashed there Then was extinguished \\nThe goggled bloated figure came leaping down after moment Grantline exterior watchman making his rounds came back the main building Fastened the weights his shoes Signaled within \\nThe lock opened The figure went inside \\nwas early evening after the dinner hour and before the time sleep according the camp routine Grantline was maintaining Nine Earth Eastern American time recorded now upon his Earth chronometer the living room the main building Johnny Grantline sat with dozen his men dispersed about the room whiling away best they could the lonesome hours \\nWithin the Grantline buildings was found more convenient use gravity normal Earth This was maintained the wearing metal weighted shoes and metal loaded belt The Moon gravity normally approximately one sixth the gravity Earth \\n \\nAll usual This cursed Moon When get home ever get home \\nSay your say Wilks But you spend your share the gold leaf and thank your constellations that you had your chance \\nLet him alone Come Wilks take hand here This game good with three \\nThe man who had been outside flung his hissing helmet recklessly the floor and unsealed his suit Here get out this won play can play your cursed game with nothing stake \\nCommissioner orders \\nlaugh went the sharp look Johnny Grantline flung from where sat reading corner the room \\nCommander orders gambling gold leafers tolerated here \\nPlay the game Wilks Grantline said quietly all know infernal doing nothing \\nbeen struck Earth light another man laughed Commander told you not let that guy Wilks out night \\n \\nrough but good natured lot men Jolly and raucous nature their leisure hours But there was too much leisure here now Their mirth had hollow sound older times explorers the frozen polar zones had cope with inactivity loneliness and despair But least they were their native world The grimness the Moon was eating into the courage Grantline men unreality here weirdness These fantastic crags The deadly silence The nights almost two weeks Earth time length congealed the deadly frigidity Space The days black sky blaring stars and flaming Sun with atmosphere diffuse the daylight Days weird blending sheen illumination with most the Sun heat radiating swiftly from the naked Lunar surface that the outer temperature still was cold And day and night always the familiar beloved Earth disc hanging poised near the zenith From thinnest crescent full Earth and then steadily back again crescent \\nAll abnormal irrational disturbing human senses With the mining work over irritability grew upon Grantline men And perhaps since the human mind wonderful elusive thing there lay upon these men indefinable sense impending disaster Johnny Grantline felt thought about now sat the room corner watching Wilks being forced into the plaget game and found strong within him Unreasonable ominous depression Barring the accident which had disabled his little space ship when they reached this small crater hole his expedition had gone well His instruments and the information had from the former explorers had picked the ore vein with scant month search \\n \\nThe vein had now been exhausted but the treasure was here Nothing was left but wait for the Planetara The men were talking that now \\nShe ought well mid way from here Ferrok Shahn now When you figure she back here and signal \\nTwenty days Give her another five now Mars and five port That ten pick her signals three weeks mark \\nThree weeks Just give three weeks reasonable sunrise and sunset This cursed Moon You mean Williams next daylight \\nHah inventing Lunar language You Moon man yet you live here long enough \\nOlaf Swenson the big blond fellow from the Scandia fiords came and flung himself down Grantline \\ntank they bane without not enough Commander the ore yust would not give out \\nThree weeks isn very long Ollie \\n Maybe not \\nFrom across the room somebody was saying the Comet hadn smashed damn but ask the Commander let some take her back The discarded equipment could \\nShut Billy She smashed \\nThe little Comet cruising search the ore had come grief just the ore was found lay now the crater floor with its nose bashed into upflung spire rock Wrecked beyond repair Save for the pre arrangement with the Planetara the Grantline party would have been helpless here the Moon Knowledge that although one ever suspected but that the Planetara would come safely served add the men depression They were cut off virtually helpless strange world Their signalling devices were inadequate even reach Earth Grantline power batteries were running low could not attempt wide flung signals without jeopardizing the power necessary for the routine his camp the event the Planetara being delayed Nor was his electro telescope adequate pick small objects any great distance  \\nAll Grantline effort truth had gone into equipment for the finding and gathering the treasure The safety the expedition had that extent been neglected \\nSwenson was mentioning that now \\nYou all agreed Johnny said shortly Every man here voted that above everything what wanted was get the radium \\nThe Gravely storage tanks the power used the Grantline expedition were heavy and bulky affairs Economy space the Comet allowed but few them \\nElectro telescopes most modern use and power were too large and used too much power available Grantline \\n \\ndynamic little fellow this Johnny Grantline Short temper sometimes but always just and perfect leader men stature was almost small Snap But was thick set with smooth shaven keen eyed square jawed face and shock brown tousled hair man thirty five though the decision his manner the quiet dominance his voice mode him seem older stood now surveying the blue lit glassite room with its low ceiling close overhead was bowlegged movement seemed roll with stiff legged gait like some sea captain former days the deck his swaying ship Queer looking figure Heavy flannel shirt and trousers boots heavily weighted and bulky metal loaded belt strapped about his waist \\ngrinned Swenson When divide this treasure everyone will happy Ollie \\nThe treasure was estimated Grantline the equivalent ninety millions gold leaf hundred and ten millions the gross now stood with twenty millions deducted the Federated Refiners for reducing the standard purity commercial radium Ninety millions with only million and half come off for expedition expenses and the Planetara Company share another million nice little stake \\nGrantline strode across the room with his rolling gait \\nCheer boys Who winning there say you fellows \\naudiphone buzzer interrupted him call from the duty man the instrument room the nearby building \\nGrantline clicked the receiver The room fell into silence Any call was unusual nothing ever happened here the camp \\nThe duty man voice sounded over the room \\nSignals coming Not clear Will you come over Commander \\nSignals \\n \\nwas never Grantline way enforce needless discipline offered objection when every man the camp rushed through the connecting passages They crowded the instrument room where the tense duty man sat bending over his helio receivers The mirrors were swaying \\nThe duty man looked and met Grantline gaze \\nran the highest intensity Commander ought get not let pass \\nLow scale Peter \\nYes Weakest infra red bringing even though uses too much our power The duty man was apologetic \\nGet said Grantline shortly \\nhad swing minute ago think the Planetara \\nPlanetara The crowding group men chorused How could the Planetara \\nBut was The call presently came clear Unmistakably the Planetara turned back now from her course Ferrok Shahn \\nHow far away Peter \\nThe duty man consulted the needles his dial scale Close Very weak infra red But close Around thirty thousand miles maybe Snap Dean calling \\nThe Planetara here within thirty thousand miles Excitement and pleasure swept the room The Planetara coming had for long been awaited eagerly \\nThe excitement communicated Grantline was unlike him incautious yet now with thought save that some unforeseen and pleasing circumstance had brought the Planetara ahead time incautious Grantline certainly was \\nRaise the ore barrage \\n suit here \\n \\nwilling volunteer rushed out the ore shed The Gamma rays which the helio room the Planetara came unwelcome Snap and were loosed \\nCan you send Peter Grantline demanded \\nYes with more power \\nUse \\nJohnny dictated the message his location which received his incautious excitement ignored the secret code \\ninterval passed The ore was occulted again message had come from just Snap routine signal the weak infra red which hoped Grantline would not get \\nThe men crowding Grantline instrument room waited tense silence Then Grantline tried the telescope Its current weakened the lights with the drain upon the distributors and cooled the room with sudden deadly chill the Erentz insulating system slowed down \\nThe duty man looked suddenly frightened You bulge out our walls Commander The internal pressure \\nchance \\nThey picked the image the Planetara came from the telescope and shone clear the grid the segment star field with tiny cigar shaped blob Clear enough unmistakable The Planetara Here now over the Moon almost directly overhead poised what the altimeter scale showed fraction under thirty thousand miles \\nThe men gazed awed silence The Planetara coming \\nBut the altimeter needle was motionless The Planetara was hanging poised \\nsudden gasp went about the room The men stood with whitening faces gazing the Planetara image And the altimeter needle was moving The Planetara was descending But not with orderly swoop \\nThe image showed the ship clearly The bow tilted then dipped down But then moment swung again The ship turned partly over Righted itself Then swayed again drunkenly \\nThe watching men were stricken into horrified silence The Planetara image momentarily horribly grew larger Swaying Then turning completely over rotating slowly end over end \\nThe Planetara out control was falling \\nCHAPTER XXI \\nThe Wreck the Planetara \\nthe Planetara the helio room Snap and stood with Moa weapon upon Miko held Anita Triumphant Possessive Then she struggled gentleness came this strange Martian giant Perhaps really loved her Looking back sometimes think \\nAnita not fear held her away from him would not harm you want your love Irony came him And thought had killed you But was only your brother \\npartly turned was aware how alert was his attention grinned Hold them Moa don let them anything foolish Anita you were masquerading spy upon That was wrong you was again ironic \\nAnita had not spoken She held herself tensely away from Miko she had flashed look just one What horrible mischance have brought this catastrophe \\nThe completion Grantline message had come unnoticed all \\nLook Grantline again Snap said abruptly \\nBut the mirrors were steadying had recording tape apparatus the rest the message was lost The mirrors pulsed and then steadied \\nfurther message came There was interval while Miko waited held Anita the hollow his great arm \\nQuiet little bird not fear have work Anita this our great adventure will rich you and All the luxuries three worlds can offer all for when this over Careful Moa This Haljan has wit \\nWell could say who had been witless let this come upon Moa weapon prodded Her voice hissed with all the venom reptile enraged that was your game Gregg Haljan And was graceless admit love for you \\n \\nSnap murmured ear Don move Gregg She reckless \\nShe heard She whirled him have lost George Prince seems Well will survive without his ore knowledge And you Dean and this Haljan mark will kill you both you cause trouble \\nMiko was gloating Don kill them yet Moa What was Grantline said Near the crater Archimedes Ring down Haljan land \\nsignaled the turret Gave Coniston the Grantline message and audiphoned below Hahn The news spread about the ship The bandits were jubilant \\nland now Haljan Ring down Come Anita and will with you the turret \\nfound voice what destination \\nNear Archimedes The Apennine side Keep well away from the Grantline camp will probably sight descend \\nThere was trajectory needed were almost over Archimedes now could drop with visible instrumental course mind was whirling with confusion thoughts What could What could dare attempt met Snap gaze \\nRing down Gregg said quietly \\nnodded pushed Moa weapon away You don need that obey orders \\n \\nwent the turret Moa watched and Snap grim cold Amazon She avoided looking Anita whom Miko helped down the ladders with strange mixture courtierlike grace and amused irony Coniston gazed Anita with falling jaw \\nsay Not George Prince The girl \\ntime for argument now Miko commanded the girl masquerading her brother Get below Coniston Haljan takes down \\nThe astounded Englishman continued gazing Anita mean say where the Moon Not encounter Grantline once Miko Our equipment not ready \\ncourse not will land well away won suspicious can signal him again after land will have time plan assemble the equipment Get below told you \\nThe reluctant Coniston left took the controls Miko still holding Anita though she were child sat beside will watch him little Anita skilled fellow this sort work \\nrang signals for the shifting the gravity plates The answer should have come from below within second two But did not Miko regarded with his great bushy eyebrows upraised \\nRing again Haljan \\nduplicated answer The silence was frightening Ominous \\nMiko muttered That accursed Hahn Ring again \\nsent the imperative emergency demand \\n \\nanswer second two Then all the turret were startled Transfixed From below came sudden hiss sounded the turret came from shifting room call grid The hissing the pneumatic valves the plate shifters the lower control room The valves were opening the plates automatically shifting into neutral and disconnecting \\ninstant startled silence Miko may have realized the significance what had happened Certainly Snap and did The hissing ceased gripped the emergency plate shifter switch which hung over head Its disc was dead The plates were dead neutral the positions they were only placed while port And their shifting mechanisms were imperative \\nwas feet Snap Good God neutral \\nMiko had not realized before was aware now The Moon disc moved visibly the Planetara lurched The vault the heavens was slowly swinging \\nMiko ripped out heavy oath Haljan What this \\nstood still holding Anita But there was nothing that could this emergency Haljan what \\nThe heavens turned with giant swoop The Moon was over swung dizzying arc Overhead then back past our stern under then appearing over our bow \\nThe Planetara had turned over Upending Rotating end over end \\nFor moment two think all that turret stood and clung The Moon disc the Earth Sun and all the stars were swinging past our windows horribly dizzying The Planetara seemed lurching and tumbling But was optical effect only stared with grim determination feet The turret seemed steady \\nThen looked again That horrible swoop all the heavens And the Moon went past seemed expanded were falling Out control with the Moon gravity pulling inexorably down \\nThat accursed Hahn Miko stricken with his lack knowledge these controls was wholly confused \\n \\nmoment only had passed fancy that the Moon disc was enlarged was merely the horror imagination had not fallen far enough yet for that \\nBut were falling Unless could something would crash upon the Lunar surface \\nAnita killed this Planetara turret The end everything for \\nAction came gasped Miko you stay here The controls are dead You stay here hold Anita \\nignored Moa weapon which she was still clutching mechanically Snap thrust her away \\nSit back Let alone falling Don you understand \\nThis deadly danger level all longer were captors and captured Not brigands for this moment thought Grantline treasure Trapped humans only Leveled the common instinct self preservation Trapped here together fighting for our lives \\nMiko gasped Can you check What happened \\ndon know try \\nstood clinging This dizzying whirl From the audiphone grid Coniston voice sounded \\nsay Haljan something wrong Hahn doesn signal \\nThe look out the forward tower was clinging his window the deck below our turret member the crew appeared stood lurching for moment then shouted and turned and ran swaying aimless From the lower hull corridors our grids sounded with the tramping running steps Panic among the crew was spreading over the ship chaos below decks \\n \\npulled the emergency switch again Dead \\nBut down below there was the manual controls \\nSnap must get down The signals \\nYes \\nConiston voice came like scream from the grid Hahn dead the controls are broken Hahn dead \\nbarely heard him shouted Miko hold Anita Come Snap \\nclung the ladders Snap was behind Careful Gregg Good God \\nThis dizzying whirl tried not look The deck under was now blurred kaleidoscope swinging patches moonlight and shadow \\nreached the deck Ran swaying lurching \\nseemed that from the turret Anita voice followed careful \\nWithin the ship our senses steadied With the rotating reeling heavens shut out there were only the shouts and tramping steps the panic stricken crew mark that anything was amiss That and pseudo sensation lurching caused the pulsing gravity pull when the Moon was beneath our hull combine its force with our magnetizers lightening when was overhead throbbing pendulum lurch that was all \\nran down the corridor incline white faced member the crew came running \\nWhat happened Haljan what happened \\nfalling gripped him Get below Come with \\nBut jerked away from Falling \\nsteward came running Falling God \\nSnap swung them Get ahead The manual controls our only chance need all you men the compressor pumps \\nBut was instinct try and get deck though here below were rats caught trap The men tore away from and ran Their shouts panic resounded through the dim blue lit corridors \\n \\nConiston came lurching from the control room say falling Haljan God look him \\nHahn was sprawled the gravity plate switchboard Sprawled head down Dead Killed something suicide \\nbent over him His hands gripped the main switch had ripped loose And his left hand had reached and broken the fragile line tubes that intensified the current the pneumatic plate shifters suicide With his last frenzy determined kill all \\nThen saw that Hahn had been killed Not suicide his hand gripped small segment black fabric piece torn from invisible cloak Was \\nThe questions were swept away the necessity for action Snap was rigging the hand compressors could get the pressure back the tanks \\nswung Coniston You armed \\nYes was white faced and confused but not panic showed his heat ray cylinder What you want \\nRound the crew Get all you can Bring them here man these pumps \\ndashed away Snap shouted after him Kill them down they argue \\nMiko voice sounded from the turret call grid Falling Haljan you can see now Check \\ndid not answer that pumped with Snap \\nDesperate moments was hour Coniston brought the men stood over them with menacing weapon \\nhad all the pumps going The pressure rose little the tanks Enough shift bow plate tried The plate slowly clicked into new combination gravity repulsion just the bow tip \\n \\nsignaled Miko Have stopped swinging \\n But slower \\ncould feel that lurch the gravity But not steady now limp The tendency our bow was stay \\nMore pressure Snap \\nYes \\nOne the crew rebelled tried bolt from the room God crash caught here \\nConiston shot him down \\nshifted another bow plate Then two the stern The stern plates seemed move more readily than the others \\nRun all the stern plates Snap advised \\ntried The lurching stopped Miko called bow down Falling \\nBut not falling free The Moon gravity pull upon was more than half neutralized \\nSnap and try the engines You don mind staying down Executing signals \\nYou idiot gripped shoulders His eyes were gleaming his face haggard but his pale lips twitched with smile \\nMaybe good Gregg fall fighting \\nYes Fighting Coniston you keep the pressure \\nWith the broken set tubes took nearly all the pressure maintain the few plates had shifted One slipped back neutral Then the pumps gained and shifted again \\ndashed the deck the Moon was close now horribly close The deck shadows were still Through the forward bow windows the Moon surface glared \\n \\nreached the turret The Planetara was steady Pitched bow down half falling half sliding like rocket downward The scarred surface the Moon spread wide under \\nThese last horrible minutes were blur And there was always Anita face She left Miko Faced with death sat clinging Ignoring her Moa too sat apart Staring \\nAnd Anita crept Gregg dear one The end \\ntried the electronic engines from the stern setting them the reverse The streams their light glowed from the stern forward along our hull and flared down from our bow toward the Lunar surface But atmosphere was here give resistance Perhaps the electronic streams checked our fall little The pumps gave pressure just the last minutes slide few the hull plates But our bow stayed down slid like spent rocket falling \\nrecall the horror that expanding Lunar surface The maw Archimedes yawning blob Widening great pit Then saw was one side Rushing upward \\nphantasmagoria uprushing crags Black and gray Spires tinged with Earth light \\nGregg dear one good \\nHer gentle arms around The end everything for recall murmuring Not falling free Anita Some hull plates are set \\ndials showed another plate shifting checking little further Good old Snap \\ncalculated the next best plate shift tried Slid over Good old Snap \\nThen everything faded but the feeling Anita arms around \\nGregg dear one \\nThe end everything for \\nThere was rush gray black rock \\nimpact \\nCHAPTER XXII \\nThe Hiss Death \\nopened eyes dark blur confusion shoulder hurt pain shooting through Something lay like weight could not seem move left arm Very queer Then moved and hurt was lying twisted sat And with rush memory came The crash was over not dead Anita \\nShe was lying beside There was little light here this silent blur soft mellow Earth light filtering the window The weight was Anita She lay sprawled her head and shoulders half way across lap \\nNot dead Thank God not dead She moved Her arms went around and lifted her The Earth light glowed her pale face but her eyes opened and she faintly smiled \\npast Anita struck and still alive \\nheld her though all life turgid danger were powerless touch \\nBut the silence floating senses were brought back reality faint sound forcing itself upon little hiss The faintest murmuring breath like hiss Escaping air \\ncast off her clinging arms Anita this madness \\n \\nFor minutes must have been lying there the heaven our embrace But air was escaping The Planetara dome was broken cracked and our precious air was hissing out \\nFull reality came last was not seriously injured found that could move freely could stand twisted shoulder limp left arm but they were better moment \\nAnd Anita did not seem hurt Blood was upon her But not her blood \\nBeside Anita stretched face down the turret grid was the giant figure Miko The blood lay small pool against his face widening pool \\nMoa was here thought her body twitched then was still This soundless wreckage the dim glow the wrecked turret with its two motionless broken human figures seemed though Anita and were ghouls prowling saw that the turret had fallen over the Planetara deck lay dashed against the dome side \\nThe deck was aslant litter wreckage broken human figure showed one the crew who the last must have come running The forward observation tower was down the chart room roof its metal tangle thought could see the legs the tower look out \\nthis was the end the brigands adventure The Planetara last voyage How small and futile are human struggles Miko daring enterprise villainous inhuman brought all few moments this silent tragedy The Planetara had fallen thirty thousand miles But why What had happened Hahn And where was Coniston down this broken hull \\nAnd Snap thought suddenly Snap \\n \\nclutched wandering wits This inactivity was death The escaping air hissed ears Our precious air escaping away into the vacant desolation the Lunar emptiness Through one the twisted slanting dome windows rocky spire was visible The Planetara lay bow down wedged jagged cradle Lunar rock miracle that the hull and dome had held together \\nAnita must get out here \\nthought was fully alert now recalled that the brigands had spoken having partly assembled their Moon equipment only could find suits and helmets \\nmust get out repeated Get Grantline camp \\nTheir helmets are the forward storage room Gregg saw them there \\nShe was staring the fallen Miko and Moa She shuddered and turned away and gripped the forward storage room the port the emergency lock exit \\nonly the exit locks would operate must get out here but find Snap first Good old Snap Would find him lying dead \\nclimbed from the slanting fallen turret over the wreckage the littered deck was not difficult lightness was upon The Planetara gravity magnetizers were dead this was only the light Moon gravity pulling \\nCareful Anita Don jump too freely \\nleaped along the deck The hiss the escaping pressure was like clanging gong warning tell hurry The hiss death close \\nSnap murmured \\nGregg pray may find him alive \\nAnd get out got rush Get out and find the Grantline camp \\n \\nBut how far Which way must remember take food and water the helmets were equipped with admission ports could find Snap the exit locks would work let out \\nWith fifteen foot leap cleared pile broken deck chairs man lay groaning near them went back with rush Not Snap steward had been brigand but was steward now \\nGet This Haljan Hurry must get out here The air escaping \\nBut sank back and lay still time find could help him there were Anita and Snap save \\nfound broken entrance one the descending passages flung the debris aside and cleared Like giant strength with only this Moon gravity holding raised broken segment the superstructure and heaved back \\nAnita and dropped ourselves down the sloping passage The interior the wrecked ship was silent and dim occasional passage light was still burning The passage and all the rooms lay askew Wreckage everywhere but the double dome and hull shell had withstood the shock Then realized that the Erentz system was slowing down Our heat like our air was escaping radiating away deadly chill settling upon everything And our walls were bulging The silence and the deadly chill death would soon here these wrecked corridors The end the Planetara wondered vaguely the walls would explode \\nprowled like ghouls did not see Coniston Snap had been the shifter pumps found him the oval doorway lay sprawled Dead moved sat before could get him seemed confused but his senses clarified with the movement our figures over him \\nGregg Why Anita \\nSnap You all right struck the air escaping \\n \\npushed away tried stand all right was minute ago Gregg getting cold Where she had her here she wasn killed spoke her \\nIrrational \\nSnap held him shook him Snap old fellow \\nsaid normally Easy Gregg all right now \\nAnita gripped him Who Snap \\nShe There she \\nAnother figure was here the grid floor the door oval figure partly shrouded broken invisible cloak and hood invisible cloak saw white face with opened eyes regarding The face girl \\nVenza \\nbent down You \\nAnita cried Venza \\nVenza here Why how thoughts swept away Venza here dying Her eyes closed But she murmured Anita Where want him \\nDying murmured impulsively Here Venza dear Gently one would speak with gentle sympathy humor the dying Here Venza \\nBut was only the confusion the shock upon her And was upon all She pushed Anita want him She saw This whimsical Venus girl Even here gathered all blurred the shock confused the dim wrecked ship with the chill death coming even here she could make jest Her pale lips smiled \\nYou Gregg not hurt don think hurt She managed get herself one elbow Did you think wanted you with dying breath Why what conceit Not you Handsome Haljan was calling Snap \\n \\nwas down her all right Venza over must get out the ship the air escaping \\ngathered the oval doorway fought the confusion panic \\nThe exit port this way \\nwas answered Snap Yes think \\nThe ship suddenly seemed stranger cold vibrationless Broken lights These slanting wrecked corridors With the ventilating fans stilled the air was turning fetid Chilling And thinning with escaping pressure rarifying that could feel the grasp lungs and the pin pricks burning cheeks \\nstarted off Four still alive this silent ship death blurred thoughts tried cope with all Venza here recalled how she had bade create diversion when the women passengers were landing the asteroid She had carried out her purpose the confusion she had not gone ashore stowaway here She had secured the cloak Prowling try and help she had come upon Hahn Had seized his ray cylinder and struck him down and been herself knocked unconscious his dying lunge which also had broken the tubes and wrecked the Planetara And Venza unconscious had been lying here with the mechanism her cloak still operating that did not see her when came and found why Hahn did not answer signals \\nhere Gregg \\nSnap and lifted the pile Moon equipment located four suits and helmets and the mechanisms operate them \\nMore are the chart room Anita said \\nBut needed others robed Anita and showed her the mechanisms \\nYes understand \\n \\nSnap was helping Venza were all stiff from the cold but within the suits and their pulsing currents the blessed warmth came again \\nThe helmets had admission ports through which food and drink could taken stood with helmet ready Anita Venza and Snap were bloated and grotesque beside had found food and water here assembled portable cases which the brigands had prepared Snap lifted them and signed was ready \\nhelmet shut out all sounds save own breathing pounding heart and the murmur the mechanism The blessed warmth and pure air were good \\nreached the hull port locks They operated went through the light the head lamps over our foreheads \\nclosed the locks after instinct keep the air the ship for the other trapped humans lying there \\nslid down the sloping side the Planetara were unweighted irrationally agile with the slight gravity fell dozen feet and landed with barely jar \\nwere out the Lunar surface great sloping ramp crags stretched down before Gray black rock tinged with Earth light The Earth hung amid the stars the blackness overhead like huge section glowing yellow ball \\n \\nThis grim desolate silent landscape Beyond the ramp fifty feet below tumbled naked plain stretched away into blurred distance But could see mountains off there Behind the towering frowning rampart wall Archimedes loomed against the sky \\nhad turned look back the Planetara She lay broken wedged between spires upstanding rock few her lights still gleamed The end the Planetara \\nThe three grotesque figures Anita Venza and Snap had started off Hunchback figures with the tanks mounted their shoulders bounded and caught them touched Snap made audiphone contact \\nWhich way you think demanded \\nthink this way down the ramp Away from Archimedes toward the mountains shouldn too far \\nYou run with Venza hold Anita \\nnodded But must keep together Gregg \\ncould soon run freely Down the ramp out over the tumbled plain Bounding grotesque leaping strides The girls were more agile more skilful They were soon leading The Earth shadows their figures leaped beside them The Planetara faded into the distance behind Archimedes stood back there Ahead the mountains came closer \\nhour perhaps lost count time Occasionally stopped rest Were going toward the Grantline camp Would they see our tiny waving headlights \\nAnother interval Then far ahead the ragged plain lights showed Moving tiny spots light Headlights helmeted figures \\nran monstrously leaping group figures were off there Grantline party Snap gripped \\nGrantline safe Gregg Safe \\n \\ntook his bulb light from his helmet stood group while waved semaphore signal \\nGrantline \\nAnd the answer came Yes You Dean \\nTheir personal code doubt this was Grantline who had seen the Planetara fall and had come help \\nstood then with hand holding Anita And whispered Grantline safe Anita darling \\nDeath had been close Those horrible last minutes the Planetara had shocked marked \\nstood trembling And Grantline and his men came bounding \\nhelmeted figure touched saw through the helmet pane the visage stern faced square jawed youngish man \\nGrantline Johnny Grantline \\nYes said his voice ear grid Grantline You Haljan Gregg Haljan \\nThey crowded around Gripped hear our explanations \\nBrigands was amazing Johnny Grantline But the menace was over now over soon Grantline had realized its existence though the wreck the Planetara were foreordained all wise Providence the brigands adventure had come tragedy \\nstood for time discussing Then drew apart leaving Snap with Grantline And Anita joined held her arm that had audiphone contact \\nAnita mine \\nGregg dear one \\nMurmured nothings which mean much lovers \\n \\nstood the fantastic gloom the Lunar desolation with the blessed Earth light sent prayer thankfulness Not that hundred millions treasure were saved Not that the attack upon Grantline had been averted But only that Anita was given back moments greatest emotion the human mind individualizes there was only Anita \\nLife very strange The gate the shining garden our love seemed swinging wide let Yet recall that vague fear still lay premonition \\nfelt touch arm bloated helmet visor was thrust near own saw Snap face peering \\nGrantline thinks should return the Planetara Might find some them alive \\nGrantline touched only humanity \\nYes said \\nwent back Some ten line grotesque figures bounding with slow easy strides over the jagged rock strewn plain Our lights danced before \\nThe Planetara came last into view ship Again that pang swept saw her This her last resting place She lay here her open tomb shattered broken unbreathing The lights her were extinguished The Erentz system had ceased pulse the heart the dying ship for while beating faintly but now rest \\nleft the two girls with some Grantline men the admission port Snap Grantline and with three others went inside There still seemed air but not enough that dared remove our helmets \\nwas dark inside the wrecked ship The corridors were black the hull control rooms were dimly illumined with Earth light straggling through the windows \\nThis littered tomb Already cold and silent with death stumbled over fallen figure member the crew \\n \\nGrantline straightened from examining him \\nDead \\nEarth light fell the horrible face Puffed flesh bloated red from the blood which had oozed from its pores the thinning air looked away \\nprowled further Hahn lay dead the pump room \\nThe body Coniston should have been near here did not see \\nclimbed the slanting littered deck The dome had not exploded but the air here had almost all hissed away \\nAgain Grantline touched That the turret \\nYes \\nwonder asked The wreckage was all formless \\nclimbed after Snap into the broken turret room passed the body that steward who just the end had appealed and had left dying The legs the forward look out still poked grotesquely from the wreckage the observatory tower where lay smashed down against the roof the chart room \\nshoved ourselves into the turret What was this bodies here The giant Miko was gone The pool his blood lay congealed into frozen dark splotch the metal grid \\nAnd Moa was gone They had not been dead Had dragged themselves out here fighting desperately for life would find them somewhere around here \\nBut did not Nor Coniston recalled what Anita had said other suits and helmets had been here the nearby chart room The brigands had taken them and food and water doubtless and escaped from the ship following through the lower admission ports only few minutes after had gone out \\n \\nmade careful search the entire ship Eight the bodies which should have been here were missing Miko Moa Coniston and five the steward crew \\ndid not find them outside They were hiding near here doubt more willing take their chances than yield now But how all this Lunar desolation could hope locate them \\nuse said Grantline Let them they want death well they deserve \\nBut were saved Then stood there realization leaped Saved Were not indeed fatuous fools \\nall these emotion swept moments since had encountered Grantline memory that brigand ship coming from Mars had never once occurred Snap \\ntold Grantline now His eyes through the visor stared blankly \\nWhat \\ntold him again would here eight days Fully manned and armed \\nBut Haljan have almost weapons All Comet space was taken with mining equipment and the mechanisms for camp can signal Earth was depending the Planetara \\nsurged upon The brigand menace past were blindly congratulating ourselves our safety But would eight days more before distant Ferrok Shahn the non arrival the Planetara would cause any real comment one was searching for one was worried over \\nwonder the crafty Miko was willing take his chances out here the Lunar wilds His ship his reinforcements his weapons were coming rapidly \\nAnd were helpless Almost unarmed Marooned here the Moon with our treasure \\ncontinued \\n------------------------------------- ASTOUNDING STORIES Appears Newsstands THE FIRST THURSDAY EACH MONTH ------------------------------------- \\nThe Soul Snatcher \\nTom Curry \\nIllustration began twist and turn though torn some invisible force \\nFrom twenty miles away stabbed the atom filtering rays Allen Baker his cell the death house \\nThe shrill voice woman stabbed the steady hum the many machines the great semi darkened laboratory was the onslaught weak femininity against the ebony shadow Jared the silent negro servant Professor Ramsey Burr Not many people were able get the famous man against his wishes Jared obeyed orders implicitly and was generally efficient barrier \\nwill see him will screamed the middle aged woman Mrs Mary Baker and his fault son going die His fault Professor Professor Burr \\nJared was unable keep her quiet \\nComing from the sunlight her eyes were not yet accustomed the strange subdued haze the laboratory immense chamber crammed full equipment the vista which seemed like apartment hell Bizarre shapes stood out from the mass impedimenta great stills which rose full two stories height dynamos immense tubes colored liquids hundred puzzles the inexpert eye \\nThe small plump figure Mrs Baker was very out place this setting Her voice was poignant reedy look her made evident that she was conventional good woman She had soft cloudy golden eyes and pathetic mouth and she seemed the point tears \\nMadam madam doctor busy whispered Jared endeavoring shoo her out the laboratory with his polite hands was respectful but firm \\nShe refused obey She stopped when she was within few feet the activity the laboratory and stared with fear and horror the center the room and its occupant Professor Burr whom she had addressed during her flurried entrance \\nThe professor face peered her seemed like disembodied stare for she could see only eyes behind mask lavender gray glass eyeholes with its flapping ends dirty gray white cloth \\nShe drew deep breath and gasped for the pungent fumes acrid and penetrating sulphuric and nitric acids stabbed her lungs was like the breath hell fit the simile and aptly Professor Burr seemed the devil himself manipulating the infernal machines \\n \\nActing swiftly the tall figure stepped over and threw two switches single sweeping movement The vermillion light which had lived long row tubes nearby bench abruptly ceased writhe like many tongues flame and the embers hell died out \\nThen the professor flooded the room harsh gray green light and stopped the high pitched humming whine his dynamos shadow picture writhing the wall projected from lead glass barrel disappeared suddenly the great color filters and other machines lost their semblance horrible life and regretful sigh seemed come from the metal creatures they gave the ghost \\nthe woman had been entering the abode fear She could not restrain her shudders But she bravely confronted the tall figure Professor Burr came forth greet her \\nwas extremely tall and attenuated with red bony mask face pointed the chin sharp little goatee Feathery blond hair silvered and awry covered his great head \\nMadam said Burr gentle disarmingly quiet voice your manner entrance might have cost you your life Luckily was able deflect the rays from your person else you might not now able voice your complaint for such seems your purpose coming here turned Jared who was standing close Very well Jared You may After this will well throw the bolts though this case quite willing see the visitor \\nJared slid away leaving the plump little woman confront the famous scientist \\nFor moment Mrs Baker stared into the pale gray eyes the pupils which seemed black coal contrast Some his bitter enemies claimed that Professor Ramsey Burr looked cold and bleak iceberg others that had baleful glare His mouth was grim and determined \\n \\nYet with her woman eyes Mrs Baker looking the professor bony mask face with the high bridged intrepid nose the passionless gray eyes thought that Ramsey Burr would handsome little less cadaverous and more human \\nThe experiment which you ruined your untimely entrance continued the professor was not safe one \\nHis long white hand waved toward the bunched apparatus but her the room seemed all glittering metal coils snakelike wire ruddy copper dull lead and tubes all shapes Hell cauldrons unknown chemicals seethed and slowly bubbled beetle black bakelite fixtures reflected the hideous light \\nshe cried clasping her hands though she addressed him prayer forget your science Professor Burr and man Help Three days from now boy son whom love above all the world die \\nThree days long time said Professor Burr calmly not lose hope have intention allowing your son Allen Baker pay the price for deed mine freely confess was who was responsible for the death what was the person name Smith believe \\nwas you who made Allen get poor Smith agree the experiments which killed him and which the world blamed son she said They called the deed scientific fiend Professor Burr and perhaps they are right But Allen innocent \\nquiet ordered Burr raising his hand Remember madam your son Allen only commonplace medical man and while taught him little from vast store knowledge was ignorant and much less value science and humanity than myself you not understand can you not comprehend also that the man Smith was martyr science was loss mankind and only sentimentalists could have blamed anyone for his death should have succeeded the interchange atoms which were working and Smith would this moment hailed the first man travel through space invisible form projected radio waves had not been for the fact that the alloy which conducts the three types sinusoidal failed and burned out Yes was error calculation and Smith would now called the Lindbergh the Atom but for that Yet Smith has not died vain for have finally corrected this error science but trial and correction error and all will well \\nBut Allen Allen must not die all she cried For weeks has been the death house killing The Governor refuses him pardon nor will commute son sentence three days die the electric chair for crime which you admit you alone are responsible for Yet you remain your laboratory immersed your experiments and nothing nothing \\n \\nThe tears came now and she sobbed hysterically seemed that she was making appeal someone whom she had only forlorn hope \\nNothing repeated Burr pursing his thin lips Nothing Madam have done everything have have told you perfected the experiment successful Your son has not suffered vain and Smith name will down with the rest science martyrs one who died for the sake humanity But you wish save your son you must calm You must listen what have say and you must not fail carry out instructions the letter ready now \\nLight the light hope sprang the mother eyes She grasped his arm and stared him with shining face through tear dipped eyelashes \\nyou mean Can you save him After the Governor has refused What can you influence will snatch Allen from the jaws the law the public greatly excited and very hostile toward him \\nquiet smile played the corners Burr thin lips \\nCome said Place this cloak about you Allen wore when assisted \\nThe professor replaced his own mask and conducted the woman into the interior the laboratory \\nwill show you said Professor Burr \\nShe saw before her now long metal shelves which appeared delicately poised fine scales whose balance was registered hair line indicators two small metal cages \\nProfessor Burr stepped over row common cages set along the wall There was small menagerie there guinea pigs the martyrs the animal kingdom rabbits monkeys and some cats \\n \\nThe man science reached and dragged out mewing cat placing the right hand cage the strange table then obtained small monkey and put this animal the left hand cage beside the cat The cat the right squatted its haunches mewing pique and looking its tormentor The monkey after quick look around began investigate the upper reaches its new cage \\nOver each the animals was suspended fine curious metallic armament For several minutes while the woman puzzled how this demonstration was affect the rescue her condemned son waited impatiently the professor deftly worked the apparatus connecting wires here and there \\nready now said Burr Watch the two animals carefully \\nYes yes she replied faintly for she was half afraid \\nThe great scientist was stooping over looking the balances the indicators through microscopes \\nShe saw him reach for his switches and then brusk order caused her turn her eyes back the animals the cat the right hand cage the monkey the left \\nBoth animals screamed fear and sympathetic chorus sounded from the menagerie long purple spark danced from one gray metal pole the other over the cages the table \\nfirst Mrs Baker noticed change The spark had died the professor voice unhurried grave broke the silence \\nThe first part the experiment over said The ego \\nheavens cried the woman You driven the poor creatures mad \\n \\nShe indicated the cat That animal was clawing the top bars its cage uttering bizarre chattering sound somewhat like monkey The cat hung from the bars swinging itself back and forth trapeze then reached and hung its hind claws \\nfor the monkey was squatting the floor its cage and made strange sound its throat almost mew and hissed several times the professor \\nThey are not mad said Burr was explaining you have finished the first portion the experiment The ego personality one animal has been taken out and put into the other \\nShe was unable speak had mentioned madness was Professor Ramsey Burr crazy was likely enough Yet yet the whole thing these surroundings seemed plausible she hesitated about speaking watching with fascinated eyes the out character behavior the two beasts Burr went \\nThe second part follows once Now that the two egos have interchanged will shift the bodies When completed the monkey will have taken the place the cat and vice versa Watch \\nwas busy for some time with his levers and the smell ozone reached Mrs Baker nostrils she stared with horrified eyes the animals \\nShe blinked The sparks crackled madly the monkey mewed the cat chattered \\nWere her eyes going back her She could see neither animal distinctly they seemed shaking some cosmic disturbance and were but blurs This illusion for her seemed must optical persisted grew worse until the quaking forms the two unfortunate creatures were like much ectoplasm swift motion ghosts whirling about dark room \\nYet she could see the cages quite distinctly and the table and even the indicators the scales She closed her eyes for moment The acrid odors penetrated her lungs and she coughed opening her eyes \\n \\nNow she could see clearly again Yes she could see monkey and was climbing quite naturally about its cage was excited but monkey And the cat while protesting mightily acted like cat \\nThen she gasped Had her mind the excitement betrayed her She looked Professor Burr his lean face there was smile triumph and seemed awaiting her applause \\nShe looked again the two cages Surely first the cat had been the right hand cage and the monkey the left And now the monkey was the place where the cat had been and the cat had been shifted the left hand cage \\nwas with Smith when the alloys burned out said Burr impossible extract the ego dissolve the atoms and translate them into radio waves unless there connection with some other ego and body for such case the translated soul and body would have place Luckily for you madam was the man Smith who was killed when the alloys failed might have been Allen for was the second pole the connection \\nBut she began faintly how can this mad experiment have anything with saving boy \\nwaved impatiently her evident denseness you not understand will save Allen your son shall first switch our egos souls you say Then switch the bodies must always take this sequence why have not ascertained But always works thus \\nMrs Baker was terrified What she had just seen smacked the blackest magic yet woman her position must grasp straws The world blamed her son for the murder Smith man Professor Burr had made use might guinea pig and Allen must snatched from the death house \\nyou mean you can bring Allen from the prison here just throwing those switches she asked \\nThat But there more than that for not magic madam science you understand and there must some physical connection But with your help that can easily made \\n \\nProfessor Ramsey Burr she knew was the greatest electrical engineer the world had ever known And stood high physicist Nothing hindered him the pursuit knowledge they said knew fear and lived intellectual promontory was great that almost lost sight himself such man nothing was impossible Hope wild hope sprang Mary Baker heart and she grasped the bony hand the professor and kissed \\nbelieve believe she cried You can You can save Allen will anything anything you tell \\nVery well You visit your son daily the death house you not \\nShe nodded shiver remembrance that dread spot passed through her \\nThen you will tell him the plan and let him agree see the night preceding the electrocution will give him final instructions the exchange bodies When life spirit ego confined your son body the death house Allen will able perform the feat changing the bodies and your son flesh will join his soul which will have been temporarily inhabiting own shell you see When they find the cell where they suppose your son they will unable explain the phenomenon they can nothing but release Your son will here and can whisked away safe place concealment \\nYes yes What besides this \\nProfessor Burr pulled out drawer near hand and from extracted folded garment thin shiny material \\nThis metal cloth coated with the new alloy said matter fact tone rummaged further saying did expected you would here see and have been getting ready for your visit All prepared save few odds and ends which can easily clean the next two days Here are four cups which Allen must place under each leg his bed and this delicate little director coil you must take especial pains with slipped under your son tongue the time appointed \\n \\nShe was staring him still half fear half wonder yet she could not feel any doubt the man miraculous powers Somehow while talked her and rested those cold eyes upon her she was under the spell the great scientist Her son before the trouble into which had been dragged the professor had often hinted the abilities Ramsey Burr given her the idea that his employer was practically necromancer yet magician whose advanced scientific knowledge was correct and explainable the light reason \\nYes Allen had talked her often when was home resting from his labors with Professor Burr had spoken the new electricity discovered the famous man and also told his mother that Burr had found method separating atoms and then transforming them into form radio electricity that they could sent radio waves designated points And she now remembered the swift trial and conviction Allen the charge murder had occupied her deeply that she had forgotten all else for the time being that her son had informed her quite seriously that Professor Ramsey Burr would soon able transport human beings radio \\nNeither will injured any way the change said Burr calmly possible for now break human flesh send the atoms radio electricity and reassemble them their proper form these special transformers and atom filters \\nMrs Baker took all the apparatus presented her the professor She ventured the thought that might better perform the experiment once instead waiting until the last minute but this Professor Burr waved aside impossible needed the extra time said and there was hurry \\nShe glanced about the room and her eye took the giant switches copper with their black handles there were others gray green metal she did not recognize Many dials and meters strange her confronted the little woman These things she felt with rush gratitude toward the inanimate objects would help save her son they interested her and she began feel kindly toward the great machines \\n \\nWould Professor Burr able save Allen claimed Yes she thought could She would make Allen consent the trial even though her son had cursed the scientist and cried would never speak Ramsey Burr again \\nShe was escorted from the home the professor Jared and going out into the bright sunlit street blinked her eyes adjusted themselves the daylight after the queer light the laboratory bundle she had strange suit and the cups her purse held the tiny coil wrapped cotton \\nHow could she get the authorities consent her son having the suit The cups and the coil she might slip him herself She decided that mother would allowed give her son new underwear Yes she would say was that \\nShe started once for the prison Professor Burr laboratory was but twenty miles from the cell where her son was incarcerated \\nshe rode the train seeing people everyday attire commonplace occurrences going about her the spell Professor Burr faded and cold reason stared her the face Was nonsense this idea transporting bodies through the air invisible waves Yet she was old fashioned the age miracles had not passed for her Radio which pictures and voices could sent wireless waves was unexplainable her Perhaps \\nShe sighed and shook her head was hard believe was also hard believe that her son was deadly peril condemned death scientific fiend \\nHere was her station taxi took her the prison and after talk with the warden finally she stood there before the screen through which she could talk Allen her son \\nMother \\nHer heart lifted melted within her was always thus when spoke Allen she whispered softly \\nThey were allowed talk undisturbed \\nProfessor Burr wishes help you she said low voice \\n \\nHer son Allen Baker turned eyes misery upon her His ruddy hair was awry This young man was imaginative and could therefore suffer deeply had the gift turning platitudes into puzzles and his hazel eyes were lit with elfin quality which possible endeared him the more his mother All his life had been the greatest thing the world this woman see him such straits tore her very heart When had been little boy she had been able make joy appear those eyes word and pat now that was man the matter was more difficult but she had always done her best \\ncannot allow Professor Burr anything for said dully his fault that here \\nBut Allen you must listen listen carefully Professor Burr can save you says was all mistake the alloy was wrong has not come forward before because knew would able iron out the trouble had time and thus snatch you from this terrible place \\nShe put much confidence into her voice she could She must enhearten her son Anything replace that look suffering with one hope She would believe she did believe The bars the great masses stone which enclosed her son would nothing would pass through them unseen unheard \\nFor time Allen spoke bitterly Ramsey Burr but his mother pleaded with him telling him was his only chance and that the deviltry Allen suspected was imaginary \\nkilled Smith such experiment said Allen took the blame you know though only followed his instructions But you say claims have found the correct alloys \\nYes And this suit you must put But Professor Burr himself will here see you day after morrow the day preceding the the She bit her lip and got out the dreaded word the electrocution But there won any electrocution Allen there cannot You will safe safe arms She had fight now hold her belief the miracle which Burr had promised The solid steel and stone dismayed her brain \\n \\nThe new alloy seemed interest Allen Baker His mother told him the exchange the monkey and the cat and nodded excitedly growing more and more restive and his eyes began shine with hope and curiosity \\nhave told the warden about the suit saying was something made for you myself she said low voice You must pretend the coil and the cups are things you desire for your own amusement You know they have allowed you great deal latitude since you are educated and need diversion \\nYes yes There may some difficulty but will overcome that Tell Burr come talk with him and can instruct the final details better than waiting here like rat trap have been afraid going mad mother but this buoys \\nsmiled her and her heart sang the joy relief \\nHow did the intervening days pass Mrs Baker could not sleep could scarcely eat she could nothing but wait wait wait She watched the meeting her son and Ramsey Burr the day preceding the date set for the execution \\nWell Baker said Burr nonchalantly nodding his former assistant How are you \\nYou see how said Allen coldly \\nYes yes Well listen what have say and note carefully There must slip You have the suit the cups and the director coil You must keep the suit the cups under the legs the cot you lie The director under your tongue \\nThe professor spoke further with Allen instructing him scientific terms which the woman scarcely comprehended \\nnight then eleven thirty said Burr finally ready \\n \\nAllen nodded Mrs Baker accompanied Burr from the prison \\nYou you will let with you she begged \\nhardly necessary said the professor \\nBut must must see Allen the moment free make sure all right Then want able take him away have place which can hide and soon rescued must taken out sight \\nVery well said Burr shrugging immaterial long you not interfere with the course the experiment You must sit perfectly still you must not speak until Allen stands before you and addresses you \\nYes will obey you she promised \\nMrs Baker watched Professor Ramsey Burr eat his supper Burr himself was not the least perturbed was wonderful she thought that could calm her was the great moment the moment when her son would saved from the jaws death \\nJared carried comfortable chair into the laboratory and she sat quiet mouse one corner the room \\nwas nine clock and Professor Burr was busy with his preparations She knew had been working steadily for the past few days She gripped the arms her chair and her heart burned within her \\nThe professor was making sure his apparatus tested this bulb and that and carefully inspected the curious oscillating platform over which was suspended thickly bunched group gray green wire which was seemingly antenna The numerous indicators and implements seemed satisfactory for quarter after eleven Burr gave exclamation pleasure and nodded himself \\nBurr seemed have forgotten the woman spoke aloud occasionally but not her drew forth suit made the same metal cloth Allen must have this moment \\n \\nThe tension was terrific terrific for the mother who was awaiting the culmination the experiment which would rescue her son from the electric chair would fail She shuddered What Burr were mad \\nBut look him she was sure was sane sane she was \\nwill succeed she murmured digging her nails into the palms her hands know will \\nShe pushed aside the picture what would happen the morrow but few hours distant when Allen her son was due led legal death the electric chair \\nProfessor Burr placed the shiny suit upon his lank form and she saw him put duplicate coil the same sort small machine which Allen possessed under his tongue \\nThe Mephistophelian figure consulted matter fact watch that moment Mrs Baker heard above the hum the myriad machines the laboratory the slow chiming clock was the moment set for the deed \\nThen she feared the professor was insane for suddenly leaped the high bench the table which stood one the oscillating platforms \\nWires led out from this and Burr sat gently upon strange figure the subdued light \\nProfessor Burr however she soon saw was not insane this was part was reaching for switches near hand and bulbs began glow with unpleasant light needles indicators swung madly and last Professor Burr kicked over giant switch which seemed the final movement \\nFor several seconds the professor did not move Then his body grew rigid and twisted few times His face though not drawn pain yet twitched galvanically though actuated slight jabs electricity \\n \\nThe many tubes fluoresced flared pulsing waves violet and pink there were gray bars invisibility areas air which nothing visible showed There came the faint crackling hum machinery rather like swarm wasps anger Blue and gray thread fire spat across the antenna The odor ozone came Mrs Baker nostrils and the acid odors burned her lungs \\nShe was staring him staring the professor face She half rose from her chair and uttered little cry \\nThe eyes had changed longer were they cold impersonal the eyes man who prided himself the fact that kept his arteries soft and his heart hard they were loving soft eyes \\nAllen she cried \\nYes without doubt the eyes her son were looking her out the body Professor Ramsey Burr \\nMother said gently Don alarmed successful here Professor Burr body \\nYes she cried hysterically was too weird believe seemed dim her unearthly \\nAre you all right darling she asked timidly \\nYes felt nothing beyond momentary giddy spell bit nausea and mental stiffness was strange and have slight headache However all well \\ngrinned her laughed with the voice which was not his yet which she recognized directed her son spirit The laugh was cracked and unlike Allen whole hearted mirth yet she smiled sympathy \\nYes the first part success said the man Our egos have interchanged Soon our bodies will undergo the transformation and then must keep under cover dislike Burr yet great man has saved suppose the slight headache which feel one bequeathed Burr hope inherits shivers and terrors and the neuralgia for the time being will get some idea what have undergone \\nhad got down from the oscillating platform the spirit her son Ramsey body \\nWhat what are you doing now she asked \\nmust carry out the rest myself said Burr directed when talked yesterday more difficult when one subject out the laboratory and the tubes must checked \\n \\nwent carefully about his work and she saw him replacing four the tubes with others new ones which were ready hand Though was the body Ramsey Burr the movements were different from the slow precise work the professor and more and more she realized that her son inhabited the shell before her \\nFor moment the mother thought attempting dissuade her son from making the final change was not better thus than chance the disintegration the bodies Suppose something went wrong and the exchange did not take place and her son that his spirit went back the death house \\nMidnight struck worked feverishly the apparatus the long face corrugated checked the dials and tubes worked swiftly but evidently was following procedure which had committed memory for was forced pause often make sure himself \\nEverything said the strange voice last consulted his watch Twelve thirty said \\nShe bit her lip terror cried Now and sprang the table take his place the metallic platform which oscillated and fro under his weight The delicate grayish metal antenna which she knew would form glittering halo blue and gray threads fire rested quiescent above his head \\nThis the last thing said calmly reached for the big ebony handled switch myself few minutes mother \\nYes son yes \\nThe switch connected and Allen Baker the form Ramsey Burr suddenly cried out pain His mother leaped run his side but waved her away She stood wringing her hands began twist and turn though torn some invisible force Eery screams came from the throat the man the platform and Mrs Baker cries sympathy mingled with them \\n \\nThe mighty motors hummed high pitched unnatural whine and suddenly Mrs Baker saw the tortured face before her grow dim The countenance the professor seemed melt and then there came dull muffled thud burst white blue flame the odor burning rubber and the tinkle broken glass \\nBack the face came the clarity outline and still was Professor Ramsey Burr body she stared \\nHer son the professor shape climbed from the platform and looked about him though dazed acrid smoke filled the room and burning insulation assailed the nostrils \\nDesperately without looking her his lips set determined line the man went hurriedly over the apparatus again \\nHave forgotten did anything wrong she heard his anguished cry \\nTwo tubes were burned out and these replaced swiftly possible But was forced all over the wiring and cut out whatever had been short circuited that could hooked anew with uninjured wire \\nBefore was ready resume his seat the platform after half hour feverish haste knock came the door \\nThe person outside was imperative and Mrs Baker ran over and opened the portal Jared the whites his eyes shining the dim light stood there professah tell him dat wahden wishes talk with him very important \\nThe body Burr inhabited Allen soul pushed her and she followed falteringly wringing her hands She saw the tall figure snatch the receiver and listen \\nGod cried \\nlast put the receiver back the hook automatically and sank down chair his face his hands \\n \\nMrs Baker went him quickly What Allen she cried \\nMother said hoarsely was the warden the prison told that Allen Baker had gone temporarily insane and claimed Professor Ramsey Burr body \\nBut but what the matter she asked Cannot you finish the experiment Allen Can you change the two bodies now \\nshook his head Mother they electrocuted Ramsey Burr body twelve forty five night \\nShe screamed She was faint but she controlled herself with great effort \\nBut the electrocution was not until morning she said \\nAllen shook his head They are allowed certain latitude about twelve hours said Burr protested the last moment and begged for time \\nThen then they must have come for him and dragged him forth die the electric chair while you were attempting the second part the change she said \\nYes That was why failed That why the tubes and wires burned out and why couldn exchange bodies began succeed then could feel something terrible had happened was impossible complete the Beta circuit which short circuited They took him from the cell you see while was starting the exchange the atoms \\n \\nFor time the mother and her boy sat staring one another She saw the tall eccentric figure Ramsey Burr before her yet she saw also the soul her son within that form The eyes were Allen the voice was soft and loving and his spirit was with her \\nCome Allen son she said softly \\nBurr paid the price said Allen shaking his head became martyr science \\nThe world has wondered why Professor Ramsey Burr much the headlines great scientist suddenly gave all his experiments and took the practice medicine \\nNow that the public furor and indignation over the death the man Smith has died down sentimentalists believe that Ramsey Burr has reformed and changed his icy nature for manifests great affection and care for Mrs Mary Baker the mother the electrocuted man who had been his assistant \\n-------------------------------------- MEANS Miss the Opening Installment the Extraordinary Four Part Novel MURDER MADNESS Murray Leinster Starting Our Next Issue -------------------------------------- \\nThe Ray Madness \\nCaptain Meek \\nIllustration That the one exclaimed Hold the glass there for moment \\nBird discovers dastardly plot amazing its mechanical ingenuity behind the apparently trivial eye trouble the President \\nknock sounded the door Bird private laboratory the Bureau Standards The famous scientist paid attention the interruption but bent his head lower over the spectroscope with which was working The knock was repeated with quality quiet insistence upon recognition The Doctor smothered exclamation impatience and strode over the door and threw open the knocker \\nhello Carnes exclaimed recognized his visitor Come and sit down and keep your mouth shut for few minutes busy just now but liberty little while \\nIllustration \\nThere hurry Doctor replied Operative Carnes the United States Secret Service entered the room and sat the edge the Doctor desk haven got case sleeve this time just came for little chat \\nAll right glad see you Read that latest volume the Zeitschrift for while That article Von Beyer has got guessing all right \\nCarnes picked the indicated volume and settled himself read The Doctor bent over his apparatus Time and again made minute adjustments and gave vent muttered exclamations annoyance the results obtained Half hour later rose from his chair with sigh and turned his visitor \\nWhat you think Von Beyer alleged discovery asked the operative \\n \\ntoo deep for Doctor replied the operative All that can make out that claims have discovered new element named lunium but hasn been able isolate yet there anything remarkable about that seems that have read other new elements being discovered from time time \\nThere nothing remarkable about the discovery new element the spectroscopic method replied Bird know from Mendeleff table that there are number elements which have not discovered yet and several the ones know were first detected the spectroscope The thing which puzzles that brilliant man Von Beyer claims have discovered the spectra the moon His name lunium taken from Luna the moon \\nWhy not the moon Haven several elements been first discovered the spectra stars \\nCertainly The classic example Lockyer discovery orange line the spectra the sun 1868 known terrestrial element gave such line and named the new element which deduced helium from Helos the sun The element helium was first isolated Ramsey some twenty seven years later Other elements have been found the spectra stars but the point making that the sun and the stars are incandescent bodies and could logically expected show the characteristic lines their constituent elements their spectra But the moon cold body without atmosphere and visible only reflected light The element lunium may exist the moon but the manifestations which Von Beyer has observed must not from the moon but from the source the reflected light which spectro analyzed \\n \\nYou are over depth Doctor \\nover own have tried follow Von Beyer reasoning and have tried check his findings Twice this evening thought that caught momentary glimpse the screen fluoroscope the ultra violet line which reports characteristic lunium but not certain haven been able photograph yet notes his article that the line seems quite impermanent and fades rapidly that accurate measurement its wave length almost impossible However let drop the subject How you like your new assignment \\nall right would rather back old work \\nhaven seen you since you were assigned the Presidential detail suppose that you fellows are pretty busy getting ready for Premier McDougal visit \\ndoubt will come replied Carnes soberly Things are not exactly propitious for visit that sort just now \\n \\nBird sat back his chair surprise \\nthought that the whole thing arranged The press seems think any rate \\nEverything arranged but arrangements may cancelled wouldn surprised hear that they were \\nCarnes replied Bird gravely you have either said too much too little There something more this than appears the surface none business don hesitate tell and forget what you have said but can help you any speak \\nCarnes puffed meditatively his pipe for few minutes before replying \\nreally none your business Doctor said length and yet know that corpse chatterbox compared you when you are told anything confidence and really need unload mind has been kept from the press far but don know how long can kept muzzled strict confidence the President the United State acts though were crazy \\nQuite section the press has claimed that for long time replied Bird with twinkle his eye \\ndon mean crazy that way Doctor mean really crazy Bugs Nuts Bats his belfry \\n \\nBird whistled softly \\nAre you sure Carnes asked \\nsure may Both his physicians think They were non committal for while especially the first attack waned and seemed recover but when his second attack came more violently than the first and the President began act queerly they had take the Presidential detail into their confidence has been quietly examined some the greatest psychiatrists the country but none them have ventured positive verdict the nature the malady They admit course that exists but they won classify The fact that intermittent seems have them stopped was bad month ago but recovered and became all appearances normal for time About week ago began show queer symptoms again and now getting worse daily goes getting worse for another week will have announced that the Vice President can take over the duties the head the government \\n \\nWhat are the symptoms \\nThe first noticed was failing his memory Coupled with this was restlessness and habit nocturnal prowling tosses continually his bed and mutters and times leaps and rages back and forth his bedchamber howling and raging Then will calm down and compose himself and sleep only wake half hour and through the same performance pretty ghastly for the men night guard \\nHow does act the daytime \\nHeavy and lethargic His memory becomes complete blank times and talks wildly Those are the times must guard against \\nOverwork queried the Doctor \\nNot according his physicians His physical health splendid and his appetite unusually keen takes his exercise regularly and suffers ill health except for little eye trouble \\nBird leaped his feet \\nTell more about this eye trouble Carnes demanded \\nWhy don know much about Doctor Admiral Clay told that was nothing but mild opthalmia which should yield readily treatment That was when told see that the shades the President study were partially drawn keep the direct sunlight out \\n \\nOpthalmia sugared What his eyes look like \\nThey are rather red and swollen and little bloodshot has tendency shut them while talking and avoids light much possible hadn noticed anything peculiar about \\nCarnes did you ever see case snow blindness \\nThe operative looked surprise \\nYes have had myself once Maine Now that you mention his case does look like snow blindness but such thing absurd Washington August \\nBird rummaged his desk and drew out book which consulted for moment \\nNow Carnes said want some dates from you and want them accurately Don guess for great deal may depend the accuracy your answers When was this mental disability the part the President first noticed \\nCarnes drew pocket diary from his coat and consulted \\nThe seventeenth July replied That are sure view later developments that that was the date first came didn realize that anything was wrong until the twentieth the night the nineteenth the President slept very poorly getting and creating disturbance twice and the twentieth acted queerly that was necessary cancel three conferences \\n \\nBird checked off the dates the book before him and nodded \\nsaid and describe the progress the malady days \\ngot progressively worse until the night the twenty third The twenty fourth was worse and the twenty fifth slight improvement was noticed got steadily better until the third fourth August was apparently normal About the twelfth began show signs restlessness which have increased daily during the past week Last night the nineteenth slept only few minutes and Brady who was guard says that his howls were terrible His memory has been almost total blank today and all his appointments were cancelled ostensibly because his eye trouble gets any worse probably will necessary inform the country his true condition \\nWhen Carnes had finished Bird sat for time concentrated thought \\nYou did exactly right coming Carnes said presently don think that this job for doctor all believe that needs physicist and chemist and possibly detective cure him get busy \\nWhat you mean Doctor demanded Carnes you think that some exterior force causing the President disability \\n \\nthink nothing Carnes replied the Doctor grimly but intend know something before through Don ask for explanations this not the time for talk the time for action Can you get into the White House night \\ndoubt Doctor but try What excuse shall give not supposed have told you anything about the President illness \\nGet Bolton your chief the phone and tell him that you have talked when you shouldn have blow but after through exploding tell him that smell rat and that want him down here once with carte blanche authority see fit the White House makes any fuss about remind him the fact that has considered crazy several times the past when events showed that was right won play after that let talk him \\nAll right Doctor replied Carnes picked the scientist telephone and gave the number the home the Chief the Secret Service try bully him out has good deal confidence your ability \\n \\nHalf hour later the door Bird laboratory opened suddenly admit Bolton \\nHello Doctor exclaimed the Chief what the dickens have you got your mind now ought skin Carnes alive for talking out turn but you really have idea forgive him What you suspect \\nsuspect several things Bolton but haven time tell you what they are want get quietly into the White House promptly possible \\nThat easy replied Bolton but first want know what the object the visit \\nThe object see what can find out ideas are entirely too nebulous attempt lay them out before you just now You never worked directly with case before but Carnes can tell you that have own methods working and that won spill ideas until have something more definite than have present \\nThe Doctor right Chief said Carnes has idea all right but wild horses won drag out him until ready talk You have take him faith always \\nBolton hesitated moment and then shrugged his shoulders \\nHave your own way Doctor said Your reputation both scientist and unraveller tangled skeins too good for boggle about your methods Tell what you want and try get \\n \\nwant get into the White House without undue prominence being given movements and listen outside the President door for short time Later will want examine his sleeping quarters carefully and make few tests may entirely wrong assumptions but believe that there something there that requires attention \\nCome along said Bolton get you and let you listen but the rest have trust luck You may have wait until morning \\ncross that bridge when get replied the Doctor get little stuff together that may need \\nfew moments had packed some apparatus bag and taking and instrument case followed Bolton and Carnes down the stairs and out onto the grounds the Bureau Standards \\nbeautiful moon isn observed \\nCarnes assented absently the Doctor remark but Bolton paid attention the luminous disc overhead which was flooding the landscape with its mellow light \\ncar waiting announced \\nAll right old man but stop for moment and admire this moon protested the Doctor Have you ever seen finer one \\nCome and let the moon alone snorted Bolton \\ndear man absolutely refuse move step until you pause your headlong devotion duty and pay the homage due Lady Luna Don you realize you benighted Christian that you are gazing upon what has been held deity least the visible manifestation deity for ages immemorial Haven you ever had time study the history the moon worshipping cults They are old mankind you know The worship Isis was really only exalted type moon worship The crescent moon you may remember was one her most sacred emblems \\n \\nBolton paused and looked the Doctor suspiciously \\nWhat are you doing pulling leg demanded \\nNot all dear fellow Carnes doesn the sight the glowing orb night influence you pious meditation upon the frailty human life and the insignificance human ambition \\nNot any very great degree replied Carnes dryly \\nCarnesy old dear fear that you are crass materialist beginning despair ever inculcating you any respect for the finer and subtler things life must try Bolton Bolton have you ever seen finer moon Remember that won move step until you have carefully considered the matter and fully answered question \\nBolton looked first the Doctor then Carnes and finally looked reluctantly the moon \\nfine one admitted but all full moons look large clear nights this time the year \\nThen you have studied the moon cried Bird with delight was sure \\n \\nbroke off his speech suddenly and listened From distance came the mournful howl dog was answered moment another howl from different direction Dog after dog took the chorus until the air was filled with the melancholy wailing the animals \\nSee Bolton remarked the Doctor even the dogs feel the chastening influence the Lady Night and repent the sins their youth and the follies their manhood should one say doghood Come along feel that the call duty must tear away from the contemplation the beauties nature \\nled the way Bolton car and got without further words half hour later Bolton led the way into the White House word the secret service operative guard the door admitted him and his party and led the way the newly constructed solarium where the President slept operative stood outside the door \\nWhat word Brady asked Bolton whisper \\nseems worse sir doubt has slept all Admiral Clay has been several times but didn much good There listen The President getting again \\n \\nFrom behind the closed door which confronted them came sounds person rising from bed and pacing the floor slowly first and then more and more rapidly until was almost run series groans came the watchers and then long drawn out howl Bolton shuddered \\nPoor devil muttered \\nBird shot quick glance around \\nWhere Admiral Clay asked \\nsleeping upstairs Shall call him \\n Take his room \\nThe President naval physician opened the door response Bolton knock \\nworse demanded anxiously \\ndon think Admiral replied Bolton want introduce you Bird the Bureau Standards wants talk with you about the case \\nhonored Doctor said the physician grasped the scientist outstretched hand Come Pardon appearance but was startled out doze when you knocked Have chair and tell how can serve you \\nBird drew notebook from his pocket \\nhave received certain dates connection with the President malady from Operative Carnes said and wish you verify them \\nPardon moment Doctor interrupted the Admiral but may ask what your connection with the matter was not aware that you were physician surgeon \\n \\nBird here the authority the secret service replied Bolton has connection with the medical treatment the President but permit remind you that the secret service responsible for the safety the President and have right demand such details about him are necessary for his proper protection \\nhave intention obstructing you the proper performance your duties Bolton began the Admiral stiffly \\nPardon Admiral broke Bird seems that are getting started wrong suspect that certain exterior forces are more less concerned this case and have communicated suspicions Bolton turn brought here order request from you your cooperation the matter have idea demanding anything and are really seeking help which believe that you can give \\nPardon Admiral said Bolton had intention angering you \\nyour service gentlemen replied Admiral Clay What information did you wish Doctor \\nfirst merely verification the history the case have \\n \\nBird read the notes had taken down from Carnes and the Admiral nodded agreement \\nThose dates are correct said \\nNow Admiral there are two further points which wish enlightenment The first the opthalmia which troubling the patient \\nnothing alarmed about far symptoms Doctor replied the Admiral rather mild case irritation somewhat analogous granuloma but rather stubborn had attack several weeks ago and while did not yield treatment readily could have wished did clear nicely couple weeks and was quite surprised this recurrent attack His sight danger \\nHave you tried connect this opthalmia with his mental aberrations \\nWhy Doctor there connection \\nAre you sure \\ncertain The slight pain which his eyes give him could never have such effect upon the mind able and energetic man \\nWell let that pass for the moment The other question this has any form skin trouble \\n \\nThe Admiral looked surprise \\nYes has admitted had mentioned one for really amounts nothing but has slight attack some obscure form dermatitis which treating affecting only his face and hands \\nPlease describe \\nhas taken the form brown pigmentation the hands the face causes slight itching and subsequent peeling the affected areas \\nother words acting like sunburn \\nWhy yes somewhat not that however for has been exposed the sun very little lately account his eyes \\nnotice that sleeping the new solarium which was added last winter the executive mansion Can you tell with what type glass equipped \\nYes not equipped with glass all but with fused quartz \\nWhen did start sleep there \\nsoon was completed \\nAnd all the time the windows have been fused quartz \\n They were glazed first but the glass was removed and the fused quartz substituted suggestion about two months ago just before this trouble started \\nThank you Admiral You have given several things think about ideas are little too nebulous share yet but think that can give you one piece very sound advice The President spending very restless night you would remove him from the solarium and get him lie down room which glazed with ordinary glass and pull down the shades that will the dark think that will pass better night \\n \\nAdmiral Clay looked keenly into the piercing black eyes the Doctor \\nknow something you reputation Bird said slowly and will follow your advice Will you tell why you make this particular suggestion \\nthat can work that solarium night without interruption replied Bird have some tests which wish carry out while still dark results are negative forget what have told you they yield any information will glad share with you the proper time Now get the President out that solarium and tell when the coast clear \\nThe Admiral donned dressing gown and stepped out the room returned fifteen minutes \\nThe solarium your disposal Doctor announced Shall accompany you \\nyou wish assented Bird picked his apparatus and strode out the room \\nthe solarium glanced quickly around noting the position each the articles furniture \\npresume that the President always sleeps with his head this direction remarked pointing the pillow the disturbed bed \\nThe Admiral nodded assent Bird opened the bag which had packed his laboratory took out sheet cardboard covered with metallic looking substance and placed the pillow stepped back and donned pair smoked glasses watching intently Without word took off the glasses and handed them the Admiral The Admiral donned them and looked the pillow did exclamation broke from his lips \\nThat plate seems glow said astonished voice \\n \\nBird stepped forward and laid his hand the pillow was wearing wrist watch with radiolite dial The substance suddenly increased its luminescence and began glow fiercely long luminous streamers seeming come from the dial The Doctor took away his hand and substituted bottle liquid for the plate the pillow Immediately the bottle began glow with phosphorescent light \\nWhat earth gasped Carnes \\nExcitation radioactive fluid replied the Doctor The question what exciting Somebody get stepladder \\nWhile Bolton was gone after the ladder the Doctor took from his bag what looked like ordinary pane glass \\nTake this Carnes directed and start holding over each those panes quartz which you can reach Stop when tell you \\n \\nThe operative held the glass over each the panes succession but the Doctor who kept his eyes covered with the smoked glasses and fastened the plate which had replaced the pillow said nothing When Bolton arrived with the ladder the process went One end and most the front the solarium had been covered before exclamation from the Doctor halted the work \\nThat the one exclaimed Hold the glass there for moment \\nHurriedly removed the plate from the pillow and replaced the phial liquid There was only very feeble glow \\nGood enough cried Take away the glass but mark that pane and ready replace when give the word \\nFrom the instrument case had brought took out spectroscope turned back the mattress and mounted the bedstead \\nCover that pane directed \\nCarnes did and the Doctor swung the receiving tube the instrument until pointed the covered pane glanced into the eyepiece and then held tiny flashlight for instant opposite the third tube \\nUncover that pane said \\nCarnes took down the glass plate and the Doctor gazed into the instrument made some adjustments \\nAre you familiar with spectroscopy Admiral asked \\nSomewhat \\nTake squint here and tell what you see \\n \\nThe Admiral applied his eye the instrument and looked long and earnestly \\nThere are some lines there Doctor said but your instrument badly out adjustment They are what should the ultra violet sector according your scale \\nforgot tell you that this fluoroscopic spectroscope designed for the detection ultra violet lines replied Bird Those lines you see are ultra violet made visible the eye activation radioactive compound whose rays turn impinge zinc blende sheet you recognize the lines \\ndon \\nSmall wonder doubt whether there are dozen people who would have never seen them before although recognize them from descriptions have read Bolton come here Sight along this instrument and through that plate glass which Carnes holding and tell what office that window belongs \\nBolton sighted directed the side the State War and Navy Building \\ncan tell exactly this time night Doctor said but into the building and find out \\n Have you flashlight \\nYes \\nFlash momentarily out each the suspected windows turn until you get answering flash from here When you flash out each pane glass the window until you get another flash from here Then come back and tell what office Mark the pane that can locate again the morning \\n \\nthe office the Assistant the Adjutant General the Army reported Bolton ten minutes later \\nWhat there the room \\nNothing but the usual desks and chairs \\nsuspected much The window merely reflector That all that can for night gentlemen Admiral keep your patient quiet and room with glass windows preferably with the shades drawn until further notice Bolton meet here with Carnes sunrise Have picked detail ten men standing where can get hold them hurry the mean time get the Chief Air Service out bed and have him order plane Langley Field ready take off not take off however until give him orders you understand \\nEverything will ready for you Doctor but confess that don know what all about \\nthe biggest case you ever tackled old man and hope that can pull off successfully like over with you now but busy the Bureau for the rest the night Drop off there will you \\nsunrise the next morning Bolton met Bird the entrance the White House grounds \\nWhere your detail asked \\nthe State War and Navy Building \\nGood want the solarium put light the place where the President pillow was last night and mark that pane quartz were looking through Then join the detail \\n \\nBird placed the light and walked with Carnes across the White House grounds Bolton badge secured admission the State War and Navy Building for the party and they made their way the office the Assistant the Adjutant General \\nDid you mark the pane glass through which you flashed your light last night Bolton asked the Doctor \\nThe detective touched one the panes \\nGood exclaimed the Doctor notice that this window has hooks for window washer belt Get life belt will you \\nWhen the belt was brought the Doctor turned Carnes \\nCarnes said hook this life saver and climb out the window ledge Take this piece apparatus with you \\nhanded Carnes piece apparatus which looked like two telescopes fastened base with screw adjustment for altering the angles the barrels \\n \\nCarnes took and looked inquiringly \\nThat what was making the Bureau last night explained Bird device which will enable locate the source the beam which was reflected from this pane glass onto the President pillow show you how work You know that when light reflected the angle reflection always equals the angle incidence Well you place these three feet against the pane glass thus putting the base the instrument plane parallel the pane glass turning these two knobs one which gives lateral and the other vertical adjustment you will manipulate the instrument until the first telescope pointing directly toward the President pillow Now notice that the two telescope barrels are fastened together and are connected the knobs that when the knobs are turned the scopes are turned equal and opposite amounts When one turned from its present position five degrees the west the other automatically turns five degrees the east When one elevated the other correspondingly depressed Thus when the first tube points toward the pillow the other will point toward the source the reflected beam \\nClever ejaculated Bolton \\nrather crude and may not accurate enough locate the source exactly but least will give pretty good idea where look Given time much more accurate instrument could have been made but two telescopic rifle sights and theodolite base were all the materials could find work with Climb out Carnesy and your stuff \\n \\nCarnes climbed out the window and fastened the hooks the life saver the rings set the window casings sat the base the instrument against the pane glass and manipulated the telescope knobs Bird signalled from the inside The scientist was hard please with the adjustment but last the cross hairs the first telescope were centered the light the solarium changed his position and stared through the second tube \\nThe angle too acute and the distance too great for accuracy said with air disappointment The beam comes from the roof house down along Pennsylvania Avenue but can tell from here which one Take look Bolton \\nThe Chief the Secret Service stared through the telescope \\ncouldn sure Doctor replied can see something the roof one the houses but can tell what and couldn tell the house when got front \\nwon make false move said the Doctor Did you arrange for that plane \\nwaiting your orders the field Doctor \\nGood the office the Chief Air Service and get touch with the pilot over the Chief private line There are some orders that wish give him and some signals arranged \\n \\nBird returned few minutes \\nThe plane taking off now and will over the city soon announced take stroll down the Avenue until are the vicinity the house and then wait for the plane Carnes will take five your men and down behind the house and the rest will front Which building you think Bolton \\nAbout the fourth from the corner \\nAll right the men going down the back will take station behind the house next the corner and the rest will get front the same building When the plane comes over watch you receive signal the next house and wait for him make loop and come over you again Continue this until the pilot throws white parachute over That the signal that are covering the right house When you get that signal Carnes leave two men outside and break with the other three Get that apparatus the roof and the men who are operating Bolton and will attack the front door the same time Does everybody understand \\nMurmurs assent came from the detail \\nAll right let Carnes lead out with your men and half block ahead that the two parties will arrive position about the same time \\n \\nCarnes left the building with five the operatives Bird and Bolton waited for few minutes and then started down Pennsylvania Avenue the five men their squad following intervals For three quarters mile they sauntered down the street \\nThis should Doctor said Bolton \\nthink and here comes our plane \\nThey watched the swift scout plane from Langley Field swing down low over the house and then swoop into the sky again without making signal The party walked down the street one house and paused Again the plane swept over them without sign they stopped front the next house white parachute flew from the cockpit the plane and the aircraft its mission accomplished veered off the south toward its hangar \\nThis the place cried Bolton Haggerty and Johnson you two cover the street Bemis take the lower door The rest come with \\n \\nFollowed closely Bird and two operatives Bolton sprinted across the street and the steps leading the main entrance the house The door was barred and hurled his weight against without result \\nOne side Bolton snapped Bird \\nThe diminutive Chief drew aside and Bird two hundred pounds bone and muscle crashed against the door The lock gave and the Doctor barely saved himself from sprawling headlong the hall floor woman scream rang out and the Doctor swore under his breath \\nUpstairs the roof cried \\nFollowed the rest the party sprinted the stairway which opened before him Just reached the top his way was barred Amazonian figure green bathrobe \\nWho divil arre yer demanded outraged voice \\nPolice snapped Bolton One side \\nWan side demanded the fiery haired Amazon The divil stip until till bizness Phwat divil arre yer doin house rayspictable female this hour marnin \\nOne side tell you cried Bolton strove push past the figure that barred the way \\nwud wud yer little mann demanded the Irishwoman she grasped Bolton the collar and shook him terrier does rat Bird stifled his laughter with difficulty and seized her the arm With heave Bolton collar she raised him from the ground and swung him against the Doctor knocking him off his feet \\nHilp lice Murther she screamed the top her voice \\nDamn woman \\n \\nBird voice was cut short the sound pistol shot from the roof followed two others The Irishwoman dropped Bolton and slumped into sitting position and screamed lustily Bolton and Bird with the two operatives their heels raced for the roof Before they reached another volley shots rang out these sounding from the rear the building They made their way the upper floor and found ladder running skylight the roof the foot the ladder stood one Carnes party \\nWhat Williams demanded Bolton \\ndon know Chief Carnes and the other two went there and then heard shooting orders were let one come down the ladder \\nspoke Carnes head appeared the skylight \\nthe right place all right Doctor called Come the shooting all over \\n \\nBird mounted the ladder and stepped out the roof Set one edge was large piece apparatus toward which the scientist eagerly hastened bent over for few moments and then straightened \\nWhere the operator asked \\nCarnes silently led the way the edge the roof and pointed down Bird leaned over the foot the fire escape saw crumpled dark heap with secret service operative bending over \\ndead Olmstead called Carnes \\nDead mackerel came the reply Richards got him through the head his first shot \\nGood business said Bird probably could never have secured conviction and the matter best hushed anyway Bolton have two your men help get this apparatus the Bureau want examine little Have the body taken the morgue and shut the press Find out which room the chap occupied and search and bring all his papers From criminal standpoint this case settled but want look into the scientific end little more \\nlike know what was all about Doctor protested Bolton have followed your lead blindly and now have housebreaking without search warrant and killing explain and still about much the dark was the beginning \\nExcuse Bolton said Bird contritely didn mean slight you Admiral Clay wants know about and does Carnes although knows too well say soon have digested the case let you know and over the whole thing with you \\n \\nweek later Bird sat conference with the President the executive office the White House Beside him sat Admiral Clay Carnes and Bolton \\nhave told the President much know Doctor said the Admiral and would like hear the details from your lips has fully recovered from his malady and there danger exciting him \\ncannot read Russian said Bird slowly and was forced depend one assistants translate the papers which Bolton found Stokowsky room There nothing them definitely connect him with the Russian Union Soviet Republics but there little doubt mind that was Red agent and that Russia supplied the money which spent would disastrous Russia plans have too close accord between this country and the British Empire and have doubt that the coming visit Premier McDougal was the underlying cause the attempt much for the reason \\nhow came suspect what was happening the explanation very simple When Carnes first told your malady President happened checking Von Beyer results the alleged discovery new element lunium the article describing his experiments Von Beyer mentions that when tried observe the spectra encountered mild form opthalmia which was quite stubborn treatment also mentions peculiar mental unbalance and intense exhilaration which the rays seemed cause both himself and his assistants The analogy between his observations and your case struck once \\n \\nFor ages the moon has been object worship various religious sects and some the most obscene orgies which have record occurred the moonlight The full moon seems affect dogs state partial hypnosis with consequent howling and evident pain the eyes Certain feeble minded persons have been known adversely affected moonlight well some cases complete mental aberration other words while moonlight has practical effect the normal human its usual concentration does have adverse effect certain types mentality and despite the laughter medical science there seems something the theory moon madness This effect Von Beyer attributed the emanations lunium which element detected the spectra the moon the form wide band the ultra violet region \\n \\nobtained from Carnes history your case and when found that your attacks grew violent with the full moon and subsided with the new moon was sure that was the right track although had that time way knowing whether was from natural artificial causes that the effect was being produced interviewed Admiral Clay and found that you were suffering from form dermititis resembling sunburn and that convinced that attack was being made your sanity for excess ultra violet light will always tend produce sunburn inquired about the windows your solarium for ultra violet light will not pass through lead glass When the Admiral told that the glass had been replaced with fused quartz which quite permeable ultra violet and that the change had been almost coincident with the start your malady asked him get you out the solarium and let examine \\nmeans certain fluorescent substances which used found that your pillow was being bathed flood ultra violet light and the fluoro spectroscope soon told that lunium emanations were present large quantities These rays were not coming you directly from their source but one the windows the State War and Navy Building was being used reflector located the approximate source the ray means improvised apparatus and surrounded the place Stokowsky was killed while attempting escape guess that about all there \\nThank you Doctor said the President would interested description the apparatus which used produce this effect \\n \\nThe apparatus was quite simple Sir was merely large collector moonlight which was thrown after collection onto lunium plate The resultant emanations were turned into parallel beam parabolic reflector and focused through rock crystal lens with extremely long focal length onto your pillow \\nThen Stokowsky had isolated Von Beyer new element asked the President \\nstill doubt whether new element merely allotropic modification the common element cadmium The plate which used has very peculiar property When moonlight any other reflected light the same composition falls acts the ray much the button Roentgen tube acts cathode ray the cathode ray absorbed and entirely new ray the ray given off the button just the reflected moonlight absorbed and new ray ultra violet given off This the ray which Von Beyer detected thought that could catch traces Von Beyer lines spectroscope and think now that due trace lunium the cadmium plating the barrels Von Beyer could have easily made the same mistake Von Beyer work together with Stokowsky opens entirely new field spectroscopic research would give good deal over Baden and into the matter with Von Beyer and make some plans for the exploitation the new field but afraid that pocketbook wouldn stand the trip \\nthink that the United States owes you that trip Bird said the Chief Executive with smile Make your plans soon you get your data together think that the Treasury will able take care the expense without raising the income tax next year \\n-------------------------------------------------- ---- THE NEXT ISSUE Murder Madness Beginning intensely Gripping Four Part Novel MURRAY LEINSTER The Atom Smasher Thrilling Adventure into Time and Space VICTOR ROUSSEAU Into the Ocean Depths Sequel From the Ocean Depths SEWELL PEASLEE WRIGHT Brigands the Moon Part Three the Amazing Serial RAY CUMMINGS ---- And Others -------------------------------------------------- ---- \\nIllustration The Readers Corner \\nMeeting Place for Readers Astounding Stories \\nOur Thanks \\nThree months ago the Clayton Magazines presented lovers Science Fiction everywhere new magazine with brand new policy Astounding Stories and now the Editor great pleasure announce our thousands friends that this new magazine enjoying splendid success \\nWithin twenty four hours the time that Astounding Stories was released for sale letters praise began pouring into our office and and this significant many them clearly revealed that their writers had grasped the essential difference the new Science Fiction magazine over the others \\ncannot better state this difference this improvement than quoting what the Reader whose letter appears under the caption And Kind Their Grandmothers says his very first paragraph And was still more pleased and surprised find that the Editor seems know that such stories should have real story interest besides scientific idea exactly that Every story that appears Astounding Stories not only must contain some the forecasted scientific achievements morrow but must told vividly excitingly with all the human interest that goes make any story enjoyable day \\nThe Editor and staff Astounding Stories express their sincere thanks all who have contributed our splendid start especially those who had the kindness write with their helpful criticism \\nAlready one your common suggestions has been taken and embodied our magazine and have this new department The Readers Corner which from now will informal meeting place for all readers Astounding Stories want you never forget that cordial and perpetual invitation extended you write and talk over with all anything interest you may have say connection with our magazine \\nyou can toss word praise that fine only criticism welcome that just much for may able find from way improve our magazine you have your own private theory how airplanes will run 2500 you think the real Fourth Dimension different from what sometimes described write and share your views with all \\nThis department all yours and the job running and making interesting largely you come over The Readers Corner and have your share what everyone will saying \\nThe Editor \\nAnd Kind Their Grandmothers \\nDear Editor \\nreceived pleasant surprise few days ago when found new Science Fiction magazine the newsstand Astounding Stories And was still more pleased and surprised find that the Editor seems know that such stories should have real story interest besides scientific idea \\ncourse took with grain salt the invitation write the editor and give preference the kind stories like know that every editor down his heart thinks his magazine perfect fact praise what they want not suggestions judging the letters they print \\nWell can conscientiously give you some praise Astounding Stories keep the standard the first issue will all right Evidently you can afford hire the best writers obtainable Notice you signed some favorites Murray Leinster Starzl Ray Cummings like their stuff because has the rare quality rather vaguely described distinction which make the story remembered for long time \\nThe story Tanks Murray Leinster idea what such story should The author does not start out Listen children and you shall hear story wonderful you won believe Only after the death Professor Bulging Dome dare make public doubting world simply proceeds tell the story were reading the Saturday Evening Post Ladies Home Journal would all right prepare for the story explaining that course the author does not vouch for the story having been told him crazy Eurasian Cottage Grove black and tan speakeasy Astounding Stories expect the story unusual don bother telling That criticism applies Phantoms Reality which story above the average though despite its rather flat title and slow beginning \\nHere another good point about Tanks Its characters are human Some authors stories the future make their characters all brains cold monsters with humanity them Such story has neither human interest nor plausibility The sky the limit say for mechanical scientific accomplishments but human emotions will the same thousand years from now And even supposing that they will changed your readers have present day emotions The magazine can not prosper unless those present day emotions are aroused and mirrored thoroughly human characters The situation may just outre you like the more unusual the better but the response normal human emotions most unusual situations that gives magazine such yours its powerful and unique kick \\nThe response the two infantrymen Tanks the strange and terrifying new warfare the future exemplifies another point would like make the fact that matter what marvels the future may bring the people who will live then will take them matter fact way Their conversation will cigarettes sag paste drinks women References the scientific marvels around them will casual and sketchy How many million words average car owner conversation would you have report give visitor from 1700 idea internal combustion engines The author skillful can convey that information other ways Yet lot stories printed have long stilted conversations which the author thinks conveying entertaining way his foundation situation Personally like lot physical action violent action preferred This probably because school teacher and sedentary habits have never written story life but the most voracious consumer stories Chicago like see the hero get into devil pickle and have him smash his way out like big tough and kind their grandmothers \\nseems that interplanetary stories offer the best vehicle for all the desirable qualities herein enumerated combined There absolutely restraint the imagination except few known astronomical facts plenty opportunity for violent and dangerous adventures strange and terrestrially impossible monsters The human actors set down the midst such terrifying conditions which they battle dauntlessly grinning they take their blows and returning them with good will cannot fail rouse the admiration the reader And make him buy the next month issue \\nBut spare please the stories which the hero arriving some other planet admitted the court the king the White race and leads their battles against the Reds the Browns the Greens and eventually marrying the king daughter who always golden haired milky white complexion and has large blue eyes Kindly reject stories interplanetary travel which member the party turns against the Earth party and allies himself with the wormlike Moon men what have you Stories which great inventor gone crazy threatens hurl the Earth into the Sun leave cold and despondent for the simple reason that crazy men are never great inventors Name great inventor who wasn perfectly sane you can The author makes the great inventor insane make plausible that should want destroy the World Well good author can find some other motive \\nOne more thing like smell feel hear and even taste the action story well see Some authors only let you see and then they don tell you whether bright subdued light The author Tanks fulfills requirements this respect least partially Walter Boyle Mrs Anna Treitz 4751 North Artesian Chicago Ill \\nPermanent Reader \\nDear Editor \\nwant thank you for the very entertaining hours spent perusing your new magazine Astounding Stories read one two other Science Fiction magazines seems that tales this sort intrigue However wish say that the debut number your magazine contained the best stories ever read Again thanking you and assuring you that should the stories continue thus will permanent reader Irving Ettinger The Seville Detroit Mich \\nAvoiding Reprints \\nDear Editor \\nwell pleased with your new magazine and wish offer you congratulations and best wishes well acquainted with most the Science Fiction now being written good position criticize your magazine \\nFirst The cover illustration good but the inside drawings could greatly improved \\nSecond Holding the magazine together with two staples good idea \\nThird The paper could improved \\nFourth The price right \\nHere classify the stories Excellent The Beetle Horde and Tanks Very Good Cave Horror Invisible Death and Phantoms Reality Medium Compensation Poor Stolen Mind \\nPlease don reprint any Poe Wells Verne works prejudice Verne Wells and Poe that have read all their works other magazines \\nHowever with all criticizing think that your magazine good one James Nichols 1509 19th Street Bakersfield California \\nThanks Marks \\nDear Editor \\npurchased copy our new magazine day and think excellent glad see most old author friends contributing for but how about looking Burroughs David Keller Wantenbacker and Merritt They are marvelous writers see Wesso did your cover and very good have been reader four other Science Fiction monthly magazines and two quarterlies but gladly take this one into fold and think speak for every other Science Fiction lover when say this Which means true that your publication will have everlasting success Here hoping  Marks 893 York Avenue Atlanta \\nFine Letter \\nDear Editor \\nHaving read through the first number Astounding Stories enthusiasm has reached such pitch that find difficult express myself adequately mere letter such this can give scarcely inkling the unbounded enjoyment derive from the pages this unique magazine use trite but appropriate phrase fills long felt need True there are other magazines which specialize Science Fiction but mind they are not class with Astounding Stories most them the scientific element emphasized that completely overshadows all else this magazine happily such not the case Here find science subordinated human interest which should The love element too present and means unwelcome \\nfor the literary quality the stories could not improved Such craftsmen Cummings Leinster and Rousseau never fail turn out vivid well written tale the stories the succeeding issues are par with those the first the success the magazine assured \\nthe way your editorial explanation Astounding Stories was gem many take our marvelous modern inventions for granted that never consider how miraculous they would seem our forebears you say the only real difference between the Astounding and the Commonplace Time magazine such Astounding Stories enables anticipate the wonders morrow Through its pages can peer into the vistas the future and behold the world that Truly you have given rare treat Allen Glasser 931 Forest Ave New York \\nThe Science Correspondence Club Broadcasts \\nDear Editor \\nThe other day came upon Astounding Stories our local newsstand immediately procured copy because Science Fiction favorite pastime speak was very much overjoyed that another good Science Fiction magazine should come out and Clayton Magazine too which enhances its splendid value still further have read various members the Clayton family and found each them entertaining \\nAfter finishing the first issue decided write and express feelings The stories were all good with the exception The Stolen Mind Just keep printing stories Cape Meek Ray Cummings Murray Leinster Tench Harl Vincent and Starzl and can predict now that your new venture will huge success \\nThe main reason this letter ask your help putting over Science Fiction Week This will take place the early part February the week the 5th after want your operation making this big success You can help running the attached article upon the Science Correspondence Club your Readers Corner will big aid \\nsure because you are the Editor Astounding Stories that you will pleased help this venture Science Fiction our common meeting ground and our common ideal \\nhope have Big Science Fiction Week with your help Conrad Ruppert 113 North Superior Street Angola Indiana \\nthe Readers Astounding Stories \\nthe present there exists the United States organization the purpose which spread the gospel Science and Science Fiction the Science Correspondence Club writing this induce the readers Astounding Stories join After reading this pick your pen take the cover from your typewriter and send application for membership our Secretary Raymond Palmer 1431 38th Milwaukee Wisconsin our President Aubrey Clements South Hillard Montgomery Alabama They will forward application blanks you and you will belong the only organization the world that like \\nThe Club was formed twenty young men from all over the have roll almost 100 all over the world Its expressed purpose has been help the cause Science Fiction and increase the knowledge Science also affords the advantage being able express your ideas all fields \\nThe Preamble the Constitution which have worked out reads the members this organization order promote the advancement Science general among laymen the world through the use discussion and the creation and exchange new ideas ordain and establish this organization for the Science Correspondence Club \\nArticle Two reads The institution will remain organization establish better ordination between the scientifically inclined laymen the world regardless sex creed color race There will restrictions age providing the member can pass examination which shall prepared the membership committee \\nThe Club will also publish monthly bulletin which members may contribute will also publish clippings articles etc dealing with science \\nThe membership will have definite limit and the correspondence will governed the wishes each member \\nNeed more said \\nalmost forgot say that have two the best Science Fiction authors active members and three more who are doing their best but because such work they cannot active \\nhope appeal bears fruit and that shall hear from you soon Conrad Ruppert \\nBut Most Everybody Prefers the Smaller Size and Price \\nDear Editor \\nLast night was passing newsstand and saw your magazine bought then and there not read any other stories except the fantastic stories Astounding Stories looks all right but may make suggestions Why not increase the size the magazine that Miss 1900 Forest and Stream would certainly look better You could also raise your price twenty five cents Please print many stories possible the following authors Ray Cummings Edgar Rice Burroughs Murray Leinster Edmond Hamilton Hyatt Verrill Stanton Coblentz Earl Repp and Harl Vincent \\nfavorite type story the interplanetary one wish you the best luck your new venture Stephen Takacs 303 Eckford Street Brooklyn \\nFirst Copy Wonderful \\nDear Editor \\nhave read the first copy Astounding Stories and think wonderful very much interested science fiction prefer interplanetary stories and would like see many them the new magazine Your authors are fine The ones like particularly are Ray Cummings Captain Meek and Murray Leinster wonder could subscribe Astounding Stories Will you let know Good luck the new magazine Donald Sisler 3111 Adams Mill Road Washington \\nCongratulations \\nDear Editor \\nAllow congratulate you upon the starting your new magazine Astounding Stories Have just finished reading the first issue and fine While the class stories that you publish not appeal all feel quite sure that there are many like myself who will welcome your publication and wish all success Norton Box 226 Ashtabula Ohio \\nEnd the Project Gutenberg EBook Astounding Stories Super Science April 1930 Various \\n'"
            ]
          },
          "metadata": {
            "tags": []
          },
          "execution_count": 104
        }
      ]
    },
    {
      "cell_type": "markdown",
      "metadata": {
        "id": "iQkL2Y2f_lAB"
      },
      "source": [
        "It would appear that I cannot update the raw text file using locations provided in the named entity recognition pattern. \r\n",
        "\r\n",
        "### Frequency\r\n",
        "\r\n",
        "Let's see how many authors have certain people and organizations in common usages of their texts."
      ]
    },
    {
      "cell_type": "code",
      "metadata": {
        "id": "QRidDQAKDwSy"
      },
      "source": [
        "#The persons\r\n",
        "persons = entities[entities.type.isin(['PERSON', 'ORG'])]"
      ],
      "execution_count": 211,
      "outputs": []
    },
    {
      "cell_type": "code",
      "metadata": {
        "id": "0GRtQ11qF11w"
      },
      "source": [
        "persons = persons.groupby(by='name', as_index=False)['author']"
      ],
      "execution_count": 212,
      "outputs": []
    },
    {
      "cell_type": "code",
      "metadata": {
        "colab": {
          "base_uri": "https://localhost:8080/",
          "height": 286
        },
        "id": "Vs6RAeudGXhQ",
        "outputId": "9826e047-8261-4c3c-c311-8c7f34656d59"
      },
      "source": [
        "people = persons.nunique().sort_values(by='author', ascending=False)\r\n",
        "people.describe()"
      ],
      "execution_count": 216,
      "outputs": [
        {
          "output_type": "execute_result",
          "data": {
            "text/html": [
              "<div>\n",
              "<style scoped>\n",
              "    .dataframe tbody tr th:only-of-type {\n",
              "        vertical-align: middle;\n",
              "    }\n",
              "\n",
              "    .dataframe tbody tr th {\n",
              "        vertical-align: top;\n",
              "    }\n",
              "\n",
              "    .dataframe thead th {\n",
              "        text-align: right;\n",
              "    }\n",
              "</style>\n",
              "<table border=\"1\" class=\"dataframe\">\n",
              "  <thead>\n",
              "    <tr style=\"text-align: right;\">\n",
              "      <th></th>\n",
              "      <th>author</th>\n",
              "    </tr>\n",
              "  </thead>\n",
              "  <tbody>\n",
              "    <tr>\n",
              "      <th>count</th>\n",
              "      <td>3517.000000</td>\n",
              "    </tr>\n",
              "    <tr>\n",
              "      <th>mean</th>\n",
              "      <td>1.101223</td>\n",
              "    </tr>\n",
              "    <tr>\n",
              "      <th>std</th>\n",
              "      <td>0.448092</td>\n",
              "    </tr>\n",
              "    <tr>\n",
              "      <th>min</th>\n",
              "      <td>1.000000</td>\n",
              "    </tr>\n",
              "    <tr>\n",
              "      <th>25%</th>\n",
              "      <td>1.000000</td>\n",
              "    </tr>\n",
              "    <tr>\n",
              "      <th>50%</th>\n",
              "      <td>1.000000</td>\n",
              "    </tr>\n",
              "    <tr>\n",
              "      <th>75%</th>\n",
              "      <td>1.000000</td>\n",
              "    </tr>\n",
              "    <tr>\n",
              "      <th>max</th>\n",
              "      <td>7.000000</td>\n",
              "    </tr>\n",
              "  </tbody>\n",
              "</table>\n",
              "</div>"
            ],
            "text/plain": [
              "            author\n",
              "count  3517.000000\n",
              "mean      1.101223\n",
              "std       0.448092\n",
              "min       1.000000\n",
              "25%       1.000000\n",
              "50%       1.000000\n",
              "75%       1.000000\n",
              "max       7.000000"
            ]
          },
          "metadata": {
            "tags": []
          },
          "execution_count": 216
        }
      ]
    },
    {
      "cell_type": "code",
      "metadata": {
        "colab": {
          "base_uri": "https://localhost:8080/",
          "height": 435
        },
        "id": "ZLLt9xwBNKxl",
        "outputId": "e1880c5c-d47d-4b18-ba5b-6024e43d3e92"
      },
      "source": [
        "people[people.author >= 5]"
      ],
      "execution_count": 217,
      "outputs": [
        {
          "output_type": "execute_result",
          "data": {
            "text/html": [
              "<div>\n",
              "<style scoped>\n",
              "    .dataframe tbody tr th:only-of-type {\n",
              "        vertical-align: middle;\n",
              "    }\n",
              "\n",
              "    .dataframe tbody tr th {\n",
              "        vertical-align: top;\n",
              "    }\n",
              "\n",
              "    .dataframe thead th {\n",
              "        text-align: right;\n",
              "    }\n",
              "</style>\n",
              "<table border=\"1\" class=\"dataframe\">\n",
              "  <thead>\n",
              "    <tr style=\"text-align: right;\">\n",
              "      <th></th>\n",
              "      <th>name</th>\n",
              "      <th>author</th>\n",
              "    </tr>\n",
              "  </thead>\n",
              "  <tbody>\n",
              "    <tr>\n",
              "      <th>2132</th>\n",
              "      <td>moon</td>\n",
              "      <td>7</td>\n",
              "    </tr>\n",
              "    <tr>\n",
              "      <th>2794</th>\n",
              "      <td>shall</td>\n",
              "      <td>6</td>\n",
              "    </tr>\n",
              "    <tr>\n",
              "      <th>772</th>\n",
              "      <td>don</td>\n",
              "      <td>6</td>\n",
              "    </tr>\n",
              "    <tr>\n",
              "      <th>3216</th>\n",
              "      <td>time</td>\n",
              "      <td>6</td>\n",
              "    </tr>\n",
              "    <tr>\n",
              "      <th>1026</th>\n",
              "      <td>farewell</td>\n",
              "      <td>5</td>\n",
              "    </tr>\n",
              "    <tr>\n",
              "      <th>2057</th>\n",
              "      <td>messenger</td>\n",
              "      <td>5</td>\n",
              "    </tr>\n",
              "    <tr>\n",
              "      <th>509</th>\n",
              "      <td>chapter</td>\n",
              "      <td>5</td>\n",
              "    </tr>\n",
              "    <tr>\n",
              "      <th>3162</th>\n",
              "      <td>thee</td>\n",
              "      <td>5</td>\n",
              "    </tr>\n",
              "    <tr>\n",
              "      <th>740</th>\n",
              "      <td>didn</td>\n",
              "      <td>5</td>\n",
              "    </tr>\n",
              "    <tr>\n",
              "      <th>3195</th>\n",
              "      <td>thou</td>\n",
              "      <td>5</td>\n",
              "    </tr>\n",
              "    <tr>\n",
              "      <th>1443</th>\n",
              "      <td>house</td>\n",
              "      <td>5</td>\n",
              "    </tr>\n",
              "    <tr>\n",
              "      <th>1197</th>\n",
              "      <td>god</td>\n",
              "      <td>5</td>\n",
              "    </tr>\n",
              "    <tr>\n",
              "      <th>1471</th>\n",
              "      <td>hush</td>\n",
              "      <td>5</td>\n",
              "    </tr>\n",
              "  </tbody>\n",
              "</table>\n",
              "</div>"
            ],
            "text/plain": [
              "           name  author\n",
              "2132       moon       7\n",
              "2794      shall       6\n",
              "772         don       6\n",
              "3216       time       6\n",
              "1026   farewell       5\n",
              "2057  messenger       5\n",
              "509     chapter       5\n",
              "3162       thee       5\n",
              "740        didn       5\n",
              "3195       thou       5\n",
              "1443      house       5\n",
              "1197        god       5\n",
              "1471       hush       5"
            ]
          },
          "metadata": {
            "tags": []
          },
          "execution_count": 217
        }
      ]
    },
    {
      "cell_type": "markdown",
      "metadata": {
        "id": "itct8irPC-W5"
      },
      "source": [
        "Silly questions. \r\n",
        "\r\n",
        "Can a prediction model/classification model determine an author based solely off of entity recognition? Can I feed these results to a model and will it be able to classify the author without qualms? \r\n",
        "\r\n",
        "What does a unsupervised model have to say about these entities? Anything? We see people, organizations, time, ordinals, cardinals, authors, would I learn anything from an unsupervised learning model? Would it begin to think that Carlos Kane is someone who wrote a book in the various text titles? \r\n",
        "\r\n",
        "The former question is outside the scope of this project. An unsupervised learning model was assigned to the project with no specifications as to how it should/may be implemented. "
      ]
    },
    {
      "cell_type": "markdown",
      "metadata": {
        "id": "FucHzgF_a8TI"
      },
      "source": [
        "## Table of Contents, Credits, Acknowledgements, Chapter Headers\r\n"
      ]
    },
    {
      "cell_type": "code",
      "metadata": {
        "id": "Ed65OHqNVkXh",
        "colab": {
          "base_uri": "https://localhost:8080/"
        },
        "outputId": "b02133c9-f8f7-4a66-e481-2ba7fd8b69c5"
      },
      "source": [
        "#Open the text files for exploration. \r\n",
        "from nltk.corpus.reader.plaintext import PlaintextCorpusReader\r\n",
        "from gensim.summarization import keywords\r\n",
        "import nltk\r\n",
        "import re\r\n",
        "import requests\r\n",
        "import os\r\n",
        "\r\n",
        "!pip install rake_nltk --quiet\r\n",
        "from rake_nltk import Rake\r\n",
        "nltk.download('punkt')\r\n",
        "nltk.download('wordnet')\r\n",
        "\r\n",
        "import pandas as pd\r\n",
        "from nltk import sent_tokenize\r\n",
        "from nltk import word_tokenize\r\n",
        "from nltk.corpus import stopwords\r\n",
        "from nltk.stem.snowball import SnowballStemmer\r\n",
        "from nltk.stem.wordnet import WordNetLemmatizer\r\n",
        "import numpy as np\r\n",
        "import spacy\r\n",
        "\r\n",
        "\r\n",
        "# file location\r\n",
        "PATH = '/content/drive/MyDrive/Author Classification/AuthorTexts'\r\n",
        "DOC_PATTERN = r'.*\\.txt'\r\n",
        "\r\n",
        "corpus = PlaintextCorpusReader(PATH, DOC_PATTERN)\r\n",
        "\r\n",
        "def corpus_stats(corpus):\r\n",
        "  print(\"corpus statistics:\")\r\n",
        "  print(f'Number of Documents: {str(len(corpus.fileids()))}')\r\n",
        "  print(f'Number of paragraphs: {str(len(corpus.paras()))}')\r\n",
        "  print(f'Number of sentences: {str(len(corpus.sents()))}')\r\n",
        "  print(f'Number of words: {str(len(corpus.words()))}')\r\n",
        "  print(f'Vocabulary: {str(len(set(w.lower() for w in corpus.words())))}')\r\n",
        "  print(f'avg chars per word: {str(round(len(corpus.raw())/len(corpus.words()), 1))}')\r\n",
        "  print(f'avg words per sentence: {str(round(len(corpus.words())/len(corpus.sents()), 1))}')\r\n",
        "\r\n",
        "corpus_stats(corpus)"
      ],
      "execution_count": 3,
      "outputs": [
        {
          "output_type": "stream",
          "text": [
            "[nltk_data] Downloading package punkt to /root/nltk_data...\n",
            "[nltk_data]   Package punkt is already up-to-date!\n",
            "[nltk_data] Downloading package wordnet to /root/nltk_data...\n",
            "[nltk_data]   Package wordnet is already up-to-date!\n",
            "corpus statistics:\n",
            "Number of Documents: 9\n",
            "Number of paragraphs: 295\n",
            "Number of sentences: 295\n",
            "Number of words: 854345\n",
            "Vocabulary: 23747\n",
            "avg chars per word: 5.9\n",
            "avg words per sentence: 2896.1\n"
          ],
          "name": "stdout"
        }
      ]
    },
    {
      "cell_type": "code",
      "metadata": {
        "id": "QiP_Q_F_lrMp"
      },
      "source": [
        "#Dataframe of sentences and authors.\r\n",
        "for fileid in corpus.fileids():\r\n",
        "  book = pd.DataFrame(corpus.raw(fileids=fileid).split('\\n'), columns=['sentence'])\r\n",
        "  book['author'] = fileid.split('/')[0]\r\n",
        "  try:\r\n",
        "    books = pd.concat([books, book])\r\n",
        "  except NameError: \r\n",
        "    books = book"
      ],
      "execution_count": 4,
      "outputs": []
    },
    {
      "cell_type": "code",
      "metadata": {
        "colab": {
          "base_uri": "https://localhost:8080/",
          "height": 404
        },
        "id": "Utsclk4SxDka",
        "outputId": "07a682f2-0c67-4740-ccb3-104e7bdd68d4"
      },
      "source": [
        "#Remove empty strings.\r\n",
        "books = books.replace(r'^\\s*$', np.NaN, regex=True)\r\n",
        "books.dropna(inplace=True)\r\n",
        "books.reindex()\r\n",
        "\r\n",
        "#Remove contents and Chapter Titles.\r\n",
        "i = 0\r\n",
        "for sent in books.sentence:\r\n",
        "  if any(c.islower() for c in sent) == False:\r\n",
        "    books.iloc[i] = np.NaN\r\n",
        "  if 'project gutenberg' in sent.lower():\r\n",
        "    books.iloc[i] = np.NaN    \r\n",
        "  if 'contents' == sent.lower().strip():\r\n",
        "    books.iloc[i] == np.NaN\r\n",
        "  i += 1\r\n",
        "\r\n",
        "books.dropna(inplace=True)\r\n",
        "books.reindex()"
      ],
      "execution_count": 5,
      "outputs": [
        {
          "output_type": "execute_result",
          "data": {
            "text/html": [
              "<div>\n",
              "<style scoped>\n",
              "    .dataframe tbody tr th:only-of-type {\n",
              "        vertical-align: middle;\n",
              "    }\n",
              "\n",
              "    .dataframe tbody tr th {\n",
              "        vertical-align: top;\n",
              "    }\n",
              "\n",
              "    .dataframe thead th {\n",
              "        text-align: right;\n",
              "    }\n",
              "</style>\n",
              "<table border=\"1\" class=\"dataframe\">\n",
              "  <thead>\n",
              "    <tr style=\"text-align: right;\">\n",
              "      <th></th>\n",
              "      <th>sentence</th>\n",
              "      <th>author</th>\n",
              "    </tr>\n",
              "  </thead>\n",
              "  <tbody>\n",
              "    <tr>\n",
              "      <th>0</th>\n",
              "      <td>Produced David Price</td>\n",
              "      <td>Anne Bronte</td>\n",
              "    </tr>\n",
              "    <tr>\n",
              "      <th>1</th>\n",
              "      <td>Agnes Grey NOVEL</td>\n",
              "      <td>Anne Bronte</td>\n",
              "    </tr>\n",
              "    <tr>\n",
              "      <th>5</th>\n",
              "      <td>Illustration Birthplace Charlotte Emily and An...</td>\n",
              "      <td>Anne Bronte</td>\n",
              "    </tr>\n",
              "    <tr>\n",
              "      <th>6</th>\n",
              "      <td>Contents</td>\n",
              "      <td>Anne Bronte</td>\n",
              "    </tr>\n",
              "    <tr>\n",
              "      <th>9</th>\n",
              "      <td>All true histories contain instruction though ...</td>\n",
              "      <td>Anne Bronte</td>\n",
              "    </tr>\n",
              "    <tr>\n",
              "      <th>...</th>\n",
              "      <td>...</td>\n",
              "      <td>...</td>\n",
              "    </tr>\n",
              "    <tr>\n",
              "      <th>2452</th>\n",
              "      <td>Dear Editor</td>\n",
              "      <td>Various</td>\n",
              "    </tr>\n",
              "    <tr>\n",
              "      <th>2453</th>\n",
              "      <td>have read the first copy Astounding Stories an...</td>\n",
              "      <td>Various</td>\n",
              "    </tr>\n",
              "    <tr>\n",
              "      <th>2454</th>\n",
              "      <td>Congratulations</td>\n",
              "      <td>Various</td>\n",
              "    </tr>\n",
              "    <tr>\n",
              "      <th>2455</th>\n",
              "      <td>Dear Editor</td>\n",
              "      <td>Various</td>\n",
              "    </tr>\n",
              "    <tr>\n",
              "      <th>2456</th>\n",
              "      <td>Allow congratulate you upon the starting your ...</td>\n",
              "      <td>Various</td>\n",
              "    </tr>\n",
              "  </tbody>\n",
              "</table>\n",
              "<p>23148 rows × 2 columns</p>\n",
              "</div>"
            ],
            "text/plain": [
              "                                               sentence       author\n",
              "0                                 Produced David Price   Anne Bronte\n",
              "1                                     Agnes Grey NOVEL   Anne Bronte\n",
              "5     Illustration Birthplace Charlotte Emily and An...  Anne Bronte\n",
              "6                                             Contents   Anne Bronte\n",
              "9     All true histories contain instruction though ...  Anne Bronte\n",
              "...                                                 ...          ...\n",
              "2452                                       Dear Editor       Various\n",
              "2453  have read the first copy Astounding Stories an...      Various\n",
              "2454                                   Congratulations       Various\n",
              "2455                                       Dear Editor       Various\n",
              "2456  Allow congratulate you upon the starting your ...      Various\n",
              "\n",
              "[23148 rows x 2 columns]"
            ]
          },
          "metadata": {
            "tags": []
          },
          "execution_count": 5
        }
      ]
    },
    {
      "cell_type": "code",
      "metadata": {
        "id": "Imo0CqhD_F3u"
      },
      "source": [
        "content_index = books[books.sentence == 'Contents '].index.values\r\n",
        "books.drop(content_index, inplace=True)"
      ],
      "execution_count": 6,
      "outputs": []
    },
    {
      "cell_type": "code",
      "metadata": {
        "colab": {
          "base_uri": "https://localhost:8080/",
          "height": 375
        },
        "id": "GN6FKw06AVh_",
        "outputId": "00b97371-5732-4e02-c00f-b550fd520e9c"
      },
      "source": [
        "#Number of characters in each sentence, per author\r\n",
        "books['length'] = [len(sen) for sen in books.sentence]\r\n",
        "books.groupby(by='author').describe()"
      ],
      "execution_count": 13,
      "outputs": [
        {
          "output_type": "execute_result",
          "data": {
            "text/html": [
              "<div>\n",
              "<style scoped>\n",
              "    .dataframe tbody tr th:only-of-type {\n",
              "        vertical-align: middle;\n",
              "    }\n",
              "\n",
              "    .dataframe tbody tr th {\n",
              "        vertical-align: top;\n",
              "    }\n",
              "\n",
              "    .dataframe thead tr th {\n",
              "        text-align: left;\n",
              "    }\n",
              "\n",
              "    .dataframe thead tr:last-of-type th {\n",
              "        text-align: right;\n",
              "    }\n",
              "</style>\n",
              "<table border=\"1\" class=\"dataframe\">\n",
              "  <thead>\n",
              "    <tr>\n",
              "      <th></th>\n",
              "      <th colspan=\"8\" halign=\"left\">length</th>\n",
              "    </tr>\n",
              "    <tr>\n",
              "      <th></th>\n",
              "      <th>count</th>\n",
              "      <th>mean</th>\n",
              "      <th>std</th>\n",
              "      <th>min</th>\n",
              "      <th>25%</th>\n",
              "      <th>50%</th>\n",
              "      <th>75%</th>\n",
              "      <th>max</th>\n",
              "    </tr>\n",
              "    <tr>\n",
              "      <th>author</th>\n",
              "      <th></th>\n",
              "      <th></th>\n",
              "      <th></th>\n",
              "      <th></th>\n",
              "      <th></th>\n",
              "      <th></th>\n",
              "      <th></th>\n",
              "      <th></th>\n",
              "    </tr>\n",
              "  </thead>\n",
              "  <tbody>\n",
              "    <tr>\n",
              "      <th>Anne Bronte</th>\n",
              "      <td>934.0</td>\n",
              "      <td>332.932548</td>\n",
              "      <td>422.704588</td>\n",
              "      <td>4.0</td>\n",
              "      <td>59.00</td>\n",
              "      <td>144.5</td>\n",
              "      <td>498.75</td>\n",
              "      <td>3299.0</td>\n",
              "    </tr>\n",
              "    <tr>\n",
              "      <th>Bell AKA Bronte Sisters</th>\n",
              "      <td>884.0</td>\n",
              "      <td>167.628959</td>\n",
              "      <td>172.577083</td>\n",
              "      <td>12.0</td>\n",
              "      <td>111.00</td>\n",
              "      <td>129.0</td>\n",
              "      <td>198.00</td>\n",
              "      <td>2741.0</td>\n",
              "    </tr>\n",
              "    <tr>\n",
              "      <th>Charlotte Bronte</th>\n",
              "      <td>110.0</td>\n",
              "      <td>391.136364</td>\n",
              "      <td>851.931593</td>\n",
              "      <td>8.0</td>\n",
              "      <td>27.00</td>\n",
              "      <td>99.0</td>\n",
              "      <td>276.50</td>\n",
              "      <td>4965.0</td>\n",
              "    </tr>\n",
              "    <tr>\n",
              "      <th>Edith Rickert &amp; Gleb Botkin</th>\n",
              "      <td>191.0</td>\n",
              "      <td>60.717277</td>\n",
              "      <td>51.168079</td>\n",
              "      <td>5.0</td>\n",
              "      <td>30.00</td>\n",
              "      <td>47.0</td>\n",
              "      <td>79.00</td>\n",
              "      <td>381.0</td>\n",
              "    </tr>\n",
              "    <tr>\n",
              "      <th>Emily Bronte</th>\n",
              "      <td>1922.0</td>\n",
              "      <td>278.165973</td>\n",
              "      <td>305.926922</td>\n",
              "      <td>4.0</td>\n",
              "      <td>80.00</td>\n",
              "      <td>166.0</td>\n",
              "      <td>369.00</td>\n",
              "      <td>3301.0</td>\n",
              "    </tr>\n",
              "    <tr>\n",
              "      <th>Ethel M. Dell</th>\n",
              "      <td>8629.0</td>\n",
              "      <td>145.794994</td>\n",
              "      <td>135.351503</td>\n",
              "      <td>4.0</td>\n",
              "      <td>62.00</td>\n",
              "      <td>107.0</td>\n",
              "      <td>181.00</td>\n",
              "      <td>2160.0</td>\n",
              "    </tr>\n",
              "    <tr>\n",
              "      <th>Fyodor Dostoevsky</th>\n",
              "      <td>5574.0</td>\n",
              "      <td>266.101722</td>\n",
              "      <td>527.644986</td>\n",
              "      <td>4.0</td>\n",
              "      <td>49.00</td>\n",
              "      <td>107.0</td>\n",
              "      <td>274.75</td>\n",
              "      <td>13267.0</td>\n",
              "    </tr>\n",
              "    <tr>\n",
              "      <th>Jane Austen</th>\n",
              "      <td>2675.0</td>\n",
              "      <td>333.707290</td>\n",
              "      <td>474.218558</td>\n",
              "      <td>4.0</td>\n",
              "      <td>89.00</td>\n",
              "      <td>201.0</td>\n",
              "      <td>410.50</td>\n",
              "      <td>12284.0</td>\n",
              "    </tr>\n",
              "    <tr>\n",
              "      <th>Various</th>\n",
              "      <td>2204.0</td>\n",
              "      <td>157.271325</td>\n",
              "      <td>143.543781</td>\n",
              "      <td>4.0</td>\n",
              "      <td>51.75</td>\n",
              "      <td>119.0</td>\n",
              "      <td>221.00</td>\n",
              "      <td>1119.0</td>\n",
              "    </tr>\n",
              "  </tbody>\n",
              "</table>\n",
              "</div>"
            ],
            "text/plain": [
              "                             length              ...                 \n",
              "                              count        mean  ...     75%      max\n",
              "author                                           ...                 \n",
              "Anne Bronte                   934.0  332.932548  ...  498.75   3299.0\n",
              "Bell AKA Bronte Sisters       884.0  167.628959  ...  198.00   2741.0\n",
              "Charlotte Bronte              110.0  391.136364  ...  276.50   4965.0\n",
              "Edith Rickert & Gleb Botkin   191.0   60.717277  ...   79.00    381.0\n",
              "Emily Bronte                 1922.0  278.165973  ...  369.00   3301.0\n",
              "Ethel M. Dell                8629.0  145.794994  ...  181.00   2160.0\n",
              "Fyodor Dostoevsky            5574.0  266.101722  ...  274.75  13267.0\n",
              "Jane Austen                  2675.0  333.707290  ...  410.50  12284.0\n",
              "Various                      2204.0  157.271325  ...  221.00   1119.0\n",
              "\n",
              "[9 rows x 8 columns]"
            ]
          },
          "metadata": {
            "tags": []
          },
          "execution_count": 13
        }
      ]
    },
    {
      "cell_type": "markdown",
      "metadata": {
        "id": "xF142rYiVAb3"
      },
      "source": [
        "I think the data is clean at this point. The preferred mode of delivery will be to copy the cells into the modeling notebook."
      ]
    },
    {
      "cell_type": "markdown",
      "metadata": {
        "id": "oqqHpiimftNO"
      },
      "source": [
        "#Conclusion\r\n",
        "\r\n",
        "This was a fine exploration of the Gutenberg collection of documents. I've learned plenty. \r\n",
        "\r\n",
        "While named entity recognition can be used to provide a visual representation as to whether or not keywords are commonly used among multiple authors; they, at least in this context, do not provide much use in the data cleaning process. \r\n",
        "\r\n",
        "In the future, I will take care to complete the data cleaning process in its entirety before conducting the analysis. This means, removing chapter titles, the table of contents, and - at least TRYING - to identify and remove references to author's names prior to performing the analysis.\r\n",
        "\r\n",
        "I think that it is fine, here. I wanted to learn whether or not named entity recognition could prove useful for such an endeavor and I have seen that, in this case, it does not. \r\n",
        "\r\n",
        "Perhaps, in time, it will. \r\n",
        "\r\n",
        "\r\n",
        "---\r\n",
        "*a Thinkful project by Kalika Kay Curry*\r\n",
        "\r\n"
      ]
    }
  ]
}