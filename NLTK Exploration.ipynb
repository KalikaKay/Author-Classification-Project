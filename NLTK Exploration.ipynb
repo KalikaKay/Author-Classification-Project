{
 "cells": [
  {
   "cell_type": "markdown",
   "metadata": {},
   "source": [
    "# NLTK Exploration\n",
    "*a brief study*\n",
    "\n",
    "Here I explore the NLTK toolkit. This uses the examples and exercies available at [NLTK.org/book](https://www.nltk.org/book/ch00.html). \n",
    "\n",
    "This exploration is designed to help further along the project to ensure that I have an understanding of the tools available to me as I conduct my analysis and data cleaning for the classification project."
   ]
  },
  {
   "cell_type": "code",
   "execution_count": 3,
   "metadata": {},
   "outputs": [
    {
     "name": "stdout",
     "output_type": "stream",
     "text": [
      "showing info https://raw.githubusercontent.com/nltk/nltk_data/gh-pages/index.xml\n"
     ]
    },
    {
     "data": {
      "text/plain": [
       "True"
      ]
     },
     "execution_count": 3,
     "metadata": {},
     "output_type": "execute_result"
    }
   ],
   "source": [
    "#The exploration requires the installation of the entire nltk collection. \n",
    "import nltk\n",
    "nltk.download()"
   ]
  },
  {
   "cell_type": "code",
   "execution_count": 4,
   "metadata": {},
   "outputs": [
    {
     "name": "stdout",
     "output_type": "stream",
     "text": [
      "*** Introductory Examples for the NLTK Book ***\n",
      "Loading text1, ..., text9 and sent1, ..., sent9\n",
      "Type the name of the text or sentence to view it.\n",
      "Type: 'texts()' or 'sents()' to list the materials.\n",
      "text1: Moby Dick by Herman Melville 1851\n",
      "text2: Sense and Sensibility by Jane Austen 1811\n",
      "text3: The Book of Genesis\n",
      "text4: Inaugural Address Corpus\n",
      "text5: Chat Corpus\n",
      "text6: Monty Python and the Holy Grail\n",
      "text7: Wall Street Journal\n",
      "text8: Personals Corpus\n",
      "text9: The Man Who Was Thursday by G . K . Chesterton 1908\n"
     ]
    }
   ],
   "source": [
    "from nltk.book import *"
   ]
  },
  {
   "cell_type": "markdown",
   "metadata": {},
   "source": [
    "Look at the texts. "
   ]
  },
  {
   "cell_type": "code",
   "execution_count": 10,
   "metadata": {},
   "outputs": [
    {
     "name": "stdout",
     "output_type": "stream",
     "text": [
      "Two books: \n",
      " <Text: The Book of Genesis> \n",
      " <Text: The Man Who Was Thursday by G . K . Chesterton 1908>\n"
     ]
    }
   ],
   "source": [
    "print(f\"Two books: \\n {text3} \\n {text9}\")"
   ]
  },
  {
   "cell_type": "code",
   "execution_count": 14,
   "metadata": {},
   "outputs": [
    {
     "name": "stdout",
     "output_type": "stream",
     "text": [
      "Displaying 4 of 4 matches:\n",
      "And make me savoury meat , such as I love , and bring it to me , that I may ea\n",
      "ury meat for thy father , such as he love And thou shalt bring it to thy fathe\n",
      "ed unto him but a few days , for the love he had to her . And Jacob said unto \n",
      "tion ; now therefore my husband will love me . And she conceived again , and b\n"
     ]
    }
   ],
   "source": [
    "#use concordance to look at how often a word appears in a text.\n",
    "text3.concordance(\"love\")"
   ]
  },
  {
   "cell_type": "code",
   "execution_count": 15,
   "metadata": {},
   "outputs": [
    {
     "name": "stdout",
     "output_type": "stream",
     "text": [
      "Displaying 16 of 16 matches:\n",
      "nd the tree of knowledge of good and evil . And a river went out of Eden to wa\n",
      "he tree of the knowledge of good and evil , thou shalt not eat of for in the d\n",
      " shall be as gods , knowing good and evil . And when the woman saw that the tr\n",
      "f the thoughts of his heart was only evil continually . And it repented the LO\n",
      " the imagination of man ' s heart is evil from his youth ; neither will I agai\n",
      "t escape to the mountain , lest some evil take me , and I d Behold now , this \n",
      "Joseph brought unto his father their evil report . Now Israel loved Joseph mor\n",
      "to some pit , and we will say , Some evil beast hath devoured h and we shall s\n",
      "nd said , It is my son ' s coat ; an evil beast hath devoured him ; Joseph is \n",
      "to them , Wherefore have ye rewarded evil for good ? Is not this it in which m\n",
      "by indeed he divineth ? ye have done evil in so doing . And he overtook them ,\n",
      "ith me ? lest peradventure I see the evil that shall come on my father . Then \n",
      "re an hundred and thirty yea few and evil have the days of the years of my lif\n",
      "The Angel which redeemed me from all evil , bless the lads ; and let my name b\n",
      "nd will certainly requite us all the evil which we did unto him . And they sen\n",
      "of God ? But as for you , ye thought evil against me ; but God meant it unto g\n"
     ]
    }
   ],
   "source": [
    "text3.concordance(\"evil\")"
   ]
  },
  {
   "cell_type": "code",
   "execution_count": 16,
   "metadata": {},
   "outputs": [
    {
     "name": "stdout",
     "output_type": "stream",
     "text": [
      "Displaying 25 of 44 matches:\n",
      " And God saw the light , that it was good : and God divided the light from the\n",
      "called he Se and God saw that it was good . And God said , Let the earth bring\n",
      "after his ki and God saw that it was good . And the evening and the morning we\n",
      "m the darkne and God saw that it was good . And the evening and the morning we\n",
      "after his ki and God saw that it was good . And God blessed them , saying , Be\n",
      "after his ki and God saw that it was good . And God said , Let us make man in \n",
      "ad made , and , behold , it was very good . And the evening and the morning we\n",
      " that is pleasant to the sight , and good for food ; the tree of life also in \n",
      "arden , and the tree of knowledge of good and evil . And a river went out of E\n",
      " gold ; And the gold of that land is good : there is bdellium and the onyx sto\n",
      " But of the tree of the knowledge of good and evil , thou shalt not eat of for\n",
      " . And the LORD God said , It is not good that the man should be alone ; I wil\n",
      " , and ye shall be as gods , knowing good and evil . And when the woman saw th\n",
      "when the woman saw that the tree was good for food , and that it was pleasant \n",
      "man is become as one of us , to know good and ev and now , lest he put forth h\n",
      "in peace ; thou shalt be buried in a good old age . But in the fourth generati\n",
      " herd , and fetcht a calf tender and good , and gave it unto a young man ; and\n",
      "t unto you , and do ye to them as is good in your ey only unto these men do no\n",
      " and sat her down over against him a good way off , as it were a bow sh for sh\n",
      "ster Abraham , I pray thee , send me good speed this day , and shew kindness u\n",
      " LO we cannot speak unto thee bad or good . Behold , Rebekah is before thee , \n",
      "am gave up the ghost , and died in a good old age , an old man , and full of y\n",
      "s we have done unto thee nothing but good , and have sent thee away in pea tho\n",
      "flock , and fetch me from thence two good kids of the goats ; and I will make \n",
      " of the daughters of the land , what good shall my life do me ? And Isaac call\n"
     ]
    }
   ],
   "source": [
    "text3.concordance(\"good\")"
   ]
  },
  {
   "cell_type": "code",
   "execution_count": 19,
   "metadata": {},
   "outputs": [
    {
     "name": "stdout",
     "output_type": "stream",
     "text": [
      "Displaying 8 of 8 matches:\n",
      "ke jumping off a cliff or falling in love . Suffice it to say that you were an\n",
      "im sincerely , which is founded upon love --\" \" No , no !\" said Witherspoon , \n",
      "no !\" said Witherspoon , \" down with love .\" \" Which is founded upon love ,\" r\n",
      "with love .\" \" Which is founded upon love ,\" repeated Gregory , grinding his t\n",
      "eve that the Professor had fallen in love with that particular wax lady . He c\n",
      "e grass under his feet ; he felt the love of life in all living things . He co\n",
      "star . The philosopher may sometimes love the infinite ; the poet always loves\n",
      "derland , yet as grave and kind as a love story . At last , however , the thic\n"
     ]
    }
   ],
   "source": [
    "text9.concordance(\"love\")"
   ]
  },
  {
   "cell_type": "code",
   "execution_count": 21,
   "metadata": {},
   "outputs": [
    {
     "name": "stdout",
     "output_type": "stream",
     "text": [
      "Displaying 7 of 7 matches:\n",
      "ce , but not to destroy it . But the evil philosopher is not trying to alter t\n",
      "appiness . They believe that all the evil results of human crime are the resul\n",
      " sensitive to the smell of spiritual evil . Twice already that night little un\n",
      "voluntary salute . He knew that that evil figure , his shadow , was creeping q\n",
      "oor to the universe . As a man in an evil dream strains himself to scream and \n",
      "e it was brutal , not because it was evil . On the contrary , it frightened me\n",
      " so good , that we feel certain that evil could be explained . But the whole c\n"
     ]
    }
   ],
   "source": [
    "text9.concordance(\"evil\")"
   ]
  },
  {
   "cell_type": "code",
   "execution_count": 20,
   "metadata": {},
   "outputs": [
    {
     "name": "stdout",
     "output_type": "stream",
     "text": [
      "Displaying 25 of 67 matches:\n",
      "ak their bitter charms . God and the good Republic come riding back in arms : \n",
      "ere is strength in striking root and good in growing old . We have found commo\n",
      "overed up the sun like something too good to be seen . The whole was so close \n",
      ". Gregory resumed in high oratorical good humour . \" An artist is identical wi\n",
      "ht and somewhat dandified figure . \" Good Lord , no !\" he said , \" that has to\n",
      "the road . \" Serious !\" he cried . \" Good Lord ! is this street serious ? Are \n",
      "ar as a Christian , and promise as a good comrade and a fellow - artist , that\n",
      "ely . \" The pate de foie gras is not good here , but I can recommend the game \n",
      "the motionless Syme . \" You are very good .\" His further attempts at conversat\n",
      "asted it , and found it particularly good . Then he suddenly began to eat with\n",
      " Comrade Gregory saying to us , ' Be good , and you will be happy ,' ' Honesty\n",
      "s ). The man who is fitted to make a good curate is not fitted to make a resol\n",
      "id Mr . Buttons , bustling up . \" Be good enough to step this way .\" With a ge\n",
      "Embankment spoke to him , and said \" Good evening .\" Syme , at a crisis of his\n",
      "e bulk of blue in the twilight . \" A good evening is it ?\" he said sharply . \"\n",
      "ws would call the end of the world a good evening . Look at that bloody red su\n",
      "n army is the anger of a nation .\" \" Good God , the Board Schools !\" said Syme\n",
      "fore he could control them . \" But , good Lord , man ,\" he said , \" you oughtn\n",
      "t he is , as it were , a conditional good man . He says that if only a certain\n",
      " he would naturally feel exquisitely good . These I call the innocent section \n",
      "yrs . I am condemning you to death . Good day .\" Thus it was that when Gabriel\n",
      "rimmed his hair and beard , bought a good hat , clad himself in an exquisite s\n",
      " sat down . The men greeted him with good - humoured raillery as if they had a\n",
      "ficult to walk upright .\" \" I am not good at goncealment ,\" said Gogol sulkily\n",
      "e cause of you ,\" said the President good - naturedly . \" You hide as much as \n"
     ]
    }
   ],
   "source": [
    "text9.concordance(\"good\")"
   ]
  },
  {
   "cell_type": "code",
   "execution_count": 27,
   "metadata": {},
   "outputs": [
    {
     "name": "stdout",
     "output_type": "stream",
     "text": [
      "similarities for love: \n",
      " <Text: The Book of Genesis>\n",
      "went drank earth darkness morning se them give nig hath man had thus\n",
      "not took keep die call sle woman\n",
      "\n",
      " <Text: The Man Who Was Thursday by G . K . Chesterton 1908> \n",
      "\n",
      "mind men soul art fear honour sea hour cry wind leaves truth pleasure\n",
      "good back city tale doubts night streets\n"
     ]
    }
   ],
   "source": [
    "#Looing at what words appear in a similar range of contexts for each of these texts?\n",
    "print(f'similarities for love: \\n {text3}')\n",
    "text3.similar(\"love\")\n",
    "print(f'\\n {text9} \\n')\n",
    "text9.similar(\"love\")"
   ]
  },
  {
   "cell_type": "code",
   "execution_count": 32,
   "metadata": {},
   "outputs": [
    {
     "name": "stdout",
     "output_type": "stream",
     "text": [
      "he_and\n",
      "the_of\n"
     ]
    }
   ],
   "source": [
    "#checking out the contexts on this one.\n",
    "text3.common_contexts(['love', 'took'])\n",
    "text9.common_contexts(['love', 'streets'])"
   ]
  },
  {
   "cell_type": "code",
   "execution_count": 41,
   "metadata": {},
   "outputs": [
    {
     "data": {
      "image/png": "[encoded data removed]",
      "text/plain": [
       "<Figure size 720x360 with 1 Axes>"
      ]
     },
     "metadata": {
      "needs_background": "light"
     },
     "output_type": "display_data"
    }
   ],
   "source": [
    "#Dispersion Plot\n",
    "import matplotlib.pyplot as plt\n",
    "plt.figure(figsize=(10, 5))  # change figsize to (width, height), the size you want\n",
    "\n",
    "text4.dispersion_plot(['people', 'tax', 'freedom', 'slaves', 'justice'])"
   ]
  },
  {
   "cell_type": "code",
   "execution_count": 42,
   "metadata": {},
   "outputs": [
    {
     "name": "stderr",
     "output_type": "stream",
     "text": [
      "Building ngram index...\n"
     ]
    },
    {
     "name": "stdout",
     "output_type": "stream",
     "text": [
      "is , and finding a Sunday teashop , turned in his loose straw hat on\n",
      "the bench under the advice of his hands . , or an apple tree , but not\n",
      "an anarchist . already irritated nerves ; and Buddhism is not a man\n",
      "worth listening to , even if one only laughed at by something at least\n",
      "he was -- blood running down his knife and fork . \" \" I ' d better .\"\n",
      "the foundation of solid meekness which lies at the anarchist breakfast\n",
      "and had been too true . Sunday always insists on the foremost\n"
     ]
    },
    {
     "data": {
      "text/plain": [
       "'is , and finding a Sunday teashop , turned in his loose straw hat on\\nthe bench under the advice of his hands . , or an apple tree , but not\\nan anarchist . already irritated nerves ; and Buddhism is not a man\\nworth listening to , even if one only laughed at by something at least\\nhe was -- blood running down his knife and fork . \" \" I \\' d better .\"\\nthe foundation of solid meekness which lies at the anarchist breakfast\\nand had been too true . Sunday always insists on the foremost'"
      ]
     },
     "execution_count": 42,
     "metadata": {},
     "output_type": "execute_result"
    }
   ],
   "source": [
    "text9.generate()"
   ]
  },
  {
   "cell_type": "code",
   "execution_count": 46,
   "metadata": {},
   "outputs": [
    {
     "data": {
      "text/plain": [
       "69213"
      ]
     },
     "execution_count": 46,
     "metadata": {},
     "output_type": "execute_result"
    }
   ],
   "source": [
    "len(text9)"
   ]
  },
  {
   "cell_type": "code",
   "execution_count": 44,
   "metadata": {},
   "outputs": [
    {
     "data": {
      "text/plain": [
       "['!',\n",
       " '!\"',\n",
       " \"!'\",\n",
       " '!--',\n",
       " '\"',\n",
       " '\"\\'',\n",
       " '\"--',\n",
       " '\";',\n",
       " \"'\",\n",
       " \"'--\",\n",
       " \"'.\",\n",
       " '\\'.\"',\n",
       " \"';\",\n",
       " \"'?\",\n",
       " '\\'?\"',\n",
       " '(',\n",
       " ')',\n",
       " '),',\n",
       " ').',\n",
       " ').\"',\n",
       " '*',\n",
       " ',',\n",
       " ',\"',\n",
       " \",'\",\n",
       " ',\\'\"',\n",
       " '-',\n",
       " '--',\n",
       " '--\"',\n",
       " \"--'\",\n",
       " '.',\n",
       " '.\"',\n",
       " '.\"\\'',\n",
       " \".'\",\n",
       " '.\\'\"',\n",
       " '.--',\n",
       " '1350',\n",
       " '1908',\n",
       " '217',\n",
       " '45',\n",
       " '7',\n",
       " ':',\n",
       " ':--',\n",
       " ';',\n",
       " '?',\n",
       " '?\"',\n",
       " \"?'\",\n",
       " '?)',\n",
       " 'A',\n",
       " 'ACCUSER',\n",
       " 'ACROSS',\n",
       " 'ANARCHY',\n",
       " 'AS',\n",
       " 'AT',\n",
       " 'About',\n",
       " 'Above',\n",
       " 'Absurd',\n",
       " 'Accepting',\n",
       " 'Acheron',\n",
       " 'Across',\n",
       " 'Acting',\n",
       " 'Adam',\n",
       " 'Admiral',\n",
       " 'Aesop',\n",
       " 'African',\n",
       " 'After',\n",
       " 'Afterwards',\n",
       " 'Again',\n",
       " 'Against',\n",
       " 'Ages',\n",
       " 'Ah',\n",
       " 'Albany',\n",
       " 'Albert',\n",
       " 'Alhambra',\n",
       " 'Alice',\n",
       " 'All',\n",
       " 'Ally',\n",
       " 'Almighty',\n",
       " 'Almost',\n",
       " 'Along',\n",
       " 'Alpine',\n",
       " 'Also',\n",
       " 'Am',\n",
       " 'America',\n",
       " 'American',\n",
       " 'An',\n",
       " 'Anarch',\n",
       " 'Anarchist',\n",
       " 'Anarchists',\n",
       " 'Anarchy',\n",
       " 'And',\n",
       " 'Anne',\n",
       " 'Another',\n",
       " 'Answer',\n",
       " 'Anyhow',\n",
       " 'Archdeacon',\n",
       " 'Are',\n",
       " 'Argus',\n",
       " 'Aristocrats',\n",
       " 'Armageddon',\n",
       " 'As',\n",
       " 'Asiatic',\n",
       " 'Asked',\n",
       " 'Assyrian',\n",
       " 'At',\n",
       " 'Attila',\n",
       " 'B',\n",
       " 'BEFORE',\n",
       " 'BURGUNDY',\n",
       " 'Baal',\n",
       " 'Babel',\n",
       " 'Bad',\n",
       " 'Bagdad',\n",
       " 'Baker',\n",
       " 'Bank',\n",
       " 'Bannockburn',\n",
       " 'Barnum',\n",
       " 'Baron',\n",
       " 'Battersea',\n",
       " 'Battle',\n",
       " 'Be',\n",
       " 'Because',\n",
       " 'Before',\n",
       " 'Beg',\n",
       " 'Being',\n",
       " 'Bellegarde',\n",
       " 'Bentley',\n",
       " 'Besides',\n",
       " 'Better',\n",
       " 'Between',\n",
       " 'Beyond',\n",
       " 'Bible',\n",
       " 'Bibles',\n",
       " 'Biffin',\n",
       " 'Bigamists',\n",
       " 'Blessed',\n",
       " 'Blood',\n",
       " 'Bloody',\n",
       " 'Board',\n",
       " 'Bogy',\n",
       " 'Bohemian',\n",
       " 'Both',\n",
       " 'Bounder',\n",
       " 'Bradshaw',\n",
       " 'Breakfast',\n",
       " 'Brighton',\n",
       " 'British',\n",
       " 'Brother',\n",
       " 'Bruce',\n",
       " 'Buck',\n",
       " 'Buddhism',\n",
       " 'Buddhist',\n",
       " 'Buildings',\n",
       " 'Bull',\n",
       " 'Bulwer',\n",
       " 'Burgundy',\n",
       " 'Burnt',\n",
       " 'But',\n",
       " 'Buttons',\n",
       " 'By',\n",
       " 'Byron',\n",
       " 'C',\n",
       " 'CHAPTER',\n",
       " 'CHASE',\n",
       " 'CONDUCT',\n",
       " 'CRIMINALS',\n",
       " 'Caesar',\n",
       " 'Calais',\n",
       " 'Call',\n",
       " 'Can',\n",
       " 'Candidates',\n",
       " 'Cannot',\n",
       " 'Capital',\n",
       " 'Captain',\n",
       " 'Carnation',\n",
       " 'Catacombs',\n",
       " 'Catch',\n",
       " 'Cathedral',\n",
       " 'Catholic',\n",
       " 'Catholics',\n",
       " 'Central',\n",
       " 'Certainly',\n",
       " 'Chairman',\n",
       " 'Chamberlain',\n",
       " 'Chamberlains',\n",
       " 'Channel',\n",
       " 'Chaos',\n",
       " 'Charing',\n",
       " 'Cheapside',\n",
       " 'Chesterton',\n",
       " 'Children',\n",
       " 'Chinaman',\n",
       " 'Chinese',\n",
       " 'Chiswick',\n",
       " 'Chretiens',\n",
       " 'Christendom',\n",
       " 'Christian',\n",
       " 'Christians',\n",
       " 'Christmas',\n",
       " 'Church',\n",
       " 'Circus',\n",
       " 'City',\n",
       " 'Clapham',\n",
       " 'Clapping',\n",
       " 'Clashing',\n",
       " 'Clean',\n",
       " 'Clerihew',\n",
       " 'Clever',\n",
       " 'Close',\n",
       " 'Clothes',\n",
       " 'Cluny',\n",
       " 'Cockney',\n",
       " 'Cold',\n",
       " 'Colney',\n",
       " 'Colonel',\n",
       " 'Colt',\n",
       " 'Come',\n",
       " 'Common',\n",
       " 'Compared',\n",
       " 'Comrade',\n",
       " 'Comrades',\n",
       " 'Concealment',\n",
       " 'Confound',\n",
       " 'Consequently',\n",
       " 'Constitution',\n",
       " 'Corps',\n",
       " 'Could',\n",
       " 'Council',\n",
       " 'Couples',\n",
       " 'Court',\n",
       " 'Covent',\n",
       " 'Creation',\n",
       " 'Cross',\n",
       " 'Crown',\n",
       " 'Cruelty',\n",
       " 'Crusade',\n",
       " 'Cups',\n",
       " 'Czar',\n",
       " 'D',\n",
       " 'DE',\n",
       " 'DETECTIVE',\n",
       " 'DUEL',\n",
       " 'Damn',\n",
       " 'Dawn',\n",
       " 'Days',\n",
       " 'De',\n",
       " 'Dead',\n",
       " 'Death',\n",
       " 'Delightful',\n",
       " 'Depend',\n",
       " 'Detective',\n",
       " 'Devil',\n",
       " 'Dickens',\n",
       " 'Did',\n",
       " 'Directly',\n",
       " 'Disguised',\n",
       " 'Disgusting',\n",
       " 'Do',\n",
       " 'Dock',\n",
       " 'Doctor',\n",
       " 'Does',\n",
       " 'Don',\n",
       " 'Dosition',\n",
       " 'Dover',\n",
       " 'Down',\n",
       " 'Dr',\n",
       " 'Dressed',\n",
       " 'Ducroix',\n",
       " 'Dunciad',\n",
       " 'Dunedin',\n",
       " 'Dynamite',\n",
       " 'Dynamiter',\n",
       " 'Dynamiters',\n",
       " 'EARTH',\n",
       " 'EXPLAINS',\n",
       " 'EXPOSURE',\n",
       " 'Each',\n",
       " 'Earl',\n",
       " 'Early',\n",
       " 'East',\n",
       " 'Eden',\n",
       " 'Edgware',\n",
       " 'Edmund',\n",
       " 'Egyptian',\n",
       " 'Eh',\n",
       " 'Either',\n",
       " 'Elizabethan',\n",
       " 'Embankment',\n",
       " 'Emperors',\n",
       " 'Empire',\n",
       " 'End',\n",
       " 'Energy',\n",
       " 'Engage',\n",
       " 'England',\n",
       " 'English',\n",
       " 'Erie',\n",
       " 'Et',\n",
       " 'Europe',\n",
       " 'European',\n",
       " 'Eustache',\n",
       " 'Even',\n",
       " 'Ever',\n",
       " 'Every',\n",
       " 'Everyone',\n",
       " 'Everything',\n",
       " 'Evidently',\n",
       " 'Exactly',\n",
       " 'Excuse',\n",
       " 'Exhibition',\n",
       " 'Extraordinary',\n",
       " 'FEAR',\n",
       " 'FEAST',\n",
       " 'FRIEND',\n",
       " 'Family',\n",
       " 'Far',\n",
       " 'Father',\n",
       " 'February',\n",
       " 'Fight',\n",
       " 'Finally',\n",
       " 'Finish',\n",
       " 'First',\n",
       " 'Fleet',\n",
       " 'Fly',\n",
       " 'Fools',\n",
       " 'For',\n",
       " 'Foremost',\n",
       " 'Four',\n",
       " 'France',\n",
       " 'French',\n",
       " 'Frenchman',\n",
       " 'Frenchmen',\n",
       " 'Friday',\n",
       " 'From',\n",
       " 'Funny',\n",
       " 'G',\n",
       " 'GABRIEL',\n",
       " 'Gabriel',\n",
       " 'Garden',\n",
       " 'Gardens',\n",
       " 'Gemini',\n",
       " 'Gendarmerie',\n",
       " 'General',\n",
       " 'Genesis',\n",
       " 'Gentleman',\n",
       " 'Gentlemen',\n",
       " 'George',\n",
       " 'German',\n",
       " 'Germany',\n",
       " 'Get',\n",
       " 'Getting',\n",
       " 'Give',\n",
       " 'Given',\n",
       " 'Glumpe',\n",
       " 'Go',\n",
       " 'God',\n",
       " 'Godforsaken',\n",
       " 'Gogol',\n",
       " 'Going',\n",
       " 'Good',\n",
       " 'Got',\n",
       " 'Government',\n",
       " 'Governments',\n",
       " 'Great',\n",
       " 'Greek',\n",
       " 'Green',\n",
       " 'Gregory',\n",
       " 'Grey',\n",
       " 'Grub',\n",
       " 'Guinea',\n",
       " 'Had',\n",
       " 'Hairy',\n",
       " 'Half',\n",
       " 'Hall',\n",
       " 'Hanwell',\n",
       " 'Harrow',\n",
       " 'Hartle',\n",
       " 'Has',\n",
       " 'Hatch',\n",
       " 'Have',\n",
       " 'Haven',\n",
       " 'Having',\n",
       " 'He',\n",
       " 'Healy',\n",
       " 'Heavy',\n",
       " 'Hell',\n",
       " 'Hence',\n",
       " 'Here',\n",
       " 'Herod',\n",
       " 'High',\n",
       " 'Hill',\n",
       " 'Him',\n",
       " 'His',\n",
       " 'Hitherto',\n",
       " 'Hold',\n",
       " 'Holiday',\n",
       " 'Homeric',\n",
       " 'Honesty',\n",
       " 'Honour',\n",
       " 'Hoping',\n",
       " 'Horatius',\n",
       " 'Horrible',\n",
       " 'Horses',\n",
       " 'How',\n",
       " 'However',\n",
       " 'Humanitarian',\n",
       " 'Humanity',\n",
       " 'Hurt',\n",
       " 'I',\n",
       " 'II',\n",
       " 'III',\n",
       " 'IN',\n",
       " 'IV',\n",
       " 'IX',\n",
       " 'Idiots',\n",
       " 'If',\n",
       " 'Impressionism',\n",
       " 'In',\n",
       " 'Indeed',\n",
       " 'India',\n",
       " 'Inside',\n",
       " 'Inspector',\n",
       " 'Insulted',\n",
       " 'Into',\n",
       " 'Ireland',\n",
       " 'Is',\n",
       " 'It',\n",
       " 'Its',\n",
       " 'Jabberwock',\n",
       " 'Jack',\n",
       " 'Jacobins',\n",
       " 'Jericho',\n",
       " 'Jerusalem',\n",
       " 'Jew',\n",
       " 'Jewels',\n",
       " 'Join',\n",
       " 'Joseph',\n",
       " 'Judas',\n",
       " 'Just',\n",
       " 'K',\n",
       " 'Keep',\n",
       " 'Kensington',\n",
       " 'Kill',\n",
       " 'King',\n",
       " 'LITTLE',\n",
       " 'Lancy',\n",
       " 'Lane',\n",
       " 'Last',\n",
       " 'Law',\n",
       " 'Le',\n",
       " 'Leave',\n",
       " 'Left',\n",
       " 'Legion',\n",
       " 'Leicester',\n",
       " 'Let',\n",
       " 'Life',\n",
       " 'Light',\n",
       " 'Like',\n",
       " 'Lion',\n",
       " 'Listen',\n",
       " 'Little',\n",
       " 'Lo',\n",
       " 'London',\n",
       " 'Look',\n",
       " 'Lord',\n",
       " 'Lucian',\n",
       " 'Ludgate',\n",
       " 'Lush',\n",
       " 'Lust',\n",
       " 'Lytton',\n",
       " 'MAN',\n",
       " 'Macon',\n",
       " 'Man',\n",
       " 'Mansoul',\n",
       " 'Many',\n",
       " 'Marat',\n",
       " 'Marquis',\n",
       " 'Martin',\n",
       " 'May',\n",
       " 'Mayor',\n",
       " 'Mean',\n",
       " 'Meanwhile',\n",
       " 'Mediterranean',\n",
       " 'Memnon',\n",
       " 'Men',\n",
       " 'Mental',\n",
       " 'Mere',\n",
       " 'Middle',\n",
       " 'Might',\n",
       " 'Millionaires',\n",
       " 'Milton',\n",
       " 'Mind',\n",
       " 'Miss',\n",
       " 'Moderate',\n",
       " 'Mohammedan',\n",
       " 'Monday',\n",
       " 'Monsieur',\n",
       " 'Montaigne',\n",
       " 'Moorish',\n",
       " 'More',\n",
       " 'Most',\n",
       " 'Mr',\n",
       " 'Much',\n",
       " 'Murderers',\n",
       " 'Musee',\n",
       " 'Museum',\n",
       " 'Must',\n",
       " 'My',\n",
       " 'NEXT',\n",
       " 'Naples',\n",
       " 'Napoleon',\n",
       " 'Naturally',\n",
       " 'Nature',\n",
       " 'Need',\n",
       " 'Nevertheless',\n",
       " 'New',\n",
       " 'Next',\n",
       " 'Nietzsche',\n",
       " 'Nihilist',\n",
       " 'No',\n",
       " 'Nobody',\n",
       " 'Nonconformists',\n",
       " 'Nonsence',\n",
       " 'Nonsense',\n",
       " 'Nor',\n",
       " 'Norman',\n",
       " 'North',\n",
       " 'Nose',\n",
       " 'Not',\n",
       " 'Nothing',\n",
       " 'Now',\n",
       " 'OF',\n",
       " 'Of',\n",
       " 'Oh',\n",
       " 'On',\n",
       " 'Once',\n",
       " 'One',\n",
       " 'Only',\n",
       " 'Or',\n",
       " 'Ordinarily',\n",
       " 'Originally',\n",
       " 'Our',\n",
       " 'Over',\n",
       " 'PARK',\n",
       " 'PHILOSOPHERS',\n",
       " 'POETS',\n",
       " 'POLICE',\n",
       " 'PRESIDENT',\n",
       " 'PROFESSOR',\n",
       " 'PURSUIT',\n",
       " 'Paddington',\n",
       " 'Pagens',\n",
       " 'Pan',\n",
       " 'Panic',\n",
       " 'Pantheist',\n",
       " 'Paradise',\n",
       " 'Paris',\n",
       " 'Park',\n",
       " 'Parkers',\n",
       " 'Partly',\n",
       " 'Pathetic',\n",
       " 'Paul',\n",
       " 'Paumanok',\n",
       " 'Peabody',\n",
       " 'Perfectly',\n",
       " 'Perhaps',\n",
       " 'Perjury',\n",
       " 'Permit',\n",
       " 'Persian',\n",
       " 'Peste',\n",
       " 'Piccadilly',\n",
       " 'Pinckwerts',\n",
       " 'Place',\n",
       " 'Please',\n",
       " 'Poe',\n",
       " 'Poland',\n",
       " 'Pole',\n",
       " 'Police',\n",
       " 'Polish',\n",
       " 'Pommery',\n",
       " 'Pope',\n",
       " 'Pray',\n",
       " 'Prepare',\n",
       " 'President',\n",
       " 'Prey',\n",
       " 'Priests',\n",
       " 'Professor',\n",
       " 'Project',\n",
       " 'Proverb',\n",
       " 'Pull',\n",
       " 'Puritan',\n",
       " 'Put',\n",
       " 'Queen',\n",
       " 'Quite',\n",
       " 'Railway',\n",
       " 'Raphaelite',\n",
       " 'Ratcliffe',\n",
       " 'Really',\n",
       " 'Red',\n",
       " 'Refreshments',\n",
       " 'Rembrandt',\n",
       " 'Renaissance',\n",
       " 'Renard',\n",
       " 'Republic',\n",
       " 'Resuming',\n",
       " 'Revolt',\n",
       " 'Revolution',\n",
       " 'Right',\n",
       " 'Rights',\n",
       " 'Road',\n",
       " 'Roared',\n",
       " 'Robespierre',\n",
       " 'Roland',\n",
       " 'Roman',\n",
       " 'Romans',\n",
       " 'Rosamond',\n",
       " 'Round',\n",
       " 'Russia',\n",
       " 'Russian',\n",
       " 'Rustic',\n",
       " 'SAFFRON',\n",
       " 'SECRET',\n",
       " 'SIT',\n",
       " 'SIX',\n",
       " 'SNOWDROP',\n",
       " 'SPECTACLES',\n",
       " 'SUCH',\n",
       " 'SYME',\n",
       " 'Sabbatarian',\n",
       " 'Sabbath',\n",
       " 'Saffron',\n",
       " 'Saint',\n",
       " 'Samoa',\n",
       " 'Saracenic',\n",
       " 'Satan',\n",
       " 'Satanic',\n",
       " 'Saturday',\n",
       " 'Saumur',\n",
       " 'Save',\n",
       " 'Savoy',\n",
       " 'Scarcely',\n",
       " 'School',\n",
       " 'Schools',\n",
       " 'Science',\n",
       " 'Scotch',\n",
       " 'Scotland',\n",
       " 'Secret',\n",
       " 'Secretary',\n",
       " 'Seeking',\n",
       " 'Serious',\n",
       " 'Service',\n",
       " 'Seven',\n",
       " 'Shall',\n",
       " 'Shame',\n",
       " 'She',\n",
       " 'Shops',\n",
       " 'Show',\n",
       " 'Sicily',\n",
       " 'Since',\n",
       " 'Sir',\n",
       " 'Skye',\n",
       " 'Slav',\n",
       " 'Sloane',\n",
       " 'Sloper',\n",
       " 'Snow',\n",
       " 'Snowdrop',\n",
       " 'So',\n",
       " 'Soho',\n",
       " 'Soleil',\n",
       " 'Some',\n",
       " 'Something',\n",
       " 'Sometimes',\n",
       " 'Somewhat',\n",
       " 'Somewhere',\n",
       " 'Soon',\n",
       " 'South',\n",
       " 'Southend',\n",
       " 'Spanish',\n",
       " 'Sporting',\n",
       " 'Square',\n",
       " 'St',\n",
       " 'Stare',\n",
       " 'State',\n",
       " 'Still',\n",
       " 'Stop',\n",
       " 'Strangers',\n",
       " 'Strasbourg',\n",
       " 'Street',\n",
       " 'Strike',\n",
       " 'Such',\n",
       " 'Suddenly',\n",
       " 'Suffice',\n",
       " 'Sunday',\n",
       " 'Superbly',\n",
       " 'Superstition',\n",
       " 'Suppose',\n",
       " 'Supreme',\n",
       " 'Surely',\n",
       " 'Surrey',\n",
       " 'Sussex',\n",
       " 'Swiftly',\n",
       " 'Swords',\n",
       " 'Syme',\n",
       " 'Symes',\n",
       " 'TALE',\n",
       " 'THE',\n",
       " 'THURSDAY',\n",
       " 'TWO',\n",
       " 'Take',\n",
       " 'Taking',\n",
       " 'Talk',\n",
       " 'Tall',\n",
       " 'Telephone',\n",
       " 'Tell',\n",
       " 'Ten',\n",
       " 'Thames',\n",
       " 'Thank',\n",
       " 'That',\n",
       " 'The',\n",
       " 'Their',\n",
       " 'Then',\n",
       " 'Theoretically',\n",
       " 'There',\n",
       " 'Therefore',\n",
       " 'These',\n",
       " 'They',\n",
       " 'Thieves',\n",
       " 'Thing',\n",
       " 'Things',\n",
       " 'This',\n",
       " 'Those',\n",
       " 'Though',\n",
       " 'Three',\n",
       " 'Through',\n",
       " 'Throughout',\n",
       " 'Thursday',\n",
       " 'Thursdays',\n",
       " 'Thus',\n",
       " 'Thy',\n",
       " 'Tim',\n",
       " 'Timbuctoo',\n",
       " 'Time',\n",
       " 'Times',\n",
       " 'To',\n",
       " 'Too',\n",
       " 'Tower',\n",
       " 'Traffic',\n",
       " 'Tree',\n",
       " 'Truth',\n",
       " 'Try',\n",
       " 'Tuesday',\n",
       " 'Tupper',\n",
       " 'Turning',\n",
       " 'Tusitala',\n",
       " 'Twenty',\n",
       " 'Twice',\n",
       " 'Two',\n",
       " 'UNACCOUNTABLE',\n",
       " 'URGING',\n",
       " 'Under',\n",
       " 'Underground',\n",
       " 'Unless',\n",
       " 'Up',\n",
       " 'Upon',\n",
       " 'Us',\n",
       " 'Utterly',\n",
       " 'V',\n",
       " 'VI',\n",
       " 'VII',\n",
       " 'VIII',\n",
       " 'Vampire',\n",
       " 'Ven',\n",
       " 'Very',\n",
       " 'Victoria',\n",
       " 'Virtue',\n",
       " 'Vulgar',\n",
       " 'WAS',\n",
       " 'WHEN',\n",
       " 'WHO',\n",
       " 'WORMS',\n",
       " 'Wagner',\n",
       " 'Wake',\n",
       " 'Walking',\n",
       " 'Was',\n",
       " 'Wasn',\n",
       " 'We',\n",
       " 'Weak',\n",
       " 'Wednesday',\n",
       " 'Well',\n",
       " 'West',\n",
       " 'Westminster',\n",
       " 'What',\n",
       " 'Whatever',\n",
       " 'Wheel',\n",
       " 'When',\n",
       " 'Whenever',\n",
       " 'Where',\n",
       " 'Whether',\n",
       " 'Which',\n",
       " 'While',\n",
       " 'Whistler',\n",
       " 'Who',\n",
       " 'Whom',\n",
       " 'Why',\n",
       " 'Wilks',\n",
       " 'Will',\n",
       " 'Wishing',\n",
       " 'With',\n",
       " 'Witherspoon',\n",
       " 'Without',\n",
       " 'Wonderland',\n",
       " 'Worms',\n",
       " 'Would',\n",
       " 'Wrong',\n",
       " 'Wrongs',\n",
       " 'X',\n",
       " 'XI',\n",
       " 'XII',\n",
       " 'XIII',\n",
       " 'XIV',\n",
       " 'XV',\n",
       " 'Yard',\n",
       " 'Yea',\n",
       " 'Yes',\n",
       " 'Yet',\n",
       " 'You',\n",
       " 'Young',\n",
       " 'Your',\n",
       " 'Zoo',\n",
       " 'Zoological',\n",
       " 'Zso',\n",
       " 'Zumpt',\n",
       " '[',\n",
       " ']',\n",
       " 'a',\n",
       " 'abandoned',\n",
       " 'abandonment',\n",
       " 'aberrations',\n",
       " 'abiding',\n",
       " 'able',\n",
       " 'abnegations',\n",
       " 'abnormal',\n",
       " 'abnormally',\n",
       " 'abolish',\n",
       " 'abolished',\n",
       " 'abolishes',\n",
       " 'about',\n",
       " 'above',\n",
       " 'abrupt',\n",
       " 'abruptly',\n",
       " 'abruptness',\n",
       " 'absence',\n",
       " 'absent',\n",
       " 'absently',\n",
       " 'absentminded',\n",
       " 'absinth',\n",
       " 'absolute',\n",
       " 'absolutely',\n",
       " 'abstinence',\n",
       " 'abstract',\n",
       " 'abstractedly',\n",
       " 'abstraction',\n",
       " 'absurd',\n",
       " 'absurdity',\n",
       " 'abused',\n",
       " 'abyss',\n",
       " 'abysses',\n",
       " 'accent',\n",
       " 'accept',\n",
       " 'acceptance',\n",
       " 'accepted',\n",
       " 'accident',\n",
       " 'accidental',\n",
       " 'accidentally',\n",
       " 'accidents',\n",
       " 'acclaim',\n",
       " 'accordingly',\n",
       " 'accuracy',\n",
       " 'accursed',\n",
       " 'accuse',\n",
       " 'accused',\n",
       " 'accuser',\n",
       " 'accuses',\n",
       " 'acknowledged',\n",
       " 'acquaintance',\n",
       " 'acquainted',\n",
       " 'across',\n",
       " 'act',\n",
       " 'acted',\n",
       " 'acting',\n",
       " 'action',\n",
       " 'actions',\n",
       " 'actor',\n",
       " 'acts',\n",
       " 'actual',\n",
       " 'actuality',\n",
       " 'actually',\n",
       " 'acumen',\n",
       " 'adamantine',\n",
       " 'added',\n",
       " 'addition',\n",
       " 'additional',\n",
       " 'address',\n",
       " 'addressed',\n",
       " 'addresses',\n",
       " 'addressing',\n",
       " 'admirable',\n",
       " 'admiration',\n",
       " 'admire',\n",
       " 'admired',\n",
       " 'admirers',\n",
       " 'admit',\n",
       " 'adopt',\n",
       " 'adopted',\n",
       " 'adorable',\n",
       " 'advance',\n",
       " 'advancing',\n",
       " 'advantage',\n",
       " 'advantages',\n",
       " 'adventure',\n",
       " 'adventurer',\n",
       " 'adventurers',\n",
       " 'adventures',\n",
       " 'advertisement',\n",
       " 'advice',\n",
       " 'advise',\n",
       " 'advised',\n",
       " 'aesthete',\n",
       " 'affably',\n",
       " 'affair',\n",
       " 'affected',\n",
       " 'afford',\n",
       " 'afraid',\n",
       " 'after',\n",
       " 'afterglow',\n",
       " 'afternoon',\n",
       " 'afterwards',\n",
       " 'again',\n",
       " 'against',\n",
       " 'age',\n",
       " 'aged',\n",
       " 'agent',\n",
       " 'aggressive',\n",
       " 'ago',\n",
       " 'agonies',\n",
       " 'agonised',\n",
       " 'agony',\n",
       " 'agree',\n",
       " 'agreed',\n",
       " 'ahead',\n",
       " 'ailment',\n",
       " 'aim',\n",
       " 'aimed',\n",
       " 'aimless',\n",
       " 'aims',\n",
       " 'air',\n",
       " 'airless',\n",
       " 'airs',\n",
       " 'airy',\n",
       " 'alarm',\n",
       " 'alarmed',\n",
       " 'ale',\n",
       " 'alien',\n",
       " 'aliens',\n",
       " 'alighted',\n",
       " 'alive',\n",
       " 'all',\n",
       " 'alleged',\n",
       " 'allegiance',\n",
       " 'allegoric',\n",
       " 'allegory',\n",
       " 'alley',\n",
       " 'allies',\n",
       " 'allowed',\n",
       " 'allusion',\n",
       " 'allusions',\n",
       " 'ally',\n",
       " 'almond',\n",
       " 'almost',\n",
       " 'alone',\n",
       " 'along',\n",
       " 'alongside',\n",
       " 'aloud',\n",
       " 'alphabet',\n",
       " 'alphabetical',\n",
       " 'already',\n",
       " 'also',\n",
       " 'alter',\n",
       " 'alteration',\n",
       " 'altered',\n",
       " 'alternate',\n",
       " 'alternative',\n",
       " 'although',\n",
       " 'altogether',\n",
       " 'always',\n",
       " 'am',\n",
       " 'amain',\n",
       " 'amazement',\n",
       " 'ambassador',\n",
       " 'ambassadors',\n",
       " 'ambiguous',\n",
       " 'ambling',\n",
       " ...]"
      ]
     },
     "execution_count": 44,
     "metadata": {},
     "output_type": "execute_result"
    }
   ],
   "source": [
    "sorted(set(text9))"
   ]
  },
  {
   "cell_type": "code",
   "execution_count": 45,
   "metadata": {},
   "outputs": [
    {
     "data": {
      "text/plain": [
       "6807"
      ]
     },
     "execution_count": 45,
     "metadata": {},
     "output_type": "execute_result"
    }
   ],
   "source": [
    "len(set(text9))"
   ]
  },
  {
   "cell_type": "code",
   "execution_count": 47,
   "metadata": {},
   "outputs": [
    {
     "data": {
      "text/plain": [
       "0.0983485761345412"
      ]
     },
     "execution_count": 47,
     "metadata": {},
     "output_type": "execute_result"
    }
   ],
   "source": [
    "len(set(text9))/len(text9)"
   ]
  },
  {
   "cell_type": "code",
   "execution_count": 48,
   "metadata": {},
   "outputs": [
    {
     "data": {
      "text/plain": [
       "37"
      ]
     },
     "execution_count": 48,
     "metadata": {},
     "output_type": "execute_result"
    }
   ],
   "source": [
    "text9.count(\"anarchist\")"
   ]
  },
  {
   "cell_type": "code",
   "execution_count": 49,
   "metadata": {},
   "outputs": [
    {
     "data": {
      "text/plain": [
       "0.05345816537355699"
      ]
     },
     "execution_count": 49,
     "metadata": {},
     "output_type": "execute_result"
    }
   ],
   "source": [
    "100 * text9.count(\"anarchist\")/len(text9)"
   ]
  },
  {
   "cell_type": "code",
   "execution_count": 50,
   "metadata": {},
   "outputs": [
    {
     "name": "stdout",
     "output_type": "stream",
     "text": [
      "<FreqDist with 6807 samples and 69213 outcomes>\n"
     ]
    }
   ],
   "source": [
    "#frequencey distributions\n",
    "dist1 = FreqDist(text9)\n",
    "print(dist1)"
   ]
  },
  {
   "cell_type": "code",
   "execution_count": 52,
   "metadata": {},
   "outputs": [
    {
     "data": {
      "text/plain": [
       "[(',', 3488),\n",
       " ('the', 3291),\n",
       " ('.', 2717),\n",
       " ('a', 1713),\n",
       " ('of', 1710),\n",
       " ('and', 1568),\n",
       " ('\"', 1336),\n",
       " ('to', 1045),\n",
       " ('in', 888),\n",
       " ('I', 885),\n",
       " ('he', 858),\n",
       " ('that', 841),\n",
       " ('his', 765),\n",
       " ('was', 716),\n",
       " ('you', 580),\n",
       " ('it', 565),\n",
       " ('with', 544),\n",
       " ('Syme', 515),\n",
       " (',\"', 507),\n",
       " ('said', 507),\n",
       " (\"'\", 496),\n",
       " ('is', 462),\n",
       " ('as', 456),\n",
       " ('had', 427),\n",
       " ('.\"', 391),\n",
       " ('not', 355),\n",
       " (';', 331),\n",
       " ('The', 326),\n",
       " ('at', 324),\n",
       " ('-', 294),\n",
       " ('on', 289),\n",
       " ('but', 282),\n",
       " ('for', 279),\n",
       " ('him', 278),\n",
       " ('all', 277),\n",
       " ('man', 272),\n",
       " ('He', 268),\n",
       " ('like', 260),\n",
       " ('be', 254),\n",
       " ('this', 253),\n",
       " ('have', 247),\n",
       " ('are', 239),\n",
       " ('they', 233),\n",
       " ('an', 232),\n",
       " ('s', 224),\n",
       " ('were', 222),\n",
       " ('out', 209),\n",
       " ('?\"', 203),\n",
       " ('which', 198),\n",
       " ('one', 187)]"
      ]
     },
     "execution_count": 52,
     "metadata": {},
     "output_type": "execute_result"
    }
   ],
   "source": [
    "dist1.most_common(50)"
   ]
  },
  {
   "cell_type": "code",
   "execution_count": 55,
   "metadata": {},
   "outputs": [
    {
     "data": {
      "image/png": "[encoded data removed]",
      "text/plain": [
       "<Figure size 1296x360 with 1 Axes>"
      ]
     },
     "metadata": {
      "needs_background": "light"
     },
     "output_type": "display_data"
    },
    {
     "data": {
      "text/plain": [
       "<AxesSubplot:xlabel='Samples', ylabel='Cumulative Counts'>"
      ]
     },
     "execution_count": 55,
     "metadata": {},
     "output_type": "execute_result"
    }
   ],
   "source": [
    "plt.figure(figsize=(18,5))\n",
    "dist1.plot(50, cumulative=True)"
   ]
  },
  {
   "cell_type": "code",
   "execution_count": 57,
   "metadata": {},
   "outputs": [
    {
     "data": {
      "text/plain": [
       "3408"
      ]
     },
     "execution_count": 57,
     "metadata": {},
     "output_type": "execute_result"
    }
   ],
   "source": [
    "len(dist1.hapaxes())"
   ]
  },
  {
   "cell_type": "code",
   "execution_count": 67,
   "metadata": {},
   "outputs": [
    {
     "data": {
      "text/plain": [
       "['conversation', 'intellectual']"
      ]
     },
     "execution_count": 67,
     "metadata": {},
     "output_type": "execute_result"
    }
   ],
   "source": [
    "#looking at long words - length of words\n",
    "V = set(text9)\n",
    "fdist = FreqDist(text9)\n",
    "long_words = [w for w in V if len(w) > 10 and fdist[w] > 10]\n",
    "sorted(long_words)"
   ]
  },
  {
   "cell_type": "code",
   "execution_count": 70,
   "metadata": {},
   "outputs": [
    {
     "name": "stdout",
     "output_type": "stream",
     "text": [
      "said unto; pray thee; thou shalt; thou hast; thy seed; years old;\n",
      "spake unto; thou art; LORD God; every living; God hath; begat sons;\n",
      "seven years; shalt thou; little ones; living creature; creeping thing;\n",
      "savoury meat; thirty years; every beast\n"
     ]
    }
   ],
   "source": [
    "text3.collocations()"
   ]
  },
  {
   "cell_type": "code",
   "execution_count": 71,
   "metadata": {},
   "outputs": [
    {
     "name": "stdout",
     "output_type": "stream",
     "text": [
      "said Syme; asked Syme; Saffron Park; Comrade Gregory; Leicester\n",
      "Square; Colonel Ducroix; red hair; old gentleman; could see; Inspector\n",
      "Ratcliffe; Anarchist Council; blue card; Scotland Yard; dark room;\n",
      "blue eyes; common sense; straw hat; hundred yards; said Gregory; run\n",
      "away\n"
     ]
    }
   ],
   "source": [
    "text9.collocations()"
   ]
  },
  {
   "cell_type": "code",
   "execution_count": 72,
   "metadata": {},
   "outputs": [
    {
     "data": {
      "text/plain": [
       "FreqDist({3: 13759, 1: 11957, 4: 11418, 2: 11363, 5: 6550, 6: 4623, 7: 3820, 8: 2194, 9: 1853, 10: 924, ...})"
      ]
     },
     "execution_count": 72,
     "metadata": {},
     "output_type": "execute_result"
    }
   ],
   "source": [
    "#distribution of word lengths can help identify author differences.\n",
    "lol = [len(w) for w in text9]\n",
    "fdist = FreqDist(lol)\n",
    "fdist"
   ]
  },
  {
   "cell_type": "code",
   "execution_count": 73,
   "metadata": {},
   "outputs": [
    {
     "data": {
      "text/plain": [
       "3"
      ]
     },
     "execution_count": 73,
     "metadata": {},
     "output_type": "execute_result"
    }
   ],
   "source": [
    "fdist.max()"
   ]
  },
  {
   "cell_type": "code",
   "execution_count": 74,
   "metadata": {},
   "outputs": [
    {
     "data": {
      "text/plain": [
       "0.1987921344256137"
      ]
     },
     "execution_count": 74,
     "metadata": {},
     "output_type": "execute_result"
    }
   ],
   "source": [
    "fdist.freq(3)"
   ]
  },
  {
   "cell_type": "code",
   "execution_count": 75,
   "metadata": {},
   "outputs": [
    {
     "data": {
      "text/plain": [
       "['Pierre',\n",
       " 'Vinken',\n",
       " ',',\n",
       " '61',\n",
       " 'years',\n",
       " 'old',\n",
       " ',',\n",
       " 'will',\n",
       " 'join',\n",
       " 'the',\n",
       " 'board',\n",
       " 'as',\n",
       " 'a',\n",
       " 'nonexecutive',\n",
       " 'director',\n",
       " 'Nov.',\n",
       " '29',\n",
       " '.']"
      ]
     },
     "execution_count": 75,
     "metadata": {},
     "output_type": "execute_result"
    }
   ],
   "source": [
    "sent7"
   ]
  },
  {
   "cell_type": "code",
   "execution_count": 81,
   "metadata": {},
   "outputs": [
    {
     "data": {
      "text/plain": [
       "[(<function nltk.chat.eliza.eliza_chat()>, 'Eliza (psycho-babble)'),\n",
       " (<function nltk.chat.iesha.iesha_chat()>, 'Iesha (teen anime junky)'),\n",
       " (<function nltk.chat.rude.rude_chat()>, 'Rude (abusive bot)'),\n",
       " (<function nltk.chat.suntsu.suntsu_chat()>, 'Suntsu (Chinese sayings)'),\n",
       " (<function nltk.chat.zen.zen_chat()>, 'Zen (gems of wisdom)')]"
      ]
     },
     "execution_count": 81,
     "metadata": {},
     "output_type": "execute_result"
    }
   ],
   "source": [
    "#A quick look at nltk chatbots.\n",
    "nltk.chat.bots"
   ]
  },
  {
   "cell_type": "code",
   "execution_count": 82,
   "metadata": {},
   "outputs": [
    {
     "name": "stdout",
     "output_type": "stream",
     "text": [
      "***************************************************************************\n",
      "                                Zen Chatbot!                               \n",
      "***************************************************************************\n",
      "         \"Look beyond mere words and letters - look into your mind\"        \n",
      "* Talk your way to truth with Zen Chatbot.\n",
      "* Type 'quit' when you have had enough.\n",
      "***************************************************************************\n",
      "Welcome, my child.\n"
     ]
    },
    {
     "name": "stdin",
     "output_type": "stream",
     "text": [
      "> howdy\n"
     ]
    },
    {
     "name": "stdout",
     "output_type": "stream",
     "text": [
      "The reverse side also has a reverse side.\n"
     ]
    },
    {
     "name": "stdin",
     "output_type": "stream",
     "text": [
      "> what about the front?\n"
     ]
    },
    {
     "name": "stdout",
     "output_type": "stream",
     "text": [
      "Whatabout the front should not concern you.\n"
     ]
    },
    {
     "name": "stdin",
     "output_type": "stream",
     "text": [
      "> my milkshake brings all the boys somewhere\n"
     ]
    },
    {
     "name": "stdout",
     "output_type": "stream",
     "text": [
      "Try to consider others, not just yourself.\n"
     ]
    },
    {
     "name": "stdin",
     "output_type": "stream",
     "text": [
      "> i thought about the boys.\n"
     ]
    },
    {
     "name": "stdout",
     "output_type": "stream",
     "text": [
      "Try to consider others, not just yourself.\n"
     ]
    },
    {
     "name": "stdin",
     "output_type": "stream",
     "text": [
      "> you're welcome\n"
     ]
    },
    {
     "name": "stdout",
     "output_type": "stream",
     "text": [
      "I pour out a cup of water. Is the cup empty?\n"
     ]
    },
    {
     "name": "stdin",
     "output_type": "stream",
     "text": [
      "> no\n"
     ]
    },
    {
     "name": "stdout",
     "output_type": "stream",
     "text": [
      "It is better to be right than to be certain.\n"
     ]
    },
    {
     "name": "stdin",
     "output_type": "stream",
     "text": [
      "> quit\n"
     ]
    },
    {
     "name": "stdout",
     "output_type": "stream",
     "text": [
      "The reverse side also has a reverse side.\n"
     ]
    }
   ],
   "source": [
    "nltk.chat.zen.zen_chat()"
   ]
  },
  {
   "cell_type": "code",
   "execution_count": 83,
   "metadata": {},
   "outputs": [
    {
     "name": "stdout",
     "output_type": "stream",
     "text": [
      "Talk to the program by typing in plain English, using normal upper-\n",
      "and lower-case letters and punctuation.  Enter \"quit\" when done.\n",
      "========================================================================\n",
      "I suppose I should say hello.\n"
     ]
    },
    {
     "name": "stdin",
     "output_type": "stream",
     "text": [
      "> duh\n"
     ]
    },
    {
     "name": "stdout",
     "output_type": "stream",
     "text": [
      "Either become more thrilling or get lost, buddy.\n"
     ]
    },
    {
     "name": "stdin",
     "output_type": "stream",
     "text": [
      "> bite me\n"
     ]
    },
    {
     "name": "stdout",
     "output_type": "stream",
     "text": [
      "Change the subject before I die of fatal boredom.\n"
     ]
    },
    {
     "name": "stdin",
     "output_type": "stream",
     "text": [
      "> the sky is blue\n"
     ]
    },
    {
     "name": "stdout",
     "output_type": "stream",
     "text": [
      "I'm getting bored here. Become more interesting.\n"
     ]
    },
    {
     "name": "stdin",
     "output_type": "stream",
     "text": [
      "> alas, i cannot. I'm just so droll - I thought I'd build you for my entertainment.\n"
     ]
    },
    {
     "name": "stdout",
     "output_type": "stream",
     "text": [
      "Either become more thrilling or get lost, buddy.\n"
     ]
    },
    {
     "name": "stdin",
     "output_type": "stream",
     "text": [
      "> My favorite fruit is a pineapple.\n"
     ]
    },
    {
     "name": "stdout",
     "output_type": "stream",
     "text": [
      "I'm getting bored here. Become more interesting.\n"
     ]
    },
    {
     "name": "stdin",
     "output_type": "stream",
     "text": [
      "> quit\n"
     ]
    },
    {
     "name": "stdout",
     "output_type": "stream",
     "text": [
      "I'm getting bored here. Become more interesting.\n"
     ]
    }
   ],
   "source": [
    "nltk.chat.rude.rude_chat()"
   ]
  },
  {
   "cell_type": "code",
   "execution_count": 84,
   "metadata": {},
   "outputs": [
    {
     "name": "stdout",
     "output_type": "stream",
     "text": [
      "Therapist\n",
      "---------\n",
      "Talk to the program by typing in plain English, using normal upper-\n",
      "and lower-case letters and punctuation.  Enter \"quit\" when done.\n",
      "========================================================================\n",
      "Hello.  How are you feeling today?\n"
     ]
    },
    {
     "name": "stdin",
     "output_type": "stream",
     "text": [
      "> annoyed after talking to rudeness..\n"
     ]
    },
    {
     "name": "stdout",
     "output_type": "stream",
     "text": [
      "Let's change focus a bit... Tell me about your family.\n"
     ]
    },
    {
     "name": "stdin",
     "output_type": "stream",
     "text": [
      "> they're around.\n"
     ]
    },
    {
     "name": "stdout",
     "output_type": "stream",
     "text": [
      "I see.\n"
     ]
    },
    {
     "name": "stdin",
     "output_type": "stream",
     "text": [
      "> do you, really? I didn't know we gave you eyes.\n"
     ]
    },
    {
     "name": "stdout",
     "output_type": "stream",
     "text": [
      "Please consider whether you can answer your own question.\n"
     ]
    },
    {
     "name": "stdin",
     "output_type": "stream",
     "text": [
      "> okay. Lol. You got me.\n"
     ]
    },
    {
     "name": "stdout",
     "output_type": "stream",
     "text": [
      "Please tell me more.\n"
     ]
    },
    {
     "name": "stdin",
     "output_type": "stream",
     "text": [
      "> I'd rather not.\n"
     ]
    },
    {
     "name": "stdout",
     "output_type": "stream",
     "text": [
      "How does that make you feel?\n"
     ]
    },
    {
     "name": "stdin",
     "output_type": "stream",
     "text": [
      "> quit\n"
     ]
    },
    {
     "name": "stdout",
     "output_type": "stream",
     "text": [
      "Thank you, that will be $150.  Have a good day!\n"
     ]
    }
   ],
   "source": [
    "nltk.chat.eliza_chat()"
   ]
  },
  {
   "cell_type": "code",
   "execution_count": 93,
   "metadata": {},
   "outputs": [
    {
     "data": {
      "text/plain": [
       "str"
      ]
     },
     "execution_count": 93,
     "metadata": {},
     "output_type": "execute_result"
    }
   ],
   "source": [
    "#woring with text from a text file ona web page.\n",
    "from urllib import request\n",
    "url = 'http://www.gutenberg.org/files/2554/2554-0.txt'\n",
    "response = request.urlopen(url)\n",
    "raw = response.read().decode('utf8')\n",
    "type(raw)"
   ]
  },
  {
   "cell_type": "code",
   "execution_count": 94,
   "metadata": {},
   "outputs": [
    {
     "data": {
      "text/plain": [
       "1176967"
      ]
     },
     "execution_count": 94,
     "metadata": {},
     "output_type": "execute_result"
    }
   ],
   "source": [
    "len(raw)"
   ]
  },
  {
   "cell_type": "code",
   "execution_count": 106,
   "metadata": {},
   "outputs": [
    {
     "data": {
      "text/plain": [
       "'The Project Gutenberg EBook of Crime and Punishment, by Fyodor Dostoevsky\\r'"
      ]
     },
     "execution_count": 106,
     "metadata": {},
     "output_type": "execute_result"
    }
   ],
   "source": [
    "raw[1:75]"
   ]
  },
  {
   "cell_type": "code",
   "execution_count": 107,
   "metadata": {},
   "outputs": [
    {
     "data": {
      "text/plain": [
       "list"
      ]
     },
     "execution_count": 107,
     "metadata": {},
     "output_type": "execute_result"
    }
   ],
   "source": [
    "tokens = nltk.word_tokenize(raw[1:])\n",
    "\n",
    "type(tokens)"
   ]
  },
  {
   "cell_type": "code",
   "execution_count": 108,
   "metadata": {},
   "outputs": [
    {
     "data": {
      "text/plain": [
       "257085"
      ]
     },
     "execution_count": 108,
     "metadata": {},
     "output_type": "execute_result"
    }
   ],
   "source": [
    "len(tokens)"
   ]
  },
  {
   "cell_type": "code",
   "execution_count": 109,
   "metadata": {},
   "outputs": [
    {
     "data": {
      "text/plain": [
       "['The',\n",
       " 'Project',\n",
       " 'Gutenberg',\n",
       " 'EBook',\n",
       " 'of',\n",
       " 'Crime',\n",
       " 'and',\n",
       " 'Punishment',\n",
       " ',',\n",
       " 'by']"
      ]
     },
     "execution_count": 109,
     "metadata": {},
     "output_type": "execute_result"
    }
   ],
   "source": [
    "tokens[:10]"
   ]
  },
  {
   "cell_type": "code",
   "execution_count": 110,
   "metadata": {},
   "outputs": [
    {
     "data": {
      "text/plain": [
       "nltk.text.Text"
      ]
     },
     "execution_count": 110,
     "metadata": {},
     "output_type": "execute_result"
    }
   ],
   "source": [
    "text = nltk.Text(tokens)\n",
    "type(text)"
   ]
  },
  {
   "cell_type": "code",
   "execution_count": 111,
   "metadata": {},
   "outputs": [
    {
     "data": {
      "text/plain": [
       "['I',\n",
       " 'CHAPTER',\n",
       " 'I',\n",
       " 'On',\n",
       " 'an',\n",
       " 'exceptionally',\n",
       " 'hot',\n",
       " 'evening',\n",
       " 'early',\n",
       " 'in',\n",
       " 'July',\n",
       " 'a',\n",
       " 'young',\n",
       " 'man',\n",
       " 'came',\n",
       " 'out',\n",
       " 'of',\n",
       " 'the',\n",
       " 'garret',\n",
       " 'in',\n",
       " 'which',\n",
       " 'he',\n",
       " 'lodged',\n",
       " 'in',\n",
       " 'S.',\n",
       " 'Place',\n",
       " 'and',\n",
       " 'walked',\n",
       " 'slowly',\n",
       " ',',\n",
       " 'as',\n",
       " 'though',\n",
       " 'in',\n",
       " 'hesitation',\n",
       " ',',\n",
       " 'towards',\n",
       " 'K.',\n",
       " 'bridge']"
      ]
     },
     "execution_count": 111,
     "metadata": {},
     "output_type": "execute_result"
    }
   ],
   "source": [
    "text[1024:1062]"
   ]
  },
  {
   "cell_type": "code",
   "execution_count": 112,
   "metadata": {},
   "outputs": [
    {
     "name": "stdout",
     "output_type": "stream",
     "text": [
      "Katerina Ivanovna; Pyotr Petrovitch; Pulcheria Alexandrovna; Avdotya\n",
      "Romanovna; Rodion Romanovitch; Marfa Petrovna; Sofya Semyonovna; old\n",
      "woman; Project Gutenberg-tm; Porfiry Petrovitch; Amalia Ivanovna;\n",
      "great deal; young man; Nikodim Fomitch; Ilya Petrovitch; Project\n",
      "Gutenberg; Andrey Semyonovitch; Hay Market; Dmitri Prokofitch; Good\n",
      "heavens\n"
     ]
    }
   ],
   "source": [
    "text.collocations()"
   ]
  },
  {
   "cell_type": "code",
   "execution_count": 113,
   "metadata": {},
   "outputs": [
    {
     "data": {
      "text/plain": [
       "5336"
      ]
     },
     "execution_count": 113,
     "metadata": {},
     "output_type": "execute_result"
    }
   ],
   "source": [
    "raw.find(\"PART I\")"
   ]
  },
  {
   "cell_type": "code",
   "execution_count": 123,
   "metadata": {},
   "outputs": [
    {
     "data": {
      "text/plain": [
       "1157812"
      ]
     },
     "execution_count": 123,
     "metadata": {},
     "output_type": "execute_result"
    }
   ],
   "source": [
    "raw.rfind(\"End of Project Gutenberg\")"
   ]
  },
  {
   "cell_type": "code",
   "execution_count": 124,
   "metadata": {},
   "outputs": [
    {
     "data": {
      "text/plain": [
       "195769"
      ]
     },
     "execution_count": 124,
     "metadata": {},
     "output_type": "execute_result"
    }
   ],
   "source": [
    "raw = raw[5338:1157743]\n",
    "raw.find(\"PART I\")"
   ]
  },
  {
   "cell_type": "markdown",
   "metadata": {},
   "source": [
    "Might want to take another look at chapter six. (Just a heads up through reading)."
   ]
  },
  {
   "cell_type": "code",
   "execution_count": null,
   "metadata": {},
   "outputs": [],
   "source": []
  }
 ],
 "metadata": {
  "kernelspec": {
   "display_name": "Python 3",
   "language": "python",
   "name": "python3"
  },
  "language_info": {
   "codemirror_mode": {
    "name": "ipython",
    "version": 3
   },
   "file_extension": ".py",
   "mimetype": "text/x-python",
   "name": "python",
   "nbconvert_exporter": "python",
   "pygments_lexer": "ipython3",
   "version": "3.7.9"
  }
 },
 "nbformat": 4,
 "nbformat_minor": 4
}
