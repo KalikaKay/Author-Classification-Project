{
 "cells": [
  {
   "cell_type": "markdown",
   "metadata": {
    "colab_type": "text",
    "id": "view-in-github"
   },
   "source": [
    "<a href=\"https://colab.research.google.com/github/KalikaKay/Author-Classification-Project/blob/master/Data_Procurement.ipynb\" target=\"_parent\"><img src=\"https://colab.research.google.com/assets/colab-badge.svg\" alt=\"Open In Colab\"/></a>"
   ]
  },
  {
   "cell_type": "markdown",
   "metadata": {
    "id": "QkT-sR3Zf2Ax"
   },
   "source": [
    "# Data Procurement \n",
    "*for the Author Classification Project*\n",
    "\n",
    "Retrieve thousands of works by at least 10 authors and at least 7 novels from the gutenberg libraries. \n",
    "\n",
    "\n",
    "The texts will be used for the following:\n",
    "1. author classification using supervised learning models.\n",
    "> It may be more than a few words or sentences that will be used for classification; for now assume as much of the body of work as possible.\n",
    "2. unsupervised learning models to demonstrate similarities.\n",
    "3. analysis on model performance.\n",
    "4. the usual exploratory data analysis techniques. \n",
    "\n",
    "\n",
    "The business objectives of this classification model is to present a product wherein the author can be determined when the model is provided an incomplete work. If I assume a body of work may be incomplete - then in the webscraping; it may behoove me to assume a few things. \n",
    "\n",
    "1. the end user will not distinguish chapter headings/titles/footers/etc.\n",
    "> in knowing this I will be downloading the text file.\n",
    "2. there may be excessive text in the articles inclusive of preambles, letters from the editor, a quick note from a fan, etc.\n",
    "3. the body of work may be a compilation of many authors. \n",
    "4. the authors' name may appear multiple time within the document. \n",
    "\n"
   ]
  },
  {
   "cell_type": "markdown",
   "metadata": {
    "id": "EiHbndbhklFT"
   },
   "source": [
    "## The corpus\r\n",
    "\r\n",
    "At least ten authors:\r\n",
    "\r\n",
    "1. Jane Austen\r\n",
    "\r\n",
    "> Love and Friendship And Other Early Works - http://www.gutenberg.org/files/1212/1212-0.txt \r\n",
    "\r\n",
    "> emma http://www.gutenberg.org/files/158/158-0.txt\r\n",
    "\r\n",
    "2. NLTK corpus' collection of Brown news articles.\r\n",
    "\r\n",
    "3. Fyodor Dostoevsky\r\n",
    "\r\n",
    "> Of Crime and Punishment - 'http://www.gutenberg.org/files/2554/2554-0.txt'\r\n",
    "\r\n",
    "> White Night and Other Stories - http://www.gutenberg.org/files/36034/36034-8.txt\r\n",
    "\r\n",
    "4. (AKA Charlotte, Emily and Anne Bronte) Currer, Ellis, and Acton Bell\r\n",
    "*use the alias to see if we can tell the difference? or treat as test data?*\r\n",
    "\r\n",
    "> Poems by http://www.gutenberg.org/files/1019/1019-h/1019-h.htm\r\n",
    "\r\n",
    "5. Emily Bronte\r\n",
    "\r\n",
    "> Wuthering Heights http://www.gutenberg.org/files/768/768-0.txt\r\n",
    "\r\n",
    "6. Charlotte Bronte\r\n",
    "\r\n",
    "> The Search after happiness http://www.gutenberg.org/files/54254/54254.txt\r\n",
    "\r\n",
    "7. Anne Bronte\r\n",
    "\r\n",
    "> Agnes Grey http://www.gutenberg.org/files/767/767-0.txt\r\n",
    "\r\n",
    "8. Edith Rickert & Gleb Botkin\r\n",
    "\r\n",
    "> The Bojabi Tree http://www.gutenberg.org/files/59994/59994-0.txt\r\n",
    "\r\n",
    "9. Ethel M. Dell\r\n",
    "\r\n",
    "> The Hundredth Chance http://www.gutenberg.org/files/43069/43069-0.txt\r\n",
    "\r\n",
    "> The Knave of Diamonds http://www.gutenberg.org/files/12484/12484-8.txt\r\n",
    "\r\n",
    "10. Various Authors\r\n",
    "\r\n",
    "> Astounding Stories of Super-Science April 1930 http://www.gutenberg.org/files/29390/29390.txt"
   ]
  },
  {
   "cell_type": "markdown",
   "metadata": {
    "id": "OGFyZMdKB6ae"
   },
   "source": [
    "# Organizing\r\n",
    "\r\n",
    "Texts will be downloaded from the web locations provided and stored in as texts in folders labeled after each author. \r\n",
    "\r\n",
    "Author -> book{#}.txt\r\n",
    "\r\n",
    "\r\n",
    "Each work will be stored in its entirety as is provided by the website in the folders. "
   ]
  },
  {
   "cell_type": "code",
   "execution_count": 1,
   "metadata": {
    "id": "RC-WjWTJGblU"
   },
   "outputs": [],
   "source": [
    "#Dictionary of books by author\r\n",
    "books = [\r\n",
    "     {'author': 'Jane Austen', 'url': 'http://www.gutenberg.org/files/1212/1212-0.txt'},\r\n",
    "     {'author': 'Jane Austen', 'url': 'http://www.gutenberg.org/files/158/158-0.txt'},\r\n",
    "     {'author': 'Fyodor Dostoevsky', 'url': 'http://www.gutenberg.org/files/2554/2554-0.txt'},\r\n",
    "     {'author': 'Fyodor Dostoevsky', 'url': 'http://www.gutenberg.org/files/36034/36034-8.txt'},\r\n",
    "     {'author': 'Emily Bronte', 'url': 'http://www.gutenberg.org/files/768/768-0.txt'},\r\n",
    "     {'author': 'Charlotte Bronte', 'url': 'http://www.gutenberg.org/files/54254/54254.txt'},\r\n",
    "     {'author': 'Anne Bronte', 'url': 'http://www.gutenberg.org/files/767/767-0.txt'},\r\n",
    "     {'author': 'Edith Rickert & Gleb Botkin', 'url': 'http://www.gutenberg.org/files/59994/59994-0.txt'},\r\n",
    "     {'author': 'Ethel M. Dell', 'url': 'http://www.gutenberg.org/files/43069/43069-0.txt' },\r\n",
    "     {'author': 'Ethel M. Dell', 'url': 'http://www.gutenberg.org/files/12484/12484-8.txt'},\r\n",
    "     {'author': 'Bell AKA Bronte Sisters', 'url': 'http://www.gutenberg.org/files/1019/1019-0.txt'},\r\n",
    "     {'author': 'Various', 'url': 'http://www.gutenberg.org/files/29390/29390.txt'}\r\n",
    "     \r\n",
    "]"
   ]
  },
  {
   "cell_type": "code",
   "execution_count": 2,
   "metadata": {
    "id": "FoJK1cRA5xVd"
   },
   "outputs": [],
   "source": [
    "import requests\r\n",
    "import os"
   ]
  },
  {
   "cell_type": "code",
   "execution_count": 3,
   "metadata": {
    "id": "NlnIqLpX29f2"
   },
   "outputs": [],
   "source": [
    "#PATH = '/content/drive/MyDrive/Author Classification/Books'\n",
    "PATH = '/Thinkful/Project Data/author_classification'\r\n",
    "i = 0"
   ]
  },
  {
   "cell_type": "code",
   "execution_count": 4,
   "metadata": {
    "id": "7Ixk4jiN59lF"
   },
   "outputs": [],
   "source": [
    "for book in books:\r\n",
    "\r\n",
    "  #get the content\r\n",
    "  response = requests.get(book['url'])\r\n",
    "  content = response.text\r\n",
    "  #define the folder\r\n",
    "  folder = PATH + f'/{book[\"author\"]}/'\r\n",
    "  if not os.path.exists(folder):\r\n",
    "      os.makedirs(folder)\r\n",
    "  #save the text\r\n",
    "  with open(folder + f'book{i}.txt', 'wb') as f:\r\n",
    "      f.write(str(content).encode())\r\n",
    "  i += 1"
   ]
  },
  {
   "cell_type": "markdown",
   "metadata": {
    "id": "oqqHpiimftNO"
   },
   "source": [
    "---\r\n",
    "*a Thinkful project by Kalika Kay Curry*\r\n",
    "\r\n"
   ]
  },
  {
   "cell_type": "code",
   "execution_count": null,
   "metadata": {
    "id": "f_Swg48bbkA-"
   },
   "outputs": [],
   "source": []
  }
 ],
 "metadata": {
  "colab": {
   "collapsed_sections": [],
   "include_colab_link": true,
   "name": "Data Procurement.ipynb",
   "provenance": []
  },
  "kernelspec": {
   "display_name": "Python 3",
   "language": "python",
   "name": "python3"
  },
  "language_info": {
   "codemirror_mode": {
    "name": "ipython",
    "version": 3
   },
   "file_extension": ".py",
   "mimetype": "text/x-python",
   "name": "python",
   "nbconvert_exporter": "python",
   "pygments_lexer": "ipython3",
   "version": "3.7.9"
  }
 },
 "nbformat": 4,
 "nbformat_minor": 4
}
