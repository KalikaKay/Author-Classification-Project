{
  "nbformat": 4,
  "nbformat_minor": 0,
  "metadata": {
    "kernelspec": {
      "display_name": "Python 3",
      "language": "python",
      "name": "python3"
    },
    "language_info": {
      "codemirror_mode": {
        "name": "ipython",
        "version": 3
      },
      "file_extension": ".py",
      "mimetype": "text/x-python",
      "name": "python",
      "nbconvert_exporter": "python",
      "pygments_lexer": "ipython3",
      "version": "3.7.9"
    },
    "colab": {
      "name": "RNN Modeling.ipynb",
      "provenance": [],
      "collapsed_sections": [
        "FucHzgF_a8TI",
        "LBzu0sZLMiGW"
      ],
      "include_colab_link": true
    },
    "accelerator": "GPU"
  },
  "cells": [
    {
      "cell_type": "markdown",
      "metadata": {
        "id": "view-in-github",
        "colab_type": "text"
      },
      "source": [
        "<a href=\"https://colab.research.google.com/github/KalikaKay/Author-Classification-Project/blob/master/RNN_Modeling.ipynb\" target=\"_parent\"><img src=\"https://colab.research.google.com/assets/colab-badge.svg\" alt=\"Open In Colab\"/></a>"
      ]
    },
    {
      "cell_type": "markdown",
      "metadata": {
        "id": "okLgwgBMgYv9"
      },
      "source": [
        "# RNN Modeling\r\n",
        "\r\n",
        "Use an RNN deep learning model to perform classification."
      ]
    },
    {
      "cell_type": "markdown",
      "metadata": {
        "id": "FucHzgF_a8TI"
      },
      "source": [
        "# Data Cleaning\r\n",
        "\r\n"
      ]
    },
    {
      "cell_type": "code",
      "metadata": {
        "id": "Ed65OHqNVkXh",
        "colab": {
          "base_uri": "https://localhost:8080/"
        },
        "outputId": "6aaeb256-cfc8-4f93-e9f9-21350b3e2846"
      },
      "source": [
        "import matplotlib.pyplot as plt\r\n",
        "from nltk.corpus.reader.plaintext import PlaintextCorpusReader\r\n",
        "from sklearn.preprocessing import OrdinalEncoder\r\n",
        "from sklearn.feature_extraction.text import CountVectorizer\r\n",
        "from sklearn.feature_extraction.text import TfidfVectorizer\r\n",
        "from tensorflow.keras.utils import to_categorical\r\n",
        "from tensorflow.keras.preprocessing.sequence import pad_sequences\r\n",
        "from tensorflow.keras.preprocessing.text import one_hot\r\n",
        "from gensim.models.doc2vec import Doc2Vec, TaggedDocument\r\n",
        "from sklearn.preprocessing import MinMaxScaler\r\n",
        "from gensim.models import Word2Vec\r\n",
        "import nltk\r\n",
        "nltk.download('stopwords')\r\n",
        "nltk.download('wordnet')\r\n",
        "from gensim.summarization import keywords\r\n",
        "from sklearn.model_selection import GridSearchCV\r\n",
        "from sklearn.pipeline import Pipeline\r\n",
        "import datetime as dt\r\n",
        "from sklearn.metrics import classification_report\r\n",
        "import pandas as pd\r\n",
        "from nltk.corpus import stopwords\r\n",
        "from nltk.tokenize import RegexpTokenizer\r\n",
        "from nltk.stem.wordnet import WordNetLemmatizer\r\n",
        "from sklearn.model_selection import train_test_split\r\n",
        "from sklearn.naive_bayes import ComplementNB\r\n",
        "import numpy as np\r\n",
        "\r\n",
        "# file location\r\n",
        "PATH = '/content/drive/MyDrive/Author Classification/AuthorTexts'\r\n",
        "DOC_PATTERN = r'.*\\.txt'\r\n",
        "\r\n",
        "corpus = PlaintextCorpusReader(PATH, DOC_PATTERN)"
      ],
      "execution_count": 4,
      "outputs": [
        {
          "output_type": "stream",
          "text": [
            "[nltk_data] Downloading package stopwords to /root/nltk_data...\n",
            "[nltk_data]   Package stopwords is already up-to-date!\n",
            "[nltk_data] Downloading package wordnet to /root/nltk_data...\n",
            "[nltk_data]   Package wordnet is already up-to-date!\n"
          ],
          "name": "stdout"
        }
      ]
    },
    {
      "cell_type": "code",
      "metadata": {
        "id": "QiP_Q_F_lrMp"
      },
      "source": [
        "#Dataframe of sentences and authors.\r\n",
        "for fileid in corpus.fileids():\r\n",
        "  book = pd.DataFrame(corpus.raw(fileids=fileid).split('\\n'), columns=['sentence'])\r\n",
        "  book['author'] = fileid.split('/')[0]\r\n",
        "  try:\r\n",
        "    books = pd.concat([books, book])\r\n",
        "  except NameError: \r\n",
        "    books = book"
      ],
      "execution_count": 5,
      "outputs": []
    },
    {
      "cell_type": "code",
      "metadata": {
        "id": "Utsclk4SxDka"
      },
      "source": [
        "#Remove empty strings.\r\n",
        "books = books.replace(r'^\\s*$', np.NaN, regex=True)\r\n",
        "books.dropna(inplace=True)\r\n",
        "books.reindex()\r\n",
        "\r\n",
        "#Remove contents and Chapter Titles.\r\n",
        "i = 0\r\n",
        "for sent in books.sentence:\r\n",
        "  if any(c.islower() for c in sent) == False:\r\n",
        "    books.iloc[i] = np.NaN\r\n",
        "  if 'project gutenberg' in sent.lower():\r\n",
        "    books.iloc[i] = np.NaN    \r\n",
        "  if 'contents' == sent.lower().strip():\r\n",
        "    books.iloc[i] == np.NaN\r\n",
        "  i += 1\r\n",
        "\r\n",
        "books.dropna(inplace=True)\r\n",
        "books.reindex()\r\n",
        "#drop the content headers.\r\n",
        "content_index = books[books.sentence == 'Contents '].index.values\r\n",
        "books.drop(content_index, inplace=True)"
      ],
      "execution_count": 6,
      "outputs": []
    },
    {
      "cell_type": "markdown",
      "metadata": {
        "id": "LBzu0sZLMiGW"
      },
      "source": [
        "# Feature Engineering"
      ]
    },
    {
      "cell_type": "code",
      "metadata": {
        "id": "ScoRgC1DUNcX"
      },
      "source": [
        "#Tokenize the data\r\n",
        "tokenizer = RegexpTokenizer(r'\\w+')\r\n",
        "books['tokenized'] = [tokenizer.tokenize(sent.lower()) for sent in books.sentence \r\n",
        "                   if tokenizer.tokenize(sent.lower()) not in stopwords.words('english')]\r\n",
        "\r\n",
        "# Lemmatize the tokens. \r\n",
        "lemmatizer = WordNetLemmatizer()\r\n",
        "lemmatized = []\r\n",
        "for token in books.tokenized:\r\n",
        "  lemmatized.append(' '.join([lemmatizer.lemmatize(word) for word in token]))\r\n",
        "books['lemmatized'] = lemmatized"
      ],
      "execution_count": 49,
      "outputs": []
    },
    {
      "cell_type": "code",
      "metadata": {
        "id": "Q-pWKzApUoQY",
        "colab": {
          "base_uri": "https://localhost:8080/"
        },
        "outputId": "7dcd293f-7f44-4d03-f1d7-7d567a6937a8"
      },
      "source": [
        "y = books['author']\r\n",
        "#number of categorical variables.\r\n",
        "y.nunique()"
      ],
      "execution_count": 50,
      "outputs": [
        {
          "output_type": "execute_result",
          "data": {
            "text/plain": [
              "9"
            ]
          },
          "metadata": {
            "tags": []
          },
          "execution_count": 50
        }
      ]
    },
    {
      "cell_type": "code",
      "metadata": {
        "id": "d-DiYmRKSnsZ"
      },
      "source": [
        "# Encode the documents.\r\n",
        "enc = books.lemmatized.apply(one_hot, args=[5000])\r\n",
        "X = pad_sequences(enc)"
      ],
      "execution_count": 51,
      "outputs": []
    },
    {
      "cell_type": "code",
      "metadata": {
        "id": "hgAMko_LWtYo"
      },
      "source": [
        "X_train, X_test, y_train, y_test = train_test_split(X, y, test_size=0.2, random_state=42)"
      ],
      "execution_count": 52,
      "outputs": []
    },
    {
      "cell_type": "code",
      "metadata": {
        "id": "mSZivoCg88Yf"
      },
      "source": [
        "#Ordinal encode and translate the target variable to categorical.\r\n",
        "oec = OrdinalEncoder()\r\n",
        "y_train = oec.fit_transform(y_train.values.reshape(-1,1))\r\n",
        "y_test = oec.transform(y_test.values.reshape(-1,1))"
      ],
      "execution_count": 53,
      "outputs": []
    },
    {
      "cell_type": "code",
      "metadata": {
        "id": "CBIjk_GF8_9z"
      },
      "source": [
        "y_train = to_categorical(y_train)\r\n",
        "y_test = to_categorical(y_test)"
      ],
      "execution_count": 54,
      "outputs": []
    },
    {
      "cell_type": "code",
      "metadata": {
        "colab": {
          "base_uri": "https://localhost:8080/"
        },
        "id": "JpGlR3GK7-Op",
        "outputId": "e7673538-86ec-4a8d-bdcc-6008eadb9c02"
      },
      "source": [
        "#Reviewing the shape of the data.\r\n",
        "print( X_train.shape, y_train.shape,\r\n",
        "      X_test.shape, y_test.shape) "
      ],
      "execution_count": 55,
      "outputs": [
        {
          "output_type": "stream",
          "text": [
            "(18498, 2247) (18498, 9) (4625, 2247) (4625, 9)\n"
          ],
          "name": "stdout"
        }
      ]
    },
    {
      "cell_type": "markdown",
      "metadata": {
        "id": "KewNIN_VOaJR"
      },
      "source": [
        "#Modeling\r\n",
        "\r\n",
        "Basic Model"
      ]
    },
    {
      "cell_type": "code",
      "metadata": {
        "colab": {
          "base_uri": "https://localhost:8080/"
        },
        "id": "JuxiRnfe4Qz6",
        "outputId": "d89afae6-5810-4050-c2d5-7eb1089a9711"
      },
      "source": [
        "from tensorflow.keras.layers import LSTM, Embedding, Input, Flatten, Dense, Dropout\r\n",
        "from tensorflow.keras.models import Sequential\r\n",
        "\r\n",
        "model = Sequential()\r\n",
        "\r\n",
        "# input layer\r\n",
        "model.add(Input(shape=(X_train.shape[1]), name='word_input' ))\r\n",
        "\r\n",
        "# embedding layer\r\n",
        "model.add(Embedding(5000, 100, input_length=(X_train.shape[1]), name='word_embed'))\r\n",
        "\r\n",
        "# lstm layer\r\n",
        "model.add(LSTM(32, name='word_lstm'))\r\n",
        "\r\n",
        "# dense layer\r\n",
        "model.add(Dense(32, activation='relu', name='word_hidden_1'))\r\n",
        "\r\n",
        "#output layer\r\n",
        "model.add(Dense(9, activation='softmax', name='output'))\r\n",
        "\r\n",
        "model.summary()"
      ],
      "execution_count": 23,
      "outputs": [
        {
          "output_type": "stream",
          "text": [
            "Model: \"sequential_3\"\n",
            "_________________________________________________________________\n",
            "Layer (type)                 Output Shape              Param #   \n",
            "=================================================================\n",
            "word_embed (Embedding)       (None, 2247, 100)         500000    \n",
            "_________________________________________________________________\n",
            "word_lstm (LSTM)             (None, 32)                17024     \n",
            "_________________________________________________________________\n",
            "word_hidden_1 (Dense)        (None, 32)                1056      \n",
            "_________________________________________________________________\n",
            "output (Dense)               (None, 9)                 297       \n",
            "=================================================================\n",
            "Total params: 518,377\n",
            "Trainable params: 518,377\n",
            "Non-trainable params: 0\n",
            "_________________________________________________________________\n"
          ],
          "name": "stdout"
        }
      ]
    },
    {
      "cell_type": "code",
      "metadata": {
        "colab": {
          "base_uri": "https://localhost:8080/"
        },
        "id": "AhlyDm7GJsT_",
        "outputId": "1c585cb8-e317-4f34-949f-577ef71da431"
      },
      "source": [
        "model.compile(optimizer='adam', loss='categorical_crossentropy', metrics=['accuracy'])\r\n",
        "model.fit(X_train, y_train, validation_data = (X_test, y_test), batch_size=16, epochs=10)"
      ],
      "execution_count": 26,
      "outputs": [
        {
          "output_type": "stream",
          "text": [
            "Epoch 1/10\n",
            "1157/1157 [==============================] - 83s 71ms/step - loss: 0.1339 - accuracy: 0.9570 - val_loss: 0.9353 - val_accuracy: 0.7955\n",
            "Epoch 2/10\n",
            "1157/1157 [==============================] - 83s 71ms/step - loss: 0.1226 - accuracy: 0.9613 - val_loss: 1.0011 - val_accuracy: 0.7961\n",
            "Epoch 3/10\n",
            "1157/1157 [==============================] - 82s 71ms/step - loss: 0.0863 - accuracy: 0.9736 - val_loss: 1.0425 - val_accuracy: 0.7875\n",
            "Epoch 4/10\n",
            "1157/1157 [==============================] - 82s 71ms/step - loss: 0.0721 - accuracy: 0.9780 - val_loss: 1.0887 - val_accuracy: 0.7911\n",
            "Epoch 5/10\n",
            "1157/1157 [==============================] - 82s 71ms/step - loss: 0.0795 - accuracy: 0.9763 - val_loss: 1.1882 - val_accuracy: 0.7868\n",
            "Epoch 6/10\n",
            "1157/1157 [==============================] - 81s 70ms/step - loss: 0.0613 - accuracy: 0.9811 - val_loss: 1.2287 - val_accuracy: 0.7901\n",
            "Epoch 7/10\n",
            "1157/1157 [==============================] - 81s 70ms/step - loss: 0.0536 - accuracy: 0.9830 - val_loss: 1.3181 - val_accuracy: 0.7823\n",
            "Epoch 8/10\n",
            "1157/1157 [==============================] - 80s 69ms/step - loss: 0.0664 - accuracy: 0.9806 - val_loss: 1.3004 - val_accuracy: 0.7916\n",
            "Epoch 9/10\n",
            "1157/1157 [==============================] - 79s 68ms/step - loss: 0.0340 - accuracy: 0.9892 - val_loss: 1.4863 - val_accuracy: 0.7933\n",
            "Epoch 10/10\n",
            "1157/1157 [==============================] - 79s 68ms/step - loss: 0.0275 - accuracy: 0.9908 - val_loss: 1.4867 - val_accuracy: 0.7952\n"
          ],
          "name": "stdout"
        },
        {
          "output_type": "execute_result",
          "data": {
            "text/plain": [
              "<tensorflow.python.keras.callbacks.History at 0x7f36668af9d0>"
            ]
          },
          "metadata": {
            "tags": []
          },
          "execution_count": 26
        }
      ]
    },
    {
      "cell_type": "code",
      "metadata": {
        "colab": {
          "base_uri": "https://localhost:8080/",
          "height": 356
        },
        "id": "nDlnGoXPET2E",
        "outputId": "905905e5-797d-48d4-b6d8-21073a574005"
      },
      "source": [
        "results = pd.DataFrame(history.history)\r\n",
        "\r\n",
        "#Split the count plot.\r\n",
        "f, (ax1, ax2) = plt.subplots(ncols = 2, figsize=(20,5))\r\n",
        "plt.suptitle('Results')\r\n",
        "results[['accuracy', 'val_accuracy']].plot(ax=ax1)\r\n",
        "results[['loss', 'val_loss']].plot(ax=ax2)\r\n",
        "plt.show()"
      ],
      "execution_count": 27,
      "outputs": [
        {
          "output_type": "display_data",
          "data": {
            "image/png": "[encoded data removed]",
            "text/plain": [
              "<Figure size 1440x360 with 2 Axes>"
            ]
          },
          "metadata": {
            "tags": [],
            "needs_background": "light"
          }
        }
      ]
    },
    {
      "cell_type": "markdown",
      "metadata": {
        "id": "md98qzORQCwf"
      },
      "source": [
        "I can see that the accuracy score is neither is starting to decrease around epoch 10, so increasing the number of epochs is not necessary.\r\n",
        "\r\n",
        "My model is overfitting - the training data is outperforming the validation data by twenty points, on average and while the training data continues to improve, the validation data? Is starting to see a decreates.\r\n",
        "\r\n",
        "With regards to loss; I can see a very significant increase in loss on my validation data as I approach the second fifth epoch. \r\n",
        "\r\n",
        "The desire is a higher accuracy. To acheive the better accuracy; look to minimize the loss. \r\n",
        "\r\n",
        "*Note: a few runs were done with this prior to deciding on this default/basic model for evaluating. I've decided/determined that I should proceed with a batch count of 16. If you should try this model, I recommennd experimenting with a size 10 batch size. It's interesting.*"
      ]
    },
    {
      "cell_type": "markdown",
      "metadata": {
        "id": "x3pOSe-RJa7W"
      },
      "source": [
        "## Tuning\r\n",
        "\r\n",
        "Using a few techniques to tune the fit."
      ]
    },
    {
      "cell_type": "code",
      "metadata": {
        "colab": {
          "base_uri": "https://localhost:8080/"
        },
        "id": "EkOLGMxaJQ13",
        "outputId": "f21f976f-f794-4221-c85d-47bcb4f64d4a"
      },
      "source": [
        "\r\n",
        "model = Sequential()\r\n",
        "\r\n",
        "# input layer\r\n",
        "model.add(Input(shape=(X_train.shape[1]), name='word_input' ))\r\n",
        "\r\n",
        "# embedding layer\r\n",
        "model.add(Embedding(5000, 100, input_length=(X_train.shape[1]), name='word_embed'))\r\n",
        "\r\n",
        "# lstm layer\r\n",
        "model.add(LSTM(64, name='word_lstm'))\r\n",
        "\r\n",
        "#add dropout layer\r\n",
        "model.add(Dropout(.3))\r\n",
        "\r\n",
        "# increase dense layer dim\r\n",
        "model.add(Dense(64, activation='relu', name='word_hidden_1'))\r\n",
        "\r\n",
        "# decrease dense layer dim\r\n",
        "model.add(Dense(32, activation='relu', name='word_hidden_2'))\r\n",
        "\r\n",
        "#output layer\r\n",
        "model.add(Dense(9, activation='softmax', name='output'))\r\n",
        "\r\n",
        "model.summary()"
      ],
      "execution_count": 28,
      "outputs": [
        {
          "output_type": "stream",
          "text": [
            "Model: \"sequential_4\"\n",
            "_________________________________________________________________\n",
            "Layer (type)                 Output Shape              Param #   \n",
            "=================================================================\n",
            "word_embed (Embedding)       (None, 2247, 100)         500000    \n",
            "_________________________________________________________________\n",
            "word_lstm (LSTM)             (None, 64)                42240     \n",
            "_________________________________________________________________\n",
            "dropout_1 (Dropout)          (None, 64)                0         \n",
            "_________________________________________________________________\n",
            "word_hidden_1 (Dense)        (None, 64)                4160      \n",
            "_________________________________________________________________\n",
            "word_hidden_2 (Dense)        (None, 32)                2080      \n",
            "_________________________________________________________________\n",
            "output (Dense)               (None, 9)                 297       \n",
            "=================================================================\n",
            "Total params: 548,777\n",
            "Trainable params: 548,777\n",
            "Non-trainable params: 0\n",
            "_________________________________________________________________\n"
          ],
          "name": "stdout"
        }
      ]
    },
    {
      "cell_type": "code",
      "metadata": {
        "colab": {
          "base_uri": "https://localhost:8080/"
        },
        "id": "m5oggDCx9mAr",
        "outputId": "56f074a8-b574-4265-f5be-e257db81d15b"
      },
      "source": [
        "model.compile(optimizer='adam', loss='categorical_crossentropy', metrics=['accuracy'])\r\n",
        "\r\n",
        "history = model.fit(X_train, y_train, validation_data = (X_test, y_test), batch_size=16, epochs=10)\r\n"
      ],
      "execution_count": 29,
      "outputs": [
        {
          "output_type": "stream",
          "text": [
            "Epoch 1/10\n",
            "1157/1157 [==============================] - 87s 74ms/step - loss: 1.4772 - accuracy: 0.4855 - val_loss: 0.9874 - val_accuracy: 0.6629\n",
            "Epoch 2/10\n",
            "1157/1157 [==============================] - 85s 74ms/step - loss: 0.8130 - accuracy: 0.7240 - val_loss: 0.7427 - val_accuracy: 0.7561\n",
            "Epoch 3/10\n",
            "1157/1157 [==============================] - 85s 74ms/step - loss: 0.6305 - accuracy: 0.7999 - val_loss: 0.7024 - val_accuracy: 0.7790\n",
            "Epoch 4/10\n",
            "1157/1157 [==============================] - 85s 74ms/step - loss: 0.4524 - accuracy: 0.8577 - val_loss: 0.7200 - val_accuracy: 0.7810\n",
            "Epoch 5/10\n",
            "1157/1157 [==============================] - 85s 74ms/step - loss: 0.4064 - accuracy: 0.8740 - val_loss: 0.7471 - val_accuracy: 0.7963\n",
            "Epoch 6/10\n",
            "1157/1157 [==============================] - 85s 74ms/step - loss: 0.2912 - accuracy: 0.9096 - val_loss: 0.7781 - val_accuracy: 0.7846\n",
            "Epoch 7/10\n",
            "1157/1157 [==============================] - 85s 74ms/step - loss: 0.2462 - accuracy: 0.9246 - val_loss: 0.8585 - val_accuracy: 0.7970\n",
            "Epoch 8/10\n",
            "1157/1157 [==============================] - 85s 74ms/step - loss: 0.1937 - accuracy: 0.9409 - val_loss: 0.8612 - val_accuracy: 0.7862\n",
            "Epoch 9/10\n",
            "1157/1157 [==============================] - 85s 74ms/step - loss: 0.1739 - accuracy: 0.9470 - val_loss: 0.8762 - val_accuracy: 0.7987\n",
            "Epoch 10/10\n",
            "1157/1157 [==============================] - 85s 74ms/step - loss: 0.1600 - accuracy: 0.9514 - val_loss: 0.9739 - val_accuracy: 0.7879\n"
          ],
          "name": "stdout"
        }
      ]
    },
    {
      "cell_type": "code",
      "metadata": {
        "colab": {
          "base_uri": "https://localhost:8080/",
          "height": 356
        },
        "id": "PoCC6wdTT339",
        "outputId": "1d05e2e0-b9ee-4d2c-99e1-d76456aad1f7"
      },
      "source": [
        "results = pd.DataFrame(history.history)\r\n",
        "\r\n",
        "#Split the count plot.\r\n",
        "f, (ax1, ax2) = plt.subplots(ncols = 2, figsize=(20,5))\r\n",
        "plt.suptitle('Results')\r\n",
        "results[['accuracy', 'val_accuracy']].plot(ax=ax1)\r\n",
        "results[['loss', 'val_loss']].plot(ax=ax2)\r\n",
        "plt.show()"
      ],
      "execution_count": 31,
      "outputs": [
        {
          "output_type": "display_data",
          "data": {
            "image/png": "[encoded data removed]",
            "text/plain": [
              "<Figure size 1440x360 with 2 Axes>"
            ]
          },
          "metadata": {
            "tags": [],
            "needs_background": "light"
          }
        }
      ]
    },
    {
      "cell_type": "markdown",
      "metadata": {
        "id": "y7TTu9GeUFt9"
      },
      "source": [
        "The accuracy score seems to waiver around 78 with this model. \r\n",
        "\r\n",
        "As with the other solution, there's an increase in validation loss with each epoch."
      ]
    },
    {
      "cell_type": "code",
      "metadata": {
        "colab": {
          "base_uri": "https://localhost:8080/"
        },
        "id": "gQ3-r-elUBCw",
        "outputId": "cc1cf408-e7a6-4883-d616-a71747c25e6f"
      },
      "source": [
        "\r\n",
        "model = Sequential()\r\n",
        "\r\n",
        "# input layer\r\n",
        "model.add(Input(shape=(X_train.shape[1]), name='word_input' ))\r\n",
        "\r\n",
        "# embedding layer\r\n",
        "model.add(Embedding(5000, 100, input_length=(X_train.shape[1]), name='word_embed'))\r\n",
        "\r\n",
        "# lstm layer\r\n",
        "model.add(LSTM(64, name='word_lstm'))\r\n",
        "\r\n",
        "# increase dense layer dim\r\n",
        "model.add(Dense(32, activation='relu'))\r\n",
        "\r\n",
        "# decrease dense layer dim\r\n",
        "model.add(Dense(32, activation='relu'))\r\n",
        "\r\n",
        "model.add(Dropout(0.1))\r\n",
        "\r\n",
        "# decrease dense layer dim\r\n",
        "model.add(Dense(16, activation='relu'))\r\n",
        "\r\n",
        "#output layer\r\n",
        "model.add(Dense(9, activation='softmax'))\r\n",
        "\r\n",
        "model.summary()"
      ],
      "execution_count": 71,
      "outputs": [
        {
          "output_type": "stream",
          "text": [
            "Model: \"sequential_17\"\n",
            "_________________________________________________________________\n",
            "Layer (type)                 Output Shape              Param #   \n",
            "=================================================================\n",
            "word_embed (Embedding)       (None, 2247, 100)         500000    \n",
            "_________________________________________________________________\n",
            "word_lstm (LSTM)             (None, 64)                42240     \n",
            "_________________________________________________________________\n",
            "dense_22 (Dense)             (None, 32)                2080      \n",
            "_________________________________________________________________\n",
            "dense_23 (Dense)             (None, 32)                1056      \n",
            "_________________________________________________________________\n",
            "dropout_13 (Dropout)         (None, 32)                0         \n",
            "_________________________________________________________________\n",
            "dense_24 (Dense)             (None, 16)                528       \n",
            "_________________________________________________________________\n",
            "dense_25 (Dense)             (None, 9)                 153       \n",
            "=================================================================\n",
            "Total params: 546,057\n",
            "Trainable params: 546,057\n",
            "Non-trainable params: 0\n",
            "_________________________________________________________________\n"
          ],
          "name": "stdout"
        }
      ]
    },
    {
      "cell_type": "code",
      "metadata": {
        "colab": {
          "base_uri": "https://localhost:8080/",
          "height": 524
        },
        "id": "bwGDxfGtUkEp",
        "outputId": "9cf4bd05-85bd-49ac-e4d1-e89b5e536dd0"
      },
      "source": [
        "model.compile(optimizer='adam', loss='categorical_crossentropy', metrics=['accuracy'])\r\n",
        "history = model.fit(X_train, y_train, validation_data = (X_test, y_test), batch_size=32, epochs=5)\r\n",
        "\r\n",
        "results = pd.DataFrame(history.history)\r\n",
        "\r\n",
        "#Split the count plot.\r\n",
        "f, (ax1, ax2) = plt.subplots(ncols = 2, figsize=(20,5))\r\n",
        "plt.suptitle('Results')\r\n",
        "results[['accuracy', 'val_accuracy']].plot(ax=ax1)\r\n",
        "results[['loss', 'val_loss']].plot(ax=ax2)\r\n",
        "plt.show()"
      ],
      "execution_count": 75,
      "outputs": [
        {
          "output_type": "stream",
          "text": [
            "Epoch 1/5\n",
            "579/579 [==============================] - 55s 92ms/step - loss: 0.0911 - accuracy: 0.9713 - val_loss: 1.3022 - val_accuracy: 0.7920\n",
            "Epoch 2/5\n",
            "579/579 [==============================] - 52s 90ms/step - loss: 0.0640 - accuracy: 0.9788 - val_loss: 1.3542 - val_accuracy: 0.7801\n",
            "Epoch 3/5\n",
            "579/579 [==============================] - 52s 90ms/step - loss: 0.0546 - accuracy: 0.9827 - val_loss: 1.3973 - val_accuracy: 0.7799\n",
            "Epoch 4/5\n",
            "579/579 [==============================] - 52s 90ms/step - loss: 0.0532 - accuracy: 0.9834 - val_loss: 1.5779 - val_accuracy: 0.7903\n",
            "Epoch 5/5\n",
            "579/579 [==============================] - 52s 90ms/step - loss: 0.0417 - accuracy: 0.9863 - val_loss: 1.6368 - val_accuracy: 0.7875\n"
          ],
          "name": "stdout"
        },
        {
          "output_type": "display_data",
          "data": {
            "image/png": "[encoded data removed]",
            "text/plain": [
              "<Figure size 1440x360 with 2 Axes>"
            ]
          },
          "metadata": {
            "tags": [],
            "needs_background": "light"
          }
        }
      ]
    },
    {
      "cell_type": "code",
      "metadata": {
        "colab": {
          "base_uri": "https://localhost:8080/"
        },
        "id": "NY_jynLO6g6o",
        "outputId": "d12e9ab7-c0cd-42fa-e1ba-2cfc8a9873e9"
      },
      "source": [
        "list(oec.categories_[0])"
      ],
      "execution_count": 79,
      "outputs": [
        {
          "output_type": "execute_result",
          "data": {
            "text/plain": [
              "['Anne Bronte',\n",
              " 'Bell AKA Bronte Sisters',\n",
              " 'Charlotte Bronte',\n",
              " 'Edith Rickert & Gleb Botkin',\n",
              " 'Emily Bronte',\n",
              " 'Ethel M. Dell',\n",
              " 'Fyodor Dostoevsky',\n",
              " 'Jane Austen',\n",
              " 'Various']"
            ]
          },
          "metadata": {
            "tags": []
          },
          "execution_count": 79
        }
      ]
    },
    {
      "cell_type": "code",
      "metadata": {
        "colab": {
          "base_uri": "https://localhost:8080/"
        },
        "id": "afhNqYm46saA",
        "outputId": "35007555-6dd6-4ccc-993e-52961f06f477"
      },
      "source": [
        "# get the predictions against the test dataset as whole numbers.\r\n",
        "pred = model.predict(X_test)\r\n",
        "predicted_class_indices=np.argmax(pred,axis=-1) \r\n",
        "# revert the categorical data into ordinal data. \r\n",
        "y_true = [np.argmax(n) for n in y_test]\r\n",
        "\r\n",
        "print(classification_report(y_true, \r\n",
        "                            predicted_class_indices,\r\n",
        "                            target_names=list(oec.categories_[0])))"
      ],
      "execution_count": 80,
      "outputs": [
        {
          "output_type": "stream",
          "text": [
            "                             precision    recall  f1-score   support\n",
            "\n",
            "                Anne Bronte       0.51      0.46      0.48       177\n",
            "    Bell AKA Bronte Sisters       0.77      0.75      0.76       161\n",
            "           Charlotte Bronte       0.36      0.38      0.37        13\n",
            "Edith Rickert & Gleb Botkin       0.72      0.62      0.67        29\n",
            "               Emily Bronte       0.68      0.67      0.67       426\n",
            "              Ethel M. Dell       0.87      0.85      0.86      1737\n",
            "          Fyodor Dostoevsky       0.75      0.82      0.79      1118\n",
            "                Jane Austen       0.84      0.78      0.81       529\n",
            "                    Various       0.73      0.72      0.73       435\n",
            "\n",
            "                   accuracy                           0.79      4625\n",
            "                  macro avg       0.69      0.67      0.68      4625\n",
            "               weighted avg       0.79      0.79      0.79      4625\n",
            "\n"
          ],
          "name": "stdout"
        }
      ]
    },
    {
      "cell_type": "markdown",
      "metadata": {
        "id": "9QpqIv6kiyis"
      },
      "source": [
        "# Conclusion\r\n",
        "\r\n",
        "After a number of iterations, trials and errors, I conclude that the RNN modeling is not ideal for this classification project. \r\n",
        "\r\n",
        "I receive the fastest and most accurate results with a bag of words on Naive Bayes model. \r\n",
        "\r\n",
        "---\r\n",
        "*a Thinkful Project by Kalika Kay Curry*\r\n"
      ]
    }
  ]
}