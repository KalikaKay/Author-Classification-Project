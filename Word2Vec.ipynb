{
  "nbformat": 4,
  "nbformat_minor": 0,
  "metadata": {
    "kernelspec": {
      "display_name": "Python 3",
      "language": "python",
      "name": "python3"
    },
    "language_info": {
      "codemirror_mode": {
        "name": "ipython",
        "version": 3
      },
      "file_extension": ".py",
      "mimetype": "text/x-python",
      "name": "python",
      "nbconvert_exporter": "python",
      "pygments_lexer": "ipython3",
      "version": "3.7.9"
    },
    "colab": {
      "name": "Word2Vec.ipynb",
      "provenance": [],
      "collapsed_sections": [
        "FucHzgF_a8TI",
        "LBzu0sZLMiGW",
        "whdviyowOgxm",
        "NnMhhI71gPIZ",
        "wd31lhlUhVPn",
        "NIC9Ti5AhX8j",
        "vZL7Yd1Thdp8",
        "RtX-qHs3hknZ"
      ],
      "include_colab_link": true
    }
  },
  "cells": [
    {
      "cell_type": "markdown",
      "metadata": {
        "id": "view-in-github",
        "colab_type": "text"
      },
      "source": [
        "<a href=\"https://colab.research.google.com/github/KalikaKay/Author-Classification-Project/blob/master/Word2Vec.ipynb\" target=\"_parent\"><img src=\"https://colab.research.google.com/assets/colab-badge.svg\" alt=\"Open In Colab\"/></a>"
      ]
    },
    {
      "cell_type": "markdown",
      "metadata": {
        "id": "okLgwgBMgYv9"
      },
      "source": [
        "# Word2Vec\r\n",
        "Using Word2Vec - apply supervised models with GridSearchCV:\r\n",
        "* Naive Bayes\r\n",
        "* Logistic Regression\r\n",
        "* Decision Tree\r\n",
        "* Random Forest\r\n",
        "* KNN\r\n",
        "* SVM \r\n",
        "* Gradient Boosting \r\n",
        "\r\n",
        "\r\n",
        "I had a tough decision between using Doc2Vec and Word2Vec. I was getting terrible results on Naive Bayes with both models; so I went back to the original modeling requests. \r\n",
        "\r\n",
        "The original assignment requested that I utilize Word2Vec. The Word2Vec modeling is excessivel long - while Doc2Vec is much faster. Doc2Vec required that I analyze based on sentences in order to acheive a Naive Bayes score > .30."
      ]
    },
    {
      "cell_type": "markdown",
      "metadata": {
        "id": "FucHzgF_a8TI"
      },
      "source": [
        "# Data Cleaning\r\n",
        "\r\n"
      ]
    },
    {
      "cell_type": "code",
      "metadata": {
        "id": "Ed65OHqNVkXh",
        "colab": {
          "base_uri": "https://localhost:8080/"
        },
        "outputId": "5a204314-d68d-45c9-8bd5-471f4aed972b"
      },
      "source": [
        "from nltk.corpus.reader.plaintext import PlaintextCorpusReader\r\n",
        "from sklearn.feature_extraction.text import CountVectorizer\r\n",
        "from sklearn.feature_extraction.text import TfidfVectorizer\r\n",
        "from gensim.models.doc2vec import Doc2Vec, TaggedDocument\r\n",
        "from sklearn.preprocessing import MinMaxScaler\r\n",
        "from gensim.models import Word2Vec\r\n",
        "import nltk\r\n",
        "nltk.download('stopwords')\r\n",
        "nltk.download('wordnet')\r\n",
        "from gensim.summarization import keywords\r\n",
        "from sklearn.model_selection import GridSearchCV\r\n",
        "from sklearn.pipeline import Pipeline\r\n",
        "import datetime as dt\r\n",
        "from sklearn.metrics import classification_report\r\n",
        "import pandas as pd\r\n",
        "from nltk.corpus import stopwords\r\n",
        "from nltk.tokenize import RegexpTokenizer\r\n",
        "from nltk.stem.wordnet import WordNetLemmatizer\r\n",
        "from sklearn.model_selection import train_test_split\r\n",
        "from sklearn.naive_bayes import ComplementNB\r\n",
        "import numpy as np\r\n",
        "\r\n",
        "# file location\r\n",
        "PATH = '/content/drive/MyDrive/Author Classification/AuthorTexts'\r\n",
        "DOC_PATTERN = r'.*\\.txt'\r\n",
        "\r\n",
        "corpus = PlaintextCorpusReader(PATH, DOC_PATTERN)"
      ],
      "execution_count": 12,
      "outputs": [
        {
          "output_type": "stream",
          "text": [
            "[nltk_data] Downloading package stopwords to /root/nltk_data...\n",
            "[nltk_data]   Package stopwords is already up-to-date!\n",
            "[nltk_data] Downloading package wordnet to /root/nltk_data...\n",
            "[nltk_data]   Package wordnet is already up-to-date!\n"
          ],
          "name": "stdout"
        }
      ]
    },
    {
      "cell_type": "code",
      "metadata": {
        "id": "QiP_Q_F_lrMp"
      },
      "source": [
        "#Dataframe of sentences and authors.\r\n",
        "for fileid in corpus.fileids():\r\n",
        "  book = pd.DataFrame(corpus.raw(fileids=fileid).split('\\n'), columns=['sentence'])\r\n",
        "  book['author'] = fileid.split('/')[0]\r\n",
        "  try:\r\n",
        "    books = pd.concat([books, book])\r\n",
        "  except NameError: \r\n",
        "    books = book"
      ],
      "execution_count": 13,
      "outputs": []
    },
    {
      "cell_type": "code",
      "metadata": {
        "id": "Utsclk4SxDka"
      },
      "source": [
        "#Remove empty strings.\r\n",
        "books = books.replace(r'^\\s*$', np.NaN, regex=True)\r\n",
        "books.dropna(inplace=True)\r\n",
        "books.reindex()\r\n",
        "\r\n",
        "#Remove contents and Chapter Titles.\r\n",
        "i = 0\r\n",
        "for sent in books.sentence:\r\n",
        "  if any(c.islower() for c in sent) == False:\r\n",
        "    books.iloc[i] = np.NaN\r\n",
        "  if 'project gutenberg' in sent.lower():\r\n",
        "    books.iloc[i] = np.NaN    \r\n",
        "  if 'contents' == sent.lower().strip():\r\n",
        "    books.iloc[i] == np.NaN\r\n",
        "  i += 1\r\n",
        "\r\n",
        "books.dropna(inplace=True)\r\n",
        "books.reindex()\r\n",
        "#drop the content headers.\r\n",
        "content_index = books[books.sentence == 'Contents '].index.values\r\n",
        "books.drop(content_index, inplace=True)"
      ],
      "execution_count": 14,
      "outputs": []
    },
    {
      "cell_type": "markdown",
      "metadata": {
        "id": "LBzu0sZLMiGW"
      },
      "source": [
        "# Feature Engineering\r\n",
        "\r\n",
        "These features will be fed into a pipeline for our models. \r\n",
        "\r\n",
        "Due to memory constraints, I've opted to visualize the vectors in separate notebooks. "
      ]
    },
    {
      "cell_type": "code",
      "metadata": {
        "id": "ScoRgC1DUNcX"
      },
      "source": [
        "#Tokenize the data\r\n",
        "tokenizer = RegexpTokenizer(r'\\w+')\r\n",
        "books['tokenized'] = [tokenizer.tokenize(sent.lower()) for sent in books.sentence \r\n",
        "                   if tokenizer.tokenize(sent.lower()) not in stopwords.words('english')]\r\n",
        "\r\n",
        "# Lemmatize the tokens. \r\n",
        "lemmatizer = WordNetLemmatizer()\r\n",
        "lemmatized = []\r\n",
        "for token in books.tokenized:\r\n",
        "  lemmatized.append([lemmatizer.lemmatize(word) for word in token])\r\n",
        "books['lemmatized'] = lemmatized"
      ],
      "execution_count": 15,
      "outputs": []
    },
    {
      "cell_type": "code",
      "metadata": {
        "id": "Q-pWKzApUoQY"
      },
      "source": [
        "y = books['author']"
      ],
      "execution_count": 16,
      "outputs": []
    },
    {
      "cell_type": "code",
      "metadata": {
        "colab": {
          "base_uri": "https://localhost:8080/"
        },
        "id": "d-DiYmRKSnsZ",
        "outputId": "68af41eb-a62c-4537-d54d-f87c4996435d"
      },
      "source": [
        "vector_size = max(len(x) for x in books['lemmatized'] ) \r\n",
        "model =  Word2Vec(books['lemmatized'], min_count = 1, seed = 1, size=vector_size)\r\n",
        "word2vec_arr = np.zeros((books.shape[0], model.vector_size))\r\n",
        "\r\n",
        "for i, sentence in enumerate(books['lemmatized']):\r\n",
        "    word2vec_arr[i,:] = np.mean([model[word] for word in sentence], axis=0)\r\n",
        "X = word2vec_arr"
      ],
      "execution_count": 17,
      "outputs": [
        {
          "output_type": "stream",
          "text": [
            "/usr/local/lib/python3.7/dist-packages/ipykernel_launcher.py:6: DeprecationWarning: Call to deprecated `__getitem__` (Method will be removed in 4.0.0, use self.wv.__getitem__() instead).\n",
            "  \n"
          ],
          "name": "stderr"
        }
      ]
    },
    {
      "cell_type": "code",
      "metadata": {
        "id": "hgAMko_LWtYo"
      },
      "source": [
        "X_train, X_test, y_train, y_test = train_test_split(X, y, test_size=0.2, random_state=42)\r\n",
        "X_train = X_train\r\n",
        "X_test = X_test"
      ],
      "execution_count": 18,
      "outputs": []
    },
    {
      "cell_type": "markdown",
      "metadata": {
        "id": "KewNIN_VOaJR"
      },
      "source": [
        "#Modeling"
      ]
    },
    {
      "cell_type": "markdown",
      "metadata": {
        "id": "whdviyowOgxm"
      },
      "source": [
        "## Naive Bayes\r\n",
        "\r\n",
        "```\r\n",
        "                             precision    recall  f1-score   support\r\n",
        "\r\n",
        "                Anne Bronte       0.00      0.00      0.00       177\r\n",
        "    Bell AKA Bronte Sisters       0.00      0.00      0.00       161\r\n",
        "           Charlotte Bronte       0.00      0.00      0.00        13\r\n",
        "Edith Rickert & Gleb Botkin       0.00      0.00      0.00        29\r\n",
        "               Emily Bronte       0.25      0.00      0.00       426\r\n",
        "              Ethel M. Dell       0.57      0.58      0.58      1737\r\n",
        "          Fyodor Dostoevsky       0.36      0.19      0.25      1118\r\n",
        "                Jane Austen       0.33      0.47      0.39       529\r\n",
        "                    Various       0.21      0.71      0.32       435\r\n",
        "\r\n",
        "                   accuracy                           0.38      4625\r\n",
        "                  macro avg       0.19      0.22      0.17      4625\r\n",
        "               weighted avg       0.38      0.38      0.35      4625\r\n",
        "\r\n",
        "\r\n",
        "```\r\n",
        "\r\n"
      ]
    },
    {
      "cell_type": "code",
      "metadata": {
        "colab": {
          "base_uri": "https://localhost:8080/"
        },
        "id": "L0U_enkJOYd5",
        "outputId": "d50a0fca-c00d-4e42-be64-f132bfe85847"
      },
      "source": [
        "\r\n",
        "pipeline = Pipeline([('s', MinMaxScaler()), ('nb', ComplementNB())])\r\n",
        "params = {\r\n",
        "          's__feature_range' : [(0, abs(X).max()), (0, 1), (0, 2*abs(X).max()), (0, 5*abs(X).max())]\r\n",
        "         }\r\n",
        "\r\n",
        "search = GridSearchCV(pipeline, params, cv=5, verbose=3)\r\n",
        "print(f'{dt.datetime.now().strftime(\"%d/%m/%Y %H:%M:%S\")}, started grid search')\r\n",
        "search.fit(X_train, y_train)\r\n",
        "print(f'{dt.datetime.now().strftime(\"%d/%m/%Y %H:%M:%S\")}, grid search complete')\r\n",
        "    \r\n",
        "bow_model = search.best_estimator_\r\n",
        "\r\n",
        "bow_model.fit(X_train, y_train)\r\n",
        "y_pred = bow_model.predict(X_test)\r\n",
        "    \r\n",
        "print(classification_report(y_test, y_pred))\r\n",
        "print(bow_model)"
      ],
      "execution_count": 45,
      "outputs": [
        {
          "output_type": "stream",
          "text": [
            "24/02/2021 02:13:45, started grid search\n",
            "Fitting 5 folds for each of 4 candidates, totalling 20 fits\n",
            "[CV] s__feature_range=(0, 1.4256254434585571) ........................\n"
          ],
          "name": "stdout"
        },
        {
          "output_type": "stream",
          "text": [
            "[Parallel(n_jobs=1)]: Using backend SequentialBackend with 1 concurrent workers.\n"
          ],
          "name": "stderr"
        },
        {
          "output_type": "stream",
          "text": [
            "[CV]  s__feature_range=(0, 1.4256254434585571), score=0.372, total=   1.2s\n",
            "[CV] s__feature_range=(0, 1.4256254434585571) ........................\n"
          ],
          "name": "stdout"
        },
        {
          "output_type": "stream",
          "text": [
            "[Parallel(n_jobs=1)]: Done   1 out of   1 | elapsed:    1.2s remaining:    0.0s\n"
          ],
          "name": "stderr"
        },
        {
          "output_type": "stream",
          "text": [
            "[CV]  s__feature_range=(0, 1.4256254434585571), score=0.375, total=   1.1s\n",
            "[CV] s__feature_range=(0, 1.4256254434585571) ........................\n"
          ],
          "name": "stdout"
        },
        {
          "output_type": "stream",
          "text": [
            "[Parallel(n_jobs=1)]: Done   2 out of   2 | elapsed:    2.3s remaining:    0.0s\n"
          ],
          "name": "stderr"
        },
        {
          "output_type": "stream",
          "text": [
            "[CV]  s__feature_range=(0, 1.4256254434585571), score=0.387, total=   1.2s\n",
            "[CV] s__feature_range=(0, 1.4256254434585571) ........................\n",
            "[CV]  s__feature_range=(0, 1.4256254434585571), score=0.390, total=   1.1s\n",
            "[CV] s__feature_range=(0, 1.4256254434585571) ........................\n",
            "[CV]  s__feature_range=(0, 1.4256254434585571), score=0.381, total=   1.1s\n",
            "[CV] s__feature_range=(0, 1) .........................................\n",
            "[CV] ............. s__feature_range=(0, 1), score=0.372, total=   1.1s\n",
            "[CV] s__feature_range=(0, 1) .........................................\n",
            "[CV] ............. s__feature_range=(0, 1), score=0.375, total=   1.1s\n",
            "[CV] s__feature_range=(0, 1) .........................................\n",
            "[CV] ............. s__feature_range=(0, 1), score=0.387, total=   1.1s\n",
            "[CV] s__feature_range=(0, 1) .........................................\n",
            "[CV] ............. s__feature_range=(0, 1), score=0.390, total=   1.1s\n",
            "[CV] s__feature_range=(0, 1) .........................................\n",
            "[CV] ............. s__feature_range=(0, 1), score=0.381, total=   1.1s\n",
            "[CV] s__feature_range=(0, 2.8512508869171143) ........................\n",
            "[CV]  s__feature_range=(0, 2.8512508869171143), score=0.372, total=   1.1s\n",
            "[CV] s__feature_range=(0, 2.8512508869171143) ........................\n",
            "[CV]  s__feature_range=(0, 2.8512508869171143), score=0.375, total=   1.1s\n",
            "[CV] s__feature_range=(0, 2.8512508869171143) ........................\n",
            "[CV]  s__feature_range=(0, 2.8512508869171143), score=0.387, total=   1.1s\n",
            "[CV] s__feature_range=(0, 2.8512508869171143) ........................\n",
            "[CV]  s__feature_range=(0, 2.8512508869171143), score=0.390, total=   1.1s\n",
            "[CV] s__feature_range=(0, 2.8512508869171143) ........................\n",
            "[CV]  s__feature_range=(0, 2.8512508869171143), score=0.381, total=   1.2s\n",
            "[CV] s__feature_range=(0, 7.128127217292786) .........................\n",
            "[CV]  s__feature_range=(0, 7.128127217292786), score=0.372, total=   1.1s\n",
            "[CV] s__feature_range=(0, 7.128127217292786) .........................\n",
            "[CV]  s__feature_range=(0, 7.128127217292786), score=0.375, total=   1.1s\n",
            "[CV] s__feature_range=(0, 7.128127217292786) .........................\n",
            "[CV]  s__feature_range=(0, 7.128127217292786), score=0.387, total=   1.2s\n",
            "[CV] s__feature_range=(0, 7.128127217292786) .........................\n",
            "[CV]  s__feature_range=(0, 7.128127217292786), score=0.390, total=   1.2s\n",
            "[CV] s__feature_range=(0, 7.128127217292786) .........................\n",
            "[CV]  s__feature_range=(0, 7.128127217292786), score=0.381, total=   1.1s\n"
          ],
          "name": "stdout"
        },
        {
          "output_type": "stream",
          "text": [
            "[Parallel(n_jobs=1)]: Done  20 out of  20 | elapsed:   23.0s finished\n"
          ],
          "name": "stderr"
        },
        {
          "output_type": "stream",
          "text": [
            "24/02/2021 02:14:09, grid search complete\n",
            "                             precision    recall  f1-score   support\n",
            "\n",
            "                Anne Bronte       0.00      0.00      0.00       177\n",
            "    Bell AKA Bronte Sisters       0.00      0.00      0.00       161\n",
            "           Charlotte Bronte       0.00      0.00      0.00        13\n",
            "Edith Rickert & Gleb Botkin       0.00      0.00      0.00        29\n",
            "               Emily Bronte       0.00      0.00      0.00       426\n",
            "              Ethel M. Dell       0.61      0.50      0.54      1737\n",
            "          Fyodor Dostoevsky       0.31      0.35      0.33      1118\n",
            "                Jane Austen       0.30      0.41      0.35       529\n",
            "                    Various       0.22      0.62      0.32       435\n",
            "\n",
            "                   accuracy                           0.37      4625\n",
            "                  macro avg       0.16      0.21      0.17      4625\n",
            "               weighted avg       0.36      0.37      0.35      4625\n",
            "\n",
            "Pipeline(memory=None,\n",
            "         steps=[('s',\n",
            "                 MinMaxScaler(copy=True, feature_range=(0, 7.128127217292786))),\n",
            "                ('nb',\n",
            "                 ComplementNB(alpha=1.0, class_prior=None, fit_prior=True,\n",
            "                              norm=False))],\n",
            "         verbose=False)\n"
          ],
          "name": "stdout"
        },
        {
          "output_type": "stream",
          "text": [
            "/usr/local/lib/python3.7/dist-packages/sklearn/metrics/_classification.py:1272: UndefinedMetricWarning: Precision and F-score are ill-defined and being set to 0.0 in labels with no predicted samples. Use `zero_division` parameter to control this behavior.\n",
            "  _warn_prf(average, modifier, msg_start, len(result))\n"
          ],
          "name": "stderr"
        }
      ]
    },
    {
      "cell_type": "markdown",
      "metadata": {
        "id": "NnMhhI71gPIZ"
      },
      "source": [
        "## Logistic Regression\r\n",
        "\r\n",
        "\r\n",
        "\r\n",
        "```\r\n",
        "\r\n",
        "                             precision    recall  f1-score   support\r\n",
        "\r\n",
        "                Anne Bronte       0.29      0.01      0.02       177\r\n",
        "    Bell AKA Bronte Sisters       0.48      0.34      0.40       161\r\n",
        "           Charlotte Bronte       0.00      0.00      0.00        13\r\n",
        "Edith Rickert & Gleb Botkin       0.00      0.00      0.00        29\r\n",
        "               Emily Bronte       0.21      0.04      0.06       426\r\n",
        "              Ethel M. Dell       0.60      0.80      0.68      1737\r\n",
        "          Fyodor Dostoevsky       0.49      0.52      0.50      1118\r\n",
        "                Jane Austen       0.52      0.53      0.52       529\r\n",
        "                    Various       0.46      0.40      0.43       435\r\n",
        "\r\n",
        "                   accuracy                           0.54      4625\r\n",
        "                  macro avg       0.34      0.29      0.29      4625\r\n",
        "               weighted avg       0.49      0.54      0.50      4625\r\n",
        "\r\n",
        "```\r\n",
        "\r\n",
        "\r\n",
        "\r\n",
        "Originally ran logistic regression with a MinMax scaler. When the regressor failed to converge, worked with the MaxAbsScaler. \r\n",
        "\r\n",
        "Logistic regression still failed to converge. \r\n",
        "\r\n",
        "Attempts to increase the max iter did not resolve the issue and resulted in a long enough runtime such that the colab notebook runtime failed to complete the execution.\r\n",
        "\r\n",
        "A grid search with various solvers are shown below. \r\n"
      ]
    },
    {
      "cell_type": "code",
      "metadata": {
        "id": "2xSU4ZO3CzXk"
      },
      "source": [
        "from sklearn.linear_model import LogisticRegression"
      ],
      "execution_count": 9,
      "outputs": []
    },
    {
      "cell_type": "code",
      "metadata": {
        "colab": {
          "base_uri": "https://localhost:8080/"
        },
        "id": "8Z0CFMYbhROp",
        "outputId": "68eaa0e5-fc69-4824-c7e9-73915b6b77b7"
      },
      "source": [
        "from sklearn.preprocessing import MaxAbsScaler\r\n",
        "pipeline = Pipeline([('s', MaxAbsScaler()), ('lr', LogisticRegression())])\r\n",
        "params =  {\r\n",
        "          \"lr__solver\": ['sag', 'newton-cg', 'lbfgs', 'liblinear', 'saga']\r\n",
        "         }\r\n",
        "\r\n",
        "search = GridSearchCV(pipeline, params, cv=5, verbose=3)\r\n",
        "print(f'{dt.datetime.now().strftime(\"%d/%m/%Y %H:%M:%S\")}, started grid search')\r\n",
        "search.fit(X_train, y_train)\r\n",
        "print(f'{dt.datetime.now().strftime(\"%d/%m/%Y %H:%M:%S\")}, grid search complete')\r\n",
        "    \r\n",
        "bow_model = search.best_estimator_\r\n",
        "\r\n",
        "bow_model.fit(X_train, y_train)\r\n",
        "y_pred = bow_model.predict(X_test)\r\n",
        "    \r\n",
        "print(classification_report(y_test, y_pred))\r\n",
        "print(bow_model)"
      ],
      "execution_count": 10,
      "outputs": [
        {
          "output_type": "stream",
          "text": [
            "24/02/2021 12:50:14, started grid search\n",
            "Fitting 5 folds for each of 5 candidates, totalling 25 fits\n",
            "[CV] lr__solver=sag ..................................................\n"
          ],
          "name": "stdout"
        },
        {
          "output_type": "stream",
          "text": [
            "[Parallel(n_jobs=1)]: Using backend SequentialBackend with 1 concurrent workers.\n",
            "/usr/local/lib/python3.7/dist-packages/sklearn/linear_model/_sag.py:330: ConvergenceWarning: The max_iter was reached which means the coef_ did not converge\n",
            "  \"the coef_ did not converge\", ConvergenceWarning)\n",
            "[Parallel(n_jobs=1)]: Done   1 out of   1 | elapsed:  2.2min remaining:    0.0s\n"
          ],
          "name": "stderr"
        },
        {
          "output_type": "stream",
          "text": [
            "[CV] ...................... lr__solver=sag, score=0.517, total= 2.2min\n",
            "[CV] lr__solver=sag ..................................................\n"
          ],
          "name": "stdout"
        },
        {
          "output_type": "stream",
          "text": [
            "/usr/local/lib/python3.7/dist-packages/sklearn/linear_model/_sag.py:330: ConvergenceWarning: The max_iter was reached which means the coef_ did not converge\n",
            "  \"the coef_ did not converge\", ConvergenceWarning)\n",
            "[Parallel(n_jobs=1)]: Done   2 out of   2 | elapsed:  4.3min remaining:    0.0s\n"
          ],
          "name": "stderr"
        },
        {
          "output_type": "stream",
          "text": [
            "[CV] ...................... lr__solver=sag, score=0.529, total= 2.2min\n",
            "[CV] lr__solver=sag ..................................................\n"
          ],
          "name": "stdout"
        },
        {
          "output_type": "stream",
          "text": [
            "/usr/local/lib/python3.7/dist-packages/sklearn/linear_model/_sag.py:330: ConvergenceWarning: The max_iter was reached which means the coef_ did not converge\n",
            "  \"the coef_ did not converge\", ConvergenceWarning)\n"
          ],
          "name": "stderr"
        },
        {
          "output_type": "stream",
          "text": [
            "[CV] ...................... lr__solver=sag, score=0.521, total= 2.2min\n",
            "[CV] lr__solver=sag ..................................................\n"
          ],
          "name": "stdout"
        },
        {
          "output_type": "stream",
          "text": [
            "/usr/local/lib/python3.7/dist-packages/sklearn/linear_model/_sag.py:330: ConvergenceWarning: The max_iter was reached which means the coef_ did not converge\n",
            "  \"the coef_ did not converge\", ConvergenceWarning)\n"
          ],
          "name": "stderr"
        },
        {
          "output_type": "stream",
          "text": [
            "[CV] ...................... lr__solver=sag, score=0.530, total= 2.2min\n",
            "[CV] lr__solver=sag ..................................................\n"
          ],
          "name": "stdout"
        },
        {
          "output_type": "stream",
          "text": [
            "/usr/local/lib/python3.7/dist-packages/sklearn/linear_model/_sag.py:330: ConvergenceWarning: The max_iter was reached which means the coef_ did not converge\n",
            "  \"the coef_ did not converge\", ConvergenceWarning)\n"
          ],
          "name": "stderr"
        },
        {
          "output_type": "stream",
          "text": [
            "[CV] ...................... lr__solver=sag, score=0.528, total= 2.2min\n",
            "[CV] lr__solver=newton-cg ............................................\n",
            "[CV] ................ lr__solver=newton-cg, score=0.527, total= 5.0min\n",
            "[CV] lr__solver=newton-cg ............................................\n",
            "[CV] ................ lr__solver=newton-cg, score=0.540, total= 5.4min\n",
            "[CV] lr__solver=newton-cg ............................................\n",
            "[CV] ................ lr__solver=newton-cg, score=0.532, total= 4.9min\n",
            "[CV] lr__solver=newton-cg ............................................\n",
            "[CV] ................ lr__solver=newton-cg, score=0.539, total= 4.5min\n",
            "[CV] lr__solver=newton-cg ............................................\n",
            "[CV] ................ lr__solver=newton-cg, score=0.536, total= 4.6min\n",
            "[CV] lr__solver=lbfgs ................................................\n"
          ],
          "name": "stdout"
        },
        {
          "output_type": "stream",
          "text": [
            "/usr/local/lib/python3.7/dist-packages/sklearn/linear_model/_logistic.py:940: ConvergenceWarning: lbfgs failed to converge (status=1):\n",
            "STOP: TOTAL NO. of ITERATIONS REACHED LIMIT.\n",
            "\n",
            "Increase the number of iterations (max_iter) or scale the data as shown in:\n",
            "    https://scikit-learn.org/stable/modules/preprocessing.html\n",
            "Please also refer to the documentation for alternative solver options:\n",
            "    https://scikit-learn.org/stable/modules/linear_model.html#logistic-regression\n",
            "  extra_warning_msg=_LOGISTIC_SOLVER_CONVERGENCE_MSG)\n"
          ],
          "name": "stderr"
        },
        {
          "output_type": "stream",
          "text": [
            "[CV] .................... lr__solver=lbfgs, score=0.491, total=  31.0s\n",
            "[CV] lr__solver=lbfgs ................................................\n"
          ],
          "name": "stdout"
        },
        {
          "output_type": "stream",
          "text": [
            "/usr/local/lib/python3.7/dist-packages/sklearn/linear_model/_logistic.py:940: ConvergenceWarning: lbfgs failed to converge (status=1):\n",
            "STOP: TOTAL NO. of ITERATIONS REACHED LIMIT.\n",
            "\n",
            "Increase the number of iterations (max_iter) or scale the data as shown in:\n",
            "    https://scikit-learn.org/stable/modules/preprocessing.html\n",
            "Please also refer to the documentation for alternative solver options:\n",
            "    https://scikit-learn.org/stable/modules/linear_model.html#logistic-regression\n",
            "  extra_warning_msg=_LOGISTIC_SOLVER_CONVERGENCE_MSG)\n"
          ],
          "name": "stderr"
        },
        {
          "output_type": "stream",
          "text": [
            "[CV] .................... lr__solver=lbfgs, score=0.515, total=  30.7s\n",
            "[CV] lr__solver=lbfgs ................................................\n"
          ],
          "name": "stdout"
        },
        {
          "output_type": "stream",
          "text": [
            "/usr/local/lib/python3.7/dist-packages/sklearn/linear_model/_logistic.py:940: ConvergenceWarning: lbfgs failed to converge (status=1):\n",
            "STOP: TOTAL NO. of ITERATIONS REACHED LIMIT.\n",
            "\n",
            "Increase the number of iterations (max_iter) or scale the data as shown in:\n",
            "    https://scikit-learn.org/stable/modules/preprocessing.html\n",
            "Please also refer to the documentation for alternative solver options:\n",
            "    https://scikit-learn.org/stable/modules/linear_model.html#logistic-regression\n",
            "  extra_warning_msg=_LOGISTIC_SOLVER_CONVERGENCE_MSG)\n"
          ],
          "name": "stderr"
        },
        {
          "output_type": "stream",
          "text": [
            "[CV] .................... lr__solver=lbfgs, score=0.494, total=  30.0s\n",
            "[CV] lr__solver=lbfgs ................................................\n"
          ],
          "name": "stdout"
        },
        {
          "output_type": "stream",
          "text": [
            "/usr/local/lib/python3.7/dist-packages/sklearn/linear_model/_logistic.py:940: ConvergenceWarning: lbfgs failed to converge (status=1):\n",
            "STOP: TOTAL NO. of ITERATIONS REACHED LIMIT.\n",
            "\n",
            "Increase the number of iterations (max_iter) or scale the data as shown in:\n",
            "    https://scikit-learn.org/stable/modules/preprocessing.html\n",
            "Please also refer to the documentation for alternative solver options:\n",
            "    https://scikit-learn.org/stable/modules/linear_model.html#logistic-regression\n",
            "  extra_warning_msg=_LOGISTIC_SOLVER_CONVERGENCE_MSG)\n"
          ],
          "name": "stderr"
        },
        {
          "output_type": "stream",
          "text": [
            "[CV] .................... lr__solver=lbfgs, score=0.502, total=  31.0s\n",
            "[CV] lr__solver=lbfgs ................................................\n"
          ],
          "name": "stdout"
        },
        {
          "output_type": "stream",
          "text": [
            "/usr/local/lib/python3.7/dist-packages/sklearn/linear_model/_logistic.py:940: ConvergenceWarning: lbfgs failed to converge (status=1):\n",
            "STOP: TOTAL NO. of ITERATIONS REACHED LIMIT.\n",
            "\n",
            "Increase the number of iterations (max_iter) or scale the data as shown in:\n",
            "    https://scikit-learn.org/stable/modules/preprocessing.html\n",
            "Please also refer to the documentation for alternative solver options:\n",
            "    https://scikit-learn.org/stable/modules/linear_model.html#logistic-regression\n",
            "  extra_warning_msg=_LOGISTIC_SOLVER_CONVERGENCE_MSG)\n"
          ],
          "name": "stderr"
        },
        {
          "output_type": "stream",
          "text": [
            "[CV] .................... lr__solver=lbfgs, score=0.506, total=  30.1s\n",
            "[CV] lr__solver=liblinear ............................................\n",
            "[CV] ................ lr__solver=liblinear, score=0.518, total= 4.2min\n",
            "[CV] lr__solver=liblinear ............................................\n",
            "[CV] ................ lr__solver=liblinear, score=0.530, total= 4.2min\n",
            "[CV] lr__solver=liblinear ............................................\n",
            "[CV] ................ lr__solver=liblinear, score=0.523, total= 4.1min\n",
            "[CV] lr__solver=liblinear ............................................\n",
            "[CV] ................ lr__solver=liblinear, score=0.523, total= 4.3min\n",
            "[CV] lr__solver=liblinear ............................................\n",
            "[CV] ................ lr__solver=liblinear, score=0.527, total= 4.1min\n",
            "[CV] lr__solver=saga .................................................\n"
          ],
          "name": "stdout"
        },
        {
          "output_type": "stream",
          "text": [
            "/usr/local/lib/python3.7/dist-packages/sklearn/linear_model/_sag.py:330: ConvergenceWarning: The max_iter was reached which means the coef_ did not converge\n",
            "  \"the coef_ did not converge\", ConvergenceWarning)\n"
          ],
          "name": "stderr"
        },
        {
          "output_type": "stream",
          "text": [
            "[CV] ..................... lr__solver=saga, score=0.515, total= 2.9min\n",
            "[CV] lr__solver=saga .................................................\n"
          ],
          "name": "stdout"
        },
        {
          "output_type": "stream",
          "text": [
            "/usr/local/lib/python3.7/dist-packages/sklearn/linear_model/_sag.py:330: ConvergenceWarning: The max_iter was reached which means the coef_ did not converge\n",
            "  \"the coef_ did not converge\", ConvergenceWarning)\n"
          ],
          "name": "stderr"
        },
        {
          "output_type": "stream",
          "text": [
            "[CV] ..................... lr__solver=saga, score=0.525, total= 2.9min\n",
            "[CV] lr__solver=saga .................................................\n"
          ],
          "name": "stdout"
        },
        {
          "output_type": "stream",
          "text": [
            "/usr/local/lib/python3.7/dist-packages/sklearn/linear_model/_sag.py:330: ConvergenceWarning: The max_iter was reached which means the coef_ did not converge\n",
            "  \"the coef_ did not converge\", ConvergenceWarning)\n"
          ],
          "name": "stderr"
        },
        {
          "output_type": "stream",
          "text": [
            "[CV] ..................... lr__solver=saga, score=0.512, total= 2.9min\n",
            "[CV] lr__solver=saga .................................................\n"
          ],
          "name": "stdout"
        },
        {
          "output_type": "stream",
          "text": [
            "/usr/local/lib/python3.7/dist-packages/sklearn/linear_model/_sag.py:330: ConvergenceWarning: The max_iter was reached which means the coef_ did not converge\n",
            "  \"the coef_ did not converge\", ConvergenceWarning)\n"
          ],
          "name": "stderr"
        },
        {
          "output_type": "stream",
          "text": [
            "[CV] ..................... lr__solver=saga, score=0.523, total= 2.8min\n",
            "[CV] lr__solver=saga .................................................\n"
          ],
          "name": "stdout"
        },
        {
          "output_type": "stream",
          "text": [
            "/usr/local/lib/python3.7/dist-packages/sklearn/linear_model/_sag.py:330: ConvergenceWarning: The max_iter was reached which means the coef_ did not converge\n",
            "  \"the coef_ did not converge\", ConvergenceWarning)\n",
            "[Parallel(n_jobs=1)]: Done  25 out of  25 | elapsed: 72.9min finished\n"
          ],
          "name": "stderr"
        },
        {
          "output_type": "stream",
          "text": [
            "[CV] ..................... lr__solver=saga, score=0.520, total= 2.8min\n",
            "24/02/2021 14:09:35, grid search complete\n",
            "                             precision    recall  f1-score   support\n",
            "\n",
            "                Anne Bronte       0.29      0.01      0.02       177\n",
            "    Bell AKA Bronte Sisters       0.48      0.34      0.40       161\n",
            "           Charlotte Bronte       0.00      0.00      0.00        13\n",
            "Edith Rickert & Gleb Botkin       0.00      0.00      0.00        29\n",
            "               Emily Bronte       0.21      0.04      0.06       426\n",
            "              Ethel M. Dell       0.60      0.80      0.68      1737\n",
            "          Fyodor Dostoevsky       0.49      0.52      0.50      1118\n",
            "                Jane Austen       0.52      0.53      0.52       529\n",
            "                    Various       0.46      0.40      0.43       435\n",
            "\n",
            "                   accuracy                           0.54      4625\n",
            "                  macro avg       0.34      0.29      0.29      4625\n",
            "               weighted avg       0.49      0.54      0.50      4625\n",
            "\n",
            "Pipeline(memory=None,\n",
            "         steps=[('s', MaxAbsScaler(copy=True)),\n",
            "                ('lr',\n",
            "                 LogisticRegression(C=1.0, class_weight=None, dual=False,\n",
            "                                    fit_intercept=True, intercept_scaling=1,\n",
            "                                    l1_ratio=None, max_iter=100,\n",
            "                                    multi_class='auto', n_jobs=None,\n",
            "                                    penalty='l2', random_state=None,\n",
            "                                    solver='newton-cg', tol=0.0001, verbose=0,\n",
            "                                    warm_start=False))],\n",
            "         verbose=False)\n"
          ],
          "name": "stdout"
        }
      ]
    },
    {
      "cell_type": "markdown",
      "metadata": {
        "id": "wd31lhlUhVPn"
      },
      "source": [
        "## Decision Tree\r\n",
        "\r\n",
        "```\r\n",
        "                             precision    recall  f1-score   support\r\n",
        "\r\n",
        "                Anne Bronte       0.09      0.09      0.09       177\r\n",
        "    Bell AKA Bronte Sisters       0.17      0.16      0.17       161\r\n",
        "           Charlotte Bronte       0.15      0.23      0.18        13\r\n",
        "Edith Rickert & Gleb Botkin       0.15      0.14      0.14        29\r\n",
        "               Emily Bronte       0.16      0.16      0.16       426\r\n",
        "              Ethel M. Dell       0.56      0.56      0.56      1737\r\n",
        "          Fyodor Dostoevsky       0.34      0.33      0.34      1118\r\n",
        "                Jane Austen       0.32      0.32      0.32       529\r\n",
        "                    Various       0.30      0.32      0.31       435\r\n",
        "\r\n",
        "                   accuracy                           0.38      4625\r\n",
        "                  macro avg       0.25      0.26      0.25      4625\r\n",
        "               weighted avg       0.38      0.38      0.38      4625\r\n",
        "\r\n",
        "```\r\n",
        "\r\n",
        "\r\n"
      ]
    },
    {
      "cell_type": "code",
      "metadata": {
        "id": "0O6h1J11Dat7"
      },
      "source": [
        "from sklearn.tree import DecisionTreeClassifier"
      ],
      "execution_count": 11,
      "outputs": []
    },
    {
      "cell_type": "code",
      "metadata": {
        "colab": {
          "base_uri": "https://localhost:8080/"
        },
        "id": "Te6OXBeFhb5Q",
        "outputId": "c12fcd5b-d665-4152-9a98-1145c2bf581c"
      },
      "source": [
        "pipeline = Pipeline([('s', MinMaxScaler()), ('dt', DecisionTreeClassifier())])\r\n",
        "params =  {\r\n",
        "          's__feature_range' : [(0, abs(X).max()), (0, 1), (0, 2*abs(X).max())],\r\n",
        "          'dt__max_depth': [n for n in range(25, 500, 50)] \r\n",
        "         }\r\n",
        "\r\n",
        "search = GridSearchCV(pipeline, params, cv=5, verbose=3)\r\n",
        "print(f'{dt.datetime.now().strftime(\"%d/%m/%Y %H:%M:%S\")}, started grid search')\r\n",
        "search.fit(X_train, y_train)\r\n",
        "print(f'{dt.datetime.now().strftime(\"%d/%m/%Y %H:%M:%S\")}, grid search complete')\r\n",
        "    \r\n",
        "bow_model = search.best_estimator_\r\n",
        "\r\n",
        "bow_model.fit(X_train, y_train)\r\n",
        "y_pred = bow_model.predict(X_test)\r\n",
        "    \r\n",
        "print(classification_report(y_test, y_pred))\r\n",
        "print(bow_model)"
      ],
      "execution_count": 12,
      "outputs": [
        {
          "output_type": "stream",
          "text": [
            "24/02/2021 15:03:43, started grid search\n",
            "Fitting 5 folds for each of 30 candidates, totalling 150 fits\n",
            "[CV] dt__max_depth=25, s__feature_range=(0, 1.8113512992858887) ......\n"
          ],
          "name": "stdout"
        },
        {
          "output_type": "stream",
          "text": [
            "[Parallel(n_jobs=1)]: Using backend SequentialBackend with 1 concurrent workers.\n"
          ],
          "name": "stderr"
        },
        {
          "output_type": "stream",
          "text": [
            "[CV]  dt__max_depth=25, s__feature_range=(0, 1.8113512992858887), score=0.376, total= 1.1min\n",
            "[CV] dt__max_depth=25, s__feature_range=(0, 1.8113512992858887) ......\n"
          ],
          "name": "stdout"
        },
        {
          "output_type": "stream",
          "text": [
            "[Parallel(n_jobs=1)]: Done   1 out of   1 | elapsed:  1.1min remaining:    0.0s\n"
          ],
          "name": "stderr"
        },
        {
          "output_type": "stream",
          "text": [
            "[CV]  dt__max_depth=25, s__feature_range=(0, 1.8113512992858887), score=0.375, total= 1.2min\n",
            "[CV] dt__max_depth=25, s__feature_range=(0, 1.8113512992858887) ......\n"
          ],
          "name": "stdout"
        },
        {
          "output_type": "stream",
          "text": [
            "[Parallel(n_jobs=1)]: Done   2 out of   2 | elapsed:  2.3min remaining:    0.0s\n"
          ],
          "name": "stderr"
        },
        {
          "output_type": "stream",
          "text": [
            "[CV]  dt__max_depth=25, s__feature_range=(0, 1.8113512992858887), score=0.392, total= 1.1min\n",
            "[CV] dt__max_depth=25, s__feature_range=(0, 1.8113512992858887) ......\n",
            "[CV]  dt__max_depth=25, s__feature_range=(0, 1.8113512992858887), score=0.396, total= 1.2min\n",
            "[CV] dt__max_depth=25, s__feature_range=(0, 1.8113512992858887) ......\n",
            "[CV]  dt__max_depth=25, s__feature_range=(0, 1.8113512992858887), score=0.387, total= 1.1min\n",
            "[CV] dt__max_depth=25, s__feature_range=(0, 1) .......................\n",
            "[CV]  dt__max_depth=25, s__feature_range=(0, 1), score=0.380, total= 1.1min\n",
            "[CV] dt__max_depth=25, s__feature_range=(0, 1) .......................\n",
            "[CV]  dt__max_depth=25, s__feature_range=(0, 1), score=0.386, total= 1.2min\n",
            "[CV] dt__max_depth=25, s__feature_range=(0, 1) .......................\n",
            "[CV]  dt__max_depth=25, s__feature_range=(0, 1), score=0.396, total= 1.1min\n",
            "[CV] dt__max_depth=25, s__feature_range=(0, 1) .......................\n",
            "[CV]  dt__max_depth=25, s__feature_range=(0, 1), score=0.397, total= 1.2min\n",
            "[CV] dt__max_depth=25, s__feature_range=(0, 1) .......................\n",
            "[CV]  dt__max_depth=25, s__feature_range=(0, 1), score=0.375, total= 1.1min\n",
            "[CV] dt__max_depth=25, s__feature_range=(0, 3.6227025985717773) ......\n",
            "[CV]  dt__max_depth=25, s__feature_range=(0, 3.6227025985717773), score=0.375, total= 1.1min\n",
            "[CV] dt__max_depth=25, s__feature_range=(0, 3.6227025985717773) ......\n",
            "[CV]  dt__max_depth=25, s__feature_range=(0, 3.6227025985717773), score=0.382, total= 1.2min\n",
            "[CV] dt__max_depth=25, s__feature_range=(0, 3.6227025985717773) ......\n",
            "[CV]  dt__max_depth=25, s__feature_range=(0, 3.6227025985717773), score=0.398, total= 1.1min\n",
            "[CV] dt__max_depth=25, s__feature_range=(0, 3.6227025985717773) ......\n",
            "[CV]  dt__max_depth=25, s__feature_range=(0, 3.6227025985717773), score=0.401, total= 1.2min\n",
            "[CV] dt__max_depth=25, s__feature_range=(0, 3.6227025985717773) ......\n",
            "[CV]  dt__max_depth=25, s__feature_range=(0, 3.6227025985717773), score=0.376, total= 1.1min\n",
            "[CV] dt__max_depth=75, s__feature_range=(0, 1.8113512992858887) ......\n",
            "[CV]  dt__max_depth=75, s__feature_range=(0, 1.8113512992858887), score=0.374, total= 1.1min\n",
            "[CV] dt__max_depth=75, s__feature_range=(0, 1.8113512992858887) ......\n",
            "[CV]  dt__max_depth=75, s__feature_range=(0, 1.8113512992858887), score=0.369, total= 1.2min\n",
            "[CV] dt__max_depth=75, s__feature_range=(0, 1.8113512992858887) ......\n",
            "[CV]  dt__max_depth=75, s__feature_range=(0, 1.8113512992858887), score=0.383, total= 1.2min\n",
            "[CV] dt__max_depth=75, s__feature_range=(0, 1.8113512992858887) ......\n",
            "[CV]  dt__max_depth=75, s__feature_range=(0, 1.8113512992858887), score=0.391, total= 1.2min\n",
            "[CV] dt__max_depth=75, s__feature_range=(0, 1.8113512992858887) ......\n",
            "[CV]  dt__max_depth=75, s__feature_range=(0, 1.8113512992858887), score=0.376, total= 1.2min\n",
            "[CV] dt__max_depth=75, s__feature_range=(0, 1) .......................\n",
            "[CV]  dt__max_depth=75, s__feature_range=(0, 1), score=0.373, total= 1.1min\n",
            "[CV] dt__max_depth=75, s__feature_range=(0, 1) .......................\n",
            "[CV]  dt__max_depth=75, s__feature_range=(0, 1), score=0.376, total= 1.2min\n",
            "[CV] dt__max_depth=75, s__feature_range=(0, 1) .......................\n",
            "[CV]  dt__max_depth=75, s__feature_range=(0, 1), score=0.397, total= 1.2min\n",
            "[CV] dt__max_depth=75, s__feature_range=(0, 1) .......................\n",
            "[CV]  dt__max_depth=75, s__feature_range=(0, 1), score=0.390, total= 1.2min\n",
            "[CV] dt__max_depth=75, s__feature_range=(0, 1) .......................\n",
            "[CV]  dt__max_depth=75, s__feature_range=(0, 1), score=0.372, total= 1.2min\n",
            "[CV] dt__max_depth=75, s__feature_range=(0, 3.6227025985717773) ......\n",
            "[CV]  dt__max_depth=75, s__feature_range=(0, 3.6227025985717773), score=0.371, total= 1.1min\n",
            "[CV] dt__max_depth=75, s__feature_range=(0, 3.6227025985717773) ......\n",
            "[CV]  dt__max_depth=75, s__feature_range=(0, 3.6227025985717773), score=0.371, total= 1.2min\n",
            "[CV] dt__max_depth=75, s__feature_range=(0, 3.6227025985717773) ......\n",
            "[CV]  dt__max_depth=75, s__feature_range=(0, 3.6227025985717773), score=0.386, total= 1.2min\n",
            "[CV] dt__max_depth=75, s__feature_range=(0, 3.6227025985717773) ......\n",
            "[CV]  dt__max_depth=75, s__feature_range=(0, 3.6227025985717773), score=0.389, total= 1.2min\n",
            "[CV] dt__max_depth=75, s__feature_range=(0, 3.6227025985717773) ......\n",
            "[CV]  dt__max_depth=75, s__feature_range=(0, 3.6227025985717773), score=0.377, total= 1.2min\n",
            "[CV] dt__max_depth=125, s__feature_range=(0, 1.8113512992858887) .....\n",
            "[CV]  dt__max_depth=125, s__feature_range=(0, 1.8113512992858887), score=0.371, total= 1.1min\n",
            "[CV] dt__max_depth=125, s__feature_range=(0, 1.8113512992858887) .....\n",
            "[CV]  dt__max_depth=125, s__feature_range=(0, 1.8113512992858887), score=0.369, total= 1.3min\n",
            "[CV] dt__max_depth=125, s__feature_range=(0, 1.8113512992858887) .....\n",
            "[CV]  dt__max_depth=125, s__feature_range=(0, 1.8113512992858887), score=0.389, total= 1.2min\n",
            "[CV] dt__max_depth=125, s__feature_range=(0, 1.8113512992858887) .....\n",
            "[CV]  dt__max_depth=125, s__feature_range=(0, 1.8113512992858887), score=0.385, total= 1.2min\n",
            "[CV] dt__max_depth=125, s__feature_range=(0, 1.8113512992858887) .....\n",
            "[CV]  dt__max_depth=125, s__feature_range=(0, 1.8113512992858887), score=0.375, total= 1.2min\n",
            "[CV] dt__max_depth=125, s__feature_range=(0, 1) ......................\n",
            "[CV]  dt__max_depth=125, s__feature_range=(0, 1), score=0.365, total= 1.1min\n",
            "[CV] dt__max_depth=125, s__feature_range=(0, 1) ......................\n",
            "[CV]  dt__max_depth=125, s__feature_range=(0, 1), score=0.365, total= 1.2min\n",
            "[CV] dt__max_depth=125, s__feature_range=(0, 1) ......................\n",
            "[CV]  dt__max_depth=125, s__feature_range=(0, 1), score=0.388, total= 1.2min\n",
            "[CV] dt__max_depth=125, s__feature_range=(0, 1) ......................\n",
            "[CV]  dt__max_depth=125, s__feature_range=(0, 1), score=0.389, total= 1.2min\n",
            "[CV] dt__max_depth=125, s__feature_range=(0, 1) ......................\n",
            "[CV]  dt__max_depth=125, s__feature_range=(0, 1), score=0.376, total= 1.2min\n",
            "[CV] dt__max_depth=125, s__feature_range=(0, 3.6227025985717773) .....\n",
            "[CV]  dt__max_depth=125, s__feature_range=(0, 3.6227025985717773), score=0.381, total= 1.1min\n",
            "[CV] dt__max_depth=125, s__feature_range=(0, 3.6227025985717773) .....\n",
            "[CV]  dt__max_depth=125, s__feature_range=(0, 3.6227025985717773), score=0.371, total= 1.2min\n",
            "[CV] dt__max_depth=125, s__feature_range=(0, 3.6227025985717773) .....\n",
            "[CV]  dt__max_depth=125, s__feature_range=(0, 3.6227025985717773), score=0.397, total= 1.2min\n",
            "[CV] dt__max_depth=125, s__feature_range=(0, 3.6227025985717773) .....\n",
            "[CV]  dt__max_depth=125, s__feature_range=(0, 3.6227025985717773), score=0.388, total= 1.2min\n",
            "[CV] dt__max_depth=125, s__feature_range=(0, 3.6227025985717773) .....\n",
            "[CV]  dt__max_depth=125, s__feature_range=(0, 3.6227025985717773), score=0.374, total= 1.2min\n",
            "[CV] dt__max_depth=175, s__feature_range=(0, 1.8113512992858887) .....\n",
            "[CV]  dt__max_depth=175, s__feature_range=(0, 1.8113512992858887), score=0.379, total= 1.1min\n",
            "[CV] dt__max_depth=175, s__feature_range=(0, 1.8113512992858887) .....\n",
            "[CV]  dt__max_depth=175, s__feature_range=(0, 1.8113512992858887), score=0.372, total= 1.2min\n",
            "[CV] dt__max_depth=175, s__feature_range=(0, 1.8113512992858887) .....\n",
            "[CV]  dt__max_depth=175, s__feature_range=(0, 1.8113512992858887), score=0.390, total= 1.2min\n",
            "[CV] dt__max_depth=175, s__feature_range=(0, 1.8113512992858887) .....\n",
            "[CV]  dt__max_depth=175, s__feature_range=(0, 1.8113512992858887), score=0.391, total= 1.2min\n",
            "[CV] dt__max_depth=175, s__feature_range=(0, 1.8113512992858887) .....\n",
            "[CV]  dt__max_depth=175, s__feature_range=(0, 1.8113512992858887), score=0.381, total= 1.2min\n",
            "[CV] dt__max_depth=175, s__feature_range=(0, 1) ......................\n",
            "[CV]  dt__max_depth=175, s__feature_range=(0, 1), score=0.373, total= 1.1min\n",
            "[CV] dt__max_depth=175, s__feature_range=(0, 1) ......................\n",
            "[CV]  dt__max_depth=175, s__feature_range=(0, 1), score=0.368, total= 1.2min\n",
            "[CV] dt__max_depth=175, s__feature_range=(0, 1) ......................\n",
            "[CV]  dt__max_depth=175, s__feature_range=(0, 1), score=0.399, total= 1.2min\n",
            "[CV] dt__max_depth=175, s__feature_range=(0, 1) ......................\n",
            "[CV]  dt__max_depth=175, s__feature_range=(0, 1), score=0.389, total= 1.2min\n",
            "[CV] dt__max_depth=175, s__feature_range=(0, 1) ......................\n",
            "[CV]  dt__max_depth=175, s__feature_range=(0, 1), score=0.369, total= 1.2min\n",
            "[CV] dt__max_depth=175, s__feature_range=(0, 3.6227025985717773) .....\n",
            "[CV]  dt__max_depth=175, s__feature_range=(0, 3.6227025985717773), score=0.375, total= 1.1min\n",
            "[CV] dt__max_depth=175, s__feature_range=(0, 3.6227025985717773) .....\n",
            "[CV]  dt__max_depth=175, s__feature_range=(0, 3.6227025985717773), score=0.372, total= 1.2min\n",
            "[CV] dt__max_depth=175, s__feature_range=(0, 3.6227025985717773) .....\n",
            "[CV]  dt__max_depth=175, s__feature_range=(0, 3.6227025985717773), score=0.386, total= 1.2min\n",
            "[CV] dt__max_depth=175, s__feature_range=(0, 3.6227025985717773) .....\n",
            "[CV]  dt__max_depth=175, s__feature_range=(0, 3.6227025985717773), score=0.390, total= 1.2min\n",
            "[CV] dt__max_depth=175, s__feature_range=(0, 3.6227025985717773) .....\n",
            "[CV]  dt__max_depth=175, s__feature_range=(0, 3.6227025985717773), score=0.373, total= 1.2min\n",
            "[CV] dt__max_depth=225, s__feature_range=(0, 1.8113512992858887) .....\n",
            "[CV]  dt__max_depth=225, s__feature_range=(0, 1.8113512992858887), score=0.376, total= 1.1min\n",
            "[CV] dt__max_depth=225, s__feature_range=(0, 1.8113512992858887) .....\n",
            "[CV]  dt__max_depth=225, s__feature_range=(0, 1.8113512992858887), score=0.375, total= 1.2min\n",
            "[CV] dt__max_depth=225, s__feature_range=(0, 1.8113512992858887) .....\n",
            "[CV]  dt__max_depth=225, s__feature_range=(0, 1.8113512992858887), score=0.395, total= 1.2min\n",
            "[CV] dt__max_depth=225, s__feature_range=(0, 1.8113512992858887) .....\n",
            "[CV]  dt__max_depth=225, s__feature_range=(0, 1.8113512992858887), score=0.391, total= 1.2min\n",
            "[CV] dt__max_depth=225, s__feature_range=(0, 1.8113512992858887) .....\n",
            "[CV]  dt__max_depth=225, s__feature_range=(0, 1.8113512992858887), score=0.380, total= 1.2min\n",
            "[CV] dt__max_depth=225, s__feature_range=(0, 1) ......................\n",
            "[CV]  dt__max_depth=225, s__feature_range=(0, 1), score=0.376, total= 1.1min\n",
            "[CV] dt__max_depth=225, s__feature_range=(0, 1) ......................\n",
            "[CV]  dt__max_depth=225, s__feature_range=(0, 1), score=0.374, total= 1.2min\n",
            "[CV] dt__max_depth=225, s__feature_range=(0, 1) ......................\n",
            "[CV]  dt__max_depth=225, s__feature_range=(0, 1), score=0.391, total= 1.2min\n",
            "[CV] dt__max_depth=225, s__feature_range=(0, 1) ......................\n",
            "[CV]  dt__max_depth=225, s__feature_range=(0, 1), score=0.388, total= 1.2min\n",
            "[CV] dt__max_depth=225, s__feature_range=(0, 1) ......................\n",
            "[CV]  dt__max_depth=225, s__feature_range=(0, 1), score=0.370, total= 1.2min\n",
            "[CV] dt__max_depth=225, s__feature_range=(0, 3.6227025985717773) .....\n",
            "[CV]  dt__max_depth=225, s__feature_range=(0, 3.6227025985717773), score=0.374, total= 1.1min\n",
            "[CV] dt__max_depth=225, s__feature_range=(0, 3.6227025985717773) .....\n",
            "[CV]  dt__max_depth=225, s__feature_range=(0, 3.6227025985717773), score=0.372, total= 1.2min\n",
            "[CV] dt__max_depth=225, s__feature_range=(0, 3.6227025985717773) .....\n",
            "[CV]  dt__max_depth=225, s__feature_range=(0, 3.6227025985717773), score=0.386, total= 1.2min\n",
            "[CV] dt__max_depth=225, s__feature_range=(0, 3.6227025985717773) .....\n",
            "[CV]  dt__max_depth=225, s__feature_range=(0, 3.6227025985717773), score=0.385, total= 1.2min\n",
            "[CV] dt__max_depth=225, s__feature_range=(0, 3.6227025985717773) .....\n",
            "[CV]  dt__max_depth=225, s__feature_range=(0, 3.6227025985717773), score=0.378, total= 1.2min\n",
            "[CV] dt__max_depth=275, s__feature_range=(0, 1.8113512992858887) .....\n",
            "[CV]  dt__max_depth=275, s__feature_range=(0, 1.8113512992858887), score=0.365, total= 1.1min\n",
            "[CV] dt__max_depth=275, s__feature_range=(0, 1.8113512992858887) .....\n",
            "[CV]  dt__max_depth=275, s__feature_range=(0, 1.8113512992858887), score=0.375, total= 1.2min\n",
            "[CV] dt__max_depth=275, s__feature_range=(0, 1.8113512992858887) .....\n",
            "[CV]  dt__max_depth=275, s__feature_range=(0, 1.8113512992858887), score=0.396, total= 1.2min\n",
            "[CV] dt__max_depth=275, s__feature_range=(0, 1.8113512992858887) .....\n",
            "[CV]  dt__max_depth=275, s__feature_range=(0, 1.8113512992858887), score=0.390, total= 1.2min\n",
            "[CV] dt__max_depth=275, s__feature_range=(0, 1.8113512992858887) .....\n",
            "[CV]  dt__max_depth=275, s__feature_range=(0, 1.8113512992858887), score=0.378, total= 1.2min\n",
            "[CV] dt__max_depth=275, s__feature_range=(0, 1) ......................\n",
            "[CV]  dt__max_depth=275, s__feature_range=(0, 1), score=0.377, total= 1.1min\n",
            "[CV] dt__max_depth=275, s__feature_range=(0, 1) ......................\n",
            "[CV]  dt__max_depth=275, s__feature_range=(0, 1), score=0.372, total= 1.3min\n",
            "[CV] dt__max_depth=275, s__feature_range=(0, 1) ......................\n",
            "[CV]  dt__max_depth=275, s__feature_range=(0, 1), score=0.383, total= 1.2min\n",
            "[CV] dt__max_depth=275, s__feature_range=(0, 1) ......................\n",
            "[CV]  dt__max_depth=275, s__feature_range=(0, 1), score=0.384, total= 1.2min\n",
            "[CV] dt__max_depth=275, s__feature_range=(0, 1) ......................\n",
            "[CV]  dt__max_depth=275, s__feature_range=(0, 1), score=0.374, total= 1.2min\n",
            "[CV] dt__max_depth=275, s__feature_range=(0, 3.6227025985717773) .....\n",
            "[CV]  dt__max_depth=275, s__feature_range=(0, 3.6227025985717773), score=0.377, total= 1.1min\n",
            "[CV] dt__max_depth=275, s__feature_range=(0, 3.6227025985717773) .....\n",
            "[CV]  dt__max_depth=275, s__feature_range=(0, 3.6227025985717773), score=0.368, total= 1.2min\n",
            "[CV] dt__max_depth=275, s__feature_range=(0, 3.6227025985717773) .....\n",
            "[CV]  dt__max_depth=275, s__feature_range=(0, 3.6227025985717773), score=0.384, total= 1.2min\n",
            "[CV] dt__max_depth=275, s__feature_range=(0, 3.6227025985717773) .....\n",
            "[CV]  dt__max_depth=275, s__feature_range=(0, 3.6227025985717773), score=0.390, total= 1.2min\n",
            "[CV] dt__max_depth=275, s__feature_range=(0, 3.6227025985717773) .....\n",
            "[CV]  dt__max_depth=275, s__feature_range=(0, 3.6227025985717773), score=0.372, total= 1.2min\n",
            "[CV] dt__max_depth=325, s__feature_range=(0, 1.8113512992858887) .....\n",
            "[CV]  dt__max_depth=325, s__feature_range=(0, 1.8113512992858887), score=0.370, total= 1.1min\n",
            "[CV] dt__max_depth=325, s__feature_range=(0, 1.8113512992858887) .....\n",
            "[CV]  dt__max_depth=325, s__feature_range=(0, 1.8113512992858887), score=0.369, total= 1.2min\n",
            "[CV] dt__max_depth=325, s__feature_range=(0, 1.8113512992858887) .....\n",
            "[CV]  dt__max_depth=325, s__feature_range=(0, 1.8113512992858887), score=0.390, total= 1.2min\n",
            "[CV] dt__max_depth=325, s__feature_range=(0, 1.8113512992858887) .....\n",
            "[CV]  dt__max_depth=325, s__feature_range=(0, 1.8113512992858887), score=0.387, total= 1.2min\n",
            "[CV] dt__max_depth=325, s__feature_range=(0, 1.8113512992858887) .....\n",
            "[CV]  dt__max_depth=325, s__feature_range=(0, 1.8113512992858887), score=0.374, total= 1.2min\n",
            "[CV] dt__max_depth=325, s__feature_range=(0, 1) ......................\n",
            "[CV]  dt__max_depth=325, s__feature_range=(0, 1), score=0.373, total= 1.1min\n",
            "[CV] dt__max_depth=325, s__feature_range=(0, 1) ......................\n",
            "[CV]  dt__max_depth=325, s__feature_range=(0, 1), score=0.371, total= 1.2min\n",
            "[CV] dt__max_depth=325, s__feature_range=(0, 1) ......................\n",
            "[CV]  dt__max_depth=325, s__feature_range=(0, 1), score=0.390, total= 1.2min\n",
            "[CV] dt__max_depth=325, s__feature_range=(0, 1) ......................\n",
            "[CV]  dt__max_depth=325, s__feature_range=(0, 1), score=0.384, total= 1.2min\n",
            "[CV] dt__max_depth=325, s__feature_range=(0, 1) ......................\n",
            "[CV]  dt__max_depth=325, s__feature_range=(0, 1), score=0.374, total= 1.2min\n",
            "[CV] dt__max_depth=325, s__feature_range=(0, 3.6227025985717773) .....\n",
            "[CV]  dt__max_depth=325, s__feature_range=(0, 3.6227025985717773), score=0.376, total= 1.1min\n",
            "[CV] dt__max_depth=325, s__feature_range=(0, 3.6227025985717773) .....\n",
            "[CV]  dt__max_depth=325, s__feature_range=(0, 3.6227025985717773), score=0.369, total= 1.2min\n",
            "[CV] dt__max_depth=325, s__feature_range=(0, 3.6227025985717773) .....\n",
            "[CV]  dt__max_depth=325, s__feature_range=(0, 3.6227025985717773), score=0.385, total= 1.2min\n",
            "[CV] dt__max_depth=325, s__feature_range=(0, 3.6227025985717773) .....\n",
            "[CV]  dt__max_depth=325, s__feature_range=(0, 3.6227025985717773), score=0.383, total= 1.2min\n",
            "[CV] dt__max_depth=325, s__feature_range=(0, 3.6227025985717773) .....\n",
            "[CV]  dt__max_depth=325, s__feature_range=(0, 3.6227025985717773), score=0.370, total= 1.2min\n",
            "[CV] dt__max_depth=375, s__feature_range=(0, 1.8113512992858887) .....\n",
            "[CV]  dt__max_depth=375, s__feature_range=(0, 1.8113512992858887), score=0.371, total= 1.1min\n",
            "[CV] dt__max_depth=375, s__feature_range=(0, 1.8113512992858887) .....\n",
            "[CV]  dt__max_depth=375, s__feature_range=(0, 1.8113512992858887), score=0.372, total= 1.2min\n",
            "[CV] dt__max_depth=375, s__feature_range=(0, 1.8113512992858887) .....\n",
            "[CV]  dt__max_depth=375, s__feature_range=(0, 1.8113512992858887), score=0.390, total= 1.2min\n",
            "[CV] dt__max_depth=375, s__feature_range=(0, 1.8113512992858887) .....\n",
            "[CV]  dt__max_depth=375, s__feature_range=(0, 1.8113512992858887), score=0.387, total= 1.2min\n",
            "[CV] dt__max_depth=375, s__feature_range=(0, 1.8113512992858887) .....\n",
            "[CV]  dt__max_depth=375, s__feature_range=(0, 1.8113512992858887), score=0.374, total= 1.2min\n",
            "[CV] dt__max_depth=375, s__feature_range=(0, 1) ......................\n",
            "[CV]  dt__max_depth=375, s__feature_range=(0, 1), score=0.375, total= 1.1min\n",
            "[CV] dt__max_depth=375, s__feature_range=(0, 1) ......................\n",
            "[CV]  dt__max_depth=375, s__feature_range=(0, 1), score=0.377, total= 1.2min\n",
            "[CV] dt__max_depth=375, s__feature_range=(0, 1) ......................\n",
            "[CV]  dt__max_depth=375, s__feature_range=(0, 1), score=0.394, total= 1.2min\n",
            "[CV] dt__max_depth=375, s__feature_range=(0, 1) ......................\n",
            "[CV]  dt__max_depth=375, s__feature_range=(0, 1), score=0.388, total= 1.2min\n",
            "[CV] dt__max_depth=375, s__feature_range=(0, 1) ......................\n",
            "[CV]  dt__max_depth=375, s__feature_range=(0, 1), score=0.371, total= 1.2min\n",
            "[CV] dt__max_depth=375, s__feature_range=(0, 3.6227025985717773) .....\n",
            "[CV]  dt__max_depth=375, s__feature_range=(0, 3.6227025985717773), score=0.373, total= 1.1min\n",
            "[CV] dt__max_depth=375, s__feature_range=(0, 3.6227025985717773) .....\n",
            "[CV]  dt__max_depth=375, s__feature_range=(0, 3.6227025985717773), score=0.379, total= 1.2min\n",
            "[CV] dt__max_depth=375, s__feature_range=(0, 3.6227025985717773) .....\n",
            "[CV]  dt__max_depth=375, s__feature_range=(0, 3.6227025985717773), score=0.389, total= 1.2min\n",
            "[CV] dt__max_depth=375, s__feature_range=(0, 3.6227025985717773) .....\n",
            "[CV]  dt__max_depth=375, s__feature_range=(0, 3.6227025985717773), score=0.384, total= 1.2min\n",
            "[CV] dt__max_depth=375, s__feature_range=(0, 3.6227025985717773) .....\n",
            "[CV]  dt__max_depth=375, s__feature_range=(0, 3.6227025985717773), score=0.374, total= 1.2min\n",
            "[CV] dt__max_depth=425, s__feature_range=(0, 1.8113512992858887) .....\n",
            "[CV]  dt__max_depth=425, s__feature_range=(0, 1.8113512992858887), score=0.378, total= 1.1min\n",
            "[CV] dt__max_depth=425, s__feature_range=(0, 1.8113512992858887) .....\n",
            "[CV]  dt__max_depth=425, s__feature_range=(0, 1.8113512992858887), score=0.372, total= 1.2min\n",
            "[CV] dt__max_depth=425, s__feature_range=(0, 1.8113512992858887) .....\n",
            "[CV]  dt__max_depth=425, s__feature_range=(0, 1.8113512992858887), score=0.389, total= 1.2min\n",
            "[CV] dt__max_depth=425, s__feature_range=(0, 1.8113512992858887) .....\n",
            "[CV]  dt__max_depth=425, s__feature_range=(0, 1.8113512992858887), score=0.389, total= 1.2min\n",
            "[CV] dt__max_depth=425, s__feature_range=(0, 1.8113512992858887) .....\n",
            "[CV]  dt__max_depth=425, s__feature_range=(0, 1.8113512992858887), score=0.382, total= 1.2min\n",
            "[CV] dt__max_depth=425, s__feature_range=(0, 1) ......................\n",
            "[CV]  dt__max_depth=425, s__feature_range=(0, 1), score=0.382, total= 1.1min\n",
            "[CV] dt__max_depth=425, s__feature_range=(0, 1) ......................\n",
            "[CV]  dt__max_depth=425, s__feature_range=(0, 1), score=0.374, total= 1.2min\n",
            "[CV] dt__max_depth=425, s__feature_range=(0, 1) ......................\n",
            "[CV]  dt__max_depth=425, s__feature_range=(0, 1), score=0.396, total= 1.2min\n",
            "[CV] dt__max_depth=425, s__feature_range=(0, 1) ......................\n",
            "[CV]  dt__max_depth=425, s__feature_range=(0, 1), score=0.386, total= 1.2min\n",
            "[CV] dt__max_depth=425, s__feature_range=(0, 1) ......................\n",
            "[CV]  dt__max_depth=425, s__feature_range=(0, 1), score=0.372, total= 1.2min\n",
            "[CV] dt__max_depth=425, s__feature_range=(0, 3.6227025985717773) .....\n",
            "[CV]  dt__max_depth=425, s__feature_range=(0, 3.6227025985717773), score=0.376, total= 1.1min\n",
            "[CV] dt__max_depth=425, s__feature_range=(0, 3.6227025985717773) .....\n",
            "[CV]  dt__max_depth=425, s__feature_range=(0, 3.6227025985717773), score=0.371, total= 1.2min\n",
            "[CV] dt__max_depth=425, s__feature_range=(0, 3.6227025985717773) .....\n",
            "[CV]  dt__max_depth=425, s__feature_range=(0, 3.6227025985717773), score=0.396, total= 1.2min\n",
            "[CV] dt__max_depth=425, s__feature_range=(0, 3.6227025985717773) .....\n",
            "[CV]  dt__max_depth=425, s__feature_range=(0, 3.6227025985717773), score=0.379, total= 1.2min\n",
            "[CV] dt__max_depth=425, s__feature_range=(0, 3.6227025985717773) .....\n",
            "[CV]  dt__max_depth=425, s__feature_range=(0, 3.6227025985717773), score=0.385, total= 1.2min\n",
            "[CV] dt__max_depth=475, s__feature_range=(0, 1.8113512992858887) .....\n",
            "[CV]  dt__max_depth=475, s__feature_range=(0, 1.8113512992858887), score=0.371, total= 1.1min\n",
            "[CV] dt__max_depth=475, s__feature_range=(0, 1.8113512992858887) .....\n",
            "[CV]  dt__max_depth=475, s__feature_range=(0, 1.8113512992858887), score=0.373, total= 1.2min\n",
            "[CV] dt__max_depth=475, s__feature_range=(0, 1.8113512992858887) .....\n",
            "[CV]  dt__max_depth=475, s__feature_range=(0, 1.8113512992858887), score=0.391, total= 1.2min\n",
            "[CV] dt__max_depth=475, s__feature_range=(0, 1.8113512992858887) .....\n",
            "[CV]  dt__max_depth=475, s__feature_range=(0, 1.8113512992858887), score=0.390, total= 1.2min\n",
            "[CV] dt__max_depth=475, s__feature_range=(0, 1.8113512992858887) .....\n",
            "[CV]  dt__max_depth=475, s__feature_range=(0, 1.8113512992858887), score=0.381, total= 1.2min\n",
            "[CV] dt__max_depth=475, s__feature_range=(0, 1) ......................\n",
            "[CV]  dt__max_depth=475, s__feature_range=(0, 1), score=0.378, total= 1.1min\n",
            "[CV] dt__max_depth=475, s__feature_range=(0, 1) ......................\n",
            "[CV]  dt__max_depth=475, s__feature_range=(0, 1), score=0.368, total= 1.2min\n",
            "[CV] dt__max_depth=475, s__feature_range=(0, 1) ......................\n",
            "[CV]  dt__max_depth=475, s__feature_range=(0, 1), score=0.393, total= 1.2min\n",
            "[CV] dt__max_depth=475, s__feature_range=(0, 1) ......................\n",
            "[CV]  dt__max_depth=475, s__feature_range=(0, 1), score=0.382, total= 1.2min\n",
            "[CV] dt__max_depth=475, s__feature_range=(0, 1) ......................\n",
            "[CV]  dt__max_depth=475, s__feature_range=(0, 1), score=0.377, total= 1.2min\n",
            "[CV] dt__max_depth=475, s__feature_range=(0, 3.6227025985717773) .....\n",
            "[CV]  dt__max_depth=475, s__feature_range=(0, 3.6227025985717773), score=0.380, total= 1.1min\n",
            "[CV] dt__max_depth=475, s__feature_range=(0, 3.6227025985717773) .....\n",
            "[CV]  dt__max_depth=475, s__feature_range=(0, 3.6227025985717773), score=0.371, total= 1.2min\n",
            "[CV] dt__max_depth=475, s__feature_range=(0, 3.6227025985717773) .....\n",
            "[CV]  dt__max_depth=475, s__feature_range=(0, 3.6227025985717773), score=0.388, total= 1.2min\n",
            "[CV] dt__max_depth=475, s__feature_range=(0, 3.6227025985717773) .....\n",
            "[CV]  dt__max_depth=475, s__feature_range=(0, 3.6227025985717773), score=0.384, total= 1.2min\n",
            "[CV] dt__max_depth=475, s__feature_range=(0, 3.6227025985717773) .....\n",
            "[CV]  dt__max_depth=475, s__feature_range=(0, 3.6227025985717773), score=0.386, total= 1.2min\n"
          ],
          "name": "stdout"
        },
        {
          "output_type": "stream",
          "text": [
            "[Parallel(n_jobs=1)]: Done 150 out of 150 | elapsed: 177.8min finished\n"
          ],
          "name": "stderr"
        },
        {
          "output_type": "stream",
          "text": [
            "24/02/2021 18:02:58, grid search complete\n",
            "                             precision    recall  f1-score   support\n",
            "\n",
            "                Anne Bronte       0.09      0.09      0.09       177\n",
            "    Bell AKA Bronte Sisters       0.17      0.16      0.17       161\n",
            "           Charlotte Bronte       0.15      0.23      0.18        13\n",
            "Edith Rickert & Gleb Botkin       0.15      0.14      0.14        29\n",
            "               Emily Bronte       0.16      0.16      0.16       426\n",
            "              Ethel M. Dell       0.56      0.56      0.56      1737\n",
            "          Fyodor Dostoevsky       0.34      0.33      0.34      1118\n",
            "                Jane Austen       0.32      0.32      0.32       529\n",
            "                    Various       0.30      0.32      0.31       435\n",
            "\n",
            "                   accuracy                           0.38      4625\n",
            "                  macro avg       0.25      0.26      0.25      4625\n",
            "               weighted avg       0.38      0.38      0.38      4625\n",
            "\n",
            "Pipeline(memory=None,\n",
            "         steps=[('s', MinMaxScaler(copy=True, feature_range=(0, 1))),\n",
            "                ('dt',\n",
            "                 DecisionTreeClassifier(ccp_alpha=0.0, class_weight=None,\n",
            "                                        criterion='gini', max_depth=25,\n",
            "                                        max_features=None, max_leaf_nodes=None,\n",
            "                                        min_impurity_decrease=0.0,\n",
            "                                        min_impurity_split=None,\n",
            "                                        min_samples_leaf=1, min_samples_split=2,\n",
            "                                        min_weight_fraction_leaf=0.0,\n",
            "                                        presort='deprecated', random_state=None,\n",
            "                                        splitter='best'))],\n",
            "         verbose=False)\n"
          ],
          "name": "stdout"
        }
      ]
    },
    {
      "cell_type": "markdown",
      "metadata": {
        "id": "NIC9Ti5AhX8j"
      },
      "source": [
        "##Random Forest\r\n",
        "\r\n",
        "```\r\n",
        "\r\n",
        "                             precision    recall  f1-score   support\r\n",
        "\r\n",
        "                Anne Bronte       0.60      0.03      0.06       177\r\n",
        "    Bell AKA Bronte Sisters       0.52      0.27      0.35       161\r\n",
        "           Charlotte Bronte       1.00      0.23      0.38        13\r\n",
        "Edith Rickert & Gleb Botkin       0.50      0.10      0.17        29\r\n",
        "               Emily Bronte       0.50      0.15      0.23       426\r\n",
        "              Ethel M. Dell       0.59      0.82      0.69      1737\r\n",
        "          Fyodor Dostoevsky       0.46      0.48      0.47      1118\r\n",
        "                Jane Austen       0.54      0.46      0.50       529\r\n",
        "                    Various       0.50      0.42      0.45       435\r\n",
        "\r\n",
        "                   accuracy                           0.54      4625\r\n",
        "                  macro avg       0.58      0.33      0.37      4625\r\n",
        "               weighted avg       0.54      0.54      0.51      4625\r\n",
        "\r\n",
        "\r\n",
        "```\r\n",
        "\r\n"
      ]
    },
    {
      "cell_type": "code",
      "metadata": {
        "id": "rDJAjLiUGXuD"
      },
      "source": [
        "from sklearn.ensemble import RandomForestClassifier"
      ],
      "execution_count": 9,
      "outputs": []
    },
    {
      "cell_type": "code",
      "metadata": {
        "colab": {
          "base_uri": "https://localhost:8080/"
        },
        "id": "qM_NPS8Xhcxr",
        "outputId": "b53f0aa0-9941-4cf1-8c66-a1df70519b8e"
      },
      "source": [
        "pipeline = Pipeline([('s', MinMaxScaler()), ('rf', RandomForestClassifier())])\r\n",
        "params =  {\r\n",
        "          's__feature_range' : [(0, abs(X).max()), (0, 1), (0, 2*abs(X).max())],\r\n",
        "          'rf__n_estimators':  [n for n in range(100, 500, 100)],   \r\n",
        "         }\r\n",
        "\r\n",
        "search = GridSearchCV(pipeline, params, cv=5, verbose=3)\r\n",
        "print(f'{dt.datetime.now().strftime(\"%d/%m/%Y %H:%M:%S\")}, started grid search')\r\n",
        "search.fit(X_train, y_train)\r\n",
        "print(f'{dt.datetime.now().strftime(\"%d/%m/%Y %H:%M:%S\")}, grid search complete')\r\n",
        "    \r\n",
        "bow_model = search.best_estimator_\r\n",
        "\r\n",
        "bow_model.fit(X_train, y_train)\r\n",
        "y_pred = bow_model.predict(X_test)\r\n",
        "    \r\n",
        "print(classification_report(y_test, y_pred))\r\n",
        "print(bow_model)"
      ],
      "execution_count": 10,
      "outputs": [
        {
          "output_type": "stream",
          "text": [
            "24/02/2021 21:35:22, started grid search\n",
            "Fitting 5 folds for each of 12 candidates, totalling 60 fits\n",
            "[CV] rf__n_estimators=100, s__feature_range=(0, 1.5235536098480225) ..\n"
          ],
          "name": "stdout"
        },
        {
          "output_type": "stream",
          "text": [
            "[Parallel(n_jobs=1)]: Using backend SequentialBackend with 1 concurrent workers.\n"
          ],
          "name": "stderr"
        },
        {
          "output_type": "stream",
          "text": [
            "[CV]  rf__n_estimators=100, s__feature_range=(0, 1.5235536098480225), score=0.521, total= 1.5min\n",
            "[CV] rf__n_estimators=100, s__feature_range=(0, 1.5235536098480225) ..\n"
          ],
          "name": "stdout"
        },
        {
          "output_type": "stream",
          "text": [
            "[Parallel(n_jobs=1)]: Done   1 out of   1 | elapsed:  1.5min remaining:    0.0s\n"
          ],
          "name": "stderr"
        },
        {
          "output_type": "stream",
          "text": [
            "[CV]  rf__n_estimators=100, s__feature_range=(0, 1.5235536098480225), score=0.534, total= 1.5min\n",
            "[CV] rf__n_estimators=100, s__feature_range=(0, 1.5235536098480225) ..\n"
          ],
          "name": "stdout"
        },
        {
          "output_type": "stream",
          "text": [
            "[Parallel(n_jobs=1)]: Done   2 out of   2 | elapsed:  2.9min remaining:    0.0s\n"
          ],
          "name": "stderr"
        },
        {
          "output_type": "stream",
          "text": [
            "[CV]  rf__n_estimators=100, s__feature_range=(0, 1.5235536098480225), score=0.525, total= 1.5min\n",
            "[CV] rf__n_estimators=100, s__feature_range=(0, 1.5235536098480225) ..\n",
            "[CV]  rf__n_estimators=100, s__feature_range=(0, 1.5235536098480225), score=0.532, total= 1.5min\n",
            "[CV] rf__n_estimators=100, s__feature_range=(0, 1.5235536098480225) ..\n",
            "[CV]  rf__n_estimators=100, s__feature_range=(0, 1.5235536098480225), score=0.524, total= 1.5min\n",
            "[CV] rf__n_estimators=100, s__feature_range=(0, 1) ...................\n",
            "[CV]  rf__n_estimators=100, s__feature_range=(0, 1), score=0.521, total= 1.5min\n",
            "[CV] rf__n_estimators=100, s__feature_range=(0, 1) ...................\n",
            "[CV]  rf__n_estimators=100, s__feature_range=(0, 1), score=0.525, total= 1.4min\n",
            "[CV] rf__n_estimators=100, s__feature_range=(0, 1) ...................\n",
            "[CV]  rf__n_estimators=100, s__feature_range=(0, 1), score=0.525, total= 1.4min\n",
            "[CV] rf__n_estimators=100, s__feature_range=(0, 1) ...................\n",
            "[CV]  rf__n_estimators=100, s__feature_range=(0, 1), score=0.527, total= 1.4min\n",
            "[CV] rf__n_estimators=100, s__feature_range=(0, 1) ...................\n",
            "[CV]  rf__n_estimators=100, s__feature_range=(0, 1), score=0.516, total= 1.4min\n",
            "[CV] rf__n_estimators=100, s__feature_range=(0, 3.047107219696045) ...\n",
            "[CV]  rf__n_estimators=100, s__feature_range=(0, 3.047107219696045), score=0.525, total= 1.5min\n",
            "[CV] rf__n_estimators=100, s__feature_range=(0, 3.047107219696045) ...\n",
            "[CV]  rf__n_estimators=100, s__feature_range=(0, 3.047107219696045), score=0.524, total= 1.5min\n",
            "[CV] rf__n_estimators=100, s__feature_range=(0, 3.047107219696045) ...\n",
            "[CV]  rf__n_estimators=100, s__feature_range=(0, 3.047107219696045), score=0.525, total= 1.4min\n",
            "[CV] rf__n_estimators=100, s__feature_range=(0, 3.047107219696045) ...\n",
            "[CV]  rf__n_estimators=100, s__feature_range=(0, 3.047107219696045), score=0.526, total= 1.4min\n",
            "[CV] rf__n_estimators=100, s__feature_range=(0, 3.047107219696045) ...\n",
            "[CV]  rf__n_estimators=100, s__feature_range=(0, 3.047107219696045), score=0.522, total= 1.4min\n",
            "[CV] rf__n_estimators=200, s__feature_range=(0, 1.5235536098480225) ..\n",
            "[CV]  rf__n_estimators=200, s__feature_range=(0, 1.5235536098480225), score=0.525, total= 2.9min\n",
            "[CV] rf__n_estimators=200, s__feature_range=(0, 1.5235536098480225) ..\n",
            "[CV]  rf__n_estimators=200, s__feature_range=(0, 1.5235536098480225), score=0.528, total= 2.9min\n",
            "[CV] rf__n_estimators=200, s__feature_range=(0, 1.5235536098480225) ..\n",
            "[CV]  rf__n_estimators=200, s__feature_range=(0, 1.5235536098480225), score=0.531, total= 2.9min\n",
            "[CV] rf__n_estimators=200, s__feature_range=(0, 1.5235536098480225) ..\n",
            "[CV]  rf__n_estimators=200, s__feature_range=(0, 1.5235536098480225), score=0.538, total= 2.9min\n",
            "[CV] rf__n_estimators=200, s__feature_range=(0, 1.5235536098480225) ..\n",
            "[CV]  rf__n_estimators=200, s__feature_range=(0, 1.5235536098480225), score=0.528, total= 2.9min\n",
            "[CV] rf__n_estimators=200, s__feature_range=(0, 1) ...................\n",
            "[CV]  rf__n_estimators=200, s__feature_range=(0, 1), score=0.521, total= 2.9min\n",
            "[CV] rf__n_estimators=200, s__feature_range=(0, 1) ...................\n",
            "[CV]  rf__n_estimators=200, s__feature_range=(0, 1), score=0.531, total= 2.9min\n",
            "[CV] rf__n_estimators=200, s__feature_range=(0, 1) ...................\n",
            "[CV]  rf__n_estimators=200, s__feature_range=(0, 1), score=0.529, total= 2.9min\n",
            "[CV] rf__n_estimators=200, s__feature_range=(0, 1) ...................\n",
            "[CV]  rf__n_estimators=200, s__feature_range=(0, 1), score=0.531, total= 2.9min\n",
            "[CV] rf__n_estimators=200, s__feature_range=(0, 1) ...................\n",
            "[CV]  rf__n_estimators=200, s__feature_range=(0, 1), score=0.527, total= 2.9min\n",
            "[CV] rf__n_estimators=200, s__feature_range=(0, 3.047107219696045) ...\n",
            "[CV]  rf__n_estimators=200, s__feature_range=(0, 3.047107219696045), score=0.524, total= 2.9min\n",
            "[CV] rf__n_estimators=200, s__feature_range=(0, 3.047107219696045) ...\n",
            "[CV]  rf__n_estimators=200, s__feature_range=(0, 3.047107219696045), score=0.531, total= 2.9min\n",
            "[CV] rf__n_estimators=200, s__feature_range=(0, 3.047107219696045) ...\n",
            "[CV]  rf__n_estimators=200, s__feature_range=(0, 3.047107219696045), score=0.531, total= 2.9min\n",
            "[CV] rf__n_estimators=200, s__feature_range=(0, 3.047107219696045) ...\n",
            "[CV]  rf__n_estimators=200, s__feature_range=(0, 3.047107219696045), score=0.535, total= 2.9min\n",
            "[CV] rf__n_estimators=200, s__feature_range=(0, 3.047107219696045) ...\n",
            "[CV]  rf__n_estimators=200, s__feature_range=(0, 3.047107219696045), score=0.524, total= 2.9min\n",
            "[CV] rf__n_estimators=300, s__feature_range=(0, 1.5235536098480225) ..\n",
            "[CV]  rf__n_estimators=300, s__feature_range=(0, 1.5235536098480225), score=0.527, total= 4.3min\n",
            "[CV] rf__n_estimators=300, s__feature_range=(0, 1.5235536098480225) ..\n",
            "[CV]  rf__n_estimators=300, s__feature_range=(0, 1.5235536098480225), score=0.529, total= 4.4min\n",
            "[CV] rf__n_estimators=300, s__feature_range=(0, 1.5235536098480225) ..\n",
            "[CV]  rf__n_estimators=300, s__feature_range=(0, 1.5235536098480225), score=0.532, total= 4.3min\n",
            "[CV] rf__n_estimators=300, s__feature_range=(0, 1.5235536098480225) ..\n",
            "[CV]  rf__n_estimators=300, s__feature_range=(0, 1.5235536098480225), score=0.536, total= 4.3min\n",
            "[CV] rf__n_estimators=300, s__feature_range=(0, 1.5235536098480225) ..\n",
            "[CV]  rf__n_estimators=300, s__feature_range=(0, 1.5235536098480225), score=0.525, total= 4.3min\n",
            "[CV] rf__n_estimators=300, s__feature_range=(0, 1) ...................\n",
            "[CV]  rf__n_estimators=300, s__feature_range=(0, 1), score=0.522, total= 4.3min\n",
            "[CV] rf__n_estimators=300, s__feature_range=(0, 1) ...................\n",
            "[CV]  rf__n_estimators=300, s__feature_range=(0, 1), score=0.531, total= 4.4min\n",
            "[CV] rf__n_estimators=300, s__feature_range=(0, 1) ...................\n",
            "[CV]  rf__n_estimators=300, s__feature_range=(0, 1), score=0.532, total= 4.3min\n",
            "[CV] rf__n_estimators=300, s__feature_range=(0, 1) ...................\n",
            "[CV]  rf__n_estimators=300, s__feature_range=(0, 1), score=0.537, total= 4.3min\n",
            "[CV] rf__n_estimators=300, s__feature_range=(0, 1) ...................\n",
            "[CV]  rf__n_estimators=300, s__feature_range=(0, 1), score=0.531, total= 4.3min\n",
            "[CV] rf__n_estimators=300, s__feature_range=(0, 3.047107219696045) ...\n",
            "[CV]  rf__n_estimators=300, s__feature_range=(0, 3.047107219696045), score=0.526, total= 4.3min\n",
            "[CV] rf__n_estimators=300, s__feature_range=(0, 3.047107219696045) ...\n",
            "[CV]  rf__n_estimators=300, s__feature_range=(0, 3.047107219696045), score=0.534, total= 4.3min\n",
            "[CV] rf__n_estimators=300, s__feature_range=(0, 3.047107219696045) ...\n",
            "[CV]  rf__n_estimators=300, s__feature_range=(0, 3.047107219696045), score=0.532, total= 4.3min\n",
            "[CV] rf__n_estimators=300, s__feature_range=(0, 3.047107219696045) ...\n",
            "[CV]  rf__n_estimators=300, s__feature_range=(0, 3.047107219696045), score=0.543, total= 4.3min\n",
            "[CV] rf__n_estimators=300, s__feature_range=(0, 3.047107219696045) ...\n",
            "[CV]  rf__n_estimators=300, s__feature_range=(0, 3.047107219696045), score=0.529, total= 4.3min\n",
            "[CV] rf__n_estimators=400, s__feature_range=(0, 1.5235536098480225) ..\n",
            "[CV]  rf__n_estimators=400, s__feature_range=(0, 1.5235536098480225), score=0.527, total= 5.8min\n",
            "[CV] rf__n_estimators=400, s__feature_range=(0, 1.5235536098480225) ..\n",
            "[CV]  rf__n_estimators=400, s__feature_range=(0, 1.5235536098480225), score=0.534, total= 5.8min\n",
            "[CV] rf__n_estimators=400, s__feature_range=(0, 1.5235536098480225) ..\n",
            "[CV]  rf__n_estimators=400, s__feature_range=(0, 1.5235536098480225), score=0.535, total= 5.8min\n",
            "[CV] rf__n_estimators=400, s__feature_range=(0, 1.5235536098480225) ..\n",
            "[CV]  rf__n_estimators=400, s__feature_range=(0, 1.5235536098480225), score=0.538, total= 5.8min\n",
            "[CV] rf__n_estimators=400, s__feature_range=(0, 1.5235536098480225) ..\n",
            "[CV]  rf__n_estimators=400, s__feature_range=(0, 1.5235536098480225), score=0.529, total= 5.8min\n",
            "[CV] rf__n_estimators=400, s__feature_range=(0, 1) ...................\n",
            "[CV]  rf__n_estimators=400, s__feature_range=(0, 1), score=0.526, total= 5.8min\n",
            "[CV] rf__n_estimators=400, s__feature_range=(0, 1) ...................\n",
            "[CV]  rf__n_estimators=400, s__feature_range=(0, 1), score=0.530, total= 5.8min\n",
            "[CV] rf__n_estimators=400, s__feature_range=(0, 1) ...................\n",
            "[CV]  rf__n_estimators=400, s__feature_range=(0, 1), score=0.533, total= 5.8min\n",
            "[CV] rf__n_estimators=400, s__feature_range=(0, 1) ...................\n",
            "[CV]  rf__n_estimators=400, s__feature_range=(0, 1), score=0.542, total= 5.8min\n",
            "[CV] rf__n_estimators=400, s__feature_range=(0, 1) ...................\n",
            "[CV]  rf__n_estimators=400, s__feature_range=(0, 1), score=0.529, total= 5.8min\n",
            "[CV] rf__n_estimators=400, s__feature_range=(0, 3.047107219696045) ...\n",
            "[CV]  rf__n_estimators=400, s__feature_range=(0, 3.047107219696045), score=0.525, total= 5.8min\n",
            "[CV] rf__n_estimators=400, s__feature_range=(0, 3.047107219696045) ...\n",
            "[CV]  rf__n_estimators=400, s__feature_range=(0, 3.047107219696045), score=0.530, total= 5.8min\n",
            "[CV] rf__n_estimators=400, s__feature_range=(0, 3.047107219696045) ...\n",
            "[CV]  rf__n_estimators=400, s__feature_range=(0, 3.047107219696045), score=0.529, total= 5.8min\n",
            "[CV] rf__n_estimators=400, s__feature_range=(0, 3.047107219696045) ...\n",
            "[CV]  rf__n_estimators=400, s__feature_range=(0, 3.047107219696045), score=0.538, total= 5.8min\n",
            "[CV] rf__n_estimators=400, s__feature_range=(0, 3.047107219696045) ...\n",
            "[CV]  rf__n_estimators=400, s__feature_range=(0, 3.047107219696045), score=0.526, total= 5.8min\n"
          ],
          "name": "stdout"
        },
        {
          "output_type": "stream",
          "text": [
            "[Parallel(n_jobs=1)]: Done  60 out of  60 | elapsed: 217.2min finished\n"
          ],
          "name": "stderr"
        },
        {
          "output_type": "stream",
          "text": [
            "25/02/2021 01:20:03, grid search complete\n",
            "                             precision    recall  f1-score   support\n",
            "\n",
            "                Anne Bronte       0.60      0.03      0.06       177\n",
            "    Bell AKA Bronte Sisters       0.52      0.27      0.35       161\n",
            "           Charlotte Bronte       1.00      0.23      0.38        13\n",
            "Edith Rickert & Gleb Botkin       0.50      0.10      0.17        29\n",
            "               Emily Bronte       0.50      0.15      0.23       426\n",
            "              Ethel M. Dell       0.59      0.82      0.69      1737\n",
            "          Fyodor Dostoevsky       0.46      0.48      0.47      1118\n",
            "                Jane Austen       0.54      0.46      0.50       529\n",
            "                    Various       0.50      0.42      0.45       435\n",
            "\n",
            "                   accuracy                           0.54      4625\n",
            "                  macro avg       0.58      0.33      0.37      4625\n",
            "               weighted avg       0.54      0.54      0.51      4625\n",
            "\n",
            "Pipeline(memory=None,\n",
            "         steps=[('s',\n",
            "                 MinMaxScaler(copy=True,\n",
            "                              feature_range=(0, 1.5235536098480225))),\n",
            "                ('rf',\n",
            "                 RandomForestClassifier(bootstrap=True, ccp_alpha=0.0,\n",
            "                                        class_weight=None, criterion='gini',\n",
            "                                        max_depth=None, max_features='auto',\n",
            "                                        max_leaf_nodes=None, max_samples=None,\n",
            "                                        min_impurity_decrease=0.0,\n",
            "                                        min_impurity_split=None,\n",
            "                                        min_samples_leaf=1, min_samples_split=2,\n",
            "                                        min_weight_fraction_leaf=0.0,\n",
            "                                        n_estimators=400, n_jobs=None,\n",
            "                                        oob_score=False, random_state=None,\n",
            "                                        verbose=0, warm_start=False))],\n",
            "         verbose=False)\n"
          ],
          "name": "stdout"
        }
      ]
    },
    {
      "cell_type": "markdown",
      "metadata": {
        "id": "vZL7Yd1Thdp8"
      },
      "source": [
        "##KNN\r\n",
        "\r\n",
        "```\r\n",
        "\r\n",
        "                             precision    recall  f1-score   support\r\n",
        "\r\n",
        "                Anne Bronte       0.26      0.09      0.13       177\r\n",
        "    Bell AKA Bronte Sisters       0.42      0.29      0.34       161\r\n",
        "           Charlotte Bronte       0.00      0.00      0.00        13\r\n",
        "Edith Rickert & Gleb Botkin       0.21      0.10      0.14        29\r\n",
        "               Emily Bronte       0.31      0.24      0.27       426\r\n",
        "              Ethel M. Dell       0.57      0.74      0.64      1737\r\n",
        "          Fyodor Dostoevsky       0.40      0.37      0.38      1118\r\n",
        "                Jane Austen       0.44      0.44      0.44       529\r\n",
        "                    Various       0.54      0.34      0.42       435\r\n",
        "\r\n",
        "                   accuracy                           0.49      4625\r\n",
        "                  macro avg       0.35      0.29      0.31      4625\r\n",
        "               weighted avg       0.47      0.49      0.47      4625\r\n",
        "               \r\n",
        "```\r\n",
        "\r\n"
      ]
    },
    {
      "cell_type": "code",
      "metadata": {
        "id": "MhW554urhjT0"
      },
      "source": [
        "from sklearn.neighbors import KNeighborsClassifier"
      ],
      "execution_count": 11,
      "outputs": []
    },
    {
      "cell_type": "code",
      "metadata": {
        "id": "HReS-XnbHwax",
        "colab": {
          "base_uri": "https://localhost:8080/"
        },
        "outputId": "b202fe43-1ac6-4054-bc92-21ff6bfd2eaf"
      },
      "source": [
        "pipeline = Pipeline([('s', MinMaxScaler(feature_range=(0, 2*abs(X).max()))), ('knn', KNeighborsClassifier())])\r\n",
        "params =  {\r\n",
        "          'knn__n_neighbors': [39, 17],\r\n",
        "          'knn__leaf_size': [30, 12],   \r\n",
        "         }\r\n",
        "\r\n",
        "search = GridSearchCV(pipeline, params, cv=5, verbose=3)\r\n",
        "print(f'{dt.datetime.now().strftime(\"%d/%m/%Y %H:%M:%S\")}, started grid search')\r\n",
        "search.fit(X_train, y_train)\r\n",
        "print(f'{dt.datetime.now().strftime(\"%d/%m/%Y %H:%M:%S\")}, grid search complete')\r\n",
        "    \r\n",
        "bow_model = search.best_estimator_\r\n",
        "\r\n",
        "bow_model.fit(X_train, y_train)\r\n",
        "y_pred = bow_model.predict(X_test)\r\n",
        "    \r\n",
        "print(classification_report(y_test, y_pred))\r\n",
        "print(bow_model)"
      ],
      "execution_count": 12,
      "outputs": [
        {
          "output_type": "stream",
          "text": [
            "25/02/2021 01:30:58, started grid search\n",
            "Fitting 5 folds for each of 4 candidates, totalling 20 fits\n",
            "[CV] knn__leaf_size=30, knn__n_neighbors=39 ..........................\n"
          ],
          "name": "stdout"
        },
        {
          "output_type": "stream",
          "text": [
            "[Parallel(n_jobs=1)]: Using backend SequentialBackend with 1 concurrent workers.\n"
          ],
          "name": "stderr"
        },
        {
          "output_type": "stream",
          "text": [
            "[CV]  knn__leaf_size=30, knn__n_neighbors=39, score=0.484, total= 3.6min\n",
            "[CV] knn__leaf_size=30, knn__n_neighbors=39 ..........................\n"
          ],
          "name": "stdout"
        },
        {
          "output_type": "stream",
          "text": [
            "[Parallel(n_jobs=1)]: Done   1 out of   1 | elapsed:  3.6min remaining:    0.0s\n"
          ],
          "name": "stderr"
        },
        {
          "output_type": "stream",
          "text": [
            "[CV]  knn__leaf_size=30, knn__n_neighbors=39, score=0.488, total= 3.6min\n",
            "[CV] knn__leaf_size=30, knn__n_neighbors=39 ..........................\n"
          ],
          "name": "stdout"
        },
        {
          "output_type": "stream",
          "text": [
            "[Parallel(n_jobs=1)]: Done   2 out of   2 | elapsed:  7.2min remaining:    0.0s\n"
          ],
          "name": "stderr"
        },
        {
          "output_type": "stream",
          "text": [
            "[CV]  knn__leaf_size=30, knn__n_neighbors=39, score=0.479, total= 3.5min\n",
            "[CV] knn__leaf_size=30, knn__n_neighbors=39 ..........................\n",
            "[CV]  knn__leaf_size=30, knn__n_neighbors=39, score=0.494, total= 3.6min\n",
            "[CV] knn__leaf_size=30, knn__n_neighbors=39 ..........................\n",
            "[CV]  knn__leaf_size=30, knn__n_neighbors=39, score=0.474, total= 3.5min\n",
            "[CV] knn__leaf_size=30, knn__n_neighbors=17 ..........................\n",
            "[CV]  knn__leaf_size=30, knn__n_neighbors=17, score=0.485, total= 3.4min\n",
            "[CV] knn__leaf_size=30, knn__n_neighbors=17 ..........................\n",
            "[CV]  knn__leaf_size=30, knn__n_neighbors=17, score=0.482, total= 3.4min\n",
            "[CV] knn__leaf_size=30, knn__n_neighbors=17 ..........................\n",
            "[CV]  knn__leaf_size=30, knn__n_neighbors=17, score=0.484, total= 3.4min\n",
            "[CV] knn__leaf_size=30, knn__n_neighbors=17 ..........................\n",
            "[CV]  knn__leaf_size=30, knn__n_neighbors=17, score=0.488, total= 3.4min\n",
            "[CV] knn__leaf_size=30, knn__n_neighbors=17 ..........................\n",
            "[CV]  knn__leaf_size=30, knn__n_neighbors=17, score=0.484, total= 3.3min\n",
            "[CV] knn__leaf_size=12, knn__n_neighbors=39 ..........................\n",
            "[CV]  knn__leaf_size=12, knn__n_neighbors=39, score=0.484, total= 5.1min\n",
            "[CV] knn__leaf_size=12, knn__n_neighbors=39 ..........................\n",
            "[CV]  knn__leaf_size=12, knn__n_neighbors=39, score=0.488, total= 5.0min\n",
            "[CV] knn__leaf_size=12, knn__n_neighbors=39 ..........................\n",
            "[CV]  knn__leaf_size=12, knn__n_neighbors=39, score=0.479, total= 5.0min\n",
            "[CV] knn__leaf_size=12, knn__n_neighbors=39 ..........................\n",
            "[CV]  knn__leaf_size=12, knn__n_neighbors=39, score=0.494, total= 5.0min\n",
            "[CV] knn__leaf_size=12, knn__n_neighbors=39 ..........................\n",
            "[CV]  knn__leaf_size=12, knn__n_neighbors=39, score=0.474, total= 4.9min\n",
            "[CV] knn__leaf_size=12, knn__n_neighbors=17 ..........................\n",
            "[CV]  knn__leaf_size=12, knn__n_neighbors=17, score=0.485, total= 4.7min\n",
            "[CV] knn__leaf_size=12, knn__n_neighbors=17 ..........................\n",
            "[CV]  knn__leaf_size=12, knn__n_neighbors=17, score=0.482, total= 4.6min\n",
            "[CV] knn__leaf_size=12, knn__n_neighbors=17 ..........................\n",
            "[CV]  knn__leaf_size=12, knn__n_neighbors=17, score=0.484, total= 4.6min\n",
            "[CV] knn__leaf_size=12, knn__n_neighbors=17 ..........................\n",
            "[CV]  knn__leaf_size=12, knn__n_neighbors=17, score=0.488, total= 4.6min\n",
            "[CV] knn__leaf_size=12, knn__n_neighbors=17 ..........................\n",
            "[CV]  knn__leaf_size=12, knn__n_neighbors=17, score=0.484, total= 4.5min\n"
          ],
          "name": "stdout"
        },
        {
          "output_type": "stream",
          "text": [
            "[Parallel(n_jobs=1)]: Done  20 out of  20 | elapsed: 82.7min finished\n"
          ],
          "name": "stderr"
        },
        {
          "output_type": "stream",
          "text": [
            "25/02/2021 02:53:51, grid search complete\n",
            "                             precision    recall  f1-score   support\n",
            "\n",
            "                Anne Bronte       0.26      0.09      0.13       177\n",
            "    Bell AKA Bronte Sisters       0.42      0.29      0.34       161\n",
            "           Charlotte Bronte       0.00      0.00      0.00        13\n",
            "Edith Rickert & Gleb Botkin       0.21      0.10      0.14        29\n",
            "               Emily Bronte       0.31      0.24      0.27       426\n",
            "              Ethel M. Dell       0.57      0.74      0.64      1737\n",
            "          Fyodor Dostoevsky       0.40      0.37      0.38      1118\n",
            "                Jane Austen       0.44      0.44      0.44       529\n",
            "                    Various       0.54      0.34      0.42       435\n",
            "\n",
            "                   accuracy                           0.49      4625\n",
            "                  macro avg       0.35      0.29      0.31      4625\n",
            "               weighted avg       0.47      0.49      0.47      4625\n",
            "\n",
            "Pipeline(memory=None,\n",
            "         steps=[('s',\n",
            "                 MinMaxScaler(copy=True, feature_range=(0, 3.047107219696045))),\n",
            "                ('knn',\n",
            "                 KNeighborsClassifier(algorithm='auto', leaf_size=12,\n",
            "                                      metric='minkowski', metric_params=None,\n",
            "                                      n_jobs=None, n_neighbors=17, p=2,\n",
            "                                      weights='uniform'))],\n",
            "         verbose=False)\n"
          ],
          "name": "stdout"
        }
      ]
    },
    {
      "cell_type": "markdown",
      "metadata": {
        "id": "RtX-qHs3hknZ"
      },
      "source": [
        "## SVM\r\n",
        "\r\n",
        "\r\n",
        "\r\n",
        "```\r\n",
        "\r\n",
        "                             precision    recall  f1-score   support\r\n",
        "\r\n",
        "                Anne Bronte       0.00      0.00      0.00       177\r\n",
        "    Bell AKA Bronte Sisters       0.44      0.34      0.39       161\r\n",
        "           Charlotte Bronte       0.00      0.00      0.00        13\r\n",
        "Edith Rickert & Gleb Botkin       0.00      0.00      0.00        29\r\n",
        "               Emily Bronte       0.00      0.00      0.00       426\r\n",
        "              Ethel M. Dell       0.59      0.79      0.68      1737\r\n",
        "          Fyodor Dostoevsky       0.46      0.52      0.49      1118\r\n",
        "                Jane Austen       0.52      0.52      0.52       529\r\n",
        "                    Various       0.46      0.39      0.42       435\r\n",
        "\r\n",
        "                   accuracy                           0.53      4625\r\n",
        "                  macro avg       0.28      0.29      0.28      4625\r\n",
        "               weighted avg       0.45      0.53      0.49      4625\r\n",
        "```\r\n",
        "\r\n"
      ]
    },
    {
      "cell_type": "code",
      "metadata": {
        "id": "lwPggQ9lhnmw"
      },
      "source": [
        "from sklearn.svm import SVC"
      ],
      "execution_count": 9,
      "outputs": []
    },
    {
      "cell_type": "code",
      "metadata": {
        "id": "52wJYiAuIKlt",
        "colab": {
          "base_uri": "https://localhost:8080/"
        },
        "outputId": "fe40c227-a4a1-4b38-ac16-52b7ff08d7a4"
      },
      "source": [
        "pipeline = Pipeline([('s', MinMaxScaler(feature_range=(0, 1))), ('sv', SVC())])\r\n",
        "params =  {\r\n",
        "          'sv__kernel': ['linear', 'rbf'],\r\n",
        "         }\r\n",
        "\r\n",
        "search = GridSearchCV(pipeline, params, cv=5, verbose=3)\r\n",
        "print(f'{dt.datetime.now().strftime(\"%d/%m/%Y %H:%M:%S\")}, started grid search')\r\n",
        "search.fit(X_train, y_train)\r\n",
        "print(f'{dt.datetime.now().strftime(\"%d/%m/%Y %H:%M:%S\")}, grid search complete')\r\n",
        "    \r\n",
        "bow_model = search.best_estimator_\r\n",
        "\r\n",
        "bow_model.fit(X_train, y_train)\r\n",
        "y_pred = bow_model.predict(X_test)\r\n",
        "    \r\n",
        "print(classification_report(y_test, y_pred))\r\n",
        "print(bow_model)"
      ],
      "execution_count": 11,
      "outputs": [
        {
          "output_type": "stream",
          "text": [
            "25/02/2021 20:00:25, started grid search\n",
            "Fitting 5 folds for each of 2 candidates, totalling 10 fits\n",
            "[CV] sv__kernel=linear ...............................................\n"
          ],
          "name": "stdout"
        },
        {
          "output_type": "stream",
          "text": [
            "[Parallel(n_jobs=1)]: Using backend SequentialBackend with 1 concurrent workers.\n"
          ],
          "name": "stderr"
        },
        {
          "output_type": "stream",
          "text": [
            "[CV] ................... sv__kernel=linear, score=0.524, total=15.9min\n",
            "[CV] sv__kernel=linear ...............................................\n"
          ],
          "name": "stdout"
        },
        {
          "output_type": "stream",
          "text": [
            "[Parallel(n_jobs=1)]: Done   1 out of   1 | elapsed: 15.9min remaining:    0.0s\n"
          ],
          "name": "stderr"
        },
        {
          "output_type": "stream",
          "text": [
            "[CV] ................... sv__kernel=linear, score=0.539, total=15.9min\n",
            "[CV] sv__kernel=linear ...............................................\n"
          ],
          "name": "stdout"
        },
        {
          "output_type": "stream",
          "text": [
            "[Parallel(n_jobs=1)]: Done   2 out of   2 | elapsed: 31.8min remaining:    0.0s\n"
          ],
          "name": "stderr"
        },
        {
          "output_type": "stream",
          "text": [
            "[CV] ................... sv__kernel=linear, score=0.524, total=15.9min\n",
            "[CV] sv__kernel=linear ...............................................\n",
            "[CV] ................... sv__kernel=linear, score=0.538, total=16.0min\n",
            "[CV] sv__kernel=linear ...............................................\n",
            "[CV] ................... sv__kernel=linear, score=0.535, total=15.8min\n",
            "[CV] sv__kernel=rbf ..................................................\n",
            "[CV] ...................... sv__kernel=rbf, score=0.506, total=14.3min\n",
            "[CV] sv__kernel=rbf ..................................................\n",
            "[CV] ...................... sv__kernel=rbf, score=0.519, total=14.3min\n",
            "[CV] sv__kernel=rbf ..................................................\n",
            "[CV] ...................... sv__kernel=rbf, score=0.520, total=14.4min\n",
            "[CV] sv__kernel=rbf ..................................................\n",
            "[CV] ...................... sv__kernel=rbf, score=0.534, total=14.3min\n",
            "[CV] sv__kernel=rbf ..................................................\n",
            "[CV] ...................... sv__kernel=rbf, score=0.521, total=14.4min\n"
          ],
          "name": "stdout"
        },
        {
          "output_type": "stream",
          "text": [
            "[Parallel(n_jobs=1)]: Done  10 out of  10 | elapsed: 151.2min finished\n"
          ],
          "name": "stderr"
        },
        {
          "output_type": "stream",
          "text": [
            "25/02/2021 22:53:01, grid search complete\n",
            "                             precision    recall  f1-score   support\n",
            "\n",
            "                Anne Bronte       0.00      0.00      0.00       177\n",
            "    Bell AKA Bronte Sisters       0.44      0.34      0.39       161\n",
            "           Charlotte Bronte       0.00      0.00      0.00        13\n",
            "Edith Rickert & Gleb Botkin       0.00      0.00      0.00        29\n",
            "               Emily Bronte       0.00      0.00      0.00       426\n",
            "              Ethel M. Dell       0.59      0.79      0.68      1737\n",
            "          Fyodor Dostoevsky       0.46      0.52      0.49      1118\n",
            "                Jane Austen       0.52      0.52      0.52       529\n",
            "                    Various       0.46      0.39      0.42       435\n",
            "\n",
            "                   accuracy                           0.53      4625\n",
            "                  macro avg       0.28      0.29      0.28      4625\n",
            "               weighted avg       0.45      0.53      0.49      4625\n",
            "\n",
            "Pipeline(memory=None,\n",
            "         steps=[('s', MinMaxScaler(copy=True, feature_range=(0, 1))),\n",
            "                ('sv',\n",
            "                 SVC(C=1.0, break_ties=False, cache_size=200, class_weight=None,\n",
            "                     coef0=0.0, decision_function_shape='ovr', degree=3,\n",
            "                     gamma='scale', kernel='linear', max_iter=-1,\n",
            "                     probability=False, random_state=None, shrinking=True,\n",
            "                     tol=0.001, verbose=False))],\n",
            "         verbose=False)\n"
          ],
          "name": "stdout"
        },
        {
          "output_type": "stream",
          "text": [
            "/usr/local/lib/python3.7/dist-packages/sklearn/metrics/_classification.py:1272: UndefinedMetricWarning: Precision and F-score are ill-defined and being set to 0.0 in labels with no predicted samples. Use `zero_division` parameter to control this behavior.\n",
            "  _warn_prf(average, modifier, msg_start, len(result))\n"
          ],
          "name": "stderr"
        }
      ]
    },
    {
      "cell_type": "markdown",
      "metadata": {
        "id": "xIeV5ajThoAt"
      },
      "source": [
        "##Gradient Boosting\r\n",
        "\r\n",
        "there is no gradient boost.\r\n",
        "\r\n",
        "the session timed out before the first fit.\r\n",
        "\r\n",
        "the session timed out before the first fit completed on the first fold.\r\n",
        "\r\n",
        "the session timed out.\r\n",
        "\r\n",
        "there is no gradient boost. \r\n"
      ]
    },
    {
      "cell_type": "code",
      "metadata": {
        "id": "UutDIs6bhqEV"
      },
      "source": [
        "from sklearn.ensemble import GradientBoostingClassifier"
      ],
      "execution_count": 19,
      "outputs": []
    },
    {
      "cell_type": "code",
      "metadata": {
        "id": "-6Vff2poIdgE",
        "colab": {
          "base_uri": "https://localhost:8080/"
        },
        "outputId": "f02a1562-f87e-455c-8a1b-6914762378ae"
      },
      "source": [
        "pipeline = Pipeline([('s', MinMaxScaler(feature_range=(0,1))), ('gb', GradientBoostingClassifier())])\r\n",
        "params =  {\r\n",
        "          'gb__max_depth': [10, 500], \r\n",
        "         }\r\n",
        "\r\n",
        "search = GridSearchCV(pipeline, params, cv=5, verbose=3)\r\n",
        "print(f'{dt.datetime.now().strftime(\"%d/%m/%Y %H:%M:%S\")}, started grid search')\r\n",
        "search.fit(X_train, y_train)\r\n",
        "print(f'{dt.datetime.now().strftime(\"%d/%m/%Y %H:%M:%S\")}, grid search complete')\r\n",
        "    \r\n",
        "bow_model = search.best_estimator_\r\n",
        "\r\n",
        "bow_model.fit(X_train, y_train)\r\n",
        "y_pred = bow_model.predict(X_test)\r\n",
        "    \r\n",
        "print(classification_report(y_test, y_pred))\r\n",
        "print(bow_model)"
      ],
      "execution_count": null,
      "outputs": [
        {
          "output_type": "stream",
          "text": [
            "26/02/2021 00:32:26, started grid search\n",
            "Fitting 5 folds for each of 2 candidates, totalling 10 fits\n",
            "[CV] gb__max_depth=10 ................................................\n"
          ],
          "name": "stdout"
        },
        {
          "output_type": "stream",
          "text": [
            "[Parallel(n_jobs=1)]: Using backend SequentialBackend with 1 concurrent workers.\n"
          ],
          "name": "stderr"
        }
      ]
    },
    {
      "cell_type": "markdown",
      "metadata": {
        "id": "9QpqIv6kiyis"
      },
      "source": [
        "# Conclusion\r\n",
        "\r\n",
        "Oh, Word2Vec. You have failed me in this project. \r\n",
        "\r\n",
        "The combination of the length of time it takes to build the Word2Vec gensim model, the duration to run a supervised model with the transformations, and the low accuracy scores render Word2Vec a poor solution in regards to modeling for this author multiclassification project.\r\n",
        "\r\n",
        "What else do I have to say about that?\r\n",
        "\r\n",
        "Word2Vec is not an option for this classication project. \r\n",
        "\r\n",
        "---\r\n",
        "*a Thinkful Project by Kalika Kay Curry*\r\n"
      ]
    }
  ]
}